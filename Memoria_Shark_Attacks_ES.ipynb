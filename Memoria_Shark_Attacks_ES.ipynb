{
 "cells": [
  {
   "cell_type": "markdown",
   "id": "de32bb5b",
   "metadata": {},
   "source": [
    "\n",
    "# 100 Años de Ataques de Tiburón 🦈  \n",
    "**Exploratory Data Analysis (EDA)**  \n"
   ]
  },
  {
   "cell_type": "markdown",
   "id": "f76aa1eb",
   "metadata": {},
   "source": [
    "\n",
    "## 1. Introducción  \n",
    "Durante muchos años, los tiburones han sido vistos como los grandes **monstruos del mar**. Pero, ¿realmente lo confirman los datos?\n",
    "Este estudio revisa los incidentes registrados a lo largo del tiempo por el Global Shark Attack File y organizados en este repositorio.\n",
    "\n",
    "El objetivo es **contrastar cinco hipótesis** empleando Python y visualizaciones.\n"
   ]
  },
  {
   "cell_type": "markdown",
   "id": "e90ec40b",
   "metadata": {},
   "source": [
    "\n",
    "## 2. Hipótesis  \n",
    "\n",
    "| Nº | Enunciado | Métrica clave |\n",
    "|---|--------------------------------------------------------------|---------------------------|\n",
    "| 1 | *El miedo es irracional* (el riesgo individual es bajísimo) | Ataques por persona‑año |\n",
    "| 2 | *Los ataques disminuyen con el tiempo* | Tendencia de incidentes |\n",
    "| 3 | *La números relativos no aumenta* | % de ataques por años |\n",
    "| 4 | *Los hombres sufren más ataques* | Distribución por sexo |\n",
    "| 5 | *El surf es la actividad más expuesta* | % por tipo de actividad |\n"
   ]
  },
  {
   "cell_type": "markdown",
   "id": "bceaf24c",
   "metadata": {},
   "source": [
    "## 3. Entorno y carga de datos"
   ]
  },
  {
   "cell_type": "code",
   "execution_count": null,
   "id": "1cf85f76",
   "metadata": {},
   "outputs": [],
   "source": [
    "\n",
    "# Librerías\n",
    "import os, json, math, warnings\n",
    "import pandas as pd, numpy as np, matplotlib.pyplot as plt, seaborn as sns\n",
    "from scipy import stats\n",
    "\n",
    "# Dataset principal \n",
    "df_shark = pd.read_csv(r'./src/data/shark_attack_clean.csv')\n",
    "# Dataset scrapeado para enriquecer el principal y utilizarlo como comparativa\n",
    "df_tourism = pd.read_csv(r'./src/data/turismo_mundial.csv')\n",
    "# Dataset creado para ayudar a la creación de las gráficas, gracias a la suma de los dos principales\n",
    "df_totales = pd.read_csv(r'./src/data/totales.csv')\n",
    "# Dataset creado para ayudar a la creación de las gráficas, gracias a la suma de los dos principales\n",
    "df_totalesXpais = pd.read_csv(r'./src/data/totales_x_pais.csv')\n"
   ]
  },
  {
   "cell_type": "markdown",
   "id": "51a4e41f",
   "metadata": {},
   "source": [
    "### Df_shark"
   ]
  },
  {
   "cell_type": "code",
   "execution_count": 5,
   "id": "c4bc7915",
   "metadata": {},
   "outputs": [
    {
     "data": {
      "text/html": [
       "<div>\n",
       "<style scoped>\n",
       "    .dataframe tbody tr th:only-of-type {\n",
       "        vertical-align: middle;\n",
       "    }\n",
       "\n",
       "    .dataframe tbody tr th {\n",
       "        vertical-align: top;\n",
       "    }\n",
       "\n",
       "    .dataframe thead th {\n",
       "        text-align: right;\n",
       "    }\n",
       "</style>\n",
       "<table border=\"1\" class=\"dataframe\">\n",
       "  <thead>\n",
       "    <tr style=\"text-align: right;\">\n",
       "      <th></th>\n",
       "      <th>Unnamed: 0</th>\n",
       "      <th>date</th>\n",
       "      <th>year</th>\n",
       "      <th>type</th>\n",
       "      <th>country</th>\n",
       "      <th>area</th>\n",
       "      <th>location</th>\n",
       "      <th>activity</th>\n",
       "      <th>name</th>\n",
       "      <th>sex</th>\n",
       "      <th>age</th>\n",
       "      <th>fatal_y_n</th>\n",
       "      <th>species</th>\n",
       "      <th>activity2</th>\n",
       "    </tr>\n",
       "  </thead>\n",
       "  <tbody>\n",
       "    <tr>\n",
       "      <th>0</th>\n",
       "      <td>0</td>\n",
       "      <td>2023-05-13</td>\n",
       "      <td>2023</td>\n",
       "      <td>Unprovoked</td>\n",
       "      <td>AUSTRALIA</td>\n",
       "      <td>South Australia</td>\n",
       "      <td>Elliston</td>\n",
       "      <td>Surfing</td>\n",
       "      <td>Simon Baccanello</td>\n",
       "      <td>M</td>\n",
       "      <td>46</td>\n",
       "      <td>Y</td>\n",
       "      <td>White shark</td>\n",
       "      <td>Surfing</td>\n",
       "    </tr>\n",
       "    <tr>\n",
       "      <th>1</th>\n",
       "      <td>1</td>\n",
       "      <td>2023-04-29</td>\n",
       "      <td>2023</td>\n",
       "      <td>Unprovoked</td>\n",
       "      <td>AUSTRALIA</td>\n",
       "      <td>Western Australia</td>\n",
       "      <td>Yallingup, Busselton</td>\n",
       "      <td>Swimming</td>\n",
       "      <td>male</td>\n",
       "      <td>M</td>\n",
       "      <td>Unknow</td>\n",
       "      <td>N</td>\n",
       "      <td>1m shark</td>\n",
       "      <td>Swimming</td>\n",
       "    </tr>\n",
       "    <tr>\n",
       "      <th>2</th>\n",
       "      <td>2</td>\n",
       "      <td>2022-10-07</td>\n",
       "      <td>2022</td>\n",
       "      <td>Unprovoked</td>\n",
       "      <td>AUSTRALIA</td>\n",
       "      <td>Western  Australia</td>\n",
       "      <td>Port Hedland</td>\n",
       "      <td>Spearfishing</td>\n",
       "      <td>Robbie Peck</td>\n",
       "      <td>M</td>\n",
       "      <td>38</td>\n",
       "      <td>N</td>\n",
       "      <td>Bull shark</td>\n",
       "      <td>Fishing</td>\n",
       "    </tr>\n",
       "    <tr>\n",
       "      <th>3</th>\n",
       "      <td>3</td>\n",
       "      <td>2021-10-04</td>\n",
       "      <td>2021</td>\n",
       "      <td>Unprovoked</td>\n",
       "      <td>USA</td>\n",
       "      <td>Florida</td>\n",
       "      <td>Fort Pierce State Park, St. Lucie County</td>\n",
       "      <td>Surfing</td>\n",
       "      <td>Truman Van Patrick</td>\n",
       "      <td>M</td>\n",
       "      <td>25.0</td>\n",
       "      <td>N</td>\n",
       "      <td>Unknow</td>\n",
       "      <td>Surfing</td>\n",
       "    </tr>\n",
       "    <tr>\n",
       "      <th>4</th>\n",
       "      <td>4</td>\n",
       "      <td>2021-10-03</td>\n",
       "      <td>2021</td>\n",
       "      <td>Unprovoked</td>\n",
       "      <td>USA</td>\n",
       "      <td>Florida</td>\n",
       "      <td>Jensen Beach, Martin County</td>\n",
       "      <td>Swimming</td>\n",
       "      <td>male</td>\n",
       "      <td>M</td>\n",
       "      <td>Unknow</td>\n",
       "      <td>N</td>\n",
       "      <td>Unknow</td>\n",
       "      <td>Swimming</td>\n",
       "    </tr>\n",
       "  </tbody>\n",
       "</table>\n",
       "</div>"
      ],
      "text/plain": [
       "   Unnamed: 0        date  year        type    country                area  \\\n",
       "0           0  2023-05-13  2023  Unprovoked  AUSTRALIA     South Australia   \n",
       "1           1  2023-04-29  2023  Unprovoked  AUSTRALIA   Western Australia   \n",
       "2           2  2022-10-07  2022  Unprovoked  AUSTRALIA  Western  Australia   \n",
       "3           3  2021-10-04  2021  Unprovoked        USA             Florida   \n",
       "4           4  2021-10-03  2021  Unprovoked        USA             Florida   \n",
       "\n",
       "                                   location      activity                name  \\\n",
       "0                                  Elliston       Surfing    Simon Baccanello   \n",
       "1                      Yallingup, Busselton      Swimming                male   \n",
       "2                              Port Hedland  Spearfishing         Robbie Peck   \n",
       "3  Fort Pierce State Park, St. Lucie County       Surfing  Truman Van Patrick   \n",
       "4               Jensen Beach, Martin County      Swimming                male   \n",
       "\n",
       "  sex     age fatal_y_n      species activity2  \n",
       "0   M      46         Y  White shark   Surfing  \n",
       "1   M  Unknow         N     1m shark  Swimming  \n",
       "2   M      38         N   Bull shark   Fishing  \n",
       "3   M    25.0         N       Unknow   Surfing  \n",
       "4   M  Unknow         N       Unknow  Swimming  "
      ]
     },
     "execution_count": 5,
     "metadata": {},
     "output_type": "execute_result"
    }
   ],
   "source": [
    "df_shark.head()"
   ]
  },
  {
   "cell_type": "markdown",
   "id": "2b2abb23",
   "metadata": {},
   "source": [
    "### Df_tourism"
   ]
  },
  {
   "cell_type": "code",
   "execution_count": 6,
   "id": "854145f9",
   "metadata": {},
   "outputs": [
    {
     "data": {
      "text/html": [
       "<div>\n",
       "<style scoped>\n",
       "    .dataframe tbody tr th:only-of-type {\n",
       "        vertical-align: middle;\n",
       "    }\n",
       "\n",
       "    .dataframe tbody tr th {\n",
       "        vertical-align: top;\n",
       "    }\n",
       "\n",
       "    .dataframe thead th {\n",
       "        text-align: right;\n",
       "    }\n",
       "</style>\n",
       "<table border=\"1\" class=\"dataframe\">\n",
       "  <thead>\n",
       "    <tr style=\"text-align: right;\">\n",
       "      <th></th>\n",
       "      <th>Unnamed: 0</th>\n",
       "      <th>pais</th>\n",
       "      <th>1995</th>\n",
       "      <th>1996</th>\n",
       "      <th>1997</th>\n",
       "      <th>1998</th>\n",
       "      <th>1999</th>\n",
       "      <th>2000</th>\n",
       "      <th>2001</th>\n",
       "      <th>2002</th>\n",
       "      <th>...</th>\n",
       "      <th>2017</th>\n",
       "      <th>2018</th>\n",
       "      <th>2019</th>\n",
       "      <th>2020</th>\n",
       "      <th>2021</th>\n",
       "      <th>2022</th>\n",
       "      <th>2023</th>\n",
       "      <th>2024</th>\n",
       "      <th>1994</th>\n",
       "      <th>1993</th>\n",
       "    </tr>\n",
       "  </thead>\n",
       "  <tbody>\n",
       "    <tr>\n",
       "      <th>0</th>\n",
       "      <td>0</td>\n",
       "      <td>españa</td>\n",
       "      <td>32971000.0</td>\n",
       "      <td>34027000.0</td>\n",
       "      <td>39553000.0</td>\n",
       "      <td>41892000.0</td>\n",
       "      <td>45440000.0</td>\n",
       "      <td>46402926.0</td>\n",
       "      <td>48565344.0</td>\n",
       "      <td>50330623.0</td>\n",
       "      <td>...</td>\n",
       "      <td>81868522.0</td>\n",
       "      <td>82808413.0</td>\n",
       "      <td>83509153.0</td>\n",
       "      <td>18933103.0</td>\n",
       "      <td>31180802.0</td>\n",
       "      <td>71659281.0</td>\n",
       "      <td>85169050.0</td>\n",
       "      <td>93759297.0</td>\n",
       "      <td>NaN</td>\n",
       "      <td>NaN</td>\n",
       "    </tr>\n",
       "    <tr>\n",
       "      <th>1</th>\n",
       "      <td>1</td>\n",
       "      <td>alemania</td>\n",
       "      <td>14847000.0</td>\n",
       "      <td>15205000.0</td>\n",
       "      <td>15837000.0</td>\n",
       "      <td>16511000.0</td>\n",
       "      <td>17116000.0</td>\n",
       "      <td>18983000.0</td>\n",
       "      <td>17861000.0</td>\n",
       "      <td>17969000.0</td>\n",
       "      <td>...</td>\n",
       "      <td>37452000.0</td>\n",
       "      <td>38881000.0</td>\n",
       "      <td>39563000.0</td>\n",
       "      <td>12449000.0</td>\n",
       "      <td>11688000.0</td>\n",
       "      <td>28463000.0</td>\n",
       "      <td>NaN</td>\n",
       "      <td>NaN</td>\n",
       "      <td>NaN</td>\n",
       "      <td>NaN</td>\n",
       "    </tr>\n",
       "    <tr>\n",
       "      <th>2</th>\n",
       "      <td>2</td>\n",
       "      <td>reino-unido</td>\n",
       "      <td>21719000.0</td>\n",
       "      <td>22936000.0</td>\n",
       "      <td>23215000.0</td>\n",
       "      <td>23710000.0</td>\n",
       "      <td>23341000.0</td>\n",
       "      <td>23212000.0</td>\n",
       "      <td>20982000.0</td>\n",
       "      <td>22307000.0</td>\n",
       "      <td>...</td>\n",
       "      <td>39543000.0</td>\n",
       "      <td>38664000.0</td>\n",
       "      <td>39418000.0</td>\n",
       "      <td>10714000.0</td>\n",
       "      <td>6287000.0</td>\n",
       "      <td>30741000.0</td>\n",
       "      <td>NaN</td>\n",
       "      <td>NaN</td>\n",
       "      <td>NaN</td>\n",
       "      <td>NaN</td>\n",
       "    </tr>\n",
       "    <tr>\n",
       "      <th>3</th>\n",
       "      <td>3</td>\n",
       "      <td>francia</td>\n",
       "      <td>60033000.0</td>\n",
       "      <td>62406000.0</td>\n",
       "      <td>66591000.0</td>\n",
       "      <td>70109000.0</td>\n",
       "      <td>73147000.0</td>\n",
       "      <td>77190000.0</td>\n",
       "      <td>75202000.0</td>\n",
       "      <td>77012000.0</td>\n",
       "      <td>...</td>\n",
       "      <td>86758000.0</td>\n",
       "      <td>89322000.0</td>\n",
       "      <td>90914000.0</td>\n",
       "      <td>41684000.0</td>\n",
       "      <td>48395000.0</td>\n",
       "      <td>NaN</td>\n",
       "      <td>NaN</td>\n",
       "      <td>NaN</td>\n",
       "      <td>NaN</td>\n",
       "      <td>NaN</td>\n",
       "    </tr>\n",
       "    <tr>\n",
       "      <th>4</th>\n",
       "      <td>4</td>\n",
       "      <td>italia</td>\n",
       "      <td>31052000.0</td>\n",
       "      <td>34080000.0</td>\n",
       "      <td>34692000.0</td>\n",
       "      <td>34933000.0</td>\n",
       "      <td>36516000.0</td>\n",
       "      <td>41181000.0</td>\n",
       "      <td>39563000.0</td>\n",
       "      <td>39799000.0</td>\n",
       "      <td>...</td>\n",
       "      <td>58253000.0</td>\n",
       "      <td>61567200.0</td>\n",
       "      <td>64513000.0</td>\n",
       "      <td>25190000.0</td>\n",
       "      <td>26888000.0</td>\n",
       "      <td>49811000.0</td>\n",
       "      <td>NaN</td>\n",
       "      <td>NaN</td>\n",
       "      <td>NaN</td>\n",
       "      <td>NaN</td>\n",
       "    </tr>\n",
       "  </tbody>\n",
       "</table>\n",
       "<p>5 rows × 34 columns</p>\n",
       "</div>"
      ],
      "text/plain": [
       "   Unnamed: 0         pais        1995        1996        1997        1998  \\\n",
       "0           0       españa  32971000.0  34027000.0  39553000.0  41892000.0   \n",
       "1           1     alemania  14847000.0  15205000.0  15837000.0  16511000.0   \n",
       "2           2  reino-unido  21719000.0  22936000.0  23215000.0  23710000.0   \n",
       "3           3      francia  60033000.0  62406000.0  66591000.0  70109000.0   \n",
       "4           4       italia  31052000.0  34080000.0  34692000.0  34933000.0   \n",
       "\n",
       "         1999        2000        2001        2002  ...        2017  \\\n",
       "0  45440000.0  46402926.0  48565344.0  50330623.0  ...  81868522.0   \n",
       "1  17116000.0  18983000.0  17861000.0  17969000.0  ...  37452000.0   \n",
       "2  23341000.0  23212000.0  20982000.0  22307000.0  ...  39543000.0   \n",
       "3  73147000.0  77190000.0  75202000.0  77012000.0  ...  86758000.0   \n",
       "4  36516000.0  41181000.0  39563000.0  39799000.0  ...  58253000.0   \n",
       "\n",
       "         2018        2019        2020        2021        2022        2023  \\\n",
       "0  82808413.0  83509153.0  18933103.0  31180802.0  71659281.0  85169050.0   \n",
       "1  38881000.0  39563000.0  12449000.0  11688000.0  28463000.0         NaN   \n",
       "2  38664000.0  39418000.0  10714000.0   6287000.0  30741000.0         NaN   \n",
       "3  89322000.0  90914000.0  41684000.0  48395000.0         NaN         NaN   \n",
       "4  61567200.0  64513000.0  25190000.0  26888000.0  49811000.0         NaN   \n",
       "\n",
       "         2024  1994  1993  \n",
       "0  93759297.0   NaN   NaN  \n",
       "1         NaN   NaN   NaN  \n",
       "2         NaN   NaN   NaN  \n",
       "3         NaN   NaN   NaN  \n",
       "4         NaN   NaN   NaN  \n",
       "\n",
       "[5 rows x 34 columns]"
      ]
     },
     "execution_count": 6,
     "metadata": {},
     "output_type": "execute_result"
    }
   ],
   "source": [
    "df_tourism.head()"
   ]
  },
  {
   "cell_type": "markdown",
   "id": "7603ed12",
   "metadata": {},
   "source": [
    "### Df_totales"
   ]
  },
  {
   "cell_type": "code",
   "execution_count": 7,
   "id": "29432a76",
   "metadata": {},
   "outputs": [
    {
     "data": {
      "text/html": [
       "<div>\n",
       "<style scoped>\n",
       "    .dataframe tbody tr th:only-of-type {\n",
       "        vertical-align: middle;\n",
       "    }\n",
       "\n",
       "    .dataframe tbody tr th {\n",
       "        vertical-align: top;\n",
       "    }\n",
       "\n",
       "    .dataframe thead th {\n",
       "        text-align: right;\n",
       "    }\n",
       "</style>\n",
       "<table border=\"1\" class=\"dataframe\">\n",
       "  <thead>\n",
       "    <tr style=\"text-align: right;\">\n",
       "      <th></th>\n",
       "      <th>Unnamed: 0</th>\n",
       "      <th>year</th>\n",
       "      <th>count_turistas</th>\n",
       "      <th>year.1</th>\n",
       "      <th>count_ataques</th>\n",
       "      <th>porcentaje</th>\n",
       "    </tr>\n",
       "  </thead>\n",
       "  <tbody>\n",
       "    <tr>\n",
       "      <th>0</th>\n",
       "      <td>0</td>\n",
       "      <td>1995</td>\n",
       "      <td>244795350.0</td>\n",
       "      <td>1995.0</td>\n",
       "      <td>64</td>\n",
       "      <td>0.000026</td>\n",
       "    </tr>\n",
       "    <tr>\n",
       "      <th>1</th>\n",
       "      <td>1</td>\n",
       "      <td>1996</td>\n",
       "      <td>258435067.0</td>\n",
       "      <td>1996.0</td>\n",
       "      <td>49</td>\n",
       "      <td>0.000019</td>\n",
       "    </tr>\n",
       "    <tr>\n",
       "      <th>2</th>\n",
       "      <td>2</td>\n",
       "      <td>1997</td>\n",
       "      <td>270880055.0</td>\n",
       "      <td>1997.0</td>\n",
       "      <td>51</td>\n",
       "      <td>0.000019</td>\n",
       "    </tr>\n",
       "    <tr>\n",
       "      <th>3</th>\n",
       "      <td>3</td>\n",
       "      <td>1998</td>\n",
       "      <td>279808107.5</td>\n",
       "      <td>1998.0</td>\n",
       "      <td>59</td>\n",
       "      <td>0.000021</td>\n",
       "    </tr>\n",
       "    <tr>\n",
       "      <th>4</th>\n",
       "      <td>4</td>\n",
       "      <td>1999</td>\n",
       "      <td>294018094.5</td>\n",
       "      <td>1999.0</td>\n",
       "      <td>60</td>\n",
       "      <td>0.000020</td>\n",
       "    </tr>\n",
       "  </tbody>\n",
       "</table>\n",
       "</div>"
      ],
      "text/plain": [
       "   Unnamed: 0  year  count_turistas  year.1  count_ataques  porcentaje\n",
       "0           0  1995     244795350.0  1995.0             64    0.000026\n",
       "1           1  1996     258435067.0  1996.0             49    0.000019\n",
       "2           2  1997     270880055.0  1997.0             51    0.000019\n",
       "3           3  1998     279808107.5  1998.0             59    0.000021\n",
       "4           4  1999     294018094.5  1999.0             60    0.000020"
      ]
     },
     "execution_count": 7,
     "metadata": {},
     "output_type": "execute_result"
    }
   ],
   "source": [
    "df_totales.head()"
   ]
  },
  {
   "cell_type": "markdown",
   "id": "f5aaeb4e",
   "metadata": {},
   "source": [
    "### Df_totalesXpais"
   ]
  },
  {
   "cell_type": "code",
   "execution_count": 8,
   "id": "92a0c0be",
   "metadata": {},
   "outputs": [
    {
     "data": {
      "text/html": [
       "<div>\n",
       "<style scoped>\n",
       "    .dataframe tbody tr th:only-of-type {\n",
       "        vertical-align: middle;\n",
       "    }\n",
       "\n",
       "    .dataframe tbody tr th {\n",
       "        vertical-align: top;\n",
       "    }\n",
       "\n",
       "    .dataframe thead th {\n",
       "        text-align: right;\n",
       "    }\n",
       "</style>\n",
       "<table border=\"1\" class=\"dataframe\">\n",
       "  <thead>\n",
       "    <tr style=\"text-align: right;\">\n",
       "      <th></th>\n",
       "      <th>Unnamed: 0</th>\n",
       "      <th>country</th>\n",
       "      <th>totales_ataques</th>\n",
       "      <th>totales_turistas</th>\n",
       "    </tr>\n",
       "  </thead>\n",
       "  <tbody>\n",
       "    <tr>\n",
       "      <th>0</th>\n",
       "      <td>0</td>\n",
       "      <td>ANGOLA</td>\n",
       "      <td>1</td>\n",
       "      <td>6491014.0</td>\n",
       "    </tr>\n",
       "    <tr>\n",
       "      <th>1</th>\n",
       "      <td>1</td>\n",
       "      <td>ANTIGUA</td>\n",
       "      <td>1</td>\n",
       "      <td>6641511.0</td>\n",
       "    </tr>\n",
       "    <tr>\n",
       "      <th>2</th>\n",
       "      <td>2</td>\n",
       "      <td>ARGENTINA</td>\n",
       "      <td>2</td>\n",
       "      <td>124432015.0</td>\n",
       "    </tr>\n",
       "    <tr>\n",
       "      <th>3</th>\n",
       "      <td>3</td>\n",
       "      <td>AUSTRALIA</td>\n",
       "      <td>1185</td>\n",
       "      <td>143701917.0</td>\n",
       "    </tr>\n",
       "    <tr>\n",
       "      <th>4</th>\n",
       "      <td>4</td>\n",
       "      <td>AZORES</td>\n",
       "      <td>4</td>\n",
       "      <td>29630018.0</td>\n",
       "    </tr>\n",
       "  </tbody>\n",
       "</table>\n",
       "</div>"
      ],
      "text/plain": [
       "   Unnamed: 0    country  totales_ataques  totales_turistas\n",
       "0           0     ANGOLA                1         6491014.0\n",
       "1           1    ANTIGUA                1         6641511.0\n",
       "2           2  ARGENTINA                2       124432015.0\n",
       "3           3  AUSTRALIA             1185       143701917.0\n",
       "4           4     AZORES                4        29630018.0"
      ]
     },
     "execution_count": 8,
     "metadata": {},
     "output_type": "execute_result"
    }
   ],
   "source": [
    "df_totalesXpais.head()"
   ]
  },
  {
   "cell_type": "markdown",
   "id": "8cef03b5",
   "metadata": {},
   "source": [
    "\n",
    "### 3.1 Descarga y limpieza de datos  \n",
    "En la carpeta `src/notebook/Descarga_Procesamiento.ipynb`, se explica paso a paso el proceso de conexión a la API, la descarga de los datos, la creación del dataset y el procesamiento de los datos.\n"
   ]
  },
  {
   "cell_type": "markdown",
   "id": "2804c252",
   "metadata": {},
   "source": [
    "### 3.2  Scrapping y enriquecimiento del dataset principal\n",
    "En la carpeta `src/notebook/scrapping_turismo.ipynb`, se explica paso a paso el proceso de scrapping de la web [https://datosmacro.expansion.com], y la creación del dataset con los datos de turismo."
   ]
  },
  {
   "cell_type": "markdown",
   "id": "e416a8fe",
   "metadata": {},
   "source": [
    "## 4. Contraste de Hipótesis"
   ]
  },
  {
   "cell_type": "markdown",
   "id": "c339a9c2",
   "metadata": {},
   "source": [
    "### 4.1 Evolución del número de ataques (H2)"
   ]
  },
  {
   "cell_type": "markdown",
   "id": "df4e70d8",
   "metadata": {},
   "source": [
    "Hipotesis en la que claramente me equivoco ya que en números absolutos los ataques aumentan por año."
   ]
  },
  {
   "cell_type": "code",
   "execution_count": 12,
   "id": "b2090652",
   "metadata": {},
   "outputs": [
    {
     "data": {
      "image/png": "[encoded data removed]",
      "text/plain": [
       "<Figure size 900x500 with 1 Axes>"
      ]
     },
     "metadata": {},
     "output_type": "display_data"
    }
   ],
   "source": [
    "\n",
    "attacks_year = df_shark.groupby('year').size()\n",
    "sns.lineplot(x=attacks_year.index, y=attacks_year.values)\n",
    "plt.title('Ataques reportados por año')\n",
    "plt.xlabel('Año'); plt.ylabel('Incidentes')\n",
    "plt.show()\n"
   ]
  },
  {
   "cell_type": "markdown",
   "id": "dea74918",
   "metadata": {},
   "source": [
    "### 5.2 Porcentaje de ataques no aumenta a lo largo de los años (H3)"
   ]
  },
  {
   "cell_type": "markdown",
   "id": "806e2064",
   "metadata": {},
   "source": [
    "Esta hipótesis es acertada ya que exceptuando el periodo de 2020 (año de la pandemia) el resto de los años el porcentaje de ataques se mantiene."
   ]
  },
  {
   "cell_type": "code",
   "execution_count": 16,
   "id": "6669d638",
   "metadata": {},
   "outputs": [
    {
     "data": {
      "image/png": "[encoded data removed]",
      "text/plain": [
       "<Figure size 900x500 with 1 Axes>"
      ]
     },
     "metadata": {},
     "output_type": "display_data"
    }
   ],
   "source": [
    "sns.lineplot(x=df_totales['year'], y=df_totales['porcentaje'])\n",
    "plt.gca().invert_yaxis() \n",
    "plt.show()"
   ]
  },
  {
   "cell_type": "markdown",
   "id": "c86758fd",
   "metadata": {},
   "source": [
    "### 5.3 Distribución de víctimas por sexo (H4)"
   ]
  },
  {
   "cell_type": "markdown",
   "id": "7c7289e1",
   "metadata": {},
   "source": [
    "En esta hipotesis se creía que los hombres tenian más probabilidades de sufrir un ataque, y en este caso también se acerto "
   ]
  },
  {
   "cell_type": "code",
   "execution_count": 18,
   "id": "0a50d79d",
   "metadata": {},
   "outputs": [
    {
     "data": {
      "image/png": "[encoded data removed]",
      "text/plain": [
       "<Figure size 900x500 with 1 Axes>"
      ]
     },
     "metadata": {},
     "output_type": "display_data"
    }
   ],
   "source": [
    "\n",
    "sex_ct = df_shark['sex'].value_counts().loc[['M','F']]\n",
    "sns.barplot(x=sex_ct.index, y=sex_ct.values)\n",
    "plt.title('Víctimas por sexo'); plt.ylabel('Incidentes'); plt.xlabel('Sexo')\n",
    "plt.show()\n"
   ]
  },
  {
   "cell_type": "markdown",
   "id": "de877c00",
   "metadata": {},
   "source": [
    "### 5.4 Riesgo por actividad: foco en el surf (H5)"
   ]
  },
  {
   "cell_type": "markdown",
   "id": "ae897138",
   "metadata": {},
   "source": [
    "Creía que el aumento de los deportes acuaticos y en concreto el surf había sufrido un aumento de ataques, por el aumento de su practica y por buscar sitios más arriesgados y menos vigilados."
   ]
  },
  {
   "cell_type": "code",
   "execution_count": 21,
   "id": "f5af5225",
   "metadata": {},
   "outputs": [
    {
     "data": {
      "image/png": "[encoded data removed]",
      "text/plain": [
       "<Figure size 900x500 with 1 Axes>"
      ]
     },
     "metadata": {},
     "output_type": "display_data"
    },
    {
     "name": "stdout",
     "output_type": "stream",
     "text": [
      "El 28.8% de los ataques implican surfistas o deportes de tabla\n"
     ]
    }
   ],
   "source": [
    "\n",
    "surf_mask = df_shark['activity'].str.contains('surf', case=False, na=False) | df_shark['activity'].str.contains('board', case=False, na=False)\n",
    "cat_counts = pd.Series({'Surf / tabla': surf_mask.sum(),\n",
    "                        'Otras actividades': (~surf_mask).sum()})\n",
    "sns.barplot(x=cat_counts.index, y=cat_counts.values)\n",
    "plt.ylabel('Incidentes'); plt.title('Surf vs resto')\n",
    "plt.show()\n",
    "\n",
    "prop_surf = cat_counts['Surf / tabla'] / cat_counts.sum()\n",
    "print(f'El {prop_surf:.1%} de los ataques implican surfistas o deportes de tabla')\n"
   ]
  },
  {
   "cell_type": "markdown",
   "id": "ed5f0403",
   "metadata": {},
   "source": [
    "### 5.5 ¿Es irracional el miedo? (H1)"
   ]
  },
  {
   "cell_type": "code",
   "execution_count": 23,
   "id": "35e49343",
   "metadata": {},
   "outputs": [
    {
     "name": "stdout",
     "output_type": "stream",
     "text": [
      "## Ataques de tiburón\n",
      "#### 1 ataque por cada 4,280,936 una probabilidad de 0.000023\n"
     ]
    }
   ],
   "source": [
    "\n",
    "    \n",
    "total_ataques = df_totales['count_ataques'].sum()\n",
    "total_turistas = df_totales['count_turistas'].sum()\n",
    "\n",
    "print(\"## Ataques de tiburón\")\n",
    "print(f\"#### 1 ataque por cada {round(total_turistas/total_ataques):,} una probabilidad de {(total_ataques/total_turistas)*100:.6f}\")\n"
   ]
  },
  {
   "cell_type": "markdown",
   "id": "69390876",
   "metadata": {},
   "source": [
    "\n",
    "## 6. Conclusiones  \n",
    "\n",
    "| Hipótesis | Resultado | Evidencia |\n",
    "|-----------|-----------|-----------|\n",
    "| H1 | **Apoyada** | Riesgo de 1 cada 4,000,000 de persona |\n",
    "| H2 | **Débil** | Pendiente ascendente, cada año hay más ataques |\n",
    "| H3 | **Apoyada** | Pendiente neutra, el porcentaje se mantiene |\n",
    "| H4 | **Apoyada** |  9 de cada 10 víctimas son hombres |\n",
    "| H5 | **Apoyada** | Más o menos 1/3 de los ataques ocurren durante surf/tabla |\n",
    "\n",
    "### Líneas futuras  \n",
    "* Filtrar las conclusiones por tambien por año.  \n",
    "* Continuar con la linea de investigación de los cambios de temperatura del agua, recopilando más datos.  \n"
   ]
  }
 ],
 "metadata": {
  "kernelspec": {
   "display_name": "Python 3",
   "language": "python",
   "name": "python3"
  },
  "language_info": {
   "codemirror_mode": {
    "name": "ipython",
    "version": 3
   },
   "file_extension": ".py",
   "mimetype": "text/x-python",
   "name": "python",
   "nbconvert_exporter": "python",
   "pygments_lexer": "ipython3",
   "version": "3.13.2"
  }
 },
 "nbformat": 4,
 "nbformat_minor": 5
}

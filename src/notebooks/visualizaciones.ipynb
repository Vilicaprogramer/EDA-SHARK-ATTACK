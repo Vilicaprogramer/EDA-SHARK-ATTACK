{
 "cells": [
  {
   "cell_type": "markdown",
   "id": "1da10db6",
   "metadata": {},
   "source": [
    "# Caja negra de visualizaciones para mi EDA"
   ]
  },
  {
   "cell_type": "code",
   "execution_count": 1,
   "id": "f6cbc242",
   "metadata": {},
   "outputs": [],
   "source": [
    "import pandas as pd\n",
    "import numpy as np\n",
    "import matplotlib.pyplot as plt\n",
    "import seaborn as sns\n",
    "import plotly.express as px\n",
    "from plotly.subplots import make_subplots\n",
    "import plotly.graph_objects as go"
   ]
  },
  {
   "cell_type": "code",
   "execution_count": 2,
   "id": "0848dcfa",
   "metadata": {},
   "outputs": [],
   "source": [
    "df_shark = pd.read_csv(r'..\\data\\shark_attack_clean.csv')\n",
    "df_tourism = pd.read_csv(r'../data/turismo_mundial.csv')\n",
    "df_totales = pd.read_csv(r'../data/totales.csv')\n",
    "\n"
   ]
  },
  {
   "cell_type": "code",
   "execution_count": 38,
   "id": "d151528d",
   "metadata": {},
   "outputs": [
    {
     "data": {
      "text/html": [
       "<div>\n",
       "<style scoped>\n",
       "    .dataframe tbody tr th:only-of-type {\n",
       "        vertical-align: middle;\n",
       "    }\n",
       "\n",
       "    .dataframe tbody tr th {\n",
       "        vertical-align: top;\n",
       "    }\n",
       "\n",
       "    .dataframe thead th {\n",
       "        text-align: right;\n",
       "    }\n",
       "</style>\n",
       "<table border=\"1\" class=\"dataframe\">\n",
       "  <thead>\n",
       "    <tr style=\"text-align: right;\">\n",
       "      <th></th>\n",
       "      <th>Unnamed: 0</th>\n",
       "      <th>pais</th>\n",
       "      <th>1995</th>\n",
       "      <th>1996</th>\n",
       "      <th>1997</th>\n",
       "      <th>1998</th>\n",
       "      <th>1999</th>\n",
       "      <th>2000</th>\n",
       "      <th>2001</th>\n",
       "      <th>2002</th>\n",
       "      <th>...</th>\n",
       "      <th>2018</th>\n",
       "      <th>2019</th>\n",
       "      <th>2020</th>\n",
       "      <th>2021</th>\n",
       "      <th>2022</th>\n",
       "      <th>2023</th>\n",
       "      <th>2024</th>\n",
       "      <th>1994</th>\n",
       "      <th>1993</th>\n",
       "      <th>totales</th>\n",
       "    </tr>\n",
       "  </thead>\n",
       "  <tbody>\n",
       "    <tr>\n",
       "      <th>0</th>\n",
       "      <td>0</td>\n",
       "      <td>españa</td>\n",
       "      <td>32971000.0</td>\n",
       "      <td>34027000.0</td>\n",
       "      <td>39553000.0</td>\n",
       "      <td>41892000.0</td>\n",
       "      <td>45440000.0</td>\n",
       "      <td>46402926.0</td>\n",
       "      <td>48565344.0</td>\n",
       "      <td>50330623.0</td>\n",
       "      <td>...</td>\n",
       "      <td>82808413.0</td>\n",
       "      <td>83509153.0</td>\n",
       "      <td>18933103.0</td>\n",
       "      <td>31180802.0</td>\n",
       "      <td>71659281.0</td>\n",
       "      <td>85169050.0</td>\n",
       "      <td>93759297.0</td>\n",
       "      <td>NaN</td>\n",
       "      <td>NaN</td>\n",
       "      <td>1.708708e+09</td>\n",
       "    </tr>\n",
       "    <tr>\n",
       "      <th>1</th>\n",
       "      <td>1</td>\n",
       "      <td>alemania</td>\n",
       "      <td>14847000.0</td>\n",
       "      <td>15205000.0</td>\n",
       "      <td>15837000.0</td>\n",
       "      <td>16511000.0</td>\n",
       "      <td>17116000.0</td>\n",
       "      <td>18983000.0</td>\n",
       "      <td>17861000.0</td>\n",
       "      <td>17969000.0</td>\n",
       "      <td>...</td>\n",
       "      <td>38881000.0</td>\n",
       "      <td>39563000.0</td>\n",
       "      <td>12449000.0</td>\n",
       "      <td>11688000.0</td>\n",
       "      <td>28463000.0</td>\n",
       "      <td>NaN</td>\n",
       "      <td>NaN</td>\n",
       "      <td>NaN</td>\n",
       "      <td>NaN</td>\n",
       "      <td>6.806840e+08</td>\n",
       "    </tr>\n",
       "    <tr>\n",
       "      <th>2</th>\n",
       "      <td>2</td>\n",
       "      <td>reino-unido</td>\n",
       "      <td>21719000.0</td>\n",
       "      <td>22936000.0</td>\n",
       "      <td>23215000.0</td>\n",
       "      <td>23710000.0</td>\n",
       "      <td>23341000.0</td>\n",
       "      <td>23212000.0</td>\n",
       "      <td>20982000.0</td>\n",
       "      <td>22307000.0</td>\n",
       "      <td>...</td>\n",
       "      <td>38664000.0</td>\n",
       "      <td>39418000.0</td>\n",
       "      <td>10714000.0</td>\n",
       "      <td>6287000.0</td>\n",
       "      <td>30741000.0</td>\n",
       "      <td>NaN</td>\n",
       "      <td>NaN</td>\n",
       "      <td>NaN</td>\n",
       "      <td>NaN</td>\n",
       "      <td>7.720790e+08</td>\n",
       "    </tr>\n",
       "    <tr>\n",
       "      <th>3</th>\n",
       "      <td>3</td>\n",
       "      <td>francia</td>\n",
       "      <td>60033000.0</td>\n",
       "      <td>62406000.0</td>\n",
       "      <td>66591000.0</td>\n",
       "      <td>70109000.0</td>\n",
       "      <td>73147000.0</td>\n",
       "      <td>77190000.0</td>\n",
       "      <td>75202000.0</td>\n",
       "      <td>77012000.0</td>\n",
       "      <td>...</td>\n",
       "      <td>89322000.0</td>\n",
       "      <td>90914000.0</td>\n",
       "      <td>41684000.0</td>\n",
       "      <td>48395000.0</td>\n",
       "      <td>NaN</td>\n",
       "      <td>NaN</td>\n",
       "      <td>NaN</td>\n",
       "      <td>NaN</td>\n",
       "      <td>NaN</td>\n",
       "      <td>2.031578e+09</td>\n",
       "    </tr>\n",
       "    <tr>\n",
       "      <th>4</th>\n",
       "      <td>4</td>\n",
       "      <td>italia</td>\n",
       "      <td>31052000.0</td>\n",
       "      <td>34080000.0</td>\n",
       "      <td>34692000.0</td>\n",
       "      <td>34933000.0</td>\n",
       "      <td>36516000.0</td>\n",
       "      <td>41181000.0</td>\n",
       "      <td>39563000.0</td>\n",
       "      <td>39799000.0</td>\n",
       "      <td>...</td>\n",
       "      <td>61567200.0</td>\n",
       "      <td>64513000.0</td>\n",
       "      <td>25190000.0</td>\n",
       "      <td>26888000.0</td>\n",
       "      <td>49811000.0</td>\n",
       "      <td>NaN</td>\n",
       "      <td>NaN</td>\n",
       "      <td>NaN</td>\n",
       "      <td>NaN</td>\n",
       "      <td>1.197400e+09</td>\n",
       "    </tr>\n",
       "    <tr>\n",
       "      <th>...</th>\n",
       "      <td>...</td>\n",
       "      <td>...</td>\n",
       "      <td>...</td>\n",
       "      <td>...</td>\n",
       "      <td>...</td>\n",
       "      <td>...</td>\n",
       "      <td>...</td>\n",
       "      <td>...</td>\n",
       "      <td>...</td>\n",
       "      <td>...</td>\n",
       "      <td>...</td>\n",
       "      <td>...</td>\n",
       "      <td>...</td>\n",
       "      <td>...</td>\n",
       "      <td>...</td>\n",
       "      <td>...</td>\n",
       "      <td>...</td>\n",
       "      <td>...</td>\n",
       "      <td>...</td>\n",
       "      <td>...</td>\n",
       "      <td>...</td>\n",
       "    </tr>\n",
       "    <tr>\n",
       "      <th>173</th>\n",
       "      <td>173</td>\n",
       "      <td>samoa</td>\n",
       "      <td>68000.0</td>\n",
       "      <td>73000.0</td>\n",
       "      <td>68000.0</td>\n",
       "      <td>78000.0</td>\n",
       "      <td>85000.0</td>\n",
       "      <td>88000.0</td>\n",
       "      <td>88000.0</td>\n",
       "      <td>89000.0</td>\n",
       "      <td>...</td>\n",
       "      <td>164000.0</td>\n",
       "      <td>172000.0</td>\n",
       "      <td>23100.0</td>\n",
       "      <td>2600.0</td>\n",
       "      <td>49400.0</td>\n",
       "      <td>NaN</td>\n",
       "      <td>NaN</td>\n",
       "      <td>NaN</td>\n",
       "      <td>NaN</td>\n",
       "      <td>2.820673e+06</td>\n",
       "    </tr>\n",
       "    <tr>\n",
       "      <th>174</th>\n",
       "      <td>174</td>\n",
       "      <td>yemen</td>\n",
       "      <td>61000.0</td>\n",
       "      <td>74000.0</td>\n",
       "      <td>80000.0</td>\n",
       "      <td>88000.0</td>\n",
       "      <td>58000.0</td>\n",
       "      <td>73000.0</td>\n",
       "      <td>76000.0</td>\n",
       "      <td>98000.0</td>\n",
       "      <td>...</td>\n",
       "      <td>NaN</td>\n",
       "      <td>NaN</td>\n",
       "      <td>NaN</td>\n",
       "      <td>NaN</td>\n",
       "      <td>NaN</td>\n",
       "      <td>NaN</td>\n",
       "      <td>NaN</td>\n",
       "      <td>NaN</td>\n",
       "      <td>NaN</td>\n",
       "      <td>1.053537e+07</td>\n",
       "    </tr>\n",
       "    <tr>\n",
       "      <th>175</th>\n",
       "      <td>175</td>\n",
       "      <td>sudáfrica</td>\n",
       "      <td>4488000.0</td>\n",
       "      <td>4915000.0</td>\n",
       "      <td>4976000.0</td>\n",
       "      <td>5732000.0</td>\n",
       "      <td>5890000.0</td>\n",
       "      <td>5872000.0</td>\n",
       "      <td>5787000.0</td>\n",
       "      <td>6430000.0</td>\n",
       "      <td>...</td>\n",
       "      <td>10472000.0</td>\n",
       "      <td>10227500.0</td>\n",
       "      <td>2802000.0</td>\n",
       "      <td>2256000.0</td>\n",
       "      <td>5698000.0</td>\n",
       "      <td>NaN</td>\n",
       "      <td>NaN</td>\n",
       "      <td>NaN</td>\n",
       "      <td>NaN</td>\n",
       "      <td>2.041087e+08</td>\n",
       "    </tr>\n",
       "    <tr>\n",
       "      <th>176</th>\n",
       "      <td>176</td>\n",
       "      <td>zambia</td>\n",
       "      <td>163000.0</td>\n",
       "      <td>264000.0</td>\n",
       "      <td>341000.0</td>\n",
       "      <td>362000.0</td>\n",
       "      <td>404000.0</td>\n",
       "      <td>457000.0</td>\n",
       "      <td>492000.0</td>\n",
       "      <td>565000.0</td>\n",
       "      <td>...</td>\n",
       "      <td>1072000.0</td>\n",
       "      <td>1266000.0</td>\n",
       "      <td>502000.0</td>\n",
       "      <td>554000.0</td>\n",
       "      <td>NaN</td>\n",
       "      <td>NaN</td>\n",
       "      <td>NaN</td>\n",
       "      <td>NaN</td>\n",
       "      <td>NaN</td>\n",
       "      <td>1.856818e+07</td>\n",
       "    </tr>\n",
       "    <tr>\n",
       "      <th>177</th>\n",
       "      <td>177</td>\n",
       "      <td>zimbabue</td>\n",
       "      <td>1363000.0</td>\n",
       "      <td>1577000.0</td>\n",
       "      <td>1281000.0</td>\n",
       "      <td>1986000.0</td>\n",
       "      <td>2101000.0</td>\n",
       "      <td>1868000.0</td>\n",
       "      <td>2068000.0</td>\n",
       "      <td>2041000.0</td>\n",
       "      <td>...</td>\n",
       "      <td>2580000.0</td>\n",
       "      <td>NaN</td>\n",
       "      <td>NaN</td>\n",
       "      <td>NaN</td>\n",
       "      <td>NaN</td>\n",
       "      <td>NaN</td>\n",
       "      <td>NaN</td>\n",
       "      <td>NaN</td>\n",
       "      <td>NaN</td>\n",
       "      <td>4.811718e+07</td>\n",
       "    </tr>\n",
       "  </tbody>\n",
       "</table>\n",
       "<p>178 rows × 35 columns</p>\n",
       "</div>"
      ],
      "text/plain": [
       "     Unnamed: 0         pais        1995        1996        1997        1998  \\\n",
       "0             0       españa  32971000.0  34027000.0  39553000.0  41892000.0   \n",
       "1             1     alemania  14847000.0  15205000.0  15837000.0  16511000.0   \n",
       "2             2  reino-unido  21719000.0  22936000.0  23215000.0  23710000.0   \n",
       "3             3      francia  60033000.0  62406000.0  66591000.0  70109000.0   \n",
       "4             4       italia  31052000.0  34080000.0  34692000.0  34933000.0   \n",
       "..          ...          ...         ...         ...         ...         ...   \n",
       "173         173        samoa     68000.0     73000.0     68000.0     78000.0   \n",
       "174         174        yemen     61000.0     74000.0     80000.0     88000.0   \n",
       "175         175    sudáfrica   4488000.0   4915000.0   4976000.0   5732000.0   \n",
       "176         176       zambia    163000.0    264000.0    341000.0    362000.0   \n",
       "177         177     zimbabue   1363000.0   1577000.0   1281000.0   1986000.0   \n",
       "\n",
       "           1999        2000        2001        2002  ...        2018  \\\n",
       "0    45440000.0  46402926.0  48565344.0  50330623.0  ...  82808413.0   \n",
       "1    17116000.0  18983000.0  17861000.0  17969000.0  ...  38881000.0   \n",
       "2    23341000.0  23212000.0  20982000.0  22307000.0  ...  38664000.0   \n",
       "3    73147000.0  77190000.0  75202000.0  77012000.0  ...  89322000.0   \n",
       "4    36516000.0  41181000.0  39563000.0  39799000.0  ...  61567200.0   \n",
       "..          ...         ...         ...         ...  ...         ...   \n",
       "173     85000.0     88000.0     88000.0     89000.0  ...    164000.0   \n",
       "174     58000.0     73000.0     76000.0     98000.0  ...         NaN   \n",
       "175   5890000.0   5872000.0   5787000.0   6430000.0  ...  10472000.0   \n",
       "176    404000.0    457000.0    492000.0    565000.0  ...   1072000.0   \n",
       "177   2101000.0   1868000.0   2068000.0   2041000.0  ...   2580000.0   \n",
       "\n",
       "           2019        2020        2021        2022        2023        2024  \\\n",
       "0    83509153.0  18933103.0  31180802.0  71659281.0  85169050.0  93759297.0   \n",
       "1    39563000.0  12449000.0  11688000.0  28463000.0         NaN         NaN   \n",
       "2    39418000.0  10714000.0   6287000.0  30741000.0         NaN         NaN   \n",
       "3    90914000.0  41684000.0  48395000.0         NaN         NaN         NaN   \n",
       "4    64513000.0  25190000.0  26888000.0  49811000.0         NaN         NaN   \n",
       "..          ...         ...         ...         ...         ...         ...   \n",
       "173    172000.0     23100.0      2600.0     49400.0         NaN         NaN   \n",
       "174         NaN         NaN         NaN         NaN         NaN         NaN   \n",
       "175  10227500.0   2802000.0   2256000.0   5698000.0         NaN         NaN   \n",
       "176   1266000.0    502000.0    554000.0         NaN         NaN         NaN   \n",
       "177         NaN         NaN         NaN         NaN         NaN         NaN   \n",
       "\n",
       "     1994  1993       totales  \n",
       "0     NaN   NaN  1.708708e+09  \n",
       "1     NaN   NaN  6.806840e+08  \n",
       "2     NaN   NaN  7.720790e+08  \n",
       "3     NaN   NaN  2.031578e+09  \n",
       "4     NaN   NaN  1.197400e+09  \n",
       "..    ...   ...           ...  \n",
       "173   NaN   NaN  2.820673e+06  \n",
       "174   NaN   NaN  1.053537e+07  \n",
       "175   NaN   NaN  2.041087e+08  \n",
       "176   NaN   NaN  1.856818e+07  \n",
       "177   NaN   NaN  4.811718e+07  \n",
       "\n",
       "[178 rows x 35 columns]"
      ]
     },
     "execution_count": 38,
     "metadata": {},
     "output_type": "execute_result"
    }
   ],
   "source": [
    "df_tourism['totales'] = df_tourism.sum(axis=1,skipna=True, numeric_only=True)/2\n",
    "df_tourism"
   ]
  },
  {
   "cell_type": "code",
   "execution_count": 42,
   "id": "0da3d224",
   "metadata": {},
   "outputs": [],
   "source": [
    "total_x_pais_ataque = df_shark.groupby('country').count().iloc[:, 0].to_frame().reset_index()\n"
   ]
  },
  {
   "cell_type": "code",
   "execution_count": 49,
   "id": "5195efe0",
   "metadata": {},
   "outputs": [
    {
     "data": {
      "text/html": [
       "<div>\n",
       "<style scoped>\n",
       "    .dataframe tbody tr th:only-of-type {\n",
       "        vertical-align: middle;\n",
       "    }\n",
       "\n",
       "    .dataframe tbody tr th {\n",
       "        vertical-align: top;\n",
       "    }\n",
       "\n",
       "    .dataframe thead th {\n",
       "        text-align: right;\n",
       "    }\n",
       "</style>\n",
       "<table border=\"1\" class=\"dataframe\">\n",
       "  <thead>\n",
       "    <tr style=\"text-align: right;\">\n",
       "      <th></th>\n",
       "      <th>country</th>\n",
       "      <th>Unnamed: 0</th>\n",
       "    </tr>\n",
       "  </thead>\n",
       "  <tbody>\n",
       "    <tr>\n",
       "      <th>0</th>\n",
       "      <td>ADMIRALTY ISLANDS</td>\n",
       "      <td>1</td>\n",
       "    </tr>\n",
       "    <tr>\n",
       "      <th>1</th>\n",
       "      <td>AMERICAN SAMOA</td>\n",
       "      <td>3</td>\n",
       "    </tr>\n",
       "  </tbody>\n",
       "</table>\n",
       "</div>"
      ],
      "text/plain": [
       "             country  Unnamed: 0\n",
       "0  ADMIRALTY ISLANDS           1\n",
       "1     AMERICAN SAMOA           3"
      ]
     },
     "execution_count": 49,
     "metadata": {},
     "output_type": "execute_result"
    }
   ],
   "source": [
    "total_x_pais_ataque.head(2)"
   ]
  },
  {
   "cell_type": "code",
   "execution_count": 43,
   "id": "9c531931",
   "metadata": {},
   "outputs": [
    {
     "data": {
      "text/plain": [
       "['ADMIRALTY ISLANDS',\n",
       " 'AMERICAN SAMOA',\n",
       " 'ANDAMAN / NICOBAR ISLANDAS',\n",
       " 'ANGOLA',\n",
       " 'ANTIGUA',\n",
       " 'ARGENTINA',\n",
       " 'ARUBA',\n",
       " 'ATLANTIC OCEAN',\n",
       " 'AUSTRALIA',\n",
       " 'AZORES',\n",
       " 'BAHAMAS',\n",
       " 'BANGLADESH',\n",
       " 'BARBADOS',\n",
       " 'BAY OF BENGAL',\n",
       " 'BELIZE',\n",
       " 'BERMUDA',\n",
       " 'BRAZIL',\n",
       " 'BRITISH ISLES',\n",
       " 'BRITISH OVERSEAS TERRITORY',\n",
       " 'BRITISH VIRGIN ISLANDS',\n",
       " 'BRITISH WEST INDIES',\n",
       " 'CANADA',\n",
       " 'CAPE VERDE',\n",
       " 'CARIBBEAN SEA',\n",
       " 'CAYMAN ISLANDS',\n",
       " 'CENTRAL PACIFIC',\n",
       " 'CHILE',\n",
       " 'CHINA',\n",
       " 'COLOMBIA',\n",
       " 'COLUMBIA',\n",
       " 'COMOROS',\n",
       " 'COSTA RICA',\n",
       " 'CROATIA',\n",
       " 'CUBA',\n",
       " 'CURACAO',\n",
       " 'DIEGO GARCIA',\n",
       " 'DOMINICAN REPUBLIC',\n",
       " 'ECUADOR',\n",
       " 'EGYPT',\n",
       " 'EGYPT / ISRAEL',\n",
       " 'EL SALVADOR',\n",
       " 'ENGLAND',\n",
       " 'FEDERATED STATES OF MICRONESIA',\n",
       " 'FIJI',\n",
       " 'FRANCE',\n",
       " 'FRENCH POLYNESIA',\n",
       " 'GABON',\n",
       " 'GRAND CAYMAN',\n",
       " 'GREECE',\n",
       " 'GRENADA',\n",
       " 'GUAM',\n",
       " 'GUATEMALA',\n",
       " 'GULF OF ADEN',\n",
       " 'HONDURAS',\n",
       " 'HONG KONG',\n",
       " 'ICELAND',\n",
       " 'INDIA',\n",
       " 'INDIAN OCEAN',\n",
       " 'INDONESIA',\n",
       " 'IRAN',\n",
       " 'IRAN / IRAQ',\n",
       " 'IRAQ',\n",
       " 'IRELAND',\n",
       " 'ISRAEL',\n",
       " 'ITALY',\n",
       " 'ITALY / CROATIA',\n",
       " 'JAMAICA',\n",
       " 'JAPAN',\n",
       " 'JAVA',\n",
       " 'JOHNSTON ISLAND',\n",
       " 'JORDAN',\n",
       " 'KENYA',\n",
       " 'KIRIBATI',\n",
       " 'LIBERIA',\n",
       " 'LIBYA',\n",
       " 'MADAGASCAR',\n",
       " 'MALAYSIA',\n",
       " 'MALDIVE ISLANDS',\n",
       " 'MALDIVES',\n",
       " 'MALTA',\n",
       " 'MARSHALL ISLANDS',\n",
       " 'MARTINIQUE',\n",
       " 'MAURITIUS',\n",
       " 'MAYOTTE',\n",
       " 'MEXICO',\n",
       " 'MICRONESIA',\n",
       " 'MID ATLANTIC OCEAN',\n",
       " 'MID-PACIFC OCEAN',\n",
       " 'MONACO',\n",
       " 'MONTENEGRO',\n",
       " 'MOZAMBIQUE',\n",
       " 'NAMIBIA',\n",
       " 'NETHERLANDS ANTILLES',\n",
       " 'NEVIS',\n",
       " 'NEW BRITAIN',\n",
       " 'NEW CALEDONIA',\n",
       " 'NEW GUINEA',\n",
       " 'NEW ZEALAND',\n",
       " 'NICARAGUA',\n",
       " 'NIGERIA',\n",
       " 'NORTH ATLANTIC OCEAN',\n",
       " 'NORTH PACIFIC OCEAN',\n",
       " 'NORTH SEA',\n",
       " 'NORTHERN ARABIAN SEA',\n",
       " 'NORTHERN MARIANA ISLANDS',\n",
       " 'NORWAY',\n",
       " 'OKINAWA',\n",
       " 'PACIFIC OCEAN',\n",
       " 'PALAU',\n",
       " 'PALESTINIAN TERRITORIES',\n",
       " 'PANAMA',\n",
       " 'PAPUA NEW GUINEA',\n",
       " 'PERSIAN GULF',\n",
       " 'PHILIPPINES',\n",
       " 'PORTUGAL',\n",
       " 'PUERTO RICO',\n",
       " 'RED SEA',\n",
       " 'RED SEA / INDIAN OCEAN',\n",
       " 'REUNION',\n",
       " 'REUNION ISLAND',\n",
       " 'RUSSIA',\n",
       " 'SAMOA',\n",
       " 'SAN CRISTOBAL Y NIEVES',\n",
       " 'SAUDI ARABIA',\n",
       " 'SCOTLAND',\n",
       " 'SENEGAL',\n",
       " 'SEYCHELLES',\n",
       " 'SIERRA LEONE',\n",
       " 'SINGAPORE',\n",
       " 'SLOVENIA',\n",
       " 'SOLOMON ISLANDS',\n",
       " 'SOLOMON ISLANDS / VANUATU',\n",
       " 'SOMALIA',\n",
       " 'SOUTH AFRICA',\n",
       " 'SOUTH ATLANTIC OCEAN',\n",
       " 'SOUTH CHINA SEA',\n",
       " 'SOUTH KOREA',\n",
       " 'SOUTH PACIFIC OCEAN',\n",
       " 'SOUTHWEST PACIFIC OCEAN',\n",
       " 'SPAIN',\n",
       " 'SRI LANKA',\n",
       " 'ST HELENA, BRITISH OVERSEAS TERRITORY',\n",
       " 'ST KITTS / NEVIS',\n",
       " 'ST MARTIN',\n",
       " 'ST. MAARTIN',\n",
       " 'ST. MARTIN',\n",
       " 'SUDAN',\n",
       " 'SUDAN?',\n",
       " 'TAIWAN',\n",
       " 'TANZANIA',\n",
       " 'THAILAND',\n",
       " 'THE BALKANS',\n",
       " 'TONGA',\n",
       " 'TRINIDAD & TOBAGO',\n",
       " 'TUNISIA',\n",
       " 'TURKEY',\n",
       " 'TURKS & CAICOS',\n",
       " 'TURKS AND CAICOS',\n",
       " 'UNITED ARAB EMIRATES',\n",
       " 'UNITED ARAB EMIRATES (UAE)',\n",
       " 'UNITED KINGDOM',\n",
       " 'URUGUAY',\n",
       " 'USA',\n",
       " 'VANUATU',\n",
       " 'VENEZUELA',\n",
       " 'VIETNAM',\n",
       " 'WESTERN SAMOA',\n",
       " 'YEMEN']"
      ]
     },
     "execution_count": 43,
     "metadata": {},
     "output_type": "execute_result"
    }
   ],
   "source": [
    "total_x_pais_ataque['country'].to_list()"
   ]
  },
  {
   "cell_type": "code",
   "execution_count": 40,
   "id": "45a6b4bd",
   "metadata": {},
   "outputs": [
    {
     "name": "stderr",
     "output_type": "stream",
     "text": [
      "C:\\Users\\Vicen\\AppData\\Local\\Temp\\ipykernel_11508\\3069502710.py:2: SettingWithCopyWarning:\n",
      "\n",
      "\n",
      "A value is trying to be set on a copy of a slice from a DataFrame.\n",
      "Try using .loc[row_indexer,col_indexer] = value instead\n",
      "\n",
      "See the caveats in the documentation: https://pandas.pydata.org/pandas-docs/stable/user_guide/indexing.html#returning-a-view-versus-a-copy\n",
      "\n"
     ]
    },
    {
     "data": {
      "text/html": [
       "<div>\n",
       "<style scoped>\n",
       "    .dataframe tbody tr th:only-of-type {\n",
       "        vertical-align: middle;\n",
       "    }\n",
       "\n",
       "    .dataframe tbody tr th {\n",
       "        vertical-align: top;\n",
       "    }\n",
       "\n",
       "    .dataframe thead th {\n",
       "        text-align: right;\n",
       "    }\n",
       "</style>\n",
       "<table border=\"1\" class=\"dataframe\">\n",
       "  <thead>\n",
       "    <tr style=\"text-align: right;\">\n",
       "      <th></th>\n",
       "      <th>pais</th>\n",
       "      <th>totales</th>\n",
       "    </tr>\n",
       "  </thead>\n",
       "  <tbody>\n",
       "    <tr>\n",
       "      <th>0</th>\n",
       "      <td>ESPAÑA</td>\n",
       "      <td>1.708708e+09</td>\n",
       "    </tr>\n",
       "    <tr>\n",
       "      <th>1</th>\n",
       "      <td>ALEMANIA</td>\n",
       "      <td>6.806840e+08</td>\n",
       "    </tr>\n",
       "    <tr>\n",
       "      <th>2</th>\n",
       "      <td>REINO-UNIDO</td>\n",
       "      <td>7.720790e+08</td>\n",
       "    </tr>\n",
       "    <tr>\n",
       "      <th>3</th>\n",
       "      <td>FRANCIA</td>\n",
       "      <td>2.031578e+09</td>\n",
       "    </tr>\n",
       "    <tr>\n",
       "      <th>4</th>\n",
       "      <td>ITALIA</td>\n",
       "      <td>1.197400e+09</td>\n",
       "    </tr>\n",
       "    <tr>\n",
       "      <th>...</th>\n",
       "      <td>...</td>\n",
       "      <td>...</td>\n",
       "    </tr>\n",
       "    <tr>\n",
       "      <th>173</th>\n",
       "      <td>SAMOA</td>\n",
       "      <td>2.820673e+06</td>\n",
       "    </tr>\n",
       "    <tr>\n",
       "      <th>174</th>\n",
       "      <td>YEMEN</td>\n",
       "      <td>1.053537e+07</td>\n",
       "    </tr>\n",
       "    <tr>\n",
       "      <th>175</th>\n",
       "      <td>SUDÁFRICA</td>\n",
       "      <td>2.041087e+08</td>\n",
       "    </tr>\n",
       "    <tr>\n",
       "      <th>176</th>\n",
       "      <td>ZAMBIA</td>\n",
       "      <td>1.856818e+07</td>\n",
       "    </tr>\n",
       "    <tr>\n",
       "      <th>177</th>\n",
       "      <td>ZIMBABUE</td>\n",
       "      <td>4.811718e+07</td>\n",
       "    </tr>\n",
       "  </tbody>\n",
       "</table>\n",
       "<p>178 rows × 2 columns</p>\n",
       "</div>"
      ],
      "text/plain": [
       "            pais       totales\n",
       "0         ESPAÑA  1.708708e+09\n",
       "1       ALEMANIA  6.806840e+08\n",
       "2    REINO-UNIDO  7.720790e+08\n",
       "3        FRANCIA  2.031578e+09\n",
       "4         ITALIA  1.197400e+09\n",
       "..           ...           ...\n",
       "173        SAMOA  2.820673e+06\n",
       "174        YEMEN  1.053537e+07\n",
       "175    SUDÁFRICA  2.041087e+08\n",
       "176       ZAMBIA  1.856818e+07\n",
       "177     ZIMBABUE  4.811718e+07\n",
       "\n",
       "[178 rows x 2 columns]"
      ]
     },
     "execution_count": 40,
     "metadata": {},
     "output_type": "execute_result"
    }
   ],
   "source": [
    "total_x_pais_turista = df_tourism[['pais', 'totales']]\n",
    "total_x_pais_turista['pais'] = total_x_pais_turista['pais'].str.upper() \n",
    "total_x_pais_turista"
   ]
  },
  {
   "cell_type": "code",
   "execution_count": 44,
   "id": "d46ba026",
   "metadata": {},
   "outputs": [
    {
     "data": {
      "text/plain": [
       "['ESPAÑA',\n",
       " 'ALEMANIA',\n",
       " 'REINO-UNIDO',\n",
       " 'FRANCIA',\n",
       " 'ITALIA',\n",
       " 'PORTUGAL',\n",
       " 'ESTADOS-UNIDOS',\n",
       " 'JAPÓN',\n",
       " 'CHINA',\n",
       " 'ANDORRA',\n",
       " 'EMIRATOS-ÁRABES-UNIDOS',\n",
       " 'ANTIGUA-BARBUDA',\n",
       " 'ALBANIA',\n",
       " 'ARMENIA',\n",
       " 'ANGOLA',\n",
       " 'ARGENTINA',\n",
       " 'AUSTRIA',\n",
       " 'AUSTRALIA',\n",
       " 'AZERBAIYÁN',\n",
       " 'BOSNIA-HERZEGOVINA',\n",
       " 'BARBADOS',\n",
       " 'BANGLADÉS',\n",
       " 'BÉLGICA',\n",
       " 'BURKINA-FASO',\n",
       " 'BULGARIA',\n",
       " 'BARÉIN',\n",
       " 'BURUNDI',\n",
       " 'BENIN',\n",
       " 'BRUNÉI',\n",
       " 'BOLIVIA',\n",
       " 'BRASIL',\n",
       " 'BAHAMAS',\n",
       " 'BUTÁN',\n",
       " 'BOTSUANA',\n",
       " 'BIELORRUSIA',\n",
       " 'BELICE',\n",
       " 'CANADÁ',\n",
       " 'REPÚBLICA-CENTROAFRICANA',\n",
       " 'SUIZA',\n",
       " 'CHILE',\n",
       " 'CAMERÚN',\n",
       " 'COLOMBIA',\n",
       " 'COSTA-RICA',\n",
       " 'CUBA',\n",
       " 'CABO-VERDE',\n",
       " 'CHIPRE',\n",
       " 'YIBUTI',\n",
       " 'DINAMARCA',\n",
       " 'DOMINICA',\n",
       " 'REPÚBLICA-DOMINICANA',\n",
       " 'ARGELIA',\n",
       " 'ECUADOR',\n",
       " 'ESTONIA',\n",
       " 'EGIPTO',\n",
       " 'ERITREA',\n",
       " 'ETIOPÍA',\n",
       " 'FINLANDIA',\n",
       " 'FIYI',\n",
       " 'GABÓN',\n",
       " 'GRANADA',\n",
       " 'GEORGIA',\n",
       " 'GHANA',\n",
       " 'GAMBIA',\n",
       " 'GUINEA',\n",
       " 'GRECIA',\n",
       " 'GUATEMALA',\n",
       " 'GUINEA-BISÁU',\n",
       " 'GUYANA',\n",
       " 'HONG-KONG',\n",
       " 'HONDURAS',\n",
       " 'CROACIA',\n",
       " 'HAITÍ',\n",
       " 'HUNGRÍA',\n",
       " 'INDONESIA',\n",
       " 'IRLANDA',\n",
       " 'ISRAEL',\n",
       " 'INDIA',\n",
       " 'IRAK',\n",
       " 'IRÁN',\n",
       " 'ISLANDIA',\n",
       " 'JAMAICA',\n",
       " 'JORDANIA',\n",
       " 'KENIA',\n",
       " 'KIRGUISTÁN',\n",
       " 'CAMBOYA',\n",
       " 'KIRIBATI',\n",
       " 'COMORAS',\n",
       " 'SAN-CRISTÓBAL-NIEVES',\n",
       " 'COREA-DEL-SUR',\n",
       " 'KUWAIT',\n",
       " 'KAZAJISTÁN',\n",
       " 'LAOS',\n",
       " 'LÍBANO',\n",
       " 'SANTA-LUCÍA',\n",
       " 'LIECHTENSTEIN',\n",
       " 'SRI-LANKA',\n",
       " 'LESOTO',\n",
       " 'LITUANIA',\n",
       " 'LUXEMBURGO',\n",
       " 'LETONIA',\n",
       " 'LIBIA',\n",
       " 'MARRUECOS',\n",
       " 'MÓNACO',\n",
       " 'MOLDAVIA',\n",
       " 'MONTENEGRO',\n",
       " 'MADAGASCAR',\n",
       " 'ISLAS-MARSHALL',\n",
       " 'MALÍ',\n",
       " 'MONGOLIA',\n",
       " 'MAURITANIA',\n",
       " 'MALTA',\n",
       " 'MAURICIO',\n",
       " 'MALDIVAS',\n",
       " 'MALAUI',\n",
       " 'MÉXICO',\n",
       " 'MALASIA',\n",
       " 'MOZAMBIQUE',\n",
       " 'NAMIBIA',\n",
       " 'NÍGER',\n",
       " 'NIGERIA',\n",
       " 'NICARAGUA',\n",
       " 'PAÍSES-BAJOS',\n",
       " 'NORUEGA',\n",
       " 'NEPAL',\n",
       " 'NUEVA-ZELANDA',\n",
       " 'OMÁN',\n",
       " 'PANAMÁ',\n",
       " 'PERÚ',\n",
       " 'PAPÚA-NUEVA-GUINEA',\n",
       " 'FILIPINAS',\n",
       " 'PAKISTÁN',\n",
       " 'POLONIA',\n",
       " 'PALAOS',\n",
       " 'PARAGUAY',\n",
       " 'CATAR',\n",
       " 'RUMANÍA',\n",
       " 'SERBIA',\n",
       " 'RUSIA',\n",
       " 'RUANDA',\n",
       " 'ARABIA-SAUDITA',\n",
       " 'ISLAS-SALOMÓN',\n",
       " 'SEYCHELLES',\n",
       " 'SUDÁN',\n",
       " 'SUECIA',\n",
       " 'SINGAPUR',\n",
       " 'ESLOVENIA',\n",
       " 'ESLOVAQUIA',\n",
       " 'SIERRA-LEONA',\n",
       " 'SAN-MARINO',\n",
       " 'SENEGAL',\n",
       " 'SURINAM',\n",
       " 'SANTO-TOMÉ-PRÍNCIPE',\n",
       " 'EL-SALVADOR',\n",
       " 'SIRIA',\n",
       " 'CHAD',\n",
       " 'TOGO',\n",
       " 'TAILANDIA',\n",
       " 'TAYIKISTÁN',\n",
       " 'TIMOR-ORIENTAL',\n",
       " 'TURKMENISTÁN',\n",
       " 'TÚNEZ',\n",
       " 'TONGA',\n",
       " 'TRINIDAD-TOBAGO',\n",
       " 'TUVALU',\n",
       " 'TAIWAN',\n",
       " 'TANZANIA',\n",
       " 'UCRANIA',\n",
       " 'UGANDA',\n",
       " 'URUGUAY',\n",
       " 'UZBEKISTÁN',\n",
       " 'SAN-VICENTE-LAS-GRANADINAS',\n",
       " 'VENEZUELA',\n",
       " 'VANUATU',\n",
       " 'SAMOA',\n",
       " 'YEMEN',\n",
       " 'SUDÁFRICA',\n",
       " 'ZAMBIA',\n",
       " 'ZIMBABUE']"
      ]
     },
     "execution_count": 44,
     "metadata": {},
     "output_type": "execute_result"
    }
   ],
   "source": [
    "total_x_pais_turista['pais'].to_list()"
   ]
  },
  {
   "cell_type": "code",
   "execution_count": 45,
   "id": "0b02fd06",
   "metadata": {},
   "outputs": [],
   "source": [
    "mapeo_paises = {\n",
    "    'ESPAÑA': 'SPAIN',\n",
    "    'ESTADOS-UNIDOS': 'USA',\n",
    "    'EMIRATOS-ÁRABES-UNIDOS': 'UNITED ARAB EMIRATES',\n",
    "    'AZERBAIYÁN': 'AZORES',\n",
    "    'BOSNIA-HERZEGOVINA': 'THE BALKANS',\n",
    "    'BÉLGICA': 'BELGIUM',\n",
    "    'BURKINA-FASO': 'BURKINA FASO',\n",
    "    'BULGARIA': 'BULGARIA',\n",
    "    'BARÉIN': 'BAHRAIN',\n",
    "    'BURUNDI': 'BURUNDI',\n",
    "    'ANGOLA': 'ANGOLA',\n",
    "    'ANTIGUA-BARBUDA': 'ANTIGUA',\n",
    "    'ARGENTINA': 'ARGENTINA',\n",
    "    'AUSTRALIA': 'AUSTRALIA',\n",
    "    'BAHAMAS': 'BAHAMAS',\n",
    "    'BANGLADÉS': 'BANGLADESH',\n",
    "    'BARBADOS': 'BARBADOS',\n",
    "    'BELICE': 'BELIZE',\n",
    "    'BRASIL': 'BRAZIL',\n",
    "    'CANADÁ': 'CANADA',\n",
    "    'CABO-VERDE': 'CAPE VERDE',\n",
    "    'CHILE': 'CHILE',\n",
    "    'CHINA': 'CHINA',\n",
    "    'COLOMBIA': 'COLOMBIA',\n",
    "    'COSTA-RICA': 'COSTA RICA',\n",
    "    'CUBA': 'CUBA',\n",
    "    'ECUADOR': 'ECUADOR',\n",
    "    'EGIPTO': 'EGYPT',\n",
    "    'EL-SALVADOR': 'EL SALVADOR',\n",
    "    'FIYI': 'FIJI',\n",
    "    'FRANCIA': 'FRANCE',\n",
    "    'GABÓN': 'GABON',\n",
    "    'GRANADA': 'GRENADA',\n",
    "    'GRECIA': 'GREECE',\n",
    "    'GUATEMALA': 'GUATEMALA',\n",
    "    'HONDURAS': 'HONDURAS',\n",
    "    'HONG-KONG': 'HONG KONG',\n",
    "    'INDIA': 'INDIA',\n",
    "    'INDONESIA': 'INDONESIA',\n",
    "    'IRÁN': 'IRAN',\n",
    "    'IRAK': 'IRAQ',\n",
    "    'IRLANDA': 'IRELAND',\n",
    "    'ISRAEL': 'ISRAEL',\n",
    "    'ITALIA': 'ITALY',\n",
    "    'JAMAICA': 'JAMAICA',\n",
    "    'JAPÓN': 'JAPAN',\n",
    "    'JORDANIA': 'JORDAN',\n",
    "    'KENIA': 'KENYA',\n",
    "    'KIRIBATI': 'KIRIBATI',\n",
    "    'COMORAS': 'COMOROS',\n",
    "    'SRI-LANKA': 'SRI LANKA',\n",
    "    'MÓNACO': 'MONACO',\n",
    "    'MONTENEGRO': 'MONTENEGRO',\n",
    "    'MADAGASCAR': 'MADAGASCAR',\n",
    "    'MALASIA': 'MALAYSIA',\n",
    "    'MALDIVAS': 'MALDIVES',\n",
    "    'MALTA': 'MALTA',\n",
    "    'MAURICIO': 'MAURITIUS',\n",
    "    'MÉXICO': 'MEXICO',\n",
    "    'MOZAMBIQUE': 'MOZAMBIQUE',\n",
    "    'NAMIBIA': 'NAMIBIA',\n",
    "    'NIGERIA': 'NIGERIA',\n",
    "    'NICARAGUA': 'NICARAGUA',\n",
    "    'NUEVA-ZELANDA': 'NEW ZEALAND',\n",
    "    'PANAMÁ': 'PANAMA',\n",
    "    'PAPÚA-NUEVA-GUINEA': 'PAPUA NEW GUINEA',\n",
    "    'FILIPINAS': 'PHILIPPINES',\n",
    "    'PORTUGAL': 'PORTUGAL',\n",
    "    'RUSIA': 'RUSSIA',\n",
    "    'SAMOA': 'SAMOA',\n",
    "    'SAN-CRISTÓBAL-NIEVES': 'SAN CRISTOBAL Y NIEVES',\n",
    "    'SENEGAL': 'SENEGAL',\n",
    "    'SEYCHELLES': 'SEYCHELLES',\n",
    "    'SIERRA-LEONA': 'SIERRA LEONE',\n",
    "    'SINGAPUR': 'SINGAPORE',\n",
    "    'SUDÁN': 'SUDAN',\n",
    "    'SUDÁFRICA': 'SOUTH AFRICA',\n",
    "    'TAILANDIA': 'THAILAND',\n",
    "    'TAIWAN': 'TAIWAN',\n",
    "    'TANZANIA': 'TANZANIA',\n",
    "    'TRINIDAD-TOBAGO': 'TRINIDAD & TOBAGO',\n",
    "    'URUGUAY': 'URUGUAY',\n",
    "    'VENEZUELA': 'VENEZUELA',\n",
    "    'VANUATU': 'VANUATU',\n",
    "    'YEMEN': 'YEMEN'\n",
    "}\n"
   ]
  },
  {
   "cell_type": "code",
   "execution_count": 46,
   "id": "1a2d657c",
   "metadata": {},
   "outputs": [
    {
     "name": "stderr",
     "output_type": "stream",
     "text": [
      "C:\\Users\\Vicen\\AppData\\Local\\Temp\\ipykernel_11508\\3425259025.py:1: SettingWithCopyWarning:\n",
      "\n",
      "\n",
      "A value is trying to be set on a copy of a slice from a DataFrame.\n",
      "Try using .loc[row_indexer,col_indexer] = value instead\n",
      "\n",
      "See the caveats in the documentation: https://pandas.pydata.org/pandas-docs/stable/user_guide/indexing.html#returning-a-view-versus-a-copy\n",
      "\n"
     ]
    },
    {
     "data": {
      "text/plain": [
       "178"
      ]
     },
     "execution_count": 46,
     "metadata": {},
     "output_type": "execute_result"
    }
   ],
   "source": [
    "total_x_pais_turista['pais'] = total_x_pais_turista['pais'].replace(mapeo_paises)\n",
    "len(total_x_pais_turista['pais'])"
   ]
  },
  {
   "cell_type": "code",
   "execution_count": 47,
   "id": "f432ed31",
   "metadata": {},
   "outputs": [
    {
     "data": {
      "text/html": [
       "<div>\n",
       "<style scoped>\n",
       "    .dataframe tbody tr th:only-of-type {\n",
       "        vertical-align: middle;\n",
       "    }\n",
       "\n",
       "    .dataframe tbody tr th {\n",
       "        vertical-align: top;\n",
       "    }\n",
       "\n",
       "    .dataframe thead th {\n",
       "        text-align: right;\n",
       "    }\n",
       "</style>\n",
       "<table border=\"1\" class=\"dataframe\">\n",
       "  <thead>\n",
       "    <tr style=\"text-align: right;\">\n",
       "      <th></th>\n",
       "      <th>pais</th>\n",
       "      <th>totales</th>\n",
       "    </tr>\n",
       "  </thead>\n",
       "  <tbody>\n",
       "    <tr>\n",
       "      <th>0</th>\n",
       "      <td>SPAIN</td>\n",
       "      <td>1.708708e+09</td>\n",
       "    </tr>\n",
       "    <tr>\n",
       "      <th>1</th>\n",
       "      <td>ALEMANIA</td>\n",
       "      <td>6.806840e+08</td>\n",
       "    </tr>\n",
       "    <tr>\n",
       "      <th>2</th>\n",
       "      <td>REINO-UNIDO</td>\n",
       "      <td>7.720790e+08</td>\n",
       "    </tr>\n",
       "    <tr>\n",
       "      <th>3</th>\n",
       "      <td>FRANCE</td>\n",
       "      <td>2.031578e+09</td>\n",
       "    </tr>\n",
       "    <tr>\n",
       "      <th>4</th>\n",
       "      <td>ITALY</td>\n",
       "      <td>1.197400e+09</td>\n",
       "    </tr>\n",
       "  </tbody>\n",
       "</table>\n",
       "</div>"
      ],
      "text/plain": [
       "          pais       totales\n",
       "0        SPAIN  1.708708e+09\n",
       "1     ALEMANIA  6.806840e+08\n",
       "2  REINO-UNIDO  7.720790e+08\n",
       "3       FRANCE  2.031578e+09\n",
       "4        ITALY  1.197400e+09"
      ]
     },
     "execution_count": 47,
     "metadata": {},
     "output_type": "execute_result"
    }
   ],
   "source": [
    "total_x_pais_turista.head()"
   ]
  },
  {
   "cell_type": "code",
   "execution_count": 50,
   "id": "6fb299cc",
   "metadata": {},
   "outputs": [
    {
     "data": {
      "text/plain": [
       "81"
      ]
     },
     "execution_count": 50,
     "metadata": {},
     "output_type": "execute_result"
    }
   ],
   "source": [
    "df_totalXpais = pd.merge(total_x_pais_ataque, total_x_pais_turista, left_on='country', right_on='pais')\n",
    "len(df_totalXpais)"
   ]
  },
  {
   "cell_type": "code",
   "execution_count": 57,
   "id": "7427da40",
   "metadata": {},
   "outputs": [
    {
     "data": {
      "text/html": [
       "<div>\n",
       "<style scoped>\n",
       "    .dataframe tbody tr th:only-of-type {\n",
       "        vertical-align: middle;\n",
       "    }\n",
       "\n",
       "    .dataframe tbody tr th {\n",
       "        vertical-align: top;\n",
       "    }\n",
       "\n",
       "    .dataframe thead th {\n",
       "        text-align: right;\n",
       "    }\n",
       "</style>\n",
       "<table border=\"1\" class=\"dataframe\">\n",
       "  <thead>\n",
       "    <tr style=\"text-align: right;\">\n",
       "      <th></th>\n",
       "      <th>country</th>\n",
       "      <th>totales_ataques</th>\n",
       "      <th>totales_turistas</th>\n",
       "    </tr>\n",
       "  </thead>\n",
       "  <tbody>\n",
       "    <tr>\n",
       "      <th>0</th>\n",
       "      <td>ANGOLA</td>\n",
       "      <td>1</td>\n",
       "      <td>6491014.0</td>\n",
       "    </tr>\n",
       "    <tr>\n",
       "      <th>1</th>\n",
       "      <td>ANTIGUA</td>\n",
       "      <td>1</td>\n",
       "      <td>6641511.0</td>\n",
       "    </tr>\n",
       "  </tbody>\n",
       "</table>\n",
       "</div>"
      ],
      "text/plain": [
       "   country  totales_ataques  totales_turistas\n",
       "0   ANGOLA                1         6491014.0\n",
       "1  ANTIGUA                1         6641511.0"
      ]
     },
     "execution_count": 57,
     "metadata": {},
     "output_type": "execute_result"
    }
   ],
   "source": [
    "df_totalXpais.rename(columns={'Unnamed: 0':'totales_ataques', 'totales': 'totales_turistas'}, inplace=True)\n",
    "df_totalXpais.drop('pais', axis=1, inplace=True)\n",
    "df_totalXpais.head(2)"
   ]
  },
  {
   "cell_type": "code",
   "execution_count": 58,
   "id": "b0c05282",
   "metadata": {},
   "outputs": [],
   "source": [
    "df_totalXpais.to_csv(r'C:\\Users\\Vicen\\Visual Code\\The_Bridge\\Personal_2506_dsft_thebridge\\2-Analytics\\EDA\\EDA-SHARK-ATTACK\\src\\data\\totales_x_pais.csv')"
   ]
  },
  {
   "cell_type": "code",
   "execution_count": 24,
   "id": "1be747b0",
   "metadata": {},
   "outputs": [
    {
     "data": {
      "text/html": [
       "<div>\n",
       "<style scoped>\n",
       "    .dataframe tbody tr th:only-of-type {\n",
       "        vertical-align: middle;\n",
       "    }\n",
       "\n",
       "    .dataframe tbody tr th {\n",
       "        vertical-align: top;\n",
       "    }\n",
       "\n",
       "    .dataframe thead th {\n",
       "        text-align: right;\n",
       "    }\n",
       "</style>\n",
       "<table border=\"1\" class=\"dataframe\">\n",
       "  <thead>\n",
       "    <tr style=\"text-align: right;\">\n",
       "      <th></th>\n",
       "      <th>Unnamed: 0</th>\n",
       "      <th>date</th>\n",
       "      <th>year</th>\n",
       "      <th>type</th>\n",
       "      <th>country</th>\n",
       "      <th>area</th>\n",
       "      <th>location</th>\n",
       "      <th>activity</th>\n",
       "      <th>name</th>\n",
       "      <th>sex</th>\n",
       "      <th>age</th>\n",
       "      <th>fatal_y_n</th>\n",
       "      <th>species</th>\n",
       "      <th>activity2</th>\n",
       "      <th>decade</th>\n",
       "    </tr>\n",
       "  </thead>\n",
       "  <tbody>\n",
       "    <tr>\n",
       "      <th>19</th>\n",
       "      <td>19</td>\n",
       "      <td>2019-01-29</td>\n",
       "      <td>2019</td>\n",
       "      <td>Invalid</td>\n",
       "      <td>NEW ZEALAND</td>\n",
       "      <td>South Island</td>\n",
       "      <td>Oreti Beach</td>\n",
       "      <td>Boogie boarding</td>\n",
       "      <td>female</td>\n",
       "      <td>F</td>\n",
       "      <td>17.0</td>\n",
       "      <td>N</td>\n",
       "      <td>Reported as shark bite but injury caused by st...</td>\n",
       "      <td>Boogie boarding</td>\n",
       "      <td>2010</td>\n",
       "    </tr>\n",
       "    <tr>\n",
       "      <th>23</th>\n",
       "      <td>23</td>\n",
       "      <td>2017-09-24</td>\n",
       "      <td>2017</td>\n",
       "      <td>Invalid</td>\n",
       "      <td>USA</td>\n",
       "      <td>New York</td>\n",
       "      <td>Rockaway</td>\n",
       "      <td>Surfing</td>\n",
       "      <td>Michah Behrend</td>\n",
       "      <td>M</td>\n",
       "      <td>33.0</td>\n",
       "      <td>UNKNOWN</td>\n",
       "      <td>Questionable</td>\n",
       "      <td>Surfing</td>\n",
       "      <td>2010</td>\n",
       "    </tr>\n",
       "    <tr>\n",
       "      <th>35</th>\n",
       "      <td>35</td>\n",
       "      <td>2015-11-07</td>\n",
       "      <td>2015</td>\n",
       "      <td>Invalid</td>\n",
       "      <td>USA</td>\n",
       "      <td>Florida</td>\n",
       "      <td>Paradise Beach, Melbourne, Brevard County</td>\n",
       "      <td>Surfing</td>\n",
       "      <td>Ryla Underwood</td>\n",
       "      <td>F</td>\n",
       "      <td>9.0</td>\n",
       "      <td>UNKNOWN</td>\n",
       "      <td>Shark involvement not confirmed</td>\n",
       "      <td>Surfing</td>\n",
       "      <td>2010</td>\n",
       "    </tr>\n",
       "    <tr>\n",
       "      <th>74</th>\n",
       "      <td>74</td>\n",
       "      <td>2009-04-11</td>\n",
       "      <td>2009</td>\n",
       "      <td>Invalid</td>\n",
       "      <td>USA</td>\n",
       "      <td>Hawaii</td>\n",
       "      <td>Kona</td>\n",
       "      <td>Spearfishing</td>\n",
       "      <td>Paolo Dominici</td>\n",
       "      <td>M</td>\n",
       "      <td>49</td>\n",
       "      <td>UNKNOWN</td>\n",
       "      <td>Shark involvement not confirmed</td>\n",
       "      <td>Fishing</td>\n",
       "      <td>2000</td>\n",
       "    </tr>\n",
       "    <tr>\n",
       "      <th>77</th>\n",
       "      <td>77</td>\n",
       "      <td>2008-04-18</td>\n",
       "      <td>2008</td>\n",
       "      <td>Invalid</td>\n",
       "      <td>MEXICO</td>\n",
       "      <td>Quintana Roo</td>\n",
       "      <td>Delfines Beach, Cancun</td>\n",
       "      <td>Swimming</td>\n",
       "      <td>Joram Galleros Villanueva</td>\n",
       "      <td>M</td>\n",
       "      <td>32</td>\n",
       "      <td>UNKNOWN</td>\n",
       "      <td>Reported by media as shark attack, but shark i...</td>\n",
       "      <td>Swimming</td>\n",
       "      <td>2000</td>\n",
       "    </tr>\n",
       "    <tr>\n",
       "      <th>...</th>\n",
       "      <td>...</td>\n",
       "      <td>...</td>\n",
       "      <td>...</td>\n",
       "      <td>...</td>\n",
       "      <td>...</td>\n",
       "      <td>...</td>\n",
       "      <td>...</td>\n",
       "      <td>...</td>\n",
       "      <td>...</td>\n",
       "      <td>...</td>\n",
       "      <td>...</td>\n",
       "      <td>...</td>\n",
       "      <td>...</td>\n",
       "      <td>...</td>\n",
       "      <td>...</td>\n",
       "    </tr>\n",
       "    <tr>\n",
       "      <th>5675</th>\n",
       "      <td>6788</td>\n",
       "      <td>1969-02-01</td>\n",
       "      <td>1969</td>\n",
       "      <td>Invalid</td>\n",
       "      <td>AUSTRALIA</td>\n",
       "      <td>Queensland</td>\n",
       "      <td>Cooktown</td>\n",
       "      <td>Hard hat diving</td>\n",
       "      <td>Elin Anderson</td>\n",
       "      <td>M</td>\n",
       "      <td>52</td>\n",
       "      <td>UNKNOWN</td>\n",
       "      <td>Questionable incident</td>\n",
       "      <td>Diving</td>\n",
       "      <td>1960</td>\n",
       "    </tr>\n",
       "    <tr>\n",
       "      <th>5690</th>\n",
       "      <td>6803</td>\n",
       "      <td>1961-11-14</td>\n",
       "      <td>1961</td>\n",
       "      <td>Invalid</td>\n",
       "      <td>MEXICO</td>\n",
       "      <td>Guerrrero</td>\n",
       "      <td>Northwest of Acapulco</td>\n",
       "      <td>NaN</td>\n",
       "      <td>Unknow</td>\n",
       "      <td>F</td>\n",
       "      <td>Unknow</td>\n",
       "      <td>UNKNOWN</td>\n",
       "      <td>Shark involvement prior to death was not confi...</td>\n",
       "      <td>No details</td>\n",
       "      <td>1960</td>\n",
       "    </tr>\n",
       "    <tr>\n",
       "      <th>5706</th>\n",
       "      <td>6819</td>\n",
       "      <td>1957-01-01</td>\n",
       "      <td>1957</td>\n",
       "      <td>Invalid</td>\n",
       "      <td>SRI LANKA</td>\n",
       "      <td>Western Province</td>\n",
       "      <td>Colombo Harbor</td>\n",
       "      <td>Fishing</td>\n",
       "      <td>F. L. Fernando</td>\n",
       "      <td>M</td>\n",
       "      <td>Unknow</td>\n",
       "      <td>UNKNOWN</td>\n",
       "      <td>Shark involvement prior to death was not confi...</td>\n",
       "      <td>Fishing</td>\n",
       "      <td>1950</td>\n",
       "    </tr>\n",
       "    <tr>\n",
       "      <th>5715</th>\n",
       "      <td>6828</td>\n",
       "      <td>1955-01-01</td>\n",
       "      <td>1955</td>\n",
       "      <td>Invalid</td>\n",
       "      <td>USA</td>\n",
       "      <td>Illinois</td>\n",
       "      <td>Chicago (Lake Michigan)</td>\n",
       "      <td>Swimming</td>\n",
       "      <td>George Lawson</td>\n",
       "      <td>M</td>\n",
       "      <td>Unknow</td>\n",
       "      <td>UNKNOWN</td>\n",
       "      <td>Questionable incident</td>\n",
       "      <td>Swimming</td>\n",
       "      <td>1950</td>\n",
       "    </tr>\n",
       "    <tr>\n",
       "      <th>5724</th>\n",
       "      <td>6837</td>\n",
       "      <td>1943-05-27</td>\n",
       "      <td>1943</td>\n",
       "      <td>Invalid</td>\n",
       "      <td>PACIFIC OCEAN</td>\n",
       "      <td>PACIFIC OCEAN</td>\n",
       "      <td>PACIFIC OCEAN</td>\n",
       "      <td>B-24 crashed during a search mission. Survivor...</td>\n",
       "      <td>Louis Zamperini  &amp; Russell Phillips</td>\n",
       "      <td>M</td>\n",
       "      <td>Unknow</td>\n",
       "      <td>UNKNOWN</td>\n",
       "      <td>Invalid</td>\n",
       "      <td>Random Activity</td>\n",
       "      <td>1940</td>\n",
       "    </tr>\n",
       "  </tbody>\n",
       "</table>\n",
       "<p>430 rows × 15 columns</p>\n",
       "</div>"
      ],
      "text/plain": [
       "      Unnamed: 0        date  year     type        country              area  \\\n",
       "19            19  2019-01-29  2019  Invalid    NEW ZEALAND      South Island   \n",
       "23            23  2017-09-24  2017  Invalid            USA          New York   \n",
       "35            35  2015-11-07  2015  Invalid            USA           Florida   \n",
       "74            74  2009-04-11  2009  Invalid            USA            Hawaii   \n",
       "77            77  2008-04-18  2008  Invalid         MEXICO      Quintana Roo   \n",
       "...          ...         ...   ...      ...            ...               ...   \n",
       "5675        6788  1969-02-01  1969  Invalid      AUSTRALIA        Queensland   \n",
       "5690        6803  1961-11-14  1961  Invalid         MEXICO         Guerrrero   \n",
       "5706        6819  1957-01-01  1957  Invalid      SRI LANKA  Western Province   \n",
       "5715        6828  1955-01-01  1955  Invalid            USA          Illinois   \n",
       "5724        6837  1943-05-27  1943  Invalid  PACIFIC OCEAN     PACIFIC OCEAN   \n",
       "\n",
       "                                       location  \\\n",
       "19                                  Oreti Beach   \n",
       "23                                     Rockaway   \n",
       "35    Paradise Beach, Melbourne, Brevard County   \n",
       "74                                         Kona   \n",
       "77                       Delfines Beach, Cancun   \n",
       "...                                         ...   \n",
       "5675                                   Cooktown   \n",
       "5690                      Northwest of Acapulco   \n",
       "5706                             Colombo Harbor   \n",
       "5715                    Chicago (Lake Michigan)   \n",
       "5724                              PACIFIC OCEAN   \n",
       "\n",
       "                                               activity  \\\n",
       "19                                      Boogie boarding   \n",
       "23                                              Surfing   \n",
       "35                                              Surfing   \n",
       "74                                         Spearfishing   \n",
       "77                                             Swimming   \n",
       "...                                                 ...   \n",
       "5675                                    Hard hat diving   \n",
       "5690                                                NaN   \n",
       "5706                                            Fishing   \n",
       "5715                                           Swimming   \n",
       "5724  B-24 crashed during a search mission. Survivor...   \n",
       "\n",
       "                                     name sex     age fatal_y_n  \\\n",
       "19                                 female   F    17.0         N   \n",
       "23                         Michah Behrend   M    33.0   UNKNOWN   \n",
       "35                         Ryla Underwood   F     9.0   UNKNOWN   \n",
       "74                         Paolo Dominici   M      49   UNKNOWN   \n",
       "77              Joram Galleros Villanueva   M      32   UNKNOWN   \n",
       "...                                   ...  ..     ...       ...   \n",
       "5675                        Elin Anderson   M      52   UNKNOWN   \n",
       "5690                               Unknow   F  Unknow   UNKNOWN   \n",
       "5706                       F. L. Fernando   M  Unknow   UNKNOWN   \n",
       "5715                        George Lawson   M  Unknow   UNKNOWN   \n",
       "5724  Louis Zamperini  & Russell Phillips   M  Unknow   UNKNOWN   \n",
       "\n",
       "                                                species        activity2  \\\n",
       "19    Reported as shark bite but injury caused by st...  Boogie boarding   \n",
       "23                                         Questionable          Surfing   \n",
       "35                      Shark involvement not confirmed          Surfing   \n",
       "74                      Shark involvement not confirmed          Fishing   \n",
       "77    Reported by media as shark attack, but shark i...         Swimming   \n",
       "...                                                 ...              ...   \n",
       "5675                              Questionable incident           Diving   \n",
       "5690  Shark involvement prior to death was not confi...       No details   \n",
       "5706  Shark involvement prior to death was not confi...          Fishing   \n",
       "5715                              Questionable incident         Swimming   \n",
       "5724                                            Invalid  Random Activity   \n",
       "\n",
       "      decade  \n",
       "19      2010  \n",
       "23      2010  \n",
       "35      2010  \n",
       "74      2000  \n",
       "77      2000  \n",
       "...      ...  \n",
       "5675    1960  \n",
       "5690    1960  \n",
       "5706    1950  \n",
       "5715    1950  \n",
       "5724    1940  \n",
       "\n",
       "[430 rows x 15 columns]"
      ]
     },
     "execution_count": 24,
     "metadata": {},
     "output_type": "execute_result"
    }
   ],
   "source": [
    "df_shark[df_shark['type'] == 'Invalid']"
   ]
  },
  {
   "cell_type": "code",
   "execution_count": 62,
   "id": "f0333e6d",
   "metadata": {},
   "outputs": [
    {
     "data": {
      "text/html": [
       "<div>\n",
       "<style scoped>\n",
       "    .dataframe tbody tr th:only-of-type {\n",
       "        vertical-align: middle;\n",
       "    }\n",
       "\n",
       "    .dataframe tbody tr th {\n",
       "        vertical-align: top;\n",
       "    }\n",
       "\n",
       "    .dataframe thead th {\n",
       "        text-align: right;\n",
       "    }\n",
       "</style>\n",
       "<table border=\"1\" class=\"dataframe\">\n",
       "  <thead>\n",
       "    <tr style=\"text-align: right;\">\n",
       "      <th></th>\n",
       "      <th>country</th>\n",
       "      <th>count</th>\n",
       "    </tr>\n",
       "  </thead>\n",
       "  <tbody>\n",
       "    <tr>\n",
       "      <th>0</th>\n",
       "      <td>USA</td>\n",
       "      <td>2268</td>\n",
       "    </tr>\n",
       "    <tr>\n",
       "      <th>1</th>\n",
       "      <td>AUSTRALIA</td>\n",
       "      <td>1185</td>\n",
       "    </tr>\n",
       "    <tr>\n",
       "      <th>2</th>\n",
       "      <td>SOUTH AFRICA</td>\n",
       "      <td>546</td>\n",
       "    </tr>\n",
       "    <tr>\n",
       "      <th>3</th>\n",
       "      <td>PAPUA NEW GUINEA</td>\n",
       "      <td>131</td>\n",
       "    </tr>\n",
       "    <tr>\n",
       "      <th>4</th>\n",
       "      <td>BAHAMAS</td>\n",
       "      <td>122</td>\n",
       "    </tr>\n",
       "    <tr>\n",
       "      <th>...</th>\n",
       "      <td>...</td>\n",
       "      <td>...</td>\n",
       "    </tr>\n",
       "    <tr>\n",
       "      <th>163</th>\n",
       "      <td>SUDAN?</td>\n",
       "      <td>1</td>\n",
       "    </tr>\n",
       "    <tr>\n",
       "      <th>164</th>\n",
       "      <td>ST KITTS / NEVIS</td>\n",
       "      <td>1</td>\n",
       "    </tr>\n",
       "    <tr>\n",
       "      <th>165</th>\n",
       "      <td>TURKS AND CAICOS</td>\n",
       "      <td>1</td>\n",
       "    </tr>\n",
       "    <tr>\n",
       "      <th>166</th>\n",
       "      <td>URUGUAY</td>\n",
       "      <td>1</td>\n",
       "    </tr>\n",
       "    <tr>\n",
       "      <th>167</th>\n",
       "      <td>WESTERN SAMOA</td>\n",
       "      <td>1</td>\n",
       "    </tr>\n",
       "  </tbody>\n",
       "</table>\n",
       "<p>168 rows × 2 columns</p>\n",
       "</div>"
      ],
      "text/plain": [
       "              country  count\n",
       "0                 USA   2268\n",
       "1           AUSTRALIA   1185\n",
       "2        SOUTH AFRICA    546\n",
       "3    PAPUA NEW GUINEA    131\n",
       "4             BAHAMAS    122\n",
       "..                ...    ...\n",
       "163            SUDAN?      1\n",
       "164  ST KITTS / NEVIS      1\n",
       "165  TURKS AND CAICOS      1\n",
       "166           URUGUAY      1\n",
       "167     WESTERN SAMOA      1\n",
       "\n",
       "[168 rows x 2 columns]"
      ]
     },
     "execution_count": 62,
     "metadata": {},
     "output_type": "execute_result"
    }
   ],
   "source": [
    "df_shark.groupby('country').agg('size').sort_values(ascending=False).to_frame().reset_index().rename(columns={0:'count'})"
   ]
  },
  {
   "cell_type": "code",
   "execution_count": 25,
   "id": "ac8109af",
   "metadata": {},
   "outputs": [
    {
     "data": {
      "text/html": [
       "<div>\n",
       "<style scoped>\n",
       "    .dataframe tbody tr th:only-of-type {\n",
       "        vertical-align: middle;\n",
       "    }\n",
       "\n",
       "    .dataframe tbody tr th {\n",
       "        vertical-align: top;\n",
       "    }\n",
       "\n",
       "    .dataframe thead th {\n",
       "        text-align: right;\n",
       "    }\n",
       "</style>\n",
       "<table border=\"1\" class=\"dataframe\">\n",
       "  <thead>\n",
       "    <tr style=\"text-align: right;\">\n",
       "      <th></th>\n",
       "      <th>Unnamed: 0</th>\n",
       "      <th>year</th>\n",
       "      <th>count_turistas</th>\n",
       "      <th>year.1</th>\n",
       "      <th>count_ataques</th>\n",
       "      <th>porcentaje</th>\n",
       "    </tr>\n",
       "  </thead>\n",
       "  <tbody>\n",
       "    <tr>\n",
       "      <th>0</th>\n",
       "      <td>0</td>\n",
       "      <td>1995</td>\n",
       "      <td>244795350.0</td>\n",
       "      <td>1995.0</td>\n",
       "      <td>64</td>\n",
       "      <td>0.000026</td>\n",
       "    </tr>\n",
       "    <tr>\n",
       "      <th>1</th>\n",
       "      <td>1</td>\n",
       "      <td>1996</td>\n",
       "      <td>258435067.0</td>\n",
       "      <td>1996.0</td>\n",
       "      <td>49</td>\n",
       "      <td>0.000019</td>\n",
       "    </tr>\n",
       "  </tbody>\n",
       "</table>\n",
       "</div>"
      ],
      "text/plain": [
       "   Unnamed: 0  year  count_turistas  year.1  count_ataques  porcentaje\n",
       "0           0  1995     244795350.0  1995.0             64    0.000026\n",
       "1           1  1996     258435067.0  1996.0             49    0.000019"
      ]
     },
     "execution_count": 25,
     "metadata": {},
     "output_type": "execute_result"
    }
   ],
   "source": [
    "df_totales.head(2)"
   ]
  },
  {
   "cell_type": "code",
   "execution_count": 28,
   "id": "563e2bee",
   "metadata": {},
   "outputs": [
    {
     "data": {
      "text/plain": [
       "np.int64(2618)"
      ]
     },
     "execution_count": 28,
     "metadata": {},
     "output_type": "execute_result"
    }
   ],
   "source": [
    "df_totales['count_ataques'].sum()"
   ]
  },
  {
   "cell_type": "code",
   "execution_count": 8,
   "id": "7bf7bdc8",
   "metadata": {},
   "outputs": [],
   "source": [
    "df_shark.drop(['Unnamed: 0', 'age'], axis=1, inplace=True)\n",
    "df_tourism.drop(['Unnamed: 0', '1994', '1993', '2023', '2024'], axis=1, inplace=True)"
   ]
  },
  {
   "cell_type": "code",
   "execution_count": 29,
   "id": "f1ae6a01",
   "metadata": {},
   "outputs": [
    {
     "data": {
      "text/html": [
       "<div>\n",
       "<style scoped>\n",
       "    .dataframe tbody tr th:only-of-type {\n",
       "        vertical-align: middle;\n",
       "    }\n",
       "\n",
       "    .dataframe tbody tr th {\n",
       "        vertical-align: top;\n",
       "    }\n",
       "\n",
       "    .dataframe thead th {\n",
       "        text-align: right;\n",
       "    }\n",
       "</style>\n",
       "<table border=\"1\" class=\"dataframe\">\n",
       "  <thead>\n",
       "    <tr style=\"text-align: right;\">\n",
       "      <th></th>\n",
       "      <th>Unnamed: 0</th>\n",
       "      <th>pais</th>\n",
       "      <th>1995</th>\n",
       "      <th>1996</th>\n",
       "      <th>1997</th>\n",
       "      <th>1998</th>\n",
       "      <th>1999</th>\n",
       "      <th>2000</th>\n",
       "      <th>2001</th>\n",
       "      <th>2002</th>\n",
       "      <th>...</th>\n",
       "      <th>2017</th>\n",
       "      <th>2018</th>\n",
       "      <th>2019</th>\n",
       "      <th>2020</th>\n",
       "      <th>2021</th>\n",
       "      <th>2022</th>\n",
       "      <th>2023</th>\n",
       "      <th>2024</th>\n",
       "      <th>1994</th>\n",
       "      <th>1993</th>\n",
       "    </tr>\n",
       "  </thead>\n",
       "  <tbody>\n",
       "    <tr>\n",
       "      <th>0</th>\n",
       "      <td>0</td>\n",
       "      <td>españa</td>\n",
       "      <td>32971000.0</td>\n",
       "      <td>34027000.0</td>\n",
       "      <td>39553000.0</td>\n",
       "      <td>41892000.0</td>\n",
       "      <td>45440000.0</td>\n",
       "      <td>46402926.0</td>\n",
       "      <td>48565344.0</td>\n",
       "      <td>50330623.0</td>\n",
       "      <td>...</td>\n",
       "      <td>81868522.0</td>\n",
       "      <td>82808413.0</td>\n",
       "      <td>83509153.0</td>\n",
       "      <td>18933103.0</td>\n",
       "      <td>31180802.0</td>\n",
       "      <td>71659281.0</td>\n",
       "      <td>85169050.0</td>\n",
       "      <td>93759297.0</td>\n",
       "      <td>NaN</td>\n",
       "      <td>NaN</td>\n",
       "    </tr>\n",
       "    <tr>\n",
       "      <th>1</th>\n",
       "      <td>1</td>\n",
       "      <td>alemania</td>\n",
       "      <td>14847000.0</td>\n",
       "      <td>15205000.0</td>\n",
       "      <td>15837000.0</td>\n",
       "      <td>16511000.0</td>\n",
       "      <td>17116000.0</td>\n",
       "      <td>18983000.0</td>\n",
       "      <td>17861000.0</td>\n",
       "      <td>17969000.0</td>\n",
       "      <td>...</td>\n",
       "      <td>37452000.0</td>\n",
       "      <td>38881000.0</td>\n",
       "      <td>39563000.0</td>\n",
       "      <td>12449000.0</td>\n",
       "      <td>11688000.0</td>\n",
       "      <td>28463000.0</td>\n",
       "      <td>NaN</td>\n",
       "      <td>NaN</td>\n",
       "      <td>NaN</td>\n",
       "      <td>NaN</td>\n",
       "    </tr>\n",
       "    <tr>\n",
       "      <th>2</th>\n",
       "      <td>2</td>\n",
       "      <td>reino-unido</td>\n",
       "      <td>21719000.0</td>\n",
       "      <td>22936000.0</td>\n",
       "      <td>23215000.0</td>\n",
       "      <td>23710000.0</td>\n",
       "      <td>23341000.0</td>\n",
       "      <td>23212000.0</td>\n",
       "      <td>20982000.0</td>\n",
       "      <td>22307000.0</td>\n",
       "      <td>...</td>\n",
       "      <td>39543000.0</td>\n",
       "      <td>38664000.0</td>\n",
       "      <td>39418000.0</td>\n",
       "      <td>10714000.0</td>\n",
       "      <td>6287000.0</td>\n",
       "      <td>30741000.0</td>\n",
       "      <td>NaN</td>\n",
       "      <td>NaN</td>\n",
       "      <td>NaN</td>\n",
       "      <td>NaN</td>\n",
       "    </tr>\n",
       "    <tr>\n",
       "      <th>3</th>\n",
       "      <td>3</td>\n",
       "      <td>francia</td>\n",
       "      <td>60033000.0</td>\n",
       "      <td>62406000.0</td>\n",
       "      <td>66591000.0</td>\n",
       "      <td>70109000.0</td>\n",
       "      <td>73147000.0</td>\n",
       "      <td>77190000.0</td>\n",
       "      <td>75202000.0</td>\n",
       "      <td>77012000.0</td>\n",
       "      <td>...</td>\n",
       "      <td>86758000.0</td>\n",
       "      <td>89322000.0</td>\n",
       "      <td>90914000.0</td>\n",
       "      <td>41684000.0</td>\n",
       "      <td>48395000.0</td>\n",
       "      <td>NaN</td>\n",
       "      <td>NaN</td>\n",
       "      <td>NaN</td>\n",
       "      <td>NaN</td>\n",
       "      <td>NaN</td>\n",
       "    </tr>\n",
       "    <tr>\n",
       "      <th>4</th>\n",
       "      <td>4</td>\n",
       "      <td>italia</td>\n",
       "      <td>31052000.0</td>\n",
       "      <td>34080000.0</td>\n",
       "      <td>34692000.0</td>\n",
       "      <td>34933000.0</td>\n",
       "      <td>36516000.0</td>\n",
       "      <td>41181000.0</td>\n",
       "      <td>39563000.0</td>\n",
       "      <td>39799000.0</td>\n",
       "      <td>...</td>\n",
       "      <td>58253000.0</td>\n",
       "      <td>61567200.0</td>\n",
       "      <td>64513000.0</td>\n",
       "      <td>25190000.0</td>\n",
       "      <td>26888000.0</td>\n",
       "      <td>49811000.0</td>\n",
       "      <td>NaN</td>\n",
       "      <td>NaN</td>\n",
       "      <td>NaN</td>\n",
       "      <td>NaN</td>\n",
       "    </tr>\n",
       "  </tbody>\n",
       "</table>\n",
       "<p>5 rows × 34 columns</p>\n",
       "</div>"
      ],
      "text/plain": [
       "   Unnamed: 0         pais        1995        1996        1997        1998  \\\n",
       "0           0       españa  32971000.0  34027000.0  39553000.0  41892000.0   \n",
       "1           1     alemania  14847000.0  15205000.0  15837000.0  16511000.0   \n",
       "2           2  reino-unido  21719000.0  22936000.0  23215000.0  23710000.0   \n",
       "3           3      francia  60033000.0  62406000.0  66591000.0  70109000.0   \n",
       "4           4       italia  31052000.0  34080000.0  34692000.0  34933000.0   \n",
       "\n",
       "         1999        2000        2001        2002  ...        2017  \\\n",
       "0  45440000.0  46402926.0  48565344.0  50330623.0  ...  81868522.0   \n",
       "1  17116000.0  18983000.0  17861000.0  17969000.0  ...  37452000.0   \n",
       "2  23341000.0  23212000.0  20982000.0  22307000.0  ...  39543000.0   \n",
       "3  73147000.0  77190000.0  75202000.0  77012000.0  ...  86758000.0   \n",
       "4  36516000.0  41181000.0  39563000.0  39799000.0  ...  58253000.0   \n",
       "\n",
       "         2018        2019        2020        2021        2022        2023  \\\n",
       "0  82808413.0  83509153.0  18933103.0  31180802.0  71659281.0  85169050.0   \n",
       "1  38881000.0  39563000.0  12449000.0  11688000.0  28463000.0         NaN   \n",
       "2  38664000.0  39418000.0  10714000.0   6287000.0  30741000.0         NaN   \n",
       "3  89322000.0  90914000.0  41684000.0  48395000.0         NaN         NaN   \n",
       "4  61567200.0  64513000.0  25190000.0  26888000.0  49811000.0         NaN   \n",
       "\n",
       "         2024  1994  1993  \n",
       "0  93759297.0   NaN   NaN  \n",
       "1         NaN   NaN   NaN  \n",
       "2         NaN   NaN   NaN  \n",
       "3         NaN   NaN   NaN  \n",
       "4         NaN   NaN   NaN  \n",
       "\n",
       "[5 rows x 34 columns]"
      ]
     },
     "execution_count": 29,
     "metadata": {},
     "output_type": "execute_result"
    }
   ],
   "source": [
    "df_tourism.head()"
   ]
  },
  {
   "cell_type": "code",
   "execution_count": 10,
   "id": "cfd46b5f",
   "metadata": {},
   "outputs": [
    {
     "data": {
      "text/html": [
       "<div>\n",
       "<style scoped>\n",
       "    .dataframe tbody tr th:only-of-type {\n",
       "        vertical-align: middle;\n",
       "    }\n",
       "\n",
       "    .dataframe tbody tr th {\n",
       "        vertical-align: top;\n",
       "    }\n",
       "\n",
       "    .dataframe thead th {\n",
       "        text-align: right;\n",
       "    }\n",
       "</style>\n",
       "<table border=\"1\" class=\"dataframe\">\n",
       "  <thead>\n",
       "    <tr style=\"text-align: right;\">\n",
       "      <th></th>\n",
       "      <th>date</th>\n",
       "      <th>year</th>\n",
       "      <th>type</th>\n",
       "      <th>country</th>\n",
       "      <th>area</th>\n",
       "      <th>location</th>\n",
       "      <th>activity</th>\n",
       "      <th>name</th>\n",
       "      <th>sex</th>\n",
       "      <th>fatal_y_n</th>\n",
       "      <th>species</th>\n",
       "      <th>activity2</th>\n",
       "    </tr>\n",
       "  </thead>\n",
       "  <tbody>\n",
       "    <tr>\n",
       "      <th>0</th>\n",
       "      <td>2023-05-13</td>\n",
       "      <td>2023</td>\n",
       "      <td>Unprovoked</td>\n",
       "      <td>AUSTRALIA</td>\n",
       "      <td>South Australia</td>\n",
       "      <td>Elliston</td>\n",
       "      <td>Surfing</td>\n",
       "      <td>Simon Baccanello</td>\n",
       "      <td>M</td>\n",
       "      <td>Y</td>\n",
       "      <td>White shark</td>\n",
       "      <td>Surfing</td>\n",
       "    </tr>\n",
       "    <tr>\n",
       "      <th>1</th>\n",
       "      <td>2023-04-29</td>\n",
       "      <td>2023</td>\n",
       "      <td>Unprovoked</td>\n",
       "      <td>AUSTRALIA</td>\n",
       "      <td>Western Australia</td>\n",
       "      <td>Yallingup, Busselton</td>\n",
       "      <td>Swimming</td>\n",
       "      <td>male</td>\n",
       "      <td>M</td>\n",
       "      <td>N</td>\n",
       "      <td>1m shark</td>\n",
       "      <td>Swimming</td>\n",
       "    </tr>\n",
       "    <tr>\n",
       "      <th>2</th>\n",
       "      <td>2022-10-07</td>\n",
       "      <td>2022</td>\n",
       "      <td>Unprovoked</td>\n",
       "      <td>AUSTRALIA</td>\n",
       "      <td>Western  Australia</td>\n",
       "      <td>Port Hedland</td>\n",
       "      <td>Spearfishing</td>\n",
       "      <td>Robbie Peck</td>\n",
       "      <td>M</td>\n",
       "      <td>N</td>\n",
       "      <td>Bull shark</td>\n",
       "      <td>Fishing</td>\n",
       "    </tr>\n",
       "    <tr>\n",
       "      <th>3</th>\n",
       "      <td>2021-10-04</td>\n",
       "      <td>2021</td>\n",
       "      <td>Unprovoked</td>\n",
       "      <td>USA</td>\n",
       "      <td>Florida</td>\n",
       "      <td>Fort Pierce State Park, St. Lucie County</td>\n",
       "      <td>Surfing</td>\n",
       "      <td>Truman Van Patrick</td>\n",
       "      <td>M</td>\n",
       "      <td>N</td>\n",
       "      <td>Unknow</td>\n",
       "      <td>Surfing</td>\n",
       "    </tr>\n",
       "    <tr>\n",
       "      <th>4</th>\n",
       "      <td>2021-10-03</td>\n",
       "      <td>2021</td>\n",
       "      <td>Unprovoked</td>\n",
       "      <td>USA</td>\n",
       "      <td>Florida</td>\n",
       "      <td>Jensen Beach, Martin County</td>\n",
       "      <td>Swimming</td>\n",
       "      <td>male</td>\n",
       "      <td>M</td>\n",
       "      <td>N</td>\n",
       "      <td>Unknow</td>\n",
       "      <td>Swimming</td>\n",
       "    </tr>\n",
       "  </tbody>\n",
       "</table>\n",
       "</div>"
      ],
      "text/plain": [
       "         date  year        type    country                area  \\\n",
       "0  2023-05-13  2023  Unprovoked  AUSTRALIA     South Australia   \n",
       "1  2023-04-29  2023  Unprovoked  AUSTRALIA   Western Australia   \n",
       "2  2022-10-07  2022  Unprovoked  AUSTRALIA  Western  Australia   \n",
       "3  2021-10-04  2021  Unprovoked        USA             Florida   \n",
       "4  2021-10-03  2021  Unprovoked        USA             Florida   \n",
       "\n",
       "                                   location      activity                name  \\\n",
       "0                                  Elliston       Surfing    Simon Baccanello   \n",
       "1                      Yallingup, Busselton      Swimming                male   \n",
       "2                              Port Hedland  Spearfishing         Robbie Peck   \n",
       "3  Fort Pierce State Park, St. Lucie County       Surfing  Truman Van Patrick   \n",
       "4               Jensen Beach, Martin County      Swimming                male   \n",
       "\n",
       "  sex fatal_y_n      species activity2  \n",
       "0   M         Y  White shark   Surfing  \n",
       "1   M         N     1m shark  Swimming  \n",
       "2   M         N   Bull shark   Fishing  \n",
       "3   M         N       Unknow   Surfing  \n",
       "4   M         N       Unknow  Swimming  "
      ]
     },
     "execution_count": 10,
     "metadata": {},
     "output_type": "execute_result"
    }
   ],
   "source": [
    "df_shark.head()"
   ]
  },
  {
   "cell_type": "code",
   "execution_count": 11,
   "id": "7298b202",
   "metadata": {},
   "outputs": [],
   "source": [
    "country_dist = df_shark.loc[:,'country'].value_counts().to_frame().reset_index()\n",
    "country_dist = country_dist[country_dist['count'] > 5]\n",
    "df_shark_country = df_shark[df_shark['country'].isin(country_dist['country'])]\n",
    "orden = df_shark_country['country'].value_counts().sort_values(ascending=False)\n"
   ]
  },
  {
   "cell_type": "code",
   "execution_count": 12,
   "id": "d05745df",
   "metadata": {},
   "outputs": [],
   "source": [
    "plt.style.use('default')"
   ]
  },
  {
   "cell_type": "code",
   "execution_count": 73,
   "id": "44b0845f",
   "metadata": {},
   "outputs": [
    {
     "data": {
      "text/html": [
       "<div>\n",
       "<style scoped>\n",
       "    .dataframe tbody tr th:only-of-type {\n",
       "        vertical-align: middle;\n",
       "    }\n",
       "\n",
       "    .dataframe tbody tr th {\n",
       "        vertical-align: top;\n",
       "    }\n",
       "\n",
       "    .dataframe thead th {\n",
       "        text-align: right;\n",
       "    }\n",
       "</style>\n",
       "<table border=\"1\" class=\"dataframe\">\n",
       "  <thead>\n",
       "    <tr style=\"text-align: right;\">\n",
       "      <th></th>\n",
       "      <th>Unnamed: 0</th>\n",
       "      <th>date</th>\n",
       "      <th>year</th>\n",
       "      <th>type</th>\n",
       "      <th>country</th>\n",
       "      <th>area</th>\n",
       "      <th>location</th>\n",
       "      <th>activity</th>\n",
       "      <th>name</th>\n",
       "      <th>sex</th>\n",
       "      <th>age</th>\n",
       "      <th>fatal_y_n</th>\n",
       "      <th>species</th>\n",
       "      <th>activity2</th>\n",
       "      <th>decade</th>\n",
       "    </tr>\n",
       "  </thead>\n",
       "  <tbody>\n",
       "    <tr>\n",
       "      <th>4288</th>\n",
       "      <td>5105</td>\n",
       "      <td>1927-01-01</td>\n",
       "      <td>1927</td>\n",
       "      <td>Unprovoked</td>\n",
       "      <td>AUSTRALIA</td>\n",
       "      <td>Torres Strait</td>\n",
       "      <td>Thursday Island</td>\n",
       "      <td>Pearl diving</td>\n",
       "      <td>Dick Lahou</td>\n",
       "      <td>M</td>\n",
       "      <td>Unknow</td>\n",
       "      <td>N</td>\n",
       "      <td>Unknow</td>\n",
       "      <td>Diving</td>\n",
       "      <td>1920</td>\n",
       "    </tr>\n",
       "    <tr>\n",
       "      <th>2143</th>\n",
       "      <td>2577</td>\n",
       "      <td>1984-02-12</td>\n",
       "      <td>1984</td>\n",
       "      <td>Invalid</td>\n",
       "      <td>SOUTH AFRICA</td>\n",
       "      <td>Eastern Cape Province</td>\n",
       "      <td>St. George’s Strand</td>\n",
       "      <td>NaN</td>\n",
       "      <td>Unknow</td>\n",
       "      <td>F</td>\n",
       "      <td>Unknow</td>\n",
       "      <td>UNKNOWN</td>\n",
       "      <td>Shark involvement prior to death was not confi...</td>\n",
       "      <td>No details</td>\n",
       "      <td>1980</td>\n",
       "    </tr>\n",
       "    <tr>\n",
       "      <th>1422</th>\n",
       "      <td>1705</td>\n",
       "      <td>2023-03-17</td>\n",
       "      <td>2023</td>\n",
       "      <td>Questionable</td>\n",
       "      <td>MEXICO</td>\n",
       "      <td>Quintana Roo</td>\n",
       "      <td>Cancún</td>\n",
       "      <td>Swimming</td>\n",
       "      <td>Dillon Armijo</td>\n",
       "      <td>M</td>\n",
       "      <td>10</td>\n",
       "      <td>N</td>\n",
       "      <td>Authorities report injury caused bya barracuda</td>\n",
       "      <td>Swimming</td>\n",
       "      <td>2020</td>\n",
       "    </tr>\n",
       "    <tr>\n",
       "      <th>3958</th>\n",
       "      <td>4741</td>\n",
       "      <td>2006-08-22</td>\n",
       "      <td>2006</td>\n",
       "      <td>Invalid</td>\n",
       "      <td>BELIZE</td>\n",
       "      <td>Ambergris Caye</td>\n",
       "      <td>Near Ramon's Village</td>\n",
       "      <td>Spearfishing</td>\n",
       "      <td>Isaul Coba</td>\n",
       "      <td>M</td>\n",
       "      <td>34</td>\n",
       "      <td>UNKNOWN</td>\n",
       "      <td>Shark involvement prior to death was not confi...</td>\n",
       "      <td>Fishing</td>\n",
       "      <td>2000</td>\n",
       "    </tr>\n",
       "    <tr>\n",
       "      <th>4369</th>\n",
       "      <td>5228</td>\n",
       "      <td>2008-05-14</td>\n",
       "      <td>2008</td>\n",
       "      <td>Unprovoked</td>\n",
       "      <td>FIJI</td>\n",
       "      <td>Yasawa Islands</td>\n",
       "      <td>Turtle Island</td>\n",
       "      <td>Night diving</td>\n",
       "      <td>Aisake Sadole</td>\n",
       "      <td>M</td>\n",
       "      <td>28</td>\n",
       "      <td>Y</td>\n",
       "      <td>Unknow</td>\n",
       "      <td>Diving</td>\n",
       "      <td>2000</td>\n",
       "    </tr>\n",
       "    <tr>\n",
       "      <th>3108</th>\n",
       "      <td>3724</td>\n",
       "      <td>2012-11-22</td>\n",
       "      <td>2012</td>\n",
       "      <td>Unprovoked</td>\n",
       "      <td>MEXICO</td>\n",
       "      <td>Sinaloa</td>\n",
       "      <td>Nuevo Altata</td>\n",
       "      <td>Swimming</td>\n",
       "      <td>Fernando Cardenas Garcia</td>\n",
       "      <td>M</td>\n",
       "      <td>32</td>\n",
       "      <td>Y</td>\n",
       "      <td>2.5 m shark</td>\n",
       "      <td>Swimming</td>\n",
       "      <td>2010</td>\n",
       "    </tr>\n",
       "    <tr>\n",
       "      <th>972</th>\n",
       "      <td>1135</td>\n",
       "      <td>1968-12-01</td>\n",
       "      <td>1968</td>\n",
       "      <td>Invalid</td>\n",
       "      <td>SOUTH AFRICA</td>\n",
       "      <td>KwaZulu-Natal</td>\n",
       "      <td>KwaZulu-Natal</td>\n",
       "      <td>NaN</td>\n",
       "      <td>Jasper Gwynn</td>\n",
       "      <td>M</td>\n",
       "      <td>30</td>\n",
       "      <td>UNKNOWN</td>\n",
       "      <td>Questionable incident</td>\n",
       "      <td>No details</td>\n",
       "      <td>1960</td>\n",
       "    </tr>\n",
       "    <tr>\n",
       "      <th>935</th>\n",
       "      <td>1098</td>\n",
       "      <td>1988-03-25</td>\n",
       "      <td>1988</td>\n",
       "      <td>Unprovoked</td>\n",
       "      <td>USA</td>\n",
       "      <td>Hawaii</td>\n",
       "      <td>Running Waters Beach, Ninini Point, Kaua'i</td>\n",
       "      <td>Body surfing</td>\n",
       "      <td>Aaron Kawado</td>\n",
       "      <td>M</td>\n",
       "      <td>Unknow</td>\n",
       "      <td>N</td>\n",
       "      <td>Unknow</td>\n",
       "      <td>Surfing</td>\n",
       "      <td>1980</td>\n",
       "    </tr>\n",
       "    <tr>\n",
       "      <th>583</th>\n",
       "      <td>656</td>\n",
       "      <td>1961-05-17</td>\n",
       "      <td>1961</td>\n",
       "      <td>Unprovoked</td>\n",
       "      <td>NEW BRITAIN</td>\n",
       "      <td>East New Britain Province</td>\n",
       "      <td>Kokopo</td>\n",
       "      <td>Collecting dynamited fish</td>\n",
       "      <td>male</td>\n",
       "      <td>M</td>\n",
       "      <td>Unknow</td>\n",
       "      <td>N</td>\n",
       "      <td>Unknow</td>\n",
       "      <td>Collecting</td>\n",
       "      <td>1960</td>\n",
       "    </tr>\n",
       "    <tr>\n",
       "      <th>3133</th>\n",
       "      <td>3749</td>\n",
       "      <td>2006-09-18</td>\n",
       "      <td>2006</td>\n",
       "      <td>Provoked</td>\n",
       "      <td>USA</td>\n",
       "      <td>Florida</td>\n",
       "      <td>Off Key Largo, Monroe County</td>\n",
       "      <td>Diving / Kissing the shark</td>\n",
       "      <td>Dave Marcel</td>\n",
       "      <td>M</td>\n",
       "      <td>Unknow</td>\n",
       "      <td>N</td>\n",
       "      <td>Nurse shark</td>\n",
       "      <td>Diving</td>\n",
       "      <td>2000</td>\n",
       "    </tr>\n",
       "  </tbody>\n",
       "</table>\n",
       "</div>"
      ],
      "text/plain": [
       "      Unnamed: 0        date  year          type       country  \\\n",
       "4288        5105  1927-01-01  1927    Unprovoked     AUSTRALIA   \n",
       "2143        2577  1984-02-12  1984       Invalid  SOUTH AFRICA   \n",
       "1422        1705  2023-03-17  2023  Questionable        MEXICO   \n",
       "3958        4741  2006-08-22  2006       Invalid        BELIZE   \n",
       "4369        5228  2008-05-14  2008    Unprovoked          FIJI   \n",
       "3108        3724  2012-11-22  2012    Unprovoked        MEXICO   \n",
       "972         1135  1968-12-01  1968       Invalid  SOUTH AFRICA   \n",
       "935         1098  1988-03-25  1988    Unprovoked           USA   \n",
       "583          656  1961-05-17  1961    Unprovoked   NEW BRITAIN   \n",
       "3133        3749  2006-09-18  2006      Provoked           USA   \n",
       "\n",
       "                           area                                    location  \\\n",
       "4288              Torres Strait                             Thursday Island   \n",
       "2143      Eastern Cape Province                         St. George’s Strand   \n",
       "1422               Quintana Roo                                      Cancún   \n",
       "3958             Ambergris Caye                        Near Ramon's Village   \n",
       "4369             Yasawa Islands                               Turtle Island   \n",
       "3108                    Sinaloa                                Nuevo Altata   \n",
       "972               KwaZulu-Natal                               KwaZulu-Natal   \n",
       "935                      Hawaii  Running Waters Beach, Ninini Point, Kaua'i   \n",
       "583   East New Britain Province                                      Kokopo   \n",
       "3133                    Florida                Off Key Largo, Monroe County   \n",
       "\n",
       "                        activity                      name sex     age  \\\n",
       "4288                Pearl diving                Dick Lahou   M  Unknow   \n",
       "2143                         NaN                    Unknow   F  Unknow   \n",
       "1422                    Swimming             Dillon Armijo   M      10   \n",
       "3958                Spearfishing                Isaul Coba   M      34   \n",
       "4369                Night diving             Aisake Sadole   M      28   \n",
       "3108                    Swimming  Fernando Cardenas Garcia   M      32   \n",
       "972                          NaN              Jasper Gwynn   M      30   \n",
       "935                 Body surfing              Aaron Kawado   M  Unknow   \n",
       "583    Collecting dynamited fish                      male   M  Unknow   \n",
       "3133  Diving / Kissing the shark               Dave Marcel   M  Unknow   \n",
       "\n",
       "     fatal_y_n                                            species   activity2  \\\n",
       "4288         N                                             Unknow      Diving   \n",
       "2143   UNKNOWN  Shark involvement prior to death was not confi...  No details   \n",
       "1422         N     Authorities report injury caused bya barracuda    Swimming   \n",
       "3958   UNKNOWN  Shark involvement prior to death was not confi...     Fishing   \n",
       "4369         Y                                             Unknow      Diving   \n",
       "3108         Y                                        2.5 m shark    Swimming   \n",
       "972    UNKNOWN                              Questionable incident  No details   \n",
       "935          N                                             Unknow     Surfing   \n",
       "583          N                                             Unknow  Collecting   \n",
       "3133         N                                        Nurse shark      Diving   \n",
       "\n",
       "      decade  \n",
       "4288    1920  \n",
       "2143    1980  \n",
       "1422    2020  \n",
       "3958    2000  \n",
       "4369    2000  \n",
       "3108    2010  \n",
       "972     1960  \n",
       "935     1980  \n",
       "583     1960  \n",
       "3133    2000  "
      ]
     },
     "execution_count": 73,
     "metadata": {},
     "output_type": "execute_result"
    }
   ],
   "source": [
    "df_shark.sample(10)"
   ]
  },
  {
   "cell_type": "code",
   "execution_count": 13,
   "id": "a89b1548",
   "metadata": {},
   "outputs": [
    {
     "data": {
      "image/png": "[encoded data removed]",
      "text/plain": [
       "<Figure size 1600x600 with 1 Axes>"
      ]
     },
     "metadata": {},
     "output_type": "display_data"
    }
   ],
   "source": [
    "# Cuantas ataques por pais en los últimos 100 años\n",
    "plt.figure(figsize=(16,6))\n",
    "sns.countplot(df_shark_country, x='country', order=orden.index)\n",
    "plt.axhline(y=50, color='red', linestyle='-', label='Total de 50 muertes')\n",
    "plt.xticks(rotation= 90);\n"
   ]
  },
  {
   "cell_type": "code",
   "execution_count": 64,
   "id": "186e7ace",
   "metadata": {},
   "outputs": [
    {
     "data": {
      "text/plain": [
       "type\n",
       "Unprovoked    4221\n",
       "Provoked       565\n",
       "Name: count, dtype: int64"
      ]
     },
     "execution_count": 64,
     "metadata": {},
     "output_type": "execute_result"
    }
   ],
   "source": [
    "df_shark.loc[df_shark['type'].isin(['Unprovoked', 'Provoked', 'UNKNOWN']), 'type'].value_counts()\n"
   ]
  },
  {
   "cell_type": "code",
   "execution_count": 15,
   "id": "47117987",
   "metadata": {},
   "outputs": [
    {
     "data": {
      "application/vnd.plotly.v1+json": {
       "config": {
        "plotlyServerURL": "https://plot.ly"
       },
       "data": [
        {
         "alignmentgroup": "True",
         "hovertemplate": "type=%{x}<br>count=%{y}<extra></extra>",
         "legendgroup": "Unprovoked",
         "marker": {
          "color": "#636efa",
          "pattern": {
           "shape": ""
          }
         },
         "name": "Unprovoked",
         "offsetgroup": "Unprovoked",
         "orientation": "v",
         "showlegend": true,
         "textposition": "auto",
         "type": "bar",
         "x": [
          "Unprovoked"
         ],
         "xaxis": "x",
         "y": [
          4221
         ],
         "yaxis": "y"
        },
        {
         "alignmentgroup": "True",
         "hovertemplate": "type=%{x}<br>count=%{y}<extra></extra>",
         "legendgroup": "Provoked",
         "marker": {
          "color": "#EF553B",
          "pattern": {
           "shape": ""
          }
         },
         "name": "Provoked",
         "offsetgroup": "Provoked",
         "orientation": "v",
         "showlegend": true,
         "textposition": "auto",
         "type": "bar",
         "x": [
          "Provoked"
         ],
         "xaxis": "x",
         "y": [
          565
         ],
         "yaxis": "y"
        },
        {
         "alignmentgroup": "True",
         "hovertemplate": "type=%{x}<br>count=%{y}<extra></extra>",
         "legendgroup": "Invalid",
         "marker": {
          "color": "#00cc96",
          "pattern": {
           "shape": ""
          }
         },
         "name": "Invalid",
         "offsetgroup": "Invalid",
         "orientation": "v",
         "showlegend": true,
         "textposition": "auto",
         "type": "bar",
         "x": [
          "Invalid"
         ],
         "xaxis": "x",
         "y": [
          430
         ],
         "yaxis": "y"
        },
        {
         "alignmentgroup": "True",
         "hovertemplate": "type=%{x}<br>count=%{y}<extra></extra>",
         "legendgroup": "Watercraft",
         "marker": {
          "color": "#ab63fa",
          "pattern": {
           "shape": ""
          }
         },
         "name": "Watercraft",
         "offsetgroup": "Watercraft",
         "orientation": "v",
         "showlegend": true,
         "textposition": "auto",
         "type": "bar",
         "x": [
          "Watercraft"
         ],
         "xaxis": "x",
         "y": [
          310
         ],
         "yaxis": "y"
        },
        {
         "alignmentgroup": "True",
         "hovertemplate": "type=%{x}<br>count=%{y}<extra></extra>",
         "legendgroup": "Sea Disaster",
         "marker": {
          "color": "#FFA15A",
          "pattern": {
           "shape": ""
          }
         },
         "name": "Sea Disaster",
         "offsetgroup": "Sea Disaster",
         "orientation": "v",
         "showlegend": true,
         "textposition": "auto",
         "type": "bar",
         "x": [
          "Sea Disaster"
         ],
         "xaxis": "x",
         "y": [
          169
         ],
         "yaxis": "y"
        },
        {
         "alignmentgroup": "True",
         "hovertemplate": "type=%{x}<br>count=%{y}<extra></extra>",
         "legendgroup": "Unverified",
         "marker": {
          "color": "#19d3f3",
          "pattern": {
           "shape": ""
          }
         },
         "name": "Unverified",
         "offsetgroup": "Unverified",
         "orientation": "v",
         "showlegend": true,
         "textposition": "auto",
         "type": "bar",
         "x": [
          "Unverified"
         ],
         "xaxis": "x",
         "y": [
          19
         ],
         "yaxis": "y"
        },
        {
         "alignmentgroup": "True",
         "hovertemplate": "type=%{x}<br>count=%{y}<extra></extra>",
         "legendgroup": "Questionable",
         "marker": {
          "color": "#FF6692",
          "pattern": {
           "shape": ""
          }
         },
         "name": "Questionable",
         "offsetgroup": "Questionable",
         "orientation": "v",
         "showlegend": true,
         "textposition": "auto",
         "type": "bar",
         "x": [
          "Questionable"
         ],
         "xaxis": "x",
         "y": [
          17
         ],
         "yaxis": "y"
        },
        {
         "alignmentgroup": "True",
         "hovertemplate": "type=%{x}<br>count=%{y}<extra></extra>",
         "legendgroup": "Boat",
         "marker": {
          "color": "#B6E880",
          "pattern": {
           "shape": ""
          }
         },
         "name": "Boat",
         "offsetgroup": "Boat",
         "orientation": "v",
         "showlegend": true,
         "textposition": "auto",
         "type": "bar",
         "x": [
          "Boat"
         ],
         "xaxis": "x",
         "y": [
          7
         ],
         "yaxis": "y"
        }
       ],
       "layout": {
        "annotations": [
         {
          "arrowcolor": "red",
          "arrowhead": 1,
          "arrowsize": 3,
          "bgcolor": "red",
          "showarrow": true,
          "text": "Únicos que pasan",
          "x": "Unprovoked",
          "y": 800
         },
         {
          "showarrow": false,
          "text": "Linea de tendencia",
          "x": 1,
          "xanchor": "right",
          "xref": "x domain",
          "y": 1000,
          "yanchor": "top",
          "yref": "y"
         }
        ],
        "barmode": "relative",
        "legend": {
         "title": {
          "text": "type"
         },
         "tracegroupgap": 0
        },
        "margin": {
         "t": 60
        },
        "shapes": [
         {
          "line": {
           "color": "green",
           "dash": "dash",
           "width": 3
          },
          "type": "line",
          "x0": 0,
          "x1": 1,
          "xref": "x domain",
          "y0": 1000,
          "y1": 1000,
          "yref": "y"
         },
         {
          "fillcolor": "red",
          "line": {
           "width": 0
          },
          "opacity": 0.2,
          "type": "rect",
          "x0": "Provoked",
          "x1": "Invalid",
          "xref": "x",
          "y0": 0,
          "y1": 0.2,
          "yref": "y domain"
         }
        ],
        "template": {
         "data": {
          "bar": [
           {
            "error_x": {
             "color": "#2a3f5f"
            },
            "error_y": {
             "color": "#2a3f5f"
            },
            "marker": {
             "line": {
              "color": "#E5ECF6",
              "width": 0.5
             },
             "pattern": {
              "fillmode": "overlay",
              "size": 10,
              "solidity": 0.2
             }
            },
            "type": "bar"
           }
          ],
          "barpolar": [
           {
            "marker": {
             "line": {
              "color": "#E5ECF6",
              "width": 0.5
             },
             "pattern": {
              "fillmode": "overlay",
              "size": 10,
              "solidity": 0.2
             }
            },
            "type": "barpolar"
           }
          ],
          "carpet": [
           {
            "aaxis": {
             "endlinecolor": "#2a3f5f",
             "gridcolor": "white",
             "linecolor": "white",
             "minorgridcolor": "white",
             "startlinecolor": "#2a3f5f"
            },
            "baxis": {
             "endlinecolor": "#2a3f5f",
             "gridcolor": "white",
             "linecolor": "white",
             "minorgridcolor": "white",
             "startlinecolor": "#2a3f5f"
            },
            "type": "carpet"
           }
          ],
          "choropleth": [
           {
            "colorbar": {
             "outlinewidth": 0,
             "ticks": ""
            },
            "type": "choropleth"
           }
          ],
          "contour": [
           {
            "colorbar": {
             "outlinewidth": 0,
             "ticks": ""
            },
            "colorscale": [
             [
              0,
              "#0d0887"
             ],
             [
              0.1111111111111111,
              "#46039f"
             ],
             [
              0.2222222222222222,
              "#7201a8"
             ],
             [
              0.3333333333333333,
              "#9c179e"
             ],
             [
              0.4444444444444444,
              "#bd3786"
             ],
             [
              0.5555555555555556,
              "#d8576b"
             ],
             [
              0.6666666666666666,
              "#ed7953"
             ],
             [
              0.7777777777777778,
              "#fb9f3a"
             ],
             [
              0.8888888888888888,
              "#fdca26"
             ],
             [
              1,
              "#f0f921"
             ]
            ],
            "type": "contour"
           }
          ],
          "contourcarpet": [
           {
            "colorbar": {
             "outlinewidth": 0,
             "ticks": ""
            },
            "type": "contourcarpet"
           }
          ],
          "heatmap": [
           {
            "colorbar": {
             "outlinewidth": 0,
             "ticks": ""
            },
            "colorscale": [
             [
              0,
              "#0d0887"
             ],
             [
              0.1111111111111111,
              "#46039f"
             ],
             [
              0.2222222222222222,
              "#7201a8"
             ],
             [
              0.3333333333333333,
              "#9c179e"
             ],
             [
              0.4444444444444444,
              "#bd3786"
             ],
             [
              0.5555555555555556,
              "#d8576b"
             ],
             [
              0.6666666666666666,
              "#ed7953"
             ],
             [
              0.7777777777777778,
              "#fb9f3a"
             ],
             [
              0.8888888888888888,
              "#fdca26"
             ],
             [
              1,
              "#f0f921"
             ]
            ],
            "type": "heatmap"
           }
          ],
          "heatmapgl": [
           {
            "colorbar": {
             "outlinewidth": 0,
             "ticks": ""
            },
            "colorscale": [
             [
              0,
              "#0d0887"
             ],
             [
              0.1111111111111111,
              "#46039f"
             ],
             [
              0.2222222222222222,
              "#7201a8"
             ],
             [
              0.3333333333333333,
              "#9c179e"
             ],
             [
              0.4444444444444444,
              "#bd3786"
             ],
             [
              0.5555555555555556,
              "#d8576b"
             ],
             [
              0.6666666666666666,
              "#ed7953"
             ],
             [
              0.7777777777777778,
              "#fb9f3a"
             ],
             [
              0.8888888888888888,
              "#fdca26"
             ],
             [
              1,
              "#f0f921"
             ]
            ],
            "type": "heatmapgl"
           }
          ],
          "histogram": [
           {
            "marker": {
             "pattern": {
              "fillmode": "overlay",
              "size": 10,
              "solidity": 0.2
             }
            },
            "type": "histogram"
           }
          ],
          "histogram2d": [
           {
            "colorbar": {
             "outlinewidth": 0,
             "ticks": ""
            },
            "colorscale": [
             [
              0,
              "#0d0887"
             ],
             [
              0.1111111111111111,
              "#46039f"
             ],
             [
              0.2222222222222222,
              "#7201a8"
             ],
             [
              0.3333333333333333,
              "#9c179e"
             ],
             [
              0.4444444444444444,
              "#bd3786"
             ],
             [
              0.5555555555555556,
              "#d8576b"
             ],
             [
              0.6666666666666666,
              "#ed7953"
             ],
             [
              0.7777777777777778,
              "#fb9f3a"
             ],
             [
              0.8888888888888888,
              "#fdca26"
             ],
             [
              1,
              "#f0f921"
             ]
            ],
            "type": "histogram2d"
           }
          ],
          "histogram2dcontour": [
           {
            "colorbar": {
             "outlinewidth": 0,
             "ticks": ""
            },
            "colorscale": [
             [
              0,
              "#0d0887"
             ],
             [
              0.1111111111111111,
              "#46039f"
             ],
             [
              0.2222222222222222,
              "#7201a8"
             ],
             [
              0.3333333333333333,
              "#9c179e"
             ],
             [
              0.4444444444444444,
              "#bd3786"
             ],
             [
              0.5555555555555556,
              "#d8576b"
             ],
             [
              0.6666666666666666,
              "#ed7953"
             ],
             [
              0.7777777777777778,
              "#fb9f3a"
             ],
             [
              0.8888888888888888,
              "#fdca26"
             ],
             [
              1,
              "#f0f921"
             ]
            ],
            "type": "histogram2dcontour"
           }
          ],
          "mesh3d": [
           {
            "colorbar": {
             "outlinewidth": 0,
             "ticks": ""
            },
            "type": "mesh3d"
           }
          ],
          "parcoords": [
           {
            "line": {
             "colorbar": {
              "outlinewidth": 0,
              "ticks": ""
             }
            },
            "type": "parcoords"
           }
          ],
          "pie": [
           {
            "automargin": true,
            "type": "pie"
           }
          ],
          "scatter": [
           {
            "fillpattern": {
             "fillmode": "overlay",
             "size": 10,
             "solidity": 0.2
            },
            "type": "scatter"
           }
          ],
          "scatter3d": [
           {
            "line": {
             "colorbar": {
              "outlinewidth": 0,
              "ticks": ""
             }
            },
            "marker": {
             "colorbar": {
              "outlinewidth": 0,
              "ticks": ""
             }
            },
            "type": "scatter3d"
           }
          ],
          "scattercarpet": [
           {
            "marker": {
             "colorbar": {
              "outlinewidth": 0,
              "ticks": ""
             }
            },
            "type": "scattercarpet"
           }
          ],
          "scattergeo": [
           {
            "marker": {
             "colorbar": {
              "outlinewidth": 0,
              "ticks": ""
             }
            },
            "type": "scattergeo"
           }
          ],
          "scattergl": [
           {
            "marker": {
             "colorbar": {
              "outlinewidth": 0,
              "ticks": ""
             }
            },
            "type": "scattergl"
           }
          ],
          "scattermapbox": [
           {
            "marker": {
             "colorbar": {
              "outlinewidth": 0,
              "ticks": ""
             }
            },
            "type": "scattermapbox"
           }
          ],
          "scatterpolar": [
           {
            "marker": {
             "colorbar": {
              "outlinewidth": 0,
              "ticks": ""
             }
            },
            "type": "scatterpolar"
           }
          ],
          "scatterpolargl": [
           {
            "marker": {
             "colorbar": {
              "outlinewidth": 0,
              "ticks": ""
             }
            },
            "type": "scatterpolargl"
           }
          ],
          "scatterternary": [
           {
            "marker": {
             "colorbar": {
              "outlinewidth": 0,
              "ticks": ""
             }
            },
            "type": "scatterternary"
           }
          ],
          "surface": [
           {
            "colorbar": {
             "outlinewidth": 0,
             "ticks": ""
            },
            "colorscale": [
             [
              0,
              "#0d0887"
             ],
             [
              0.1111111111111111,
              "#46039f"
             ],
             [
              0.2222222222222222,
              "#7201a8"
             ],
             [
              0.3333333333333333,
              "#9c179e"
             ],
             [
              0.4444444444444444,
              "#bd3786"
             ],
             [
              0.5555555555555556,
              "#d8576b"
             ],
             [
              0.6666666666666666,
              "#ed7953"
             ],
             [
              0.7777777777777778,
              "#fb9f3a"
             ],
             [
              0.8888888888888888,
              "#fdca26"
             ],
             [
              1,
              "#f0f921"
             ]
            ],
            "type": "surface"
           }
          ],
          "table": [
           {
            "cells": {
             "fill": {
              "color": "#EBF0F8"
             },
             "line": {
              "color": "white"
             }
            },
            "header": {
             "fill": {
              "color": "#C8D4E3"
             },
             "line": {
              "color": "white"
             }
            },
            "type": "table"
           }
          ]
         },
         "layout": {
          "annotationdefaults": {
           "arrowcolor": "#2a3f5f",
           "arrowhead": 0,
           "arrowwidth": 1
          },
          "autotypenumbers": "strict",
          "coloraxis": {
           "colorbar": {
            "outlinewidth": 0,
            "ticks": ""
           }
          },
          "colorscale": {
           "diverging": [
            [
             0,
             "#8e0152"
            ],
            [
             0.1,
             "#c51b7d"
            ],
            [
             0.2,
             "#de77ae"
            ],
            [
             0.3,
             "#f1b6da"
            ],
            [
             0.4,
             "#fde0ef"
            ],
            [
             0.5,
             "#f7f7f7"
            ],
            [
             0.6,
             "#e6f5d0"
            ],
            [
             0.7,
             "#b8e186"
            ],
            [
             0.8,
             "#7fbc41"
            ],
            [
             0.9,
             "#4d9221"
            ],
            [
             1,
             "#276419"
            ]
           ],
           "sequential": [
            [
             0,
             "#0d0887"
            ],
            [
             0.1111111111111111,
             "#46039f"
            ],
            [
             0.2222222222222222,
             "#7201a8"
            ],
            [
             0.3333333333333333,
             "#9c179e"
            ],
            [
             0.4444444444444444,
             "#bd3786"
            ],
            [
             0.5555555555555556,
             "#d8576b"
            ],
            [
             0.6666666666666666,
             "#ed7953"
            ],
            [
             0.7777777777777778,
             "#fb9f3a"
            ],
            [
             0.8888888888888888,
             "#fdca26"
            ],
            [
             1,
             "#f0f921"
            ]
           ],
           "sequentialminus": [
            [
             0,
             "#0d0887"
            ],
            [
             0.1111111111111111,
             "#46039f"
            ],
            [
             0.2222222222222222,
             "#7201a8"
            ],
            [
             0.3333333333333333,
             "#9c179e"
            ],
            [
             0.4444444444444444,
             "#bd3786"
            ],
            [
             0.5555555555555556,
             "#d8576b"
            ],
            [
             0.6666666666666666,
             "#ed7953"
            ],
            [
             0.7777777777777778,
             "#fb9f3a"
            ],
            [
             0.8888888888888888,
             "#fdca26"
            ],
            [
             1,
             "#f0f921"
            ]
           ]
          },
          "colorway": [
           "#636efa",
           "#EF553B",
           "#00cc96",
           "#ab63fa",
           "#FFA15A",
           "#19d3f3",
           "#FF6692",
           "#B6E880",
           "#FF97FF",
           "#FECB52"
          ],
          "font": {
           "color": "#2a3f5f"
          },
          "geo": {
           "bgcolor": "white",
           "lakecolor": "white",
           "landcolor": "#E5ECF6",
           "showlakes": true,
           "showland": true,
           "subunitcolor": "white"
          },
          "hoverlabel": {
           "align": "left"
          },
          "hovermode": "closest",
          "mapbox": {
           "style": "light"
          },
          "paper_bgcolor": "white",
          "plot_bgcolor": "#E5ECF6",
          "polar": {
           "angularaxis": {
            "gridcolor": "white",
            "linecolor": "white",
            "ticks": ""
           },
           "bgcolor": "#E5ECF6",
           "radialaxis": {
            "gridcolor": "white",
            "linecolor": "white",
            "ticks": ""
           }
          },
          "scene": {
           "xaxis": {
            "backgroundcolor": "#E5ECF6",
            "gridcolor": "white",
            "gridwidth": 2,
            "linecolor": "white",
            "showbackground": true,
            "ticks": "",
            "zerolinecolor": "white"
           },
           "yaxis": {
            "backgroundcolor": "#E5ECF6",
            "gridcolor": "white",
            "gridwidth": 2,
            "linecolor": "white",
            "showbackground": true,
            "ticks": "",
            "zerolinecolor": "white"
           },
           "zaxis": {
            "backgroundcolor": "#E5ECF6",
            "gridcolor": "white",
            "gridwidth": 2,
            "linecolor": "white",
            "showbackground": true,
            "ticks": "",
            "zerolinecolor": "white"
           }
          },
          "shapedefaults": {
           "line": {
            "color": "#2a3f5f"
           }
          },
          "ternary": {
           "aaxis": {
            "gridcolor": "white",
            "linecolor": "white",
            "ticks": ""
           },
           "baxis": {
            "gridcolor": "white",
            "linecolor": "white",
            "ticks": ""
           },
           "bgcolor": "#E5ECF6",
           "caxis": {
            "gridcolor": "white",
            "linecolor": "white",
            "ticks": ""
           }
          },
          "title": {
           "x": 0.05
          },
          "xaxis": {
           "automargin": true,
           "gridcolor": "white",
           "linecolor": "white",
           "ticks": "",
           "title": {
            "standoff": 15
           },
           "zerolinecolor": "white",
           "zerolinewidth": 2
          },
          "yaxis": {
           "automargin": true,
           "gridcolor": "white",
           "linecolor": "white",
           "ticks": "",
           "title": {
            "standoff": 15
           },
           "zerolinecolor": "white",
           "zerolinewidth": 2
          }
         }
        },
        "xaxis": {
         "anchor": "y",
         "categoryarray": [
          "Unprovoked",
          "Provoked",
          "Invalid",
          "Watercraft",
          "Sea Disaster",
          "Unverified",
          "Questionable",
          "Boat"
         ],
         "categoryorder": "array",
         "domain": [
          0,
          1
         ],
         "title": {
          "text": "type"
         }
        },
        "yaxis": {
         "anchor": "x",
         "domain": [
          0,
          1
         ],
         "title": {
          "text": "count"
         }
        }
       }
      }
     },
     "metadata": {},
     "output_type": "display_data"
    }
   ],
   "source": [
    "fig = px.bar(type_count, type_count.index, type_count['count'], color=type_count.index)\n",
    "fig.add_annotation(x='Unprovoked', y=800, text=\"Únicos que pasan\", showarrow=True, arrowhead=1, arrowsize=3, arrowcolor='red', bgcolor='red')\n",
    "fig.add_hline(1000, line_width=3, line_dash=\"dash\", line_color=\"green\", annotation_text=\"Linea de tendencia\", \n",
    "              annotation_position=\"bottom right\")\n",
    "fig.add_vrect(y0=0, y1=0.2, x0='Provoked', x1='Invalid',line_width=0, fillcolor=\"red\", opacity=0.2)\n"
   ]
  },
  {
   "cell_type": "code",
   "execution_count": 16,
   "id": "f7ee928b",
   "metadata": {},
   "outputs": [
    {
     "data": {
      "application/vnd.plotly.v1+json": {
       "config": {
        "plotlyServerURL": "https://plot.ly"
       },
       "data": [
        {
         "alignmentgroup": "True",
         "hovertemplate": "country=%{x}<br>count=%{y}<extra></extra>",
         "legendgroup": "",
         "marker": {
          "color": "#636efa",
          "pattern": {
           "shape": ""
          }
         },
         "name": "",
         "offsetgroup": "",
         "orientation": "v",
         "showlegend": false,
         "textposition": "auto",
         "type": "bar",
         "x": [
          "USA",
          "AUSTRALIA",
          "SOUTH AFRICA",
          "PAPUA NEW GUINEA",
          "BAHAMAS",
          "BRAZIL",
          "NEW ZEALAND",
          "MEXICO",
          "NEW CALEDONIA",
          "REUNION",
          "ITALY",
          "FIJI",
          "PHILIPPINES",
          "MOZAMBIQUE",
          "EGYPT",
          "FRENCH POLYNESIA",
          "JAPAN",
          "SPAIN",
          "CUBA",
          "HONG KONG",
          "IRAN",
          "SOLOMON ISLANDS",
          "PANAMA",
          "CROATIA",
          "COSTA RICA",
          "TONGA",
          "JAMAICA",
          "PACIFIC OCEAN",
          "BERMUDA",
          "GREECE",
          "INDONESIA",
          "THAILAND",
          "ENGLAND",
          "UNITED KINGDOM",
          "MARSHALL ISLANDS",
          "TURKEY",
          "INDIA",
          "VIETNAM",
          "ECUADOR",
          "SENEGAL",
          "ATLANTIC OCEAN",
          "VANUATU",
          "COLUMBIA",
          "NEW GUINEA",
          "TAIWAN",
          "VENEZUELA",
          "SOUTH ATLANTIC OCEAN",
          "SEYCHELLES",
          "KENYA",
          "TANZANIA",
          "CHILE",
          "SRI LANKA",
          "ISRAEL",
          "MAURITIUS",
          "SOUTH KOREA",
          "SCOTLAND",
          "DOMINICAN REPUBLIC",
          "CANADA",
          "IRAQ",
          "CARIBBEAN SEA",
          "SAMOA",
          "CHINA",
          "NEW BRITAIN",
          "SOMALIA",
          "OKINAWA",
          "MADAGASCAR",
          "NORTH PACIFIC OCEAN"
         ],
         "xaxis": "x",
         "y": [
          2268,
          1185,
          546,
          131,
          122,
          118,
          101,
          80,
          60,
          56,
          55,
          55,
          44,
          40,
          37,
          33,
          32,
          28,
          26,
          25,
          25,
          24,
          22,
          17,
          16,
          16,
          16,
          15,
          14,
          14,
          13,
          13,
          12,
          12,
          11,
          11,
          11,
          11,
          11,
          11,
          11,
          11,
          10,
          9,
          9,
          9,
          8,
          8,
          8,
          8,
          8,
          8,
          8,
          8,
          8,
          7,
          7,
          7,
          7,
          7,
          6,
          6,
          6,
          6,
          6,
          6,
          6
         ],
         "yaxis": "y"
        }
       ],
       "layout": {
        "barmode": "relative",
        "legend": {
         "tracegroupgap": 0
        },
        "margin": {
         "t": 60
        },
        "template": {
         "data": {
          "bar": [
           {
            "error_x": {
             "color": "#2a3f5f"
            },
            "error_y": {
             "color": "#2a3f5f"
            },
            "marker": {
             "line": {
              "color": "#E5ECF6",
              "width": 0.5
             },
             "pattern": {
              "fillmode": "overlay",
              "size": 10,
              "solidity": 0.2
             }
            },
            "type": "bar"
           }
          ],
          "barpolar": [
           {
            "marker": {
             "line": {
              "color": "#E5ECF6",
              "width": 0.5
             },
             "pattern": {
              "fillmode": "overlay",
              "size": 10,
              "solidity": 0.2
             }
            },
            "type": "barpolar"
           }
          ],
          "carpet": [
           {
            "aaxis": {
             "endlinecolor": "#2a3f5f",
             "gridcolor": "white",
             "linecolor": "white",
             "minorgridcolor": "white",
             "startlinecolor": "#2a3f5f"
            },
            "baxis": {
             "endlinecolor": "#2a3f5f",
             "gridcolor": "white",
             "linecolor": "white",
             "minorgridcolor": "white",
             "startlinecolor": "#2a3f5f"
            },
            "type": "carpet"
           }
          ],
          "choropleth": [
           {
            "colorbar": {
             "outlinewidth": 0,
             "ticks": ""
            },
            "type": "choropleth"
           }
          ],
          "contour": [
           {
            "colorbar": {
             "outlinewidth": 0,
             "ticks": ""
            },
            "colorscale": [
             [
              0,
              "#0d0887"
             ],
             [
              0.1111111111111111,
              "#46039f"
             ],
             [
              0.2222222222222222,
              "#7201a8"
             ],
             [
              0.3333333333333333,
              "#9c179e"
             ],
             [
              0.4444444444444444,
              "#bd3786"
             ],
             [
              0.5555555555555556,
              "#d8576b"
             ],
             [
              0.6666666666666666,
              "#ed7953"
             ],
             [
              0.7777777777777778,
              "#fb9f3a"
             ],
             [
              0.8888888888888888,
              "#fdca26"
             ],
             [
              1,
              "#f0f921"
             ]
            ],
            "type": "contour"
           }
          ],
          "contourcarpet": [
           {
            "colorbar": {
             "outlinewidth": 0,
             "ticks": ""
            },
            "type": "contourcarpet"
           }
          ],
          "heatmap": [
           {
            "colorbar": {
             "outlinewidth": 0,
             "ticks": ""
            },
            "colorscale": [
             [
              0,
              "#0d0887"
             ],
             [
              0.1111111111111111,
              "#46039f"
             ],
             [
              0.2222222222222222,
              "#7201a8"
             ],
             [
              0.3333333333333333,
              "#9c179e"
             ],
             [
              0.4444444444444444,
              "#bd3786"
             ],
             [
              0.5555555555555556,
              "#d8576b"
             ],
             [
              0.6666666666666666,
              "#ed7953"
             ],
             [
              0.7777777777777778,
              "#fb9f3a"
             ],
             [
              0.8888888888888888,
              "#fdca26"
             ],
             [
              1,
              "#f0f921"
             ]
            ],
            "type": "heatmap"
           }
          ],
          "heatmapgl": [
           {
            "colorbar": {
             "outlinewidth": 0,
             "ticks": ""
            },
            "colorscale": [
             [
              0,
              "#0d0887"
             ],
             [
              0.1111111111111111,
              "#46039f"
             ],
             [
              0.2222222222222222,
              "#7201a8"
             ],
             [
              0.3333333333333333,
              "#9c179e"
             ],
             [
              0.4444444444444444,
              "#bd3786"
             ],
             [
              0.5555555555555556,
              "#d8576b"
             ],
             [
              0.6666666666666666,
              "#ed7953"
             ],
             [
              0.7777777777777778,
              "#fb9f3a"
             ],
             [
              0.8888888888888888,
              "#fdca26"
             ],
             [
              1,
              "#f0f921"
             ]
            ],
            "type": "heatmapgl"
           }
          ],
          "histogram": [
           {
            "marker": {
             "pattern": {
              "fillmode": "overlay",
              "size": 10,
              "solidity": 0.2
             }
            },
            "type": "histogram"
           }
          ],
          "histogram2d": [
           {
            "colorbar": {
             "outlinewidth": 0,
             "ticks": ""
            },
            "colorscale": [
             [
              0,
              "#0d0887"
             ],
             [
              0.1111111111111111,
              "#46039f"
             ],
             [
              0.2222222222222222,
              "#7201a8"
             ],
             [
              0.3333333333333333,
              "#9c179e"
             ],
             [
              0.4444444444444444,
              "#bd3786"
             ],
             [
              0.5555555555555556,
              "#d8576b"
             ],
             [
              0.6666666666666666,
              "#ed7953"
             ],
             [
              0.7777777777777778,
              "#fb9f3a"
             ],
             [
              0.8888888888888888,
              "#fdca26"
             ],
             [
              1,
              "#f0f921"
             ]
            ],
            "type": "histogram2d"
           }
          ],
          "histogram2dcontour": [
           {
            "colorbar": {
             "outlinewidth": 0,
             "ticks": ""
            },
            "colorscale": [
             [
              0,
              "#0d0887"
             ],
             [
              0.1111111111111111,
              "#46039f"
             ],
             [
              0.2222222222222222,
              "#7201a8"
             ],
             [
              0.3333333333333333,
              "#9c179e"
             ],
             [
              0.4444444444444444,
              "#bd3786"
             ],
             [
              0.5555555555555556,
              "#d8576b"
             ],
             [
              0.6666666666666666,
              "#ed7953"
             ],
             [
              0.7777777777777778,
              "#fb9f3a"
             ],
             [
              0.8888888888888888,
              "#fdca26"
             ],
             [
              1,
              "#f0f921"
             ]
            ],
            "type": "histogram2dcontour"
           }
          ],
          "mesh3d": [
           {
            "colorbar": {
             "outlinewidth": 0,
             "ticks": ""
            },
            "type": "mesh3d"
           }
          ],
          "parcoords": [
           {
            "line": {
             "colorbar": {
              "outlinewidth": 0,
              "ticks": ""
             }
            },
            "type": "parcoords"
           }
          ],
          "pie": [
           {
            "automargin": true,
            "type": "pie"
           }
          ],
          "scatter": [
           {
            "fillpattern": {
             "fillmode": "overlay",
             "size": 10,
             "solidity": 0.2
            },
            "type": "scatter"
           }
          ],
          "scatter3d": [
           {
            "line": {
             "colorbar": {
              "outlinewidth": 0,
              "ticks": ""
             }
            },
            "marker": {
             "colorbar": {
              "outlinewidth": 0,
              "ticks": ""
             }
            },
            "type": "scatter3d"
           }
          ],
          "scattercarpet": [
           {
            "marker": {
             "colorbar": {
              "outlinewidth": 0,
              "ticks": ""
             }
            },
            "type": "scattercarpet"
           }
          ],
          "scattergeo": [
           {
            "marker": {
             "colorbar": {
              "outlinewidth": 0,
              "ticks": ""
             }
            },
            "type": "scattergeo"
           }
          ],
          "scattergl": [
           {
            "marker": {
             "colorbar": {
              "outlinewidth": 0,
              "ticks": ""
             }
            },
            "type": "scattergl"
           }
          ],
          "scattermapbox": [
           {
            "marker": {
             "colorbar": {
              "outlinewidth": 0,
              "ticks": ""
             }
            },
            "type": "scattermapbox"
           }
          ],
          "scatterpolar": [
           {
            "marker": {
             "colorbar": {
              "outlinewidth": 0,
              "ticks": ""
             }
            },
            "type": "scatterpolar"
           }
          ],
          "scatterpolargl": [
           {
            "marker": {
             "colorbar": {
              "outlinewidth": 0,
              "ticks": ""
             }
            },
            "type": "scatterpolargl"
           }
          ],
          "scatterternary": [
           {
            "marker": {
             "colorbar": {
              "outlinewidth": 0,
              "ticks": ""
             }
            },
            "type": "scatterternary"
           }
          ],
          "surface": [
           {
            "colorbar": {
             "outlinewidth": 0,
             "ticks": ""
            },
            "colorscale": [
             [
              0,
              "#0d0887"
             ],
             [
              0.1111111111111111,
              "#46039f"
             ],
             [
              0.2222222222222222,
              "#7201a8"
             ],
             [
              0.3333333333333333,
              "#9c179e"
             ],
             [
              0.4444444444444444,
              "#bd3786"
             ],
             [
              0.5555555555555556,
              "#d8576b"
             ],
             [
              0.6666666666666666,
              "#ed7953"
             ],
             [
              0.7777777777777778,
              "#fb9f3a"
             ],
             [
              0.8888888888888888,
              "#fdca26"
             ],
             [
              1,
              "#f0f921"
             ]
            ],
            "type": "surface"
           }
          ],
          "table": [
           {
            "cells": {
             "fill": {
              "color": "#EBF0F8"
             },
             "line": {
              "color": "white"
             }
            },
            "header": {
             "fill": {
              "color": "#C8D4E3"
             },
             "line": {
              "color": "white"
             }
            },
            "type": "table"
           }
          ]
         },
         "layout": {
          "annotationdefaults": {
           "arrowcolor": "#2a3f5f",
           "arrowhead": 0,
           "arrowwidth": 1
          },
          "autotypenumbers": "strict",
          "coloraxis": {
           "colorbar": {
            "outlinewidth": 0,
            "ticks": ""
           }
          },
          "colorscale": {
           "diverging": [
            [
             0,
             "#8e0152"
            ],
            [
             0.1,
             "#c51b7d"
            ],
            [
             0.2,
             "#de77ae"
            ],
            [
             0.3,
             "#f1b6da"
            ],
            [
             0.4,
             "#fde0ef"
            ],
            [
             0.5,
             "#f7f7f7"
            ],
            [
             0.6,
             "#e6f5d0"
            ],
            [
             0.7,
             "#b8e186"
            ],
            [
             0.8,
             "#7fbc41"
            ],
            [
             0.9,
             "#4d9221"
            ],
            [
             1,
             "#276419"
            ]
           ],
           "sequential": [
            [
             0,
             "#0d0887"
            ],
            [
             0.1111111111111111,
             "#46039f"
            ],
            [
             0.2222222222222222,
             "#7201a8"
            ],
            [
             0.3333333333333333,
             "#9c179e"
            ],
            [
             0.4444444444444444,
             "#bd3786"
            ],
            [
             0.5555555555555556,
             "#d8576b"
            ],
            [
             0.6666666666666666,
             "#ed7953"
            ],
            [
             0.7777777777777778,
             "#fb9f3a"
            ],
            [
             0.8888888888888888,
             "#fdca26"
            ],
            [
             1,
             "#f0f921"
            ]
           ],
           "sequentialminus": [
            [
             0,
             "#0d0887"
            ],
            [
             0.1111111111111111,
             "#46039f"
            ],
            [
             0.2222222222222222,
             "#7201a8"
            ],
            [
             0.3333333333333333,
             "#9c179e"
            ],
            [
             0.4444444444444444,
             "#bd3786"
            ],
            [
             0.5555555555555556,
             "#d8576b"
            ],
            [
             0.6666666666666666,
             "#ed7953"
            ],
            [
             0.7777777777777778,
             "#fb9f3a"
            ],
            [
             0.8888888888888888,
             "#fdca26"
            ],
            [
             1,
             "#f0f921"
            ]
           ]
          },
          "colorway": [
           "#636efa",
           "#EF553B",
           "#00cc96",
           "#ab63fa",
           "#FFA15A",
           "#19d3f3",
           "#FF6692",
           "#B6E880",
           "#FF97FF",
           "#FECB52"
          ],
          "font": {
           "color": "#2a3f5f"
          },
          "geo": {
           "bgcolor": "white",
           "lakecolor": "white",
           "landcolor": "#E5ECF6",
           "showlakes": true,
           "showland": true,
           "subunitcolor": "white"
          },
          "hoverlabel": {
           "align": "left"
          },
          "hovermode": "closest",
          "mapbox": {
           "style": "light"
          },
          "paper_bgcolor": "white",
          "plot_bgcolor": "#E5ECF6",
          "polar": {
           "angularaxis": {
            "gridcolor": "white",
            "linecolor": "white",
            "ticks": ""
           },
           "bgcolor": "#E5ECF6",
           "radialaxis": {
            "gridcolor": "white",
            "linecolor": "white",
            "ticks": ""
           }
          },
          "scene": {
           "xaxis": {
            "backgroundcolor": "#E5ECF6",
            "gridcolor": "white",
            "gridwidth": 2,
            "linecolor": "white",
            "showbackground": true,
            "ticks": "",
            "zerolinecolor": "white"
           },
           "yaxis": {
            "backgroundcolor": "#E5ECF6",
            "gridcolor": "white",
            "gridwidth": 2,
            "linecolor": "white",
            "showbackground": true,
            "ticks": "",
            "zerolinecolor": "white"
           },
           "zaxis": {
            "backgroundcolor": "#E5ECF6",
            "gridcolor": "white",
            "gridwidth": 2,
            "linecolor": "white",
            "showbackground": true,
            "ticks": "",
            "zerolinecolor": "white"
           }
          },
          "shapedefaults": {
           "line": {
            "color": "#2a3f5f"
           }
          },
          "ternary": {
           "aaxis": {
            "gridcolor": "white",
            "linecolor": "white",
            "ticks": ""
           },
           "baxis": {
            "gridcolor": "white",
            "linecolor": "white",
            "ticks": ""
           },
           "bgcolor": "#E5ECF6",
           "caxis": {
            "gridcolor": "white",
            "linecolor": "white",
            "ticks": ""
           }
          },
          "title": {
           "x": 0.05
          },
          "xaxis": {
           "automargin": true,
           "gridcolor": "white",
           "linecolor": "white",
           "ticks": "",
           "title": {
            "standoff": 15
           },
           "zerolinecolor": "white",
           "zerolinewidth": 2
          },
          "yaxis": {
           "automargin": true,
           "gridcolor": "white",
           "linecolor": "white",
           "ticks": "",
           "title": {
            "standoff": 15
           },
           "zerolinecolor": "white",
           "zerolinewidth": 2
          }
         }
        },
        "xaxis": {
         "anchor": "y",
         "domain": [
          0,
          1
         ],
         "title": {
          "text": "country"
         }
        },
        "yaxis": {
         "anchor": "x",
         "domain": [
          0,
          1
         ],
         "title": {
          "text": "count"
         }
        }
       }
      }
     },
     "metadata": {},
     "output_type": "display_data"
    }
   ],
   "source": [
    "attack_x_country = df_shark['country'].value_counts().sort_values(ascending=False).reset_index()\n",
    "attack_x_country = attack_x_country[attack_x_country['count'] > 5]\n",
    "px.bar(attack_x_country, x='country', y='count')\n"
   ]
  },
  {
   "cell_type": "code",
   "execution_count": 17,
   "id": "a519d359",
   "metadata": {},
   "outputs": [
    {
     "data": {
      "image/png": "[encoded data removed]",
      "text/plain": [
       "<Figure size 1600x600 with 1 Axes>"
      ]
     },
     "metadata": {},
     "output_type": "display_data"
    }
   ],
   "source": [
    "# Cuantas ataques por pais en los últimos 10 \n",
    "country_10_anos = df_shark_country[df_shark_country['year'] > 2014]\n",
    "orden2 = country_10_anos['country'].value_counts().sort_values(ascending=False)\n",
    "plt.figure(figsize=(16,6))\n",
    "sns.countplot(country_10_anos, x='country', order= orden2.index)\n",
    "plt.axhline(y=10, color='red', linestyle='-', label='Total de 10 muertes')\n",
    "plt.xticks(rotation= 90);"
   ]
  },
  {
   "cell_type": "code",
   "execution_count": 18,
   "id": "c3fab1fb",
   "metadata": {},
   "outputs": [
    {
     "data": {
      "image/png": "[encoded data removed]",
      "text/plain": [
       "<Figure size 1600x600 with 1 Axes>"
      ]
     },
     "metadata": {},
     "output_type": "display_data"
    }
   ],
   "source": [
    "# Cuantas ataques por pais en el último año\n",
    "country_1_ano = df_shark_country[df_shark_country['year'] == 2023]\n",
    "orden3 = country_1_ano['country'].value_counts().sort_values(ascending=False)\n",
    "plt.figure(figsize=(16,6))\n",
    "sns.countplot(country_1_ano, x='country', order= orden3.index, stat='percent')\n",
    "plt.axhline(y=5, color='red', linestyle='-', label='Total de 5 muertes')\n",
    "barras = plt.bar(x= orden3.index, height=orden3.values, color='blue')\n",
    "plt.bar_label(barras)\n",
    "plt.xticks(rotation= 90);"
   ]
  },
  {
   "cell_type": "code",
   "execution_count": 19,
   "id": "f090eacb",
   "metadata": {},
   "outputs": [
    {
     "data": {
      "image/png": "[encoded data removed]",
      "text/plain": [
       "<Figure size 1600x600 with 1 Axes>"
      ]
     },
     "metadata": {},
     "output_type": "display_data"
    }
   ],
   "source": [
    "# Ataques por año\n",
    "anos_disp= df_shark['year'].value_counts().sort_index(ascending=True).to_frame().reset_index()\n",
    "plt.figure(figsize=(16,6))\n",
    "sns.lineplot(data=anos_disp, x=\"year\", y=\"count\");\n"
   ]
  },
  {
   "cell_type": "code",
   "execution_count": 20,
   "id": "5b7d53ca",
   "metadata": {},
   "outputs": [],
   "source": [
    "anos_tourism = df_tourism.iloc[:,1:].sum(axis=0).to_frame()\n",
    "anos_tourism = anos_tourism/2\n"
   ]
  },
  {
   "cell_type": "code",
   "execution_count": null,
   "id": "93202357",
   "metadata": {},
   "outputs": [
    {
     "data": {
      "application/vnd.plotly.v1+json": {
       "config": {
        "plotlyServerURL": "https://plot.ly"
       },
       "data": [
        {
         "hovertemplate": "year=%{x}<br>count=%{y}<extra></extra>",
         "legendgroup": "",
         "line": {
          "color": "#636efa",
          "dash": "solid"
         },
         "marker": {
          "symbol": "circle"
         },
         "mode": "lines",
         "name": "",
         "orientation": "v",
         "showlegend": false,
         "type": "scatter",
         "x": [
          1925,
          1926,
          1927,
          1928,
          1929,
          1930,
          1931,
          1932,
          1933,
          1934,
          1935,
          1936,
          1937,
          1938,
          1939,
          1940,
          1941,
          1942,
          1943,
          1944,
          1945,
          1946,
          1947,
          1948,
          1949,
          1950,
          1951,
          1952,
          1953,
          1954,
          1955,
          1956,
          1957,
          1958,
          1959,
          1960,
          1961,
          1962,
          1963,
          1964,
          1965,
          1966,
          1967,
          1968,
          1969,
          1970,
          1971,
          1972,
          1973,
          1974,
          1975,
          1976,
          1977,
          1978,
          1979,
          1980,
          1981,
          1982,
          1983,
          1984,
          1985,
          1986,
          1987,
          1988,
          1989,
          1990,
          1991,
          1992,
          1993,
          1994,
          1995,
          1996,
          1997,
          1998,
          1999,
          2000,
          2001,
          2002,
          2003,
          2004,
          2005,
          2006,
          2007,
          2008,
          2009,
          2010,
          2011,
          2012,
          2013,
          2014,
          2015,
          2016,
          2017,
          2018,
          2019,
          2020,
          2021,
          2022,
          2023
         ],
         "xaxis": "x",
         "y": [
          14,
          21,
          19,
          26,
          37,
          26,
          29,
          27,
          22,
          28,
          31,
          32,
          30,
          24,
          25,
          24,
          27,
          39,
          28,
          31,
          16,
          26,
          30,
          29,
          31,
          43,
          32,
          29,
          36,
          45,
          43,
          51,
          41,
          54,
          93,
          93,
          78,
          86,
          61,
          65,
          51,
          58,
          48,
          47,
          29,
          38,
          30,
          36,
          27,
          39,
          49,
          39,
          27,
          26,
          25,
          36,
          49,
          42,
          50,
          41,
          37,
          39,
          35,
          56,
          53,
          39,
          39,
          56,
          56,
          57,
          76,
          61,
          57,
          65,
          66,
          97,
          92,
          88,
          92,
          92,
          103,
          103,
          113,
          122,
          120,
          101,
          128,
          117,
          122,
          125,
          143,
          131,
          138,
          124,
          113,
          101,
          109,
          98,
          65
         ],
         "yaxis": "y"
        },
        {
         "line": {
          "color": "red",
          "dash": "dash"
         },
         "mode": "lines",
         "name": "Tendencia",
         "type": "scatter",
         "x": [
          1925,
          1926,
          1927,
          1928,
          1929,
          1930,
          1931,
          1932,
          1933,
          1934,
          1935,
          1936,
          1937,
          1938,
          1939,
          1940,
          1941,
          1942,
          1943,
          1944,
          1945,
          1946,
          1947,
          1948,
          1949,
          1950,
          1951,
          1952,
          1953,
          1954,
          1955,
          1956,
          1957,
          1958,
          1959,
          1960,
          1961,
          1962,
          1963,
          1964,
          1965,
          1966,
          1967,
          1968,
          1969,
          1970,
          1971,
          1972,
          1973,
          1974,
          1975,
          1976,
          1977,
          1978,
          1979,
          1980,
          1981,
          1982,
          1983,
          1984,
          1985,
          1986,
          1987,
          1988,
          1989,
          1990,
          1991,
          1992,
          1993,
          1994,
          1995,
          1996,
          1997,
          1998,
          1999,
          2000,
          2001,
          2002,
          2003,
          2004,
          2005,
          2006,
          2007,
          2008,
          2009,
          2010,
          2011,
          2012,
          2013,
          2014,
          2015,
          2016,
          2017,
          2018,
          2019,
          2020,
          2021,
          2022,
          2023
         ],
         "y": [
          11.53838383838388,
          12.485755514326911,
          13.433127190269943,
          14.380498866213202,
          15.327870542156234,
          16.275242218099265,
          17.222613894042524,
          18.169985569985556,
          19.117357245928588,
          20.064728921871847,
          21.01210059781488,
          21.95947227375791,
          22.90684394970117,
          23.8542156256442,
          24.801587301587233,
          25.748958977530492,
          26.696330653473524,
          27.643702329416556,
          28.591074005359815,
          29.538445681302846,
          30.485817357245878,
          31.43318903318891,
          32.38056070913217,
          33.3279323850752,
          34.27530406101823,
          35.22267573696149,
          36.17004741290452,
          37.117419088847555,
          38.064790764790814,
          39.012162440733846,
          39.95953411667688,
          40.90690579262014,
          41.85427746856317,
          42.8016491445062,
          43.74902082044946,
          44.69639249639249,
          45.64376417233552,
          46.59113584827878,
          47.538507524221814,
          48.485879200164845,
          49.433250876108104,
          50.380622552051136,
          51.32799422799417,
          52.2753659039372,
          53.22273757988046,
          54.17010925582349,
          55.11748093176652,
          56.06485260770978,
          57.01222428365281,
          57.959595959595845,
          58.906967635539104,
          59.854339311482136,
          60.80171098742517,
          61.749082663368426,
          62.69645433931146,
          63.64382601525449,
          64.59119769119775,
          65.53856936714078,
          66.48594104308381,
          67.43331271902707,
          68.3806843949701,
          69.32805607091314,
          70.2754277468564,
          71.22279942279943,
          72.17017109874246,
          73.11754277468572,
          74.06491445062875,
          75.01228612657178,
          75.95965780251481,
          76.90702947845807,
          77.8544011544011,
          78.80177283034413,
          79.7491445062874,
          80.69651618223043,
          81.64388785817346,
          82.59125953411672,
          83.53863121005975,
          84.48600288600278,
          85.43337456194604,
          86.38074623788907,
          87.3281179138321,
          88.27548958977536,
          89.2228612657184,
          90.17023294166142,
          91.11760461760468,
          92.06497629354772,
          93.01234796949075,
          93.959719645434,
          94.90709132137704,
          95.85446299732007,
          96.8018346732631,
          97.74920634920636,
          98.69657802514939,
          99.64394970109242,
          100.59132137703568,
          101.53869305297872,
          102.48606472892175,
          103.433436404865,
          104.38080808080804
         ]
        }
       ],
       "layout": {
        "legend": {
         "tracegroupgap": 0
        },
        "template": {
         "data": {
          "bar": [
           {
            "error_x": {
             "color": "#2a3f5f"
            },
            "error_y": {
             "color": "#2a3f5f"
            },
            "marker": {
             "line": {
              "color": "#E5ECF6",
              "width": 0.5
             },
             "pattern": {
              "fillmode": "overlay",
              "size": 10,
              "solidity": 0.2
             }
            },
            "type": "bar"
           }
          ],
          "barpolar": [
           {
            "marker": {
             "line": {
              "color": "#E5ECF6",
              "width": 0.5
             },
             "pattern": {
              "fillmode": "overlay",
              "size": 10,
              "solidity": 0.2
             }
            },
            "type": "barpolar"
           }
          ],
          "carpet": [
           {
            "aaxis": {
             "endlinecolor": "#2a3f5f",
             "gridcolor": "white",
             "linecolor": "white",
             "minorgridcolor": "white",
             "startlinecolor": "#2a3f5f"
            },
            "baxis": {
             "endlinecolor": "#2a3f5f",
             "gridcolor": "white",
             "linecolor": "white",
             "minorgridcolor": "white",
             "startlinecolor": "#2a3f5f"
            },
            "type": "carpet"
           }
          ],
          "choropleth": [
           {
            "colorbar": {
             "outlinewidth": 0,
             "ticks": ""
            },
            "type": "choropleth"
           }
          ],
          "contour": [
           {
            "colorbar": {
             "outlinewidth": 0,
             "ticks": ""
            },
            "colorscale": [
             [
              0,
              "#0d0887"
             ],
             [
              0.1111111111111111,
              "#46039f"
             ],
             [
              0.2222222222222222,
              "#7201a8"
             ],
             [
              0.3333333333333333,
              "#9c179e"
             ],
             [
              0.4444444444444444,
              "#bd3786"
             ],
             [
              0.5555555555555556,
              "#d8576b"
             ],
             [
              0.6666666666666666,
              "#ed7953"
             ],
             [
              0.7777777777777778,
              "#fb9f3a"
             ],
             [
              0.8888888888888888,
              "#fdca26"
             ],
             [
              1,
              "#f0f921"
             ]
            ],
            "type": "contour"
           }
          ],
          "contourcarpet": [
           {
            "colorbar": {
             "outlinewidth": 0,
             "ticks": ""
            },
            "type": "contourcarpet"
           }
          ],
          "heatmap": [
           {
            "colorbar": {
             "outlinewidth": 0,
             "ticks": ""
            },
            "colorscale": [
             [
              0,
              "#0d0887"
             ],
             [
              0.1111111111111111,
              "#46039f"
             ],
             [
              0.2222222222222222,
              "#7201a8"
             ],
             [
              0.3333333333333333,
              "#9c179e"
             ],
             [
              0.4444444444444444,
              "#bd3786"
             ],
             [
              0.5555555555555556,
              "#d8576b"
             ],
             [
              0.6666666666666666,
              "#ed7953"
             ],
             [
              0.7777777777777778,
              "#fb9f3a"
             ],
             [
              0.8888888888888888,
              "#fdca26"
             ],
             [
              1,
              "#f0f921"
             ]
            ],
            "type": "heatmap"
           }
          ],
          "heatmapgl": [
           {
            "colorbar": {
             "outlinewidth": 0,
             "ticks": ""
            },
            "colorscale": [
             [
              0,
              "#0d0887"
             ],
             [
              0.1111111111111111,
              "#46039f"
             ],
             [
              0.2222222222222222,
              "#7201a8"
             ],
             [
              0.3333333333333333,
              "#9c179e"
             ],
             [
              0.4444444444444444,
              "#bd3786"
             ],
             [
              0.5555555555555556,
              "#d8576b"
             ],
             [
              0.6666666666666666,
              "#ed7953"
             ],
             [
              0.7777777777777778,
              "#fb9f3a"
             ],
             [
              0.8888888888888888,
              "#fdca26"
             ],
             [
              1,
              "#f0f921"
             ]
            ],
            "type": "heatmapgl"
           }
          ],
          "histogram": [
           {
            "marker": {
             "pattern": {
              "fillmode": "overlay",
              "size": 10,
              "solidity": 0.2
             }
            },
            "type": "histogram"
           }
          ],
          "histogram2d": [
           {
            "colorbar": {
             "outlinewidth": 0,
             "ticks": ""
            },
            "colorscale": [
             [
              0,
              "#0d0887"
             ],
             [
              0.1111111111111111,
              "#46039f"
             ],
             [
              0.2222222222222222,
              "#7201a8"
             ],
             [
              0.3333333333333333,
              "#9c179e"
             ],
             [
              0.4444444444444444,
              "#bd3786"
             ],
             [
              0.5555555555555556,
              "#d8576b"
             ],
             [
              0.6666666666666666,
              "#ed7953"
             ],
             [
              0.7777777777777778,
              "#fb9f3a"
             ],
             [
              0.8888888888888888,
              "#fdca26"
             ],
             [
              1,
              "#f0f921"
             ]
            ],
            "type": "histogram2d"
           }
          ],
          "histogram2dcontour": [
           {
            "colorbar": {
             "outlinewidth": 0,
             "ticks": ""
            },
            "colorscale": [
             [
              0,
              "#0d0887"
             ],
             [
              0.1111111111111111,
              "#46039f"
             ],
             [
              0.2222222222222222,
              "#7201a8"
             ],
             [
              0.3333333333333333,
              "#9c179e"
             ],
             [
              0.4444444444444444,
              "#bd3786"
             ],
             [
              0.5555555555555556,
              "#d8576b"
             ],
             [
              0.6666666666666666,
              "#ed7953"
             ],
             [
              0.7777777777777778,
              "#fb9f3a"
             ],
             [
              0.8888888888888888,
              "#fdca26"
             ],
             [
              1,
              "#f0f921"
             ]
            ],
            "type": "histogram2dcontour"
           }
          ],
          "mesh3d": [
           {
            "colorbar": {
             "outlinewidth": 0,
             "ticks": ""
            },
            "type": "mesh3d"
           }
          ],
          "parcoords": [
           {
            "line": {
             "colorbar": {
              "outlinewidth": 0,
              "ticks": ""
             }
            },
            "type": "parcoords"
           }
          ],
          "pie": [
           {
            "automargin": true,
            "type": "pie"
           }
          ],
          "scatter": [
           {
            "fillpattern": {
             "fillmode": "overlay",
             "size": 10,
             "solidity": 0.2
            },
            "type": "scatter"
           }
          ],
          "scatter3d": [
           {
            "line": {
             "colorbar": {
              "outlinewidth": 0,
              "ticks": ""
             }
            },
            "marker": {
             "colorbar": {
              "outlinewidth": 0,
              "ticks": ""
             }
            },
            "type": "scatter3d"
           }
          ],
          "scattercarpet": [
           {
            "marker": {
             "colorbar": {
              "outlinewidth": 0,
              "ticks": ""
             }
            },
            "type": "scattercarpet"
           }
          ],
          "scattergeo": [
           {
            "marker": {
             "colorbar": {
              "outlinewidth": 0,
              "ticks": ""
             }
            },
            "type": "scattergeo"
           }
          ],
          "scattergl": [
           {
            "marker": {
             "colorbar": {
              "outlinewidth": 0,
              "ticks": ""
             }
            },
            "type": "scattergl"
           }
          ],
          "scattermapbox": [
           {
            "marker": {
             "colorbar": {
              "outlinewidth": 0,
              "ticks": ""
             }
            },
            "type": "scattermapbox"
           }
          ],
          "scatterpolar": [
           {
            "marker": {
             "colorbar": {
              "outlinewidth": 0,
              "ticks": ""
             }
            },
            "type": "scatterpolar"
           }
          ],
          "scatterpolargl": [
           {
            "marker": {
             "colorbar": {
              "outlinewidth": 0,
              "ticks": ""
             }
            },
            "type": "scatterpolargl"
           }
          ],
          "scatterternary": [
           {
            "marker": {
             "colorbar": {
              "outlinewidth": 0,
              "ticks": ""
             }
            },
            "type": "scatterternary"
           }
          ],
          "surface": [
           {
            "colorbar": {
             "outlinewidth": 0,
             "ticks": ""
            },
            "colorscale": [
             [
              0,
              "#0d0887"
             ],
             [
              0.1111111111111111,
              "#46039f"
             ],
             [
              0.2222222222222222,
              "#7201a8"
             ],
             [
              0.3333333333333333,
              "#9c179e"
             ],
             [
              0.4444444444444444,
              "#bd3786"
             ],
             [
              0.5555555555555556,
              "#d8576b"
             ],
             [
              0.6666666666666666,
              "#ed7953"
             ],
             [
              0.7777777777777778,
              "#fb9f3a"
             ],
             [
              0.8888888888888888,
              "#fdca26"
             ],
             [
              1,
              "#f0f921"
             ]
            ],
            "type": "surface"
           }
          ],
          "table": [
           {
            "cells": {
             "fill": {
              "color": "#EBF0F8"
             },
             "line": {
              "color": "white"
             }
            },
            "header": {
             "fill": {
              "color": "#C8D4E3"
             },
             "line": {
              "color": "white"
             }
            },
            "type": "table"
           }
          ]
         },
         "layout": {
          "annotationdefaults": {
           "arrowcolor": "#2a3f5f",
           "arrowhead": 0,
           "arrowwidth": 1
          },
          "autotypenumbers": "strict",
          "coloraxis": {
           "colorbar": {
            "outlinewidth": 0,
            "ticks": ""
           }
          },
          "colorscale": {
           "diverging": [
            [
             0,
             "#8e0152"
            ],
            [
             0.1,
             "#c51b7d"
            ],
            [
             0.2,
             "#de77ae"
            ],
            [
             0.3,
             "#f1b6da"
            ],
            [
             0.4,
             "#fde0ef"
            ],
            [
             0.5,
             "#f7f7f7"
            ],
            [
             0.6,
             "#e6f5d0"
            ],
            [
             0.7,
             "#b8e186"
            ],
            [
             0.8,
             "#7fbc41"
            ],
            [
             0.9,
             "#4d9221"
            ],
            [
             1,
             "#276419"
            ]
           ],
           "sequential": [
            [
             0,
             "#0d0887"
            ],
            [
             0.1111111111111111,
             "#46039f"
            ],
            [
             0.2222222222222222,
             "#7201a8"
            ],
            [
             0.3333333333333333,
             "#9c179e"
            ],
            [
             0.4444444444444444,
             "#bd3786"
            ],
            [
             0.5555555555555556,
             "#d8576b"
            ],
            [
             0.6666666666666666,
             "#ed7953"
            ],
            [
             0.7777777777777778,
             "#fb9f3a"
            ],
            [
             0.8888888888888888,
             "#fdca26"
            ],
            [
             1,
             "#f0f921"
            ]
           ],
           "sequentialminus": [
            [
             0,
             "#0d0887"
            ],
            [
             0.1111111111111111,
             "#46039f"
            ],
            [
             0.2222222222222222,
             "#7201a8"
            ],
            [
             0.3333333333333333,
             "#9c179e"
            ],
            [
             0.4444444444444444,
             "#bd3786"
            ],
            [
             0.5555555555555556,
             "#d8576b"
            ],
            [
             0.6666666666666666,
             "#ed7953"
            ],
            [
             0.7777777777777778,
             "#fb9f3a"
            ],
            [
             0.8888888888888888,
             "#fdca26"
            ],
            [
             1,
             "#f0f921"
            ]
           ]
          },
          "colorway": [
           "#636efa",
           "#EF553B",
           "#00cc96",
           "#ab63fa",
           "#FFA15A",
           "#19d3f3",
           "#FF6692",
           "#B6E880",
           "#FF97FF",
           "#FECB52"
          ],
          "font": {
           "color": "#2a3f5f"
          },
          "geo": {
           "bgcolor": "white",
           "lakecolor": "white",
           "landcolor": "#E5ECF6",
           "showlakes": true,
           "showland": true,
           "subunitcolor": "white"
          },
          "hoverlabel": {
           "align": "left"
          },
          "hovermode": "closest",
          "mapbox": {
           "style": "light"
          },
          "paper_bgcolor": "white",
          "plot_bgcolor": "#E5ECF6",
          "polar": {
           "angularaxis": {
            "gridcolor": "white",
            "linecolor": "white",
            "ticks": ""
           },
           "bgcolor": "#E5ECF6",
           "radialaxis": {
            "gridcolor": "white",
            "linecolor": "white",
            "ticks": ""
           }
          },
          "scene": {
           "xaxis": {
            "backgroundcolor": "#E5ECF6",
            "gridcolor": "white",
            "gridwidth": 2,
            "linecolor": "white",
            "showbackground": true,
            "ticks": "",
            "zerolinecolor": "white"
           },
           "yaxis": {
            "backgroundcolor": "#E5ECF6",
            "gridcolor": "white",
            "gridwidth": 2,
            "linecolor": "white",
            "showbackground": true,
            "ticks": "",
            "zerolinecolor": "white"
           },
           "zaxis": {
            "backgroundcolor": "#E5ECF6",
            "gridcolor": "white",
            "gridwidth": 2,
            "linecolor": "white",
            "showbackground": true,
            "ticks": "",
            "zerolinecolor": "white"
           }
          },
          "shapedefaults": {
           "line": {
            "color": "#2a3f5f"
           }
          },
          "ternary": {
           "aaxis": {
            "gridcolor": "white",
            "linecolor": "white",
            "ticks": ""
           },
           "baxis": {
            "gridcolor": "white",
            "linecolor": "white",
            "ticks": ""
           },
           "bgcolor": "#E5ECF6",
           "caxis": {
            "gridcolor": "white",
            "linecolor": "white",
            "ticks": ""
           }
          },
          "title": {
           "x": 0.05
          },
          "xaxis": {
           "automargin": true,
           "gridcolor": "white",
           "linecolor": "white",
           "ticks": "",
           "title": {
            "standoff": 15
           },
           "zerolinecolor": "white",
           "zerolinewidth": 2
          },
          "yaxis": {
           "automargin": true,
           "gridcolor": "white",
           "linecolor": "white",
           "ticks": "",
           "title": {
            "standoff": 15
           },
           "zerolinecolor": "white",
           "zerolinewidth": 2
          }
         }
        },
        "title": {
         "text": "Con línea de tendencia"
        },
        "xaxis": {
         "anchor": "y",
         "domain": [
          0,
          1
         ],
         "title": {
          "text": "year"
         }
        },
        "yaxis": {
         "anchor": "x",
         "domain": [
          0,
          1
         ],
         "title": {
          "text": "count"
         }
        }
       }
      }
     },
     "metadata": {},
     "output_type": "display_data"
    }
   ],
   "source": [
    "# Ajuste de línea de regresión lineal\n",
    "coef = np.polyfit(anos_disp['year'], anos_disp['count'], 1)\n",
    "poly1d_fn = np.poly1d(coef)\n",
    "\n",
    "# Crear gráfico base con plotly express\n",
    "fig = px.line(anos_disp, x=\"year\", y=\"count\", title=\"Con línea de tendencia\")\n",
    "\n",
    "# Añadir línea de tendencia\n",
    "fig.add_trace(go.Scatter(\n",
    "    x=anos_disp['year'],\n",
    "    y=poly1d_fn(anos_disp['year']),\n",
    "    mode='lines',\n",
    "    name='Tendencia',\n",
    "    line=dict(color='red', dash='dash')\n",
    "))\n",
    "\n",
    "fig.show()\n"
   ]
  },
  {
   "cell_type": "code",
   "execution_count": 44,
   "id": "e8344afc",
   "metadata": {},
   "outputs": [
    {
     "data": {
      "application/vnd.plotly.v1+json": {
       "config": {
        "plotlyServerURL": "https://plot.ly"
       },
       "data": [
        {
         "hovertemplate": "_index=%{x}<br>0=%{y}<extra></extra>",
         "legendgroup": "",
         "line": {
          "color": "#636efa",
          "dash": "solid"
         },
         "marker": {
          "symbol": "circle"
         },
         "mode": "lines",
         "name": "",
         "orientation": "v",
         "showlegend": false,
         "type": "scatter",
         "x": [
          0,
          1,
          2,
          3,
          4,
          5,
          6,
          7,
          8,
          9,
          10,
          11,
          12,
          13,
          14,
          15,
          16,
          17,
          18,
          19,
          20,
          21,
          22,
          23,
          24,
          25,
          26,
          27
         ],
         "xaxis": "x",
         "y": [
          244795350,
          258435067,
          270880055,
          279808107.5,
          294018094.5,
          320405957,
          319369949,
          328511926.5,
          323652399,
          355388696.5,
          377587329.5,
          399670588,
          425345042,
          434836389.5,
          417101789.5,
          444862003,
          464680495,
          486219766.5,
          509261938.5,
          538039305,
          554020253,
          577554024,
          614870154,
          644725347.5,
          646366985.5,
          168267406.5,
          186977217.5,
          321839297.5
         ],
         "yaxis": "y"
        },
        {
         "line": {
          "color": "red",
          "dash": "dash"
         },
         "mode": "lines",
         "name": "Tendencia",
         "type": "scatter",
         "x": [
          0,
          1,
          2,
          3,
          4,
          5,
          6,
          7,
          8,
          9,
          10,
          11,
          12,
          13,
          14,
          15,
          16,
          17,
          18,
          19,
          20,
          21,
          22,
          23,
          24,
          25,
          26,
          27
         ],
         "y": [
          293218916.06403923,
          301148443.2709358,
          309077970.4778323,
          317007497.68472886,
          324937024.89162546,
          332866552.098522,
          340796079.30541855,
          348725606.5123151,
          356655133.71921164,
          364584660.92610824,
          372514188.1330048,
          380443715.3399013,
          388373242.5467979,
          396302769.7536944,
          404232296.96059096,
          412161824.1674875,
          420091351.3743841,
          428020878.58128065,
          435950405.7881772,
          443879932.9950738,
          451809460.20197034,
          459738987.4088669,
          467668514.6157634,
          475598041.82265997,
          483527569.0295565,
          491457096.23645306,
          499386623.4433496,
          507316150.65024614
         ]
        }
       ],
       "layout": {
        "legend": {
         "tracegroupgap": 0
        },
        "template": {
         "data": {
          "bar": [
           {
            "error_x": {
             "color": "#2a3f5f"
            },
            "error_y": {
             "color": "#2a3f5f"
            },
            "marker": {
             "line": {
              "color": "#E5ECF6",
              "width": 0.5
             },
             "pattern": {
              "fillmode": "overlay",
              "size": 10,
              "solidity": 0.2
             }
            },
            "type": "bar"
           }
          ],
          "barpolar": [
           {
            "marker": {
             "line": {
              "color": "#E5ECF6",
              "width": 0.5
             },
             "pattern": {
              "fillmode": "overlay",
              "size": 10,
              "solidity": 0.2
             }
            },
            "type": "barpolar"
           }
          ],
          "carpet": [
           {
            "aaxis": {
             "endlinecolor": "#2a3f5f",
             "gridcolor": "white",
             "linecolor": "white",
             "minorgridcolor": "white",
             "startlinecolor": "#2a3f5f"
            },
            "baxis": {
             "endlinecolor": "#2a3f5f",
             "gridcolor": "white",
             "linecolor": "white",
             "minorgridcolor": "white",
             "startlinecolor": "#2a3f5f"
            },
            "type": "carpet"
           }
          ],
          "choropleth": [
           {
            "colorbar": {
             "outlinewidth": 0,
             "ticks": ""
            },
            "type": "choropleth"
           }
          ],
          "contour": [
           {
            "colorbar": {
             "outlinewidth": 0,
             "ticks": ""
            },
            "colorscale": [
             [
              0,
              "#0d0887"
             ],
             [
              0.1111111111111111,
              "#46039f"
             ],
             [
              0.2222222222222222,
              "#7201a8"
             ],
             [
              0.3333333333333333,
              "#9c179e"
             ],
             [
              0.4444444444444444,
              "#bd3786"
             ],
             [
              0.5555555555555556,
              "#d8576b"
             ],
             [
              0.6666666666666666,
              "#ed7953"
             ],
             [
              0.7777777777777778,
              "#fb9f3a"
             ],
             [
              0.8888888888888888,
              "#fdca26"
             ],
             [
              1,
              "#f0f921"
             ]
            ],
            "type": "contour"
           }
          ],
          "contourcarpet": [
           {
            "colorbar": {
             "outlinewidth": 0,
             "ticks": ""
            },
            "type": "contourcarpet"
           }
          ],
          "heatmap": [
           {
            "colorbar": {
             "outlinewidth": 0,
             "ticks": ""
            },
            "colorscale": [
             [
              0,
              "#0d0887"
             ],
             [
              0.1111111111111111,
              "#46039f"
             ],
             [
              0.2222222222222222,
              "#7201a8"
             ],
             [
              0.3333333333333333,
              "#9c179e"
             ],
             [
              0.4444444444444444,
              "#bd3786"
             ],
             [
              0.5555555555555556,
              "#d8576b"
             ],
             [
              0.6666666666666666,
              "#ed7953"
             ],
             [
              0.7777777777777778,
              "#fb9f3a"
             ],
             [
              0.8888888888888888,
              "#fdca26"
             ],
             [
              1,
              "#f0f921"
             ]
            ],
            "type": "heatmap"
           }
          ],
          "heatmapgl": [
           {
            "colorbar": {
             "outlinewidth": 0,
             "ticks": ""
            },
            "colorscale": [
             [
              0,
              "#0d0887"
             ],
             [
              0.1111111111111111,
              "#46039f"
             ],
             [
              0.2222222222222222,
              "#7201a8"
             ],
             [
              0.3333333333333333,
              "#9c179e"
             ],
             [
              0.4444444444444444,
              "#bd3786"
             ],
             [
              0.5555555555555556,
              "#d8576b"
             ],
             [
              0.6666666666666666,
              "#ed7953"
             ],
             [
              0.7777777777777778,
              "#fb9f3a"
             ],
             [
              0.8888888888888888,
              "#fdca26"
             ],
             [
              1,
              "#f0f921"
             ]
            ],
            "type": "heatmapgl"
           }
          ],
          "histogram": [
           {
            "marker": {
             "pattern": {
              "fillmode": "overlay",
              "size": 10,
              "solidity": 0.2
             }
            },
            "type": "histogram"
           }
          ],
          "histogram2d": [
           {
            "colorbar": {
             "outlinewidth": 0,
             "ticks": ""
            },
            "colorscale": [
             [
              0,
              "#0d0887"
             ],
             [
              0.1111111111111111,
              "#46039f"
             ],
             [
              0.2222222222222222,
              "#7201a8"
             ],
             [
              0.3333333333333333,
              "#9c179e"
             ],
             [
              0.4444444444444444,
              "#bd3786"
             ],
             [
              0.5555555555555556,
              "#d8576b"
             ],
             [
              0.6666666666666666,
              "#ed7953"
             ],
             [
              0.7777777777777778,
              "#fb9f3a"
             ],
             [
              0.8888888888888888,
              "#fdca26"
             ],
             [
              1,
              "#f0f921"
             ]
            ],
            "type": "histogram2d"
           }
          ],
          "histogram2dcontour": [
           {
            "colorbar": {
             "outlinewidth": 0,
             "ticks": ""
            },
            "colorscale": [
             [
              0,
              "#0d0887"
             ],
             [
              0.1111111111111111,
              "#46039f"
             ],
             [
              0.2222222222222222,
              "#7201a8"
             ],
             [
              0.3333333333333333,
              "#9c179e"
             ],
             [
              0.4444444444444444,
              "#bd3786"
             ],
             [
              0.5555555555555556,
              "#d8576b"
             ],
             [
              0.6666666666666666,
              "#ed7953"
             ],
             [
              0.7777777777777778,
              "#fb9f3a"
             ],
             [
              0.8888888888888888,
              "#fdca26"
             ],
             [
              1,
              "#f0f921"
             ]
            ],
            "type": "histogram2dcontour"
           }
          ],
          "mesh3d": [
           {
            "colorbar": {
             "outlinewidth": 0,
             "ticks": ""
            },
            "type": "mesh3d"
           }
          ],
          "parcoords": [
           {
            "line": {
             "colorbar": {
              "outlinewidth": 0,
              "ticks": ""
             }
            },
            "type": "parcoords"
           }
          ],
          "pie": [
           {
            "automargin": true,
            "type": "pie"
           }
          ],
          "scatter": [
           {
            "fillpattern": {
             "fillmode": "overlay",
             "size": 10,
             "solidity": 0.2
            },
            "type": "scatter"
           }
          ],
          "scatter3d": [
           {
            "line": {
             "colorbar": {
              "outlinewidth": 0,
              "ticks": ""
             }
            },
            "marker": {
             "colorbar": {
              "outlinewidth": 0,
              "ticks": ""
             }
            },
            "type": "scatter3d"
           }
          ],
          "scattercarpet": [
           {
            "marker": {
             "colorbar": {
              "outlinewidth": 0,
              "ticks": ""
             }
            },
            "type": "scattercarpet"
           }
          ],
          "scattergeo": [
           {
            "marker": {
             "colorbar": {
              "outlinewidth": 0,
              "ticks": ""
             }
            },
            "type": "scattergeo"
           }
          ],
          "scattergl": [
           {
            "marker": {
             "colorbar": {
              "outlinewidth": 0,
              "ticks": ""
             }
            },
            "type": "scattergl"
           }
          ],
          "scattermapbox": [
           {
            "marker": {
             "colorbar": {
              "outlinewidth": 0,
              "ticks": ""
             }
            },
            "type": "scattermapbox"
           }
          ],
          "scatterpolar": [
           {
            "marker": {
             "colorbar": {
              "outlinewidth": 0,
              "ticks": ""
             }
            },
            "type": "scatterpolar"
           }
          ],
          "scatterpolargl": [
           {
            "marker": {
             "colorbar": {
              "outlinewidth": 0,
              "ticks": ""
             }
            },
            "type": "scatterpolargl"
           }
          ],
          "scatterternary": [
           {
            "marker": {
             "colorbar": {
              "outlinewidth": 0,
              "ticks": ""
             }
            },
            "type": "scatterternary"
           }
          ],
          "surface": [
           {
            "colorbar": {
             "outlinewidth": 0,
             "ticks": ""
            },
            "colorscale": [
             [
              0,
              "#0d0887"
             ],
             [
              0.1111111111111111,
              "#46039f"
             ],
             [
              0.2222222222222222,
              "#7201a8"
             ],
             [
              0.3333333333333333,
              "#9c179e"
             ],
             [
              0.4444444444444444,
              "#bd3786"
             ],
             [
              0.5555555555555556,
              "#d8576b"
             ],
             [
              0.6666666666666666,
              "#ed7953"
             ],
             [
              0.7777777777777778,
              "#fb9f3a"
             ],
             [
              0.8888888888888888,
              "#fdca26"
             ],
             [
              1,
              "#f0f921"
             ]
            ],
            "type": "surface"
           }
          ],
          "table": [
           {
            "cells": {
             "fill": {
              "color": "#EBF0F8"
             },
             "line": {
              "color": "white"
             }
            },
            "header": {
             "fill": {
              "color": "#C8D4E3"
             },
             "line": {
              "color": "white"
             }
            },
            "type": "table"
           }
          ]
         },
         "layout": {
          "annotationdefaults": {
           "arrowcolor": "#2a3f5f",
           "arrowhead": 0,
           "arrowwidth": 1
          },
          "autotypenumbers": "strict",
          "coloraxis": {
           "colorbar": {
            "outlinewidth": 0,
            "ticks": ""
           }
          },
          "colorscale": {
           "diverging": [
            [
             0,
             "#8e0152"
            ],
            [
             0.1,
             "#c51b7d"
            ],
            [
             0.2,
             "#de77ae"
            ],
            [
             0.3,
             "#f1b6da"
            ],
            [
             0.4,
             "#fde0ef"
            ],
            [
             0.5,
             "#f7f7f7"
            ],
            [
             0.6,
             "#e6f5d0"
            ],
            [
             0.7,
             "#b8e186"
            ],
            [
             0.8,
             "#7fbc41"
            ],
            [
             0.9,
             "#4d9221"
            ],
            [
             1,
             "#276419"
            ]
           ],
           "sequential": [
            [
             0,
             "#0d0887"
            ],
            [
             0.1111111111111111,
             "#46039f"
            ],
            [
             0.2222222222222222,
             "#7201a8"
            ],
            [
             0.3333333333333333,
             "#9c179e"
            ],
            [
             0.4444444444444444,
             "#bd3786"
            ],
            [
             0.5555555555555556,
             "#d8576b"
            ],
            [
             0.6666666666666666,
             "#ed7953"
            ],
            [
             0.7777777777777778,
             "#fb9f3a"
            ],
            [
             0.8888888888888888,
             "#fdca26"
            ],
            [
             1,
             "#f0f921"
            ]
           ],
           "sequentialminus": [
            [
             0,
             "#0d0887"
            ],
            [
             0.1111111111111111,
             "#46039f"
            ],
            [
             0.2222222222222222,
             "#7201a8"
            ],
            [
             0.3333333333333333,
             "#9c179e"
            ],
            [
             0.4444444444444444,
             "#bd3786"
            ],
            [
             0.5555555555555556,
             "#d8576b"
            ],
            [
             0.6666666666666666,
             "#ed7953"
            ],
            [
             0.7777777777777778,
             "#fb9f3a"
            ],
            [
             0.8888888888888888,
             "#fdca26"
            ],
            [
             1,
             "#f0f921"
            ]
           ]
          },
          "colorway": [
           "#636efa",
           "#EF553B",
           "#00cc96",
           "#ab63fa",
           "#FFA15A",
           "#19d3f3",
           "#FF6692",
           "#B6E880",
           "#FF97FF",
           "#FECB52"
          ],
          "font": {
           "color": "#2a3f5f"
          },
          "geo": {
           "bgcolor": "white",
           "lakecolor": "white",
           "landcolor": "#E5ECF6",
           "showlakes": true,
           "showland": true,
           "subunitcolor": "white"
          },
          "hoverlabel": {
           "align": "left"
          },
          "hovermode": "closest",
          "mapbox": {
           "style": "light"
          },
          "paper_bgcolor": "white",
          "plot_bgcolor": "#E5ECF6",
          "polar": {
           "angularaxis": {
            "gridcolor": "white",
            "linecolor": "white",
            "ticks": ""
           },
           "bgcolor": "#E5ECF6",
           "radialaxis": {
            "gridcolor": "white",
            "linecolor": "white",
            "ticks": ""
           }
          },
          "scene": {
           "xaxis": {
            "backgroundcolor": "#E5ECF6",
            "gridcolor": "white",
            "gridwidth": 2,
            "linecolor": "white",
            "showbackground": true,
            "ticks": "",
            "zerolinecolor": "white"
           },
           "yaxis": {
            "backgroundcolor": "#E5ECF6",
            "gridcolor": "white",
            "gridwidth": 2,
            "linecolor": "white",
            "showbackground": true,
            "ticks": "",
            "zerolinecolor": "white"
           },
           "zaxis": {
            "backgroundcolor": "#E5ECF6",
            "gridcolor": "white",
            "gridwidth": 2,
            "linecolor": "white",
            "showbackground": true,
            "ticks": "",
            "zerolinecolor": "white"
           }
          },
          "shapedefaults": {
           "line": {
            "color": "#2a3f5f"
           }
          },
          "ternary": {
           "aaxis": {
            "gridcolor": "white",
            "linecolor": "white",
            "ticks": ""
           },
           "baxis": {
            "gridcolor": "white",
            "linecolor": "white",
            "ticks": ""
           },
           "bgcolor": "#E5ECF6",
           "caxis": {
            "gridcolor": "white",
            "linecolor": "white",
            "ticks": ""
           }
          },
          "title": {
           "x": 0.05
          },
          "xaxis": {
           "automargin": true,
           "gridcolor": "white",
           "linecolor": "white",
           "ticks": "",
           "title": {
            "standoff": 15
           },
           "zerolinecolor": "white",
           "zerolinewidth": 2
          },
          "yaxis": {
           "automargin": true,
           "gridcolor": "white",
           "linecolor": "white",
           "ticks": "",
           "title": {
            "standoff": 15
           },
           "zerolinecolor": "white",
           "zerolinewidth": 2
          }
         }
        },
        "title": {
         "text": "Con línea de tendencia"
        },
        "xaxis": {
         "anchor": "y",
         "domain": [
          0,
          1
         ],
         "title": {
          "text": "_index"
         }
        },
        "yaxis": {
         "anchor": "x",
         "domain": [
          0,
          1
         ],
         "title": {
          "text": "0"
         }
        }
       }
      }
     },
     "metadata": {},
     "output_type": "display_data"
    }
   ],
   "source": [
    "# Ajuste de línea de regresión lineal\n",
    "coef = np.polyfit(anos_tourism.index, anos_tourism[0], 1)\n",
    "poly1d_fn = np.poly1d(coef)\n",
    "\n",
    "# Crear gráfico base con plotly express\n",
    "fig = px.line(anos_tourism, x=anos_tourism.index, y=0, title=\"Con línea de tendencia\")\n",
    "\n",
    "# Añadir línea de tendencia\n",
    "fig.add_trace(go.Scatter(\n",
    "    x=anos_tourism.index,\n",
    "    y=poly1d_fn(anos_tourism.index),\n",
    "    mode='lines',\n",
    "    name='Tendencia',\n",
    "    line=dict(color='red', dash='dash')  # Puedes personalizar estilo\n",
    "))\n",
    "\n",
    "fig.show()"
   ]
  },
  {
   "cell_type": "code",
   "execution_count": 22,
   "id": "15b8fdc0",
   "metadata": {},
   "outputs": [
    {
     "data": {
      "application/vnd.plotly.v1+json": {
       "config": {
        "plotlyServerURL": "https://plot.ly"
       },
       "data": [
        {
         "hovertemplate": "year=%{x}<br>count=%{y}<extra></extra>",
         "legendgroup": "",
         "line": {
          "color": "#636efa",
          "dash": "solid"
         },
         "marker": {
          "symbol": "circle"
         },
         "mode": "lines",
         "name": "",
         "orientation": "v",
         "showlegend": false,
         "type": "scatter",
         "x": [
          1925,
          1926,
          1927,
          1928,
          1929,
          1930,
          1931,
          1932,
          1933,
          1934,
          1935,
          1936,
          1937,
          1938,
          1939,
          1940,
          1941,
          1942,
          1943,
          1944,
          1945,
          1946,
          1947,
          1948,
          1949,
          1950,
          1951,
          1952,
          1953,
          1954,
          1955,
          1956,
          1957,
          1958,
          1959,
          1960,
          1961,
          1962,
          1963,
          1964,
          1965,
          1966,
          1967,
          1968,
          1969,
          1970,
          1971,
          1972,
          1973,
          1974,
          1975,
          1976,
          1977,
          1978,
          1979,
          1980,
          1981,
          1982,
          1983,
          1984,
          1985,
          1986,
          1987,
          1988,
          1989,
          1990,
          1991,
          1992,
          1993,
          1994,
          1995,
          1996,
          1997,
          1998,
          1999,
          2000,
          2001,
          2002,
          2003,
          2004,
          2005,
          2006,
          2007,
          2008,
          2009,
          2010,
          2011,
          2012,
          2013,
          2014,
          2015,
          2016,
          2017,
          2018,
          2019,
          2020,
          2021,
          2022,
          2023
         ],
         "xaxis": "x",
         "y": [
          14,
          21,
          19,
          26,
          37,
          26,
          29,
          27,
          22,
          28,
          31,
          32,
          30,
          24,
          25,
          24,
          27,
          39,
          28,
          31,
          16,
          26,
          30,
          29,
          31,
          43,
          32,
          29,
          36,
          45,
          43,
          51,
          41,
          54,
          93,
          93,
          78,
          86,
          61,
          65,
          51,
          58,
          48,
          47,
          29,
          38,
          30,
          36,
          27,
          39,
          49,
          39,
          27,
          26,
          25,
          36,
          49,
          42,
          50,
          41,
          37,
          39,
          35,
          56,
          53,
          39,
          39,
          56,
          56,
          57,
          76,
          61,
          57,
          65,
          66,
          97,
          92,
          88,
          92,
          92,
          103,
          103,
          113,
          122,
          120,
          101,
          128,
          117,
          122,
          125,
          143,
          131,
          138,
          124,
          113,
          101,
          109,
          98,
          65
         ],
         "yaxis": "y"
        }
       ],
       "layout": {
        "legend": {
         "tracegroupgap": 0
        },
        "margin": {
         "t": 60
        },
        "template": {
         "data": {
          "bar": [
           {
            "error_x": {
             "color": "#2a3f5f"
            },
            "error_y": {
             "color": "#2a3f5f"
            },
            "marker": {
             "line": {
              "color": "#E5ECF6",
              "width": 0.5
             },
             "pattern": {
              "fillmode": "overlay",
              "size": 10,
              "solidity": 0.2
             }
            },
            "type": "bar"
           }
          ],
          "barpolar": [
           {
            "marker": {
             "line": {
              "color": "#E5ECF6",
              "width": 0.5
             },
             "pattern": {
              "fillmode": "overlay",
              "size": 10,
              "solidity": 0.2
             }
            },
            "type": "barpolar"
           }
          ],
          "carpet": [
           {
            "aaxis": {
             "endlinecolor": "#2a3f5f",
             "gridcolor": "white",
             "linecolor": "white",
             "minorgridcolor": "white",
             "startlinecolor": "#2a3f5f"
            },
            "baxis": {
             "endlinecolor": "#2a3f5f",
             "gridcolor": "white",
             "linecolor": "white",
             "minorgridcolor": "white",
             "startlinecolor": "#2a3f5f"
            },
            "type": "carpet"
           }
          ],
          "choropleth": [
           {
            "colorbar": {
             "outlinewidth": 0,
             "ticks": ""
            },
            "type": "choropleth"
           }
          ],
          "contour": [
           {
            "colorbar": {
             "outlinewidth": 0,
             "ticks": ""
            },
            "colorscale": [
             [
              0,
              "#0d0887"
             ],
             [
              0.1111111111111111,
              "#46039f"
             ],
             [
              0.2222222222222222,
              "#7201a8"
             ],
             [
              0.3333333333333333,
              "#9c179e"
             ],
             [
              0.4444444444444444,
              "#bd3786"
             ],
             [
              0.5555555555555556,
              "#d8576b"
             ],
             [
              0.6666666666666666,
              "#ed7953"
             ],
             [
              0.7777777777777778,
              "#fb9f3a"
             ],
             [
              0.8888888888888888,
              "#fdca26"
             ],
             [
              1,
              "#f0f921"
             ]
            ],
            "type": "contour"
           }
          ],
          "contourcarpet": [
           {
            "colorbar": {
             "outlinewidth": 0,
             "ticks": ""
            },
            "type": "contourcarpet"
           }
          ],
          "heatmap": [
           {
            "colorbar": {
             "outlinewidth": 0,
             "ticks": ""
            },
            "colorscale": [
             [
              0,
              "#0d0887"
             ],
             [
              0.1111111111111111,
              "#46039f"
             ],
             [
              0.2222222222222222,
              "#7201a8"
             ],
             [
              0.3333333333333333,
              "#9c179e"
             ],
             [
              0.4444444444444444,
              "#bd3786"
             ],
             [
              0.5555555555555556,
              "#d8576b"
             ],
             [
              0.6666666666666666,
              "#ed7953"
             ],
             [
              0.7777777777777778,
              "#fb9f3a"
             ],
             [
              0.8888888888888888,
              "#fdca26"
             ],
             [
              1,
              "#f0f921"
             ]
            ],
            "type": "heatmap"
           }
          ],
          "heatmapgl": [
           {
            "colorbar": {
             "outlinewidth": 0,
             "ticks": ""
            },
            "colorscale": [
             [
              0,
              "#0d0887"
             ],
             [
              0.1111111111111111,
              "#46039f"
             ],
             [
              0.2222222222222222,
              "#7201a8"
             ],
             [
              0.3333333333333333,
              "#9c179e"
             ],
             [
              0.4444444444444444,
              "#bd3786"
             ],
             [
              0.5555555555555556,
              "#d8576b"
             ],
             [
              0.6666666666666666,
              "#ed7953"
             ],
             [
              0.7777777777777778,
              "#fb9f3a"
             ],
             [
              0.8888888888888888,
              "#fdca26"
             ],
             [
              1,
              "#f0f921"
             ]
            ],
            "type": "heatmapgl"
           }
          ],
          "histogram": [
           {
            "marker": {
             "pattern": {
              "fillmode": "overlay",
              "size": 10,
              "solidity": 0.2
             }
            },
            "type": "histogram"
           }
          ],
          "histogram2d": [
           {
            "colorbar": {
             "outlinewidth": 0,
             "ticks": ""
            },
            "colorscale": [
             [
              0,
              "#0d0887"
             ],
             [
              0.1111111111111111,
              "#46039f"
             ],
             [
              0.2222222222222222,
              "#7201a8"
             ],
             [
              0.3333333333333333,
              "#9c179e"
             ],
             [
              0.4444444444444444,
              "#bd3786"
             ],
             [
              0.5555555555555556,
              "#d8576b"
             ],
             [
              0.6666666666666666,
              "#ed7953"
             ],
             [
              0.7777777777777778,
              "#fb9f3a"
             ],
             [
              0.8888888888888888,
              "#fdca26"
             ],
             [
              1,
              "#f0f921"
             ]
            ],
            "type": "histogram2d"
           }
          ],
          "histogram2dcontour": [
           {
            "colorbar": {
             "outlinewidth": 0,
             "ticks": ""
            },
            "colorscale": [
             [
              0,
              "#0d0887"
             ],
             [
              0.1111111111111111,
              "#46039f"
             ],
             [
              0.2222222222222222,
              "#7201a8"
             ],
             [
              0.3333333333333333,
              "#9c179e"
             ],
             [
              0.4444444444444444,
              "#bd3786"
             ],
             [
              0.5555555555555556,
              "#d8576b"
             ],
             [
              0.6666666666666666,
              "#ed7953"
             ],
             [
              0.7777777777777778,
              "#fb9f3a"
             ],
             [
              0.8888888888888888,
              "#fdca26"
             ],
             [
              1,
              "#f0f921"
             ]
            ],
            "type": "histogram2dcontour"
           }
          ],
          "mesh3d": [
           {
            "colorbar": {
             "outlinewidth": 0,
             "ticks": ""
            },
            "type": "mesh3d"
           }
          ],
          "parcoords": [
           {
            "line": {
             "colorbar": {
              "outlinewidth": 0,
              "ticks": ""
             }
            },
            "type": "parcoords"
           }
          ],
          "pie": [
           {
            "automargin": true,
            "type": "pie"
           }
          ],
          "scatter": [
           {
            "fillpattern": {
             "fillmode": "overlay",
             "size": 10,
             "solidity": 0.2
            },
            "type": "scatter"
           }
          ],
          "scatter3d": [
           {
            "line": {
             "colorbar": {
              "outlinewidth": 0,
              "ticks": ""
             }
            },
            "marker": {
             "colorbar": {
              "outlinewidth": 0,
              "ticks": ""
             }
            },
            "type": "scatter3d"
           }
          ],
          "scattercarpet": [
           {
            "marker": {
             "colorbar": {
              "outlinewidth": 0,
              "ticks": ""
             }
            },
            "type": "scattercarpet"
           }
          ],
          "scattergeo": [
           {
            "marker": {
             "colorbar": {
              "outlinewidth": 0,
              "ticks": ""
             }
            },
            "type": "scattergeo"
           }
          ],
          "scattergl": [
           {
            "marker": {
             "colorbar": {
              "outlinewidth": 0,
              "ticks": ""
             }
            },
            "type": "scattergl"
           }
          ],
          "scattermapbox": [
           {
            "marker": {
             "colorbar": {
              "outlinewidth": 0,
              "ticks": ""
             }
            },
            "type": "scattermapbox"
           }
          ],
          "scatterpolar": [
           {
            "marker": {
             "colorbar": {
              "outlinewidth": 0,
              "ticks": ""
             }
            },
            "type": "scatterpolar"
           }
          ],
          "scatterpolargl": [
           {
            "marker": {
             "colorbar": {
              "outlinewidth": 0,
              "ticks": ""
             }
            },
            "type": "scatterpolargl"
           }
          ],
          "scatterternary": [
           {
            "marker": {
             "colorbar": {
              "outlinewidth": 0,
              "ticks": ""
             }
            },
            "type": "scatterternary"
           }
          ],
          "surface": [
           {
            "colorbar": {
             "outlinewidth": 0,
             "ticks": ""
            },
            "colorscale": [
             [
              0,
              "#0d0887"
             ],
             [
              0.1111111111111111,
              "#46039f"
             ],
             [
              0.2222222222222222,
              "#7201a8"
             ],
             [
              0.3333333333333333,
              "#9c179e"
             ],
             [
              0.4444444444444444,
              "#bd3786"
             ],
             [
              0.5555555555555556,
              "#d8576b"
             ],
             [
              0.6666666666666666,
              "#ed7953"
             ],
             [
              0.7777777777777778,
              "#fb9f3a"
             ],
             [
              0.8888888888888888,
              "#fdca26"
             ],
             [
              1,
              "#f0f921"
             ]
            ],
            "type": "surface"
           }
          ],
          "table": [
           {
            "cells": {
             "fill": {
              "color": "#EBF0F8"
             },
             "line": {
              "color": "white"
             }
            },
            "header": {
             "fill": {
              "color": "#C8D4E3"
             },
             "line": {
              "color": "white"
             }
            },
            "type": "table"
           }
          ]
         },
         "layout": {
          "annotationdefaults": {
           "arrowcolor": "#2a3f5f",
           "arrowhead": 0,
           "arrowwidth": 1
          },
          "autotypenumbers": "strict",
          "coloraxis": {
           "colorbar": {
            "outlinewidth": 0,
            "ticks": ""
           }
          },
          "colorscale": {
           "diverging": [
            [
             0,
             "#8e0152"
            ],
            [
             0.1,
             "#c51b7d"
            ],
            [
             0.2,
             "#de77ae"
            ],
            [
             0.3,
             "#f1b6da"
            ],
            [
             0.4,
             "#fde0ef"
            ],
            [
             0.5,
             "#f7f7f7"
            ],
            [
             0.6,
             "#e6f5d0"
            ],
            [
             0.7,
             "#b8e186"
            ],
            [
             0.8,
             "#7fbc41"
            ],
            [
             0.9,
             "#4d9221"
            ],
            [
             1,
             "#276419"
            ]
           ],
           "sequential": [
            [
             0,
             "#0d0887"
            ],
            [
             0.1111111111111111,
             "#46039f"
            ],
            [
             0.2222222222222222,
             "#7201a8"
            ],
            [
             0.3333333333333333,
             "#9c179e"
            ],
            [
             0.4444444444444444,
             "#bd3786"
            ],
            [
             0.5555555555555556,
             "#d8576b"
            ],
            [
             0.6666666666666666,
             "#ed7953"
            ],
            [
             0.7777777777777778,
             "#fb9f3a"
            ],
            [
             0.8888888888888888,
             "#fdca26"
            ],
            [
             1,
             "#f0f921"
            ]
           ],
           "sequentialminus": [
            [
             0,
             "#0d0887"
            ],
            [
             0.1111111111111111,
             "#46039f"
            ],
            [
             0.2222222222222222,
             "#7201a8"
            ],
            [
             0.3333333333333333,
             "#9c179e"
            ],
            [
             0.4444444444444444,
             "#bd3786"
            ],
            [
             0.5555555555555556,
             "#d8576b"
            ],
            [
             0.6666666666666666,
             "#ed7953"
            ],
            [
             0.7777777777777778,
             "#fb9f3a"
            ],
            [
             0.8888888888888888,
             "#fdca26"
            ],
            [
             1,
             "#f0f921"
            ]
           ]
          },
          "colorway": [
           "#636efa",
           "#EF553B",
           "#00cc96",
           "#ab63fa",
           "#FFA15A",
           "#19d3f3",
           "#FF6692",
           "#B6E880",
           "#FF97FF",
           "#FECB52"
          ],
          "font": {
           "color": "#2a3f5f"
          },
          "geo": {
           "bgcolor": "white",
           "lakecolor": "white",
           "landcolor": "#E5ECF6",
           "showlakes": true,
           "showland": true,
           "subunitcolor": "white"
          },
          "hoverlabel": {
           "align": "left"
          },
          "hovermode": "closest",
          "mapbox": {
           "style": "light"
          },
          "paper_bgcolor": "white",
          "plot_bgcolor": "#E5ECF6",
          "polar": {
           "angularaxis": {
            "gridcolor": "white",
            "linecolor": "white",
            "ticks": ""
           },
           "bgcolor": "#E5ECF6",
           "radialaxis": {
            "gridcolor": "white",
            "linecolor": "white",
            "ticks": ""
           }
          },
          "scene": {
           "xaxis": {
            "backgroundcolor": "#E5ECF6",
            "gridcolor": "white",
            "gridwidth": 2,
            "linecolor": "white",
            "showbackground": true,
            "ticks": "",
            "zerolinecolor": "white"
           },
           "yaxis": {
            "backgroundcolor": "#E5ECF6",
            "gridcolor": "white",
            "gridwidth": 2,
            "linecolor": "white",
            "showbackground": true,
            "ticks": "",
            "zerolinecolor": "white"
           },
           "zaxis": {
            "backgroundcolor": "#E5ECF6",
            "gridcolor": "white",
            "gridwidth": 2,
            "linecolor": "white",
            "showbackground": true,
            "ticks": "",
            "zerolinecolor": "white"
           }
          },
          "shapedefaults": {
           "line": {
            "color": "#2a3f5f"
           }
          },
          "ternary": {
           "aaxis": {
            "gridcolor": "white",
            "linecolor": "white",
            "ticks": ""
           },
           "baxis": {
            "gridcolor": "white",
            "linecolor": "white",
            "ticks": ""
           },
           "bgcolor": "#E5ECF6",
           "caxis": {
            "gridcolor": "white",
            "linecolor": "white",
            "ticks": ""
           }
          },
          "title": {
           "x": 0.05
          },
          "xaxis": {
           "automargin": true,
           "gridcolor": "white",
           "linecolor": "white",
           "ticks": "",
           "title": {
            "standoff": 15
           },
           "zerolinecolor": "white",
           "zerolinewidth": 2
          },
          "yaxis": {
           "automargin": true,
           "gridcolor": "white",
           "linecolor": "white",
           "ticks": "",
           "title": {
            "standoff": 15
           },
           "zerolinecolor": "white",
           "zerolinewidth": 2
          }
         }
        },
        "xaxis": {
         "anchor": "y",
         "domain": [
          0,
          1
         ],
         "title": {
          "text": "year"
         }
        },
        "yaxis": {
         "anchor": "x",
         "domain": [
          0,
          1
         ],
         "title": {
          "text": "count"
         }
        }
       }
      }
     },
     "metadata": {},
     "output_type": "display_data"
    },
    {
     "data": {
      "application/vnd.plotly.v1+json": {
       "config": {
        "plotlyServerURL": "https://plot.ly"
       },
       "data": [
        {
         "hovertemplate": "index=%{x}<br>0=%{y}<extra></extra>",
         "legendgroup": "",
         "line": {
          "color": "#636efa",
          "dash": "solid"
         },
         "marker": {
          "symbol": "circle"
         },
         "mode": "lines",
         "name": "",
         "orientation": "v",
         "showlegend": false,
         "type": "scatter",
         "x": [
          "1995",
          "1996",
          "1997",
          "1998",
          "1999",
          "2000",
          "2001",
          "2002",
          "2003",
          "2004",
          "2005",
          "2006",
          "2007",
          "2008",
          "2009",
          "2010",
          "2011",
          "2012",
          "2013",
          "2014",
          "2015",
          "2016",
          "2017",
          "2018",
          "2019",
          "2020",
          "2021",
          "2022"
         ],
         "xaxis": "x",
         "y": [
          244795350,
          258435067,
          270880055,
          279808107.5,
          294018094.5,
          320405957,
          319369949,
          328511926.5,
          323652399,
          355388696.5,
          377587329.5,
          399670588,
          425345042,
          434836389.5,
          417101789.5,
          444862003,
          464680495,
          486219766.5,
          509261938.5,
          538039305,
          554020253,
          577554024,
          614870154,
          644725347.5,
          646366985.5,
          168267406.5,
          186977217.5,
          321839297.5
         ],
         "yaxis": "y"
        }
       ],
       "layout": {
        "legend": {
         "tracegroupgap": 0
        },
        "margin": {
         "t": 60
        },
        "template": {
         "data": {
          "bar": [
           {
            "error_x": {
             "color": "#2a3f5f"
            },
            "error_y": {
             "color": "#2a3f5f"
            },
            "marker": {
             "line": {
              "color": "#E5ECF6",
              "width": 0.5
             },
             "pattern": {
              "fillmode": "overlay",
              "size": 10,
              "solidity": 0.2
             }
            },
            "type": "bar"
           }
          ],
          "barpolar": [
           {
            "marker": {
             "line": {
              "color": "#E5ECF6",
              "width": 0.5
             },
             "pattern": {
              "fillmode": "overlay",
              "size": 10,
              "solidity": 0.2
             }
            },
            "type": "barpolar"
           }
          ],
          "carpet": [
           {
            "aaxis": {
             "endlinecolor": "#2a3f5f",
             "gridcolor": "white",
             "linecolor": "white",
             "minorgridcolor": "white",
             "startlinecolor": "#2a3f5f"
            },
            "baxis": {
             "endlinecolor": "#2a3f5f",
             "gridcolor": "white",
             "linecolor": "white",
             "minorgridcolor": "white",
             "startlinecolor": "#2a3f5f"
            },
            "type": "carpet"
           }
          ],
          "choropleth": [
           {
            "colorbar": {
             "outlinewidth": 0,
             "ticks": ""
            },
            "type": "choropleth"
           }
          ],
          "contour": [
           {
            "colorbar": {
             "outlinewidth": 0,
             "ticks": ""
            },
            "colorscale": [
             [
              0,
              "#0d0887"
             ],
             [
              0.1111111111111111,
              "#46039f"
             ],
             [
              0.2222222222222222,
              "#7201a8"
             ],
             [
              0.3333333333333333,
              "#9c179e"
             ],
             [
              0.4444444444444444,
              "#bd3786"
             ],
             [
              0.5555555555555556,
              "#d8576b"
             ],
             [
              0.6666666666666666,
              "#ed7953"
             ],
             [
              0.7777777777777778,
              "#fb9f3a"
             ],
             [
              0.8888888888888888,
              "#fdca26"
             ],
             [
              1,
              "#f0f921"
             ]
            ],
            "type": "contour"
           }
          ],
          "contourcarpet": [
           {
            "colorbar": {
             "outlinewidth": 0,
             "ticks": ""
            },
            "type": "contourcarpet"
           }
          ],
          "heatmap": [
           {
            "colorbar": {
             "outlinewidth": 0,
             "ticks": ""
            },
            "colorscale": [
             [
              0,
              "#0d0887"
             ],
             [
              0.1111111111111111,
              "#46039f"
             ],
             [
              0.2222222222222222,
              "#7201a8"
             ],
             [
              0.3333333333333333,
              "#9c179e"
             ],
             [
              0.4444444444444444,
              "#bd3786"
             ],
             [
              0.5555555555555556,
              "#d8576b"
             ],
             [
              0.6666666666666666,
              "#ed7953"
             ],
             [
              0.7777777777777778,
              "#fb9f3a"
             ],
             [
              0.8888888888888888,
              "#fdca26"
             ],
             [
              1,
              "#f0f921"
             ]
            ],
            "type": "heatmap"
           }
          ],
          "heatmapgl": [
           {
            "colorbar": {
             "outlinewidth": 0,
             "ticks": ""
            },
            "colorscale": [
             [
              0,
              "#0d0887"
             ],
             [
              0.1111111111111111,
              "#46039f"
             ],
             [
              0.2222222222222222,
              "#7201a8"
             ],
             [
              0.3333333333333333,
              "#9c179e"
             ],
             [
              0.4444444444444444,
              "#bd3786"
             ],
             [
              0.5555555555555556,
              "#d8576b"
             ],
             [
              0.6666666666666666,
              "#ed7953"
             ],
             [
              0.7777777777777778,
              "#fb9f3a"
             ],
             [
              0.8888888888888888,
              "#fdca26"
             ],
             [
              1,
              "#f0f921"
             ]
            ],
            "type": "heatmapgl"
           }
          ],
          "histogram": [
           {
            "marker": {
             "pattern": {
              "fillmode": "overlay",
              "size": 10,
              "solidity": 0.2
             }
            },
            "type": "histogram"
           }
          ],
          "histogram2d": [
           {
            "colorbar": {
             "outlinewidth": 0,
             "ticks": ""
            },
            "colorscale": [
             [
              0,
              "#0d0887"
             ],
             [
              0.1111111111111111,
              "#46039f"
             ],
             [
              0.2222222222222222,
              "#7201a8"
             ],
             [
              0.3333333333333333,
              "#9c179e"
             ],
             [
              0.4444444444444444,
              "#bd3786"
             ],
             [
              0.5555555555555556,
              "#d8576b"
             ],
             [
              0.6666666666666666,
              "#ed7953"
             ],
             [
              0.7777777777777778,
              "#fb9f3a"
             ],
             [
              0.8888888888888888,
              "#fdca26"
             ],
             [
              1,
              "#f0f921"
             ]
            ],
            "type": "histogram2d"
           }
          ],
          "histogram2dcontour": [
           {
            "colorbar": {
             "outlinewidth": 0,
             "ticks": ""
            },
            "colorscale": [
             [
              0,
              "#0d0887"
             ],
             [
              0.1111111111111111,
              "#46039f"
             ],
             [
              0.2222222222222222,
              "#7201a8"
             ],
             [
              0.3333333333333333,
              "#9c179e"
             ],
             [
              0.4444444444444444,
              "#bd3786"
             ],
             [
              0.5555555555555556,
              "#d8576b"
             ],
             [
              0.6666666666666666,
              "#ed7953"
             ],
             [
              0.7777777777777778,
              "#fb9f3a"
             ],
             [
              0.8888888888888888,
              "#fdca26"
             ],
             [
              1,
              "#f0f921"
             ]
            ],
            "type": "histogram2dcontour"
           }
          ],
          "mesh3d": [
           {
            "colorbar": {
             "outlinewidth": 0,
             "ticks": ""
            },
            "type": "mesh3d"
           }
          ],
          "parcoords": [
           {
            "line": {
             "colorbar": {
              "outlinewidth": 0,
              "ticks": ""
             }
            },
            "type": "parcoords"
           }
          ],
          "pie": [
           {
            "automargin": true,
            "type": "pie"
           }
          ],
          "scatter": [
           {
            "fillpattern": {
             "fillmode": "overlay",
             "size": 10,
             "solidity": 0.2
            },
            "type": "scatter"
           }
          ],
          "scatter3d": [
           {
            "line": {
             "colorbar": {
              "outlinewidth": 0,
              "ticks": ""
             }
            },
            "marker": {
             "colorbar": {
              "outlinewidth": 0,
              "ticks": ""
             }
            },
            "type": "scatter3d"
           }
          ],
          "scattercarpet": [
           {
            "marker": {
             "colorbar": {
              "outlinewidth": 0,
              "ticks": ""
             }
            },
            "type": "scattercarpet"
           }
          ],
          "scattergeo": [
           {
            "marker": {
             "colorbar": {
              "outlinewidth": 0,
              "ticks": ""
             }
            },
            "type": "scattergeo"
           }
          ],
          "scattergl": [
           {
            "marker": {
             "colorbar": {
              "outlinewidth": 0,
              "ticks": ""
             }
            },
            "type": "scattergl"
           }
          ],
          "scattermapbox": [
           {
            "marker": {
             "colorbar": {
              "outlinewidth": 0,
              "ticks": ""
             }
            },
            "type": "scattermapbox"
           }
          ],
          "scatterpolar": [
           {
            "marker": {
             "colorbar": {
              "outlinewidth": 0,
              "ticks": ""
             }
            },
            "type": "scatterpolar"
           }
          ],
          "scatterpolargl": [
           {
            "marker": {
             "colorbar": {
              "outlinewidth": 0,
              "ticks": ""
             }
            },
            "type": "scatterpolargl"
           }
          ],
          "scatterternary": [
           {
            "marker": {
             "colorbar": {
              "outlinewidth": 0,
              "ticks": ""
             }
            },
            "type": "scatterternary"
           }
          ],
          "surface": [
           {
            "colorbar": {
             "outlinewidth": 0,
             "ticks": ""
            },
            "colorscale": [
             [
              0,
              "#0d0887"
             ],
             [
              0.1111111111111111,
              "#46039f"
             ],
             [
              0.2222222222222222,
              "#7201a8"
             ],
             [
              0.3333333333333333,
              "#9c179e"
             ],
             [
              0.4444444444444444,
              "#bd3786"
             ],
             [
              0.5555555555555556,
              "#d8576b"
             ],
             [
              0.6666666666666666,
              "#ed7953"
             ],
             [
              0.7777777777777778,
              "#fb9f3a"
             ],
             [
              0.8888888888888888,
              "#fdca26"
             ],
             [
              1,
              "#f0f921"
             ]
            ],
            "type": "surface"
           }
          ],
          "table": [
           {
            "cells": {
             "fill": {
              "color": "#EBF0F8"
             },
             "line": {
              "color": "white"
             }
            },
            "header": {
             "fill": {
              "color": "#C8D4E3"
             },
             "line": {
              "color": "white"
             }
            },
            "type": "table"
           }
          ]
         },
         "layout": {
          "annotationdefaults": {
           "arrowcolor": "#2a3f5f",
           "arrowhead": 0,
           "arrowwidth": 1
          },
          "autotypenumbers": "strict",
          "coloraxis": {
           "colorbar": {
            "outlinewidth": 0,
            "ticks": ""
           }
          },
          "colorscale": {
           "diverging": [
            [
             0,
             "#8e0152"
            ],
            [
             0.1,
             "#c51b7d"
            ],
            [
             0.2,
             "#de77ae"
            ],
            [
             0.3,
             "#f1b6da"
            ],
            [
             0.4,
             "#fde0ef"
            ],
            [
             0.5,
             "#f7f7f7"
            ],
            [
             0.6,
             "#e6f5d0"
            ],
            [
             0.7,
             "#b8e186"
            ],
            [
             0.8,
             "#7fbc41"
            ],
            [
             0.9,
             "#4d9221"
            ],
            [
             1,
             "#276419"
            ]
           ],
           "sequential": [
            [
             0,
             "#0d0887"
            ],
            [
             0.1111111111111111,
             "#46039f"
            ],
            [
             0.2222222222222222,
             "#7201a8"
            ],
            [
             0.3333333333333333,
             "#9c179e"
            ],
            [
             0.4444444444444444,
             "#bd3786"
            ],
            [
             0.5555555555555556,
             "#d8576b"
            ],
            [
             0.6666666666666666,
             "#ed7953"
            ],
            [
             0.7777777777777778,
             "#fb9f3a"
            ],
            [
             0.8888888888888888,
             "#fdca26"
            ],
            [
             1,
             "#f0f921"
            ]
           ],
           "sequentialminus": [
            [
             0,
             "#0d0887"
            ],
            [
             0.1111111111111111,
             "#46039f"
            ],
            [
             0.2222222222222222,
             "#7201a8"
            ],
            [
             0.3333333333333333,
             "#9c179e"
            ],
            [
             0.4444444444444444,
             "#bd3786"
            ],
            [
             0.5555555555555556,
             "#d8576b"
            ],
            [
             0.6666666666666666,
             "#ed7953"
            ],
            [
             0.7777777777777778,
             "#fb9f3a"
            ],
            [
             0.8888888888888888,
             "#fdca26"
            ],
            [
             1,
             "#f0f921"
            ]
           ]
          },
          "colorway": [
           "#636efa",
           "#EF553B",
           "#00cc96",
           "#ab63fa",
           "#FFA15A",
           "#19d3f3",
           "#FF6692",
           "#B6E880",
           "#FF97FF",
           "#FECB52"
          ],
          "font": {
           "color": "#2a3f5f"
          },
          "geo": {
           "bgcolor": "white",
           "lakecolor": "white",
           "landcolor": "#E5ECF6",
           "showlakes": true,
           "showland": true,
           "subunitcolor": "white"
          },
          "hoverlabel": {
           "align": "left"
          },
          "hovermode": "closest",
          "mapbox": {
           "style": "light"
          },
          "paper_bgcolor": "white",
          "plot_bgcolor": "#E5ECF6",
          "polar": {
           "angularaxis": {
            "gridcolor": "white",
            "linecolor": "white",
            "ticks": ""
           },
           "bgcolor": "#E5ECF6",
           "radialaxis": {
            "gridcolor": "white",
            "linecolor": "white",
            "ticks": ""
           }
          },
          "scene": {
           "xaxis": {
            "backgroundcolor": "#E5ECF6",
            "gridcolor": "white",
            "gridwidth": 2,
            "linecolor": "white",
            "showbackground": true,
            "ticks": "",
            "zerolinecolor": "white"
           },
           "yaxis": {
            "backgroundcolor": "#E5ECF6",
            "gridcolor": "white",
            "gridwidth": 2,
            "linecolor": "white",
            "showbackground": true,
            "ticks": "",
            "zerolinecolor": "white"
           },
           "zaxis": {
            "backgroundcolor": "#E5ECF6",
            "gridcolor": "white",
            "gridwidth": 2,
            "linecolor": "white",
            "showbackground": true,
            "ticks": "",
            "zerolinecolor": "white"
           }
          },
          "shapedefaults": {
           "line": {
            "color": "#2a3f5f"
           }
          },
          "ternary": {
           "aaxis": {
            "gridcolor": "white",
            "linecolor": "white",
            "ticks": ""
           },
           "baxis": {
            "gridcolor": "white",
            "linecolor": "white",
            "ticks": ""
           },
           "bgcolor": "#E5ECF6",
           "caxis": {
            "gridcolor": "white",
            "linecolor": "white",
            "ticks": ""
           }
          },
          "title": {
           "x": 0.05
          },
          "xaxis": {
           "automargin": true,
           "gridcolor": "white",
           "linecolor": "white",
           "ticks": "",
           "title": {
            "standoff": 15
           },
           "zerolinecolor": "white",
           "zerolinewidth": 2
          },
          "yaxis": {
           "automargin": true,
           "gridcolor": "white",
           "linecolor": "white",
           "ticks": "",
           "title": {
            "standoff": 15
           },
           "zerolinecolor": "white",
           "zerolinewidth": 2
          }
         }
        },
        "xaxis": {
         "anchor": "y",
         "domain": [
          0,
          1
         ],
         "title": {
          "text": "index"
         }
        },
        "yaxis": {
         "anchor": "x",
         "domain": [
          0,
          1
         ],
         "title": {
          "text": "0"
         }
        }
       }
      }
     },
     "metadata": {},
     "output_type": "display_data"
    }
   ],
   "source": [
    "display(px.line(anos_disp, x=\"year\", y=\"count\"))\n",
    "display(px.line(anos_tourism, x=anos_tourism.index, y=0))"
   ]
  },
  {
   "cell_type": "code",
   "execution_count": 3,
   "id": "4d8e3df2",
   "metadata": {},
   "outputs": [],
   "source": [
    "# Ataques por actividad\n",
    "df_shark['decade'] = (df_shark['year'] // 10 * 10).astype(int)\n"
   ]
  },
  {
   "cell_type": "code",
   "execution_count": 4,
   "id": "16f52c27",
   "metadata": {},
   "outputs": [
    {
     "name": "stderr",
     "output_type": "stream",
     "text": [
      "C:\\Users\\Vicen\\AppData\\Local\\Temp\\ipykernel_11508\\1335956813.py:7: DeprecationWarning: DataFrameGroupBy.apply operated on the grouping columns. This behavior is deprecated, and in a future version of pandas the grouping columns will be excluded from the operation. Either pass `include_groups=False` to exclude the groupings or explicitly select the grouping columns after groupby to silence this warning.\n",
      "  .apply(lambda x: x.nlargest(5, 'count'))\n"
     ]
    }
   ],
   "source": [
    "# Agrupar por década y actividad, y contar\n",
    "activity_counts = df_shark.groupby(['decade', 'activity']).size().reset_index(name='count')\n",
    "\n",
    "# Para cada década, seleccionar las 5 actividades más comunes\n",
    "top5_by_decade = (\n",
    "    activity_counts.groupby('decade')\n",
    "    .apply(lambda x: x.nlargest(5, 'count'))\n",
    "    .reset_index(drop=True)\n",
    ")\n",
    "\n",
    "# Ahora unimos con país para graficar después\n",
    "df_top5 = df_shark.merge(top5_by_decade[['decade', 'activity']], on=['decade', 'activity'])"
   ]
  },
  {
   "cell_type": "code",
   "execution_count": 5,
   "id": "d45f1a4c",
   "metadata": {},
   "outputs": [],
   "source": [
    "summary = (\n",
    "    df_top5.groupby(['decade', 'activity', 'country'])\n",
    "    .size()\n",
    "    .reset_index(name='count')\n",
    ")"
   ]
  },
  {
   "cell_type": "code",
   "execution_count": 26,
   "id": "72502cf2",
   "metadata": {},
   "outputs": [
    {
     "data": {
      "image/png": "[encoded data removed]",
      "text/plain": [
       "<Figure size 1400x800 with 1 Axes>"
      ]
     },
     "metadata": {},
     "output_type": "display_data"
    }
   ],
   "source": [
    "plt.figure(figsize=(14, 8))\n",
    "scatter = sns.scatterplot(\n",
    "    data=summary,\n",
    "    x='decade',\n",
    "    y='activity',\n",
    "    size='count',\n",
    "    hue='country',\n",
    "    sizes=(50, 1000),\n",
    "    alpha=0.6,\n",
    "    palette='Set2',\n",
    "    legend=False\n",
    ")\n",
    "\n",
    "plt.title('Actividades más comunes durante ataques de tiburones por década', fontsize=16)\n",
    "plt.xlabel('Década')\n",
    "plt.ylabel('Actividad')\n",
    "plt.tight_layout()\n",
    "plt.show();"
   ]
  },
  {
   "cell_type": "code",
   "execution_count": 21,
   "id": "b24f1a67",
   "metadata": {},
   "outputs": [
    {
     "data": {
      "application/vnd.plotly.v1+json": {
       "config": {
        "plotlyServerURL": "https://plot.ly"
       },
       "data": [
        {
         "hovertemplate": "decade=%{x}<br>activity=%{y}<br>count=%{marker.size}<extra></extra>",
         "legendgroup": "",
         "marker": {
          "color": "#636efa",
          "size": [
           3,
           1,
           1,
           1,
           2,
           2,
           1,
           1,
           1,
           1,
           2,
           5,
           8,
           7,
           2,
           1,
           1,
           1,
           1,
           2,
           9,
           2,
           1,
           1,
           1,
           4,
           1,
           1,
           15,
           1,
           2,
           1,
           1,
           1,
           1,
           2,
           1,
           1,
           1,
           4,
           1,
           10,
           11,
           17,
           1,
           2,
           3,
           1,
           1,
           1,
           1,
           1,
           5,
           1,
           1,
           16,
           1,
           1,
           1,
           2,
           1,
           1,
           1,
           12,
           1,
           1,
           1,
           8,
           1,
           2,
           1,
           2,
           16,
           1,
           1,
           5,
           2,
           1,
           2,
           1,
           2,
           1,
           1,
           1,
           1,
           13,
           1,
           5,
           1,
           10,
           4,
           4,
           7,
           1,
           1,
           1,
           2,
           1,
           1,
           3,
           1,
           1,
           1,
           1,
           1,
           11,
           1,
           3,
           1,
           1,
           10,
           13,
           1,
           2,
           2,
           1,
           1,
           11,
           2,
           1,
           1,
           1,
           1,
           7,
           1,
           12,
           1,
           1,
           2,
           1,
           4,
           1,
           1,
           2,
           1,
           1,
           1,
           1,
           3,
           3,
           1,
           8,
           1,
           1,
           13,
           1,
           2,
           2,
           6,
           15,
           3,
           1,
           1,
           1,
           3,
           1,
           1,
           8,
           1,
           11,
           1,
           1,
           6,
           24,
           1,
           1,
           1,
           1,
           6,
           1,
           2,
           2,
           1,
           4,
           8,
           6,
           1,
           1,
           7,
           3,
           1,
           1,
           1,
           5,
           5,
           6,
           1,
           1,
           1,
           10,
           10,
           1,
           2,
           1,
           1,
           1,
           1,
           6,
           4,
           1,
           2,
           6,
           9,
           3,
           1,
           12,
           2,
           1,
           1,
           1,
           1,
           5,
           3,
           2,
           1,
           1,
           1,
           6,
           3,
           1,
           1,
           1,
           3,
           1,
           1,
           1,
           1,
           1,
           6,
           1,
           4,
           8,
           1,
           1,
           9,
           29,
           1,
           2,
           1,
           1,
           1,
           1,
           1,
           3,
           10,
           1,
           1,
           1,
           12,
           1,
           12,
           1,
           1,
           3,
           1,
           1,
           6,
           8,
           2,
           7,
           1,
           1,
           1,
           1,
           1,
           3,
           2,
           19,
           1,
           1,
           4,
           12,
           1,
           2,
           25,
           63,
           4,
           2,
           14,
           1,
           24,
           2,
           12,
           4,
           1,
           1,
           2,
           1,
           2,
           1,
           1,
           1,
           1,
           1,
           2,
           5,
           3,
           7,
           1,
           1,
           2,
           3,
           1,
           11,
           1,
           3,
           1,
           15,
           23,
           2,
           1,
           1,
           5,
           20,
           92,
           8,
           9,
           1,
           5,
           2,
           1,
           1,
           1,
           1,
           2,
           4,
           1,
           28,
           1,
           1,
           1,
           12,
           13,
           1,
           2,
           1,
           1,
           1,
           7,
           1,
           1,
           1,
           1,
           1,
           1,
           8,
           1,
           1,
           14,
           10,
           11,
           1,
           1,
           2,
           1,
           2,
           1,
           2,
           5,
           2,
           1,
           1,
           1,
           3,
           12,
           1,
           54,
           8,
           2,
           2,
           1,
           6,
           2,
           6,
           1,
           3,
           21,
           1,
           208,
           2,
           25,
           1,
           14,
           1,
           2,
           1,
           1,
           2,
           1,
           1,
           2,
           1,
           1,
           4,
           2,
           5,
           2,
           74,
           1,
           1,
           2,
           5,
           1,
           1,
           1,
           1,
           38,
           27,
           1,
           3,
           1,
           1,
           1,
           1,
           1,
           1,
           1,
           1,
           5,
           2,
           1,
           1,
           1,
           1,
           2,
           8,
           2,
           1,
           1,
           1,
           1,
           28,
           13,
           9,
           1,
           2,
           8,
           1,
           1,
           1,
           2,
           2,
           1,
           1,
           1,
           1,
           13,
           21,
           12,
           1,
           3,
           4,
           2,
           3,
           5,
           1,
           1,
           1,
           1,
           3,
           1,
           1,
           16,
           102,
           2,
           6,
           1,
           2,
           2,
           1,
           3,
           6,
           3,
           4,
           10,
           1,
           1,
           22,
           1,
           1,
           1,
           199,
           1,
           21,
           2,
           8,
           1,
           1,
           1,
           2,
           1,
           1,
           1,
           6,
           1,
           2,
           1,
           2,
           1,
           7,
           1,
           9,
           2,
           1,
           1,
           88,
           2,
           5,
           1,
           1,
           1,
           1,
           13,
           6,
           1,
           1,
           2,
           1,
           1,
           1,
           1,
           1,
           1,
           9,
           9,
           2,
           1,
           2,
           1,
           3,
           1,
           9,
           27,
           2,
           1,
           4,
           2,
           47,
           17,
           3,
           1,
           1,
           3,
           2,
           1,
           3,
           4,
           2,
           1,
           1,
           34
          ],
          "sizemode": "area",
          "sizeref": 0.52,
          "symbol": "circle"
         },
         "mode": "markers",
         "name": "",
         "orientation": "h",
         "showlegend": false,
         "type": "scatter",
         "x": [
          1920,
          1920,
          1920,
          1920,
          1920,
          1920,
          1920,
          1920,
          1920,
          1920,
          1920,
          1920,
          1920,
          1920,
          1920,
          1920,
          1920,
          1920,
          1920,
          1920,
          1920,
          1930,
          1930,
          1930,
          1930,
          1930,
          1930,
          1930,
          1930,
          1930,
          1930,
          1930,
          1930,
          1930,
          1930,
          1930,
          1930,
          1930,
          1930,
          1930,
          1930,
          1930,
          1930,
          1930,
          1930,
          1930,
          1930,
          1930,
          1930,
          1930,
          1930,
          1930,
          1930,
          1930,
          1930,
          1930,
          1940,
          1940,
          1940,
          1940,
          1940,
          1940,
          1940,
          1940,
          1940,
          1940,
          1940,
          1940,
          1940,
          1940,
          1940,
          1940,
          1940,
          1940,
          1940,
          1940,
          1940,
          1940,
          1940,
          1940,
          1940,
          1940,
          1940,
          1940,
          1940,
          1940,
          1940,
          1940,
          1940,
          1940,
          1950,
          1950,
          1950,
          1950,
          1950,
          1950,
          1950,
          1950,
          1950,
          1950,
          1950,
          1950,
          1950,
          1950,
          1950,
          1950,
          1950,
          1950,
          1950,
          1950,
          1950,
          1950,
          1950,
          1950,
          1950,
          1950,
          1950,
          1950,
          1950,
          1950,
          1950,
          1950,
          1950,
          1950,
          1950,
          1950,
          1950,
          1950,
          1950,
          1950,
          1950,
          1950,
          1950,
          1950,
          1950,
          1950,
          1950,
          1950,
          1950,
          1950,
          1950,
          1950,
          1950,
          1950,
          1950,
          1950,
          1950,
          1950,
          1950,
          1960,
          1960,
          1960,
          1960,
          1960,
          1960,
          1960,
          1960,
          1960,
          1960,
          1960,
          1960,
          1960,
          1960,
          1960,
          1960,
          1960,
          1960,
          1960,
          1960,
          1960,
          1960,
          1960,
          1960,
          1960,
          1960,
          1960,
          1960,
          1960,
          1960,
          1960,
          1960,
          1960,
          1960,
          1960,
          1960,
          1960,
          1960,
          1960,
          1960,
          1960,
          1960,
          1960,
          1960,
          1960,
          1960,
          1960,
          1960,
          1960,
          1960,
          1960,
          1960,
          1960,
          1960,
          1960,
          1960,
          1960,
          1970,
          1970,
          1970,
          1970,
          1970,
          1970,
          1970,
          1970,
          1970,
          1970,
          1970,
          1970,
          1970,
          1970,
          1970,
          1970,
          1970,
          1970,
          1970,
          1970,
          1970,
          1970,
          1970,
          1970,
          1970,
          1970,
          1970,
          1970,
          1970,
          1970,
          1970,
          1970,
          1970,
          1970,
          1970,
          1970,
          1970,
          1970,
          1970,
          1970,
          1970,
          1970,
          1970,
          1970,
          1970,
          1970,
          1970,
          1980,
          1980,
          1980,
          1980,
          1980,
          1980,
          1980,
          1980,
          1980,
          1980,
          1980,
          1980,
          1980,
          1980,
          1980,
          1980,
          1980,
          1980,
          1980,
          1980,
          1980,
          1980,
          1980,
          1980,
          1980,
          1980,
          1980,
          1980,
          1980,
          1980,
          1990,
          1990,
          1990,
          1990,
          1990,
          1990,
          1990,
          1990,
          1990,
          1990,
          1990,
          1990,
          1990,
          1990,
          1990,
          1990,
          1990,
          1990,
          1990,
          1990,
          1990,
          1990,
          1990,
          1990,
          1990,
          1990,
          1990,
          1990,
          1990,
          1990,
          1990,
          1990,
          1990,
          1990,
          1990,
          1990,
          1990,
          1990,
          1990,
          1990,
          1990,
          1990,
          1990,
          1990,
          1990,
          1990,
          1990,
          1990,
          1990,
          2000,
          2000,
          2000,
          2000,
          2000,
          2000,
          2000,
          2000,
          2000,
          2000,
          2000,
          2000,
          2000,
          2000,
          2000,
          2000,
          2000,
          2000,
          2000,
          2000,
          2000,
          2000,
          2000,
          2000,
          2000,
          2000,
          2000,
          2000,
          2000,
          2000,
          2000,
          2000,
          2000,
          2000,
          2000,
          2000,
          2000,
          2000,
          2000,
          2000,
          2000,
          2000,
          2000,
          2000,
          2000,
          2000,
          2000,
          2000,
          2000,
          2000,
          2000,
          2000,
          2000,
          2000,
          2000,
          2000,
          2000,
          2000,
          2000,
          2000,
          2000,
          2000,
          2000,
          2000,
          2000,
          2000,
          2000,
          2000,
          2000,
          2000,
          2000,
          2000,
          2000,
          2000,
          2000,
          2010,
          2010,
          2010,
          2010,
          2010,
          2010,
          2010,
          2010,
          2010,
          2010,
          2010,
          2010,
          2010,
          2010,
          2010,
          2010,
          2010,
          2010,
          2010,
          2010,
          2010,
          2010,
          2010,
          2010,
          2010,
          2010,
          2010,
          2010,
          2010,
          2010,
          2010,
          2010,
          2010,
          2010,
          2010,
          2010,
          2010,
          2010,
          2010,
          2010,
          2010,
          2010,
          2010,
          2010,
          2010,
          2010,
          2010,
          2010,
          2010,
          2010,
          2010,
          2010,
          2010,
          2010,
          2010,
          2010,
          2010,
          2010,
          2010,
          2010,
          2010,
          2010,
          2010,
          2010,
          2010,
          2010,
          2010,
          2010,
          2010,
          2010,
          2010,
          2010,
          2010,
          2010,
          2010,
          2010,
          2010,
          2010,
          2010,
          2010,
          2010,
          2010,
          2010,
          2010,
          2010,
          2010,
          2010,
          2010,
          2010,
          2010,
          2010,
          2010,
          2010,
          2010,
          2010,
          2010,
          2010,
          2010,
          2010,
          2010,
          2020,
          2020,
          2020,
          2020,
          2020,
          2020,
          2020,
          2020,
          2020,
          2020,
          2020,
          2020,
          2020,
          2020,
          2020,
          2020,
          2020,
          2020,
          2020,
          2020,
          2020,
          2020,
          2020,
          2020,
          2020,
          2020,
          2020,
          2020,
          2020,
          2020,
          2020,
          2020,
          2020,
          2020,
          2020,
          2020,
          2020,
          2020,
          2020,
          2020,
          2020,
          2020,
          2020,
          2020
         ],
         "xaxis": "x",
         "y": [
          "Bathing",
          "Bathing",
          "Bathing",
          "Bathing",
          "Body surfing",
          "Body surfing",
          "Fishing",
          "Fishing",
          "Fishing",
          "Fishing",
          "Fishing",
          "Fishing",
          "Pearl diving",
          "Swimming",
          "Swimming",
          "Swimming",
          "Swimming",
          "Swimming",
          "Swimming",
          "Swimming",
          "Swimming",
          "Bathing",
          "Bathing",
          "Bathing",
          "Bathing",
          "Diving",
          "Diving",
          "Diving",
          "Fishing",
          "Fishing",
          "Fishing",
          "Fishing",
          "Fishing",
          "Fishing",
          "Fishing",
          "Fishing",
          "Fishing",
          "Fishing",
          "Fishing",
          "Fishing",
          "Fishing",
          "Fishing",
          "Pearl diving",
          "Swimming",
          "Swimming",
          "Swimming",
          "Swimming",
          "Swimming",
          "Swimming",
          "Swimming",
          "Swimming",
          "Swimming",
          "Swimming",
          "Swimming",
          "Swimming",
          "Swimming",
          "Bathing",
          "Bathing",
          "Bathing",
          "Bathing",
          "Bathing",
          "Bathing",
          "Bathing",
          "Fishing",
          "Fishing",
          "Fishing",
          "Fishing",
          "Fishing",
          "Standing",
          "Standing",
          "Standing",
          "Standing",
          "Swimming",
          "Swimming",
          "Swimming",
          "Swimming",
          "Swimming",
          "Swimming",
          "Swimming",
          "Swimming",
          "Swimming",
          "Swimming",
          "Swimming",
          "Swimming",
          "Swimming",
          "Swimming",
          "Swimming",
          "Swimming",
          "Treading water",
          "Treading water",
          "Body surfing",
          "Body surfing",
          "Fishing",
          "Fishing",
          "Fishing",
          "Fishing",
          "Fishing",
          "Fishing",
          "Fishing",
          "Fishing",
          "Fishing",
          "Fishing",
          "Fishing",
          "Fishing",
          "Fishing",
          "Fishing",
          "Fishing",
          "Fishing",
          "Fishing",
          "Fishing",
          "Fishing",
          "Spearfishing",
          "Spearfishing",
          "Spearfishing",
          "Spearfishing",
          "Spearfishing",
          "Spearfishing",
          "Spearfishing",
          "Spearfishing",
          "Spearfishing",
          "Spearfishing",
          "Spearfishing",
          "Spearfishing",
          "Spearfishing",
          "Swimming",
          "Swimming",
          "Swimming",
          "Swimming",
          "Swimming",
          "Swimming",
          "Swimming",
          "Swimming",
          "Swimming",
          "Swimming",
          "Swimming",
          "Swimming",
          "Swimming",
          "Swimming",
          "Swimming",
          "Swimming",
          "Swimming",
          "Swimming",
          "Swimming",
          "Swimming",
          "Swimming",
          "Swimming",
          "Wading",
          "Wading",
          "Wading",
          "Fishing",
          "Fishing",
          "Fishing",
          "Fishing",
          "Fishing",
          "Fishing",
          "Fishing",
          "Fishing",
          "Fishing",
          "Fishing",
          "Fishing",
          "Fishing",
          "Fishing",
          "Fishing",
          "Spearfishing",
          "Spearfishing",
          "Spearfishing",
          "Spearfishing",
          "Spearfishing",
          "Spearfishing",
          "Spearfishing",
          "Spearfishing",
          "Spearfishing",
          "Spearfishing",
          "Spearfishing",
          "Spearfishing",
          "Spearfishing",
          "Spearfishing",
          "Spearfishing",
          "Spearfishing",
          "Standing",
          "Standing",
          "Standing",
          "Standing",
          "Standing",
          "Standing",
          "Surfing",
          "Surfing",
          "Surfing",
          "Surfing",
          "Surfing",
          "Swimming",
          "Swimming",
          "Swimming",
          "Swimming",
          "Swimming",
          "Swimming",
          "Swimming",
          "Swimming",
          "Swimming",
          "Swimming",
          "Swimming",
          "Swimming",
          "Swimming",
          "Swimming",
          "Swimming",
          "Swimming",
          "Fishing",
          "Fishing",
          "Fishing",
          "Fishing",
          "Fishing",
          "Fishing",
          "Fishing",
          "Scuba diving",
          "Scuba diving",
          "Scuba diving",
          "Scuba diving",
          "Scuba diving",
          "Spearfishing",
          "Spearfishing",
          "Spearfishing",
          "Spearfishing",
          "Spearfishing",
          "Spearfishing",
          "Spearfishing",
          "Spearfishing",
          "Spearfishing",
          "Spearfishing",
          "Spearfishing",
          "Spearfishing",
          "Spearfishing",
          "Surfing",
          "Surfing",
          "Surfing",
          "Surfing",
          "Surfing",
          "Swimming",
          "Swimming",
          "Swimming",
          "Swimming",
          "Swimming",
          "Swimming",
          "Swimming",
          "Swimming",
          "Swimming",
          "Swimming",
          "Swimming",
          "Swimming",
          "Swimming",
          "Swimming",
          "Swimming",
          "Swimming",
          "Swimming",
          "Fishing",
          "Fishing",
          "Fishing",
          "Fishing",
          "Fishing",
          "Spearfishing",
          "Spearfishing",
          "Spearfishing",
          "Spearfishing",
          "Spearfishing",
          "Spearfishing",
          "Spearfishing",
          "Spearfishing",
          "Spearfishing",
          "Spearfishing",
          "Spearfishing",
          "Spearfishing",
          "Spearfishing",
          "Surfing",
          "Surfing",
          "Surfing",
          "Surfing",
          "Surfing",
          "Swimming",
          "Swimming",
          "Swimming",
          "Swimming",
          "Swimming",
          "Swimming",
          "Wading",
          "Fishing",
          "Fishing",
          "Fishing",
          "Fishing",
          "Fishing",
          "Fishing",
          "Fishing",
          "Fishing",
          "Fishing",
          "Fishing",
          "Fishing",
          "Fishing",
          "Fishing",
          "Spearfishing",
          "Spearfishing",
          "Spearfishing",
          "Spearfishing",
          "Spearfishing",
          "Spearfishing",
          "Spearfishing",
          "Spearfishing",
          "Spearfishing",
          "Spearfishing",
          "Surfing",
          "Surfing",
          "Surfing",
          "Surfing",
          "Surfing",
          "Surfing",
          "Surfing",
          "Surfing",
          "Surfing",
          "Swimming",
          "Swimming",
          "Swimming",
          "Swimming",
          "Swimming",
          "Swimming",
          "Swimming",
          "Swimming",
          "Swimming",
          "Swimming",
          "Swimming",
          "Swimming",
          "Swimming",
          "Swimming",
          "Wading",
          "Wading",
          "Wading",
          "Fishing",
          "Fishing",
          "Fishing",
          "Fishing",
          "Fishing",
          "Fishing",
          "Fishing",
          "Fishing",
          "Fishing",
          "Fishing",
          "Fishing",
          "Fishing",
          "Fishing",
          "Fishing",
          "Fishing",
          "Fishing",
          "Fishing",
          "Spearfishing",
          "Spearfishing",
          "Spearfishing",
          "Spearfishing",
          "Spearfishing",
          "Spearfishing",
          "Spearfishing",
          "Spearfishing",
          "Spearfishing",
          "Spearfishing",
          "Spearfishing",
          "Spearfishing",
          "Spearfishing",
          "Spearfishing",
          "Spearfishing",
          "Spearfishing",
          "Spearfishing",
          "Surfing",
          "Surfing",
          "Surfing",
          "Surfing",
          "Surfing",
          "Surfing",
          "Surfing",
          "Surfing",
          "Surfing",
          "Surfing",
          "Surfing",
          "Surfing",
          "Surfing",
          "Surfing",
          "Swimming",
          "Swimming",
          "Swimming",
          "Swimming",
          "Swimming",
          "Swimming",
          "Swimming",
          "Swimming",
          "Swimming",
          "Swimming",
          "Swimming",
          "Swimming",
          "Swimming",
          "Swimming",
          "Swimming",
          "Swimming",
          "Swimming",
          "Swimming",
          "Swimming",
          "Swimming",
          "Swimming",
          "Wading",
          "Wading",
          "Wading",
          "Wading",
          "Wading",
          "Wading",
          "Fishing",
          "Fishing",
          "Fishing",
          "Fishing",
          "Fishing",
          "Fishing",
          "Fishing",
          "Fishing",
          "Fishing",
          "Fishing",
          "Fishing",
          "Fishing",
          "Fishing",
          "Fishing",
          "Fishing",
          "Fishing",
          "Fishing",
          "Fishing",
          "Fishing",
          "Fishing",
          "Fishing",
          "Fishing",
          "Fishing",
          "Fishing",
          "Fishing",
          "Snorkeling",
          "Snorkeling",
          "Snorkeling",
          "Snorkeling",
          "Snorkeling",
          "Snorkeling",
          "Snorkeling",
          "Snorkeling",
          "Snorkeling",
          "Snorkeling",
          "Snorkeling",
          "Snorkeling",
          "Snorkeling",
          "Snorkeling",
          "Snorkeling",
          "Spearfishing",
          "Spearfishing",
          "Spearfishing",
          "Spearfishing",
          "Spearfishing",
          "Spearfishing",
          "Spearfishing",
          "Spearfishing",
          "Spearfishing",
          "Spearfishing",
          "Spearfishing",
          "Spearfishing",
          "Spearfishing",
          "Spearfishing",
          "Spearfishing",
          "Spearfishing",
          "Surfing",
          "Surfing",
          "Surfing",
          "Surfing",
          "Surfing",
          "Surfing",
          "Surfing",
          "Surfing",
          "Surfing",
          "Surfing",
          "Surfing",
          "Surfing",
          "Surfing",
          "Surfing",
          "Surfing",
          "Surfing",
          "Surfing",
          "Surfing",
          "Surfing",
          "Swimming",
          "Swimming",
          "Swimming",
          "Swimming",
          "Swimming",
          "Swimming",
          "Swimming",
          "Swimming",
          "Swimming",
          "Swimming",
          "Swimming",
          "Swimming",
          "Swimming",
          "Swimming",
          "Swimming",
          "Swimming",
          "Swimming",
          "Swimming",
          "Swimming",
          "Swimming",
          "Swimming",
          "Swimming",
          "Swimming",
          "Swimming",
          "Swimming",
          "Fishing",
          "Fishing",
          "Fishing",
          "Fishing",
          "Fishing",
          "Fishing",
          "Snorkeling",
          "Snorkeling",
          "Snorkeling",
          "Snorkeling",
          "Snorkeling",
          "Snorkeling",
          "Snorkeling",
          "Snorkeling",
          "Snorkeling",
          "Snorkeling",
          "Snorkeling",
          "Spearfishing",
          "Spearfishing",
          "Spearfishing",
          "Spearfishing",
          "Spearfishing",
          "Spearfishing",
          "Spearfishing",
          "Spearfishing",
          "Surfing",
          "Surfing",
          "Surfing",
          "Surfing",
          "Surfing",
          "Surfing",
          "Swimming",
          "Swimming",
          "Swimming",
          "Swimming",
          "Swimming",
          "Swimming",
          "Swimming",
          "Swimming",
          "Swimming",
          "Swimming",
          "Swimming",
          "Swimming",
          "Swimming"
         ],
         "yaxis": "y"
        }
       ],
       "layout": {
        "legend": {
         "itemsizing": "constant",
         "tracegroupgap": 0
        },
        "margin": {
         "t": 60
        },
        "shapes": [
         {
          "fillcolor": "green",
          "layer": "below",
          "line": {
           "width": 0
          },
          "opacity": 0.3,
          "type": "rect",
          "x0": 1960,
          "x1": 1990,
          "y0": 9,
          "y1": 11
         },
         {
          "fillcolor": "red",
          "line": {
           "width": 0
          },
          "opacity": 0.2,
          "type": "rect",
          "x0": 1940,
          "x1": 1960,
          "xref": "x",
          "y0": 0,
          "y1": 1,
          "yref": "y domain"
         },
         {
          "fillcolor": "green",
          "line": {
           "width": 0
          },
          "opacity": 0.2,
          "type": "rect",
          "x0": 0,
          "x1": 1,
          "xref": "x domain",
          "y0": 4,
          "y1": 7,
          "yref": "y"
         }
        ],
        "template": {
         "data": {
          "bar": [
           {
            "error_x": {
             "color": "#2a3f5f"
            },
            "error_y": {
             "color": "#2a3f5f"
            },
            "marker": {
             "line": {
              "color": "#E5ECF6",
              "width": 0.5
             },
             "pattern": {
              "fillmode": "overlay",
              "size": 10,
              "solidity": 0.2
             }
            },
            "type": "bar"
           }
          ],
          "barpolar": [
           {
            "marker": {
             "line": {
              "color": "#E5ECF6",
              "width": 0.5
             },
             "pattern": {
              "fillmode": "overlay",
              "size": 10,
              "solidity": 0.2
             }
            },
            "type": "barpolar"
           }
          ],
          "carpet": [
           {
            "aaxis": {
             "endlinecolor": "#2a3f5f",
             "gridcolor": "white",
             "linecolor": "white",
             "minorgridcolor": "white",
             "startlinecolor": "#2a3f5f"
            },
            "baxis": {
             "endlinecolor": "#2a3f5f",
             "gridcolor": "white",
             "linecolor": "white",
             "minorgridcolor": "white",
             "startlinecolor": "#2a3f5f"
            },
            "type": "carpet"
           }
          ],
          "choropleth": [
           {
            "colorbar": {
             "outlinewidth": 0,
             "ticks": ""
            },
            "type": "choropleth"
           }
          ],
          "contour": [
           {
            "colorbar": {
             "outlinewidth": 0,
             "ticks": ""
            },
            "colorscale": [
             [
              0,
              "#0d0887"
             ],
             [
              0.1111111111111111,
              "#46039f"
             ],
             [
              0.2222222222222222,
              "#7201a8"
             ],
             [
              0.3333333333333333,
              "#9c179e"
             ],
             [
              0.4444444444444444,
              "#bd3786"
             ],
             [
              0.5555555555555556,
              "#d8576b"
             ],
             [
              0.6666666666666666,
              "#ed7953"
             ],
             [
              0.7777777777777778,
              "#fb9f3a"
             ],
             [
              0.8888888888888888,
              "#fdca26"
             ],
             [
              1,
              "#f0f921"
             ]
            ],
            "type": "contour"
           }
          ],
          "contourcarpet": [
           {
            "colorbar": {
             "outlinewidth": 0,
             "ticks": ""
            },
            "type": "contourcarpet"
           }
          ],
          "heatmap": [
           {
            "colorbar": {
             "outlinewidth": 0,
             "ticks": ""
            },
            "colorscale": [
             [
              0,
              "#0d0887"
             ],
             [
              0.1111111111111111,
              "#46039f"
             ],
             [
              0.2222222222222222,
              "#7201a8"
             ],
             [
              0.3333333333333333,
              "#9c179e"
             ],
             [
              0.4444444444444444,
              "#bd3786"
             ],
             [
              0.5555555555555556,
              "#d8576b"
             ],
             [
              0.6666666666666666,
              "#ed7953"
             ],
             [
              0.7777777777777778,
              "#fb9f3a"
             ],
             [
              0.8888888888888888,
              "#fdca26"
             ],
             [
              1,
              "#f0f921"
             ]
            ],
            "type": "heatmap"
           }
          ],
          "heatmapgl": [
           {
            "colorbar": {
             "outlinewidth": 0,
             "ticks": ""
            },
            "colorscale": [
             [
              0,
              "#0d0887"
             ],
             [
              0.1111111111111111,
              "#46039f"
             ],
             [
              0.2222222222222222,
              "#7201a8"
             ],
             [
              0.3333333333333333,
              "#9c179e"
             ],
             [
              0.4444444444444444,
              "#bd3786"
             ],
             [
              0.5555555555555556,
              "#d8576b"
             ],
             [
              0.6666666666666666,
              "#ed7953"
             ],
             [
              0.7777777777777778,
              "#fb9f3a"
             ],
             [
              0.8888888888888888,
              "#fdca26"
             ],
             [
              1,
              "#f0f921"
             ]
            ],
            "type": "heatmapgl"
           }
          ],
          "histogram": [
           {
            "marker": {
             "pattern": {
              "fillmode": "overlay",
              "size": 10,
              "solidity": 0.2
             }
            },
            "type": "histogram"
           }
          ],
          "histogram2d": [
           {
            "colorbar": {
             "outlinewidth": 0,
             "ticks": ""
            },
            "colorscale": [
             [
              0,
              "#0d0887"
             ],
             [
              0.1111111111111111,
              "#46039f"
             ],
             [
              0.2222222222222222,
              "#7201a8"
             ],
             [
              0.3333333333333333,
              "#9c179e"
             ],
             [
              0.4444444444444444,
              "#bd3786"
             ],
             [
              0.5555555555555556,
              "#d8576b"
             ],
             [
              0.6666666666666666,
              "#ed7953"
             ],
             [
              0.7777777777777778,
              "#fb9f3a"
             ],
             [
              0.8888888888888888,
              "#fdca26"
             ],
             [
              1,
              "#f0f921"
             ]
            ],
            "type": "histogram2d"
           }
          ],
          "histogram2dcontour": [
           {
            "colorbar": {
             "outlinewidth": 0,
             "ticks": ""
            },
            "colorscale": [
             [
              0,
              "#0d0887"
             ],
             [
              0.1111111111111111,
              "#46039f"
             ],
             [
              0.2222222222222222,
              "#7201a8"
             ],
             [
              0.3333333333333333,
              "#9c179e"
             ],
             [
              0.4444444444444444,
              "#bd3786"
             ],
             [
              0.5555555555555556,
              "#d8576b"
             ],
             [
              0.6666666666666666,
              "#ed7953"
             ],
             [
              0.7777777777777778,
              "#fb9f3a"
             ],
             [
              0.8888888888888888,
              "#fdca26"
             ],
             [
              1,
              "#f0f921"
             ]
            ],
            "type": "histogram2dcontour"
           }
          ],
          "mesh3d": [
           {
            "colorbar": {
             "outlinewidth": 0,
             "ticks": ""
            },
            "type": "mesh3d"
           }
          ],
          "parcoords": [
           {
            "line": {
             "colorbar": {
              "outlinewidth": 0,
              "ticks": ""
             }
            },
            "type": "parcoords"
           }
          ],
          "pie": [
           {
            "automargin": true,
            "type": "pie"
           }
          ],
          "scatter": [
           {
            "fillpattern": {
             "fillmode": "overlay",
             "size": 10,
             "solidity": 0.2
            },
            "type": "scatter"
           }
          ],
          "scatter3d": [
           {
            "line": {
             "colorbar": {
              "outlinewidth": 0,
              "ticks": ""
             }
            },
            "marker": {
             "colorbar": {
              "outlinewidth": 0,
              "ticks": ""
             }
            },
            "type": "scatter3d"
           }
          ],
          "scattercarpet": [
           {
            "marker": {
             "colorbar": {
              "outlinewidth": 0,
              "ticks": ""
             }
            },
            "type": "scattercarpet"
           }
          ],
          "scattergeo": [
           {
            "marker": {
             "colorbar": {
              "outlinewidth": 0,
              "ticks": ""
             }
            },
            "type": "scattergeo"
           }
          ],
          "scattergl": [
           {
            "marker": {
             "colorbar": {
              "outlinewidth": 0,
              "ticks": ""
             }
            },
            "type": "scattergl"
           }
          ],
          "scattermapbox": [
           {
            "marker": {
             "colorbar": {
              "outlinewidth": 0,
              "ticks": ""
             }
            },
            "type": "scattermapbox"
           }
          ],
          "scatterpolar": [
           {
            "marker": {
             "colorbar": {
              "outlinewidth": 0,
              "ticks": ""
             }
            },
            "type": "scatterpolar"
           }
          ],
          "scatterpolargl": [
           {
            "marker": {
             "colorbar": {
              "outlinewidth": 0,
              "ticks": ""
             }
            },
            "type": "scatterpolargl"
           }
          ],
          "scatterternary": [
           {
            "marker": {
             "colorbar": {
              "outlinewidth": 0,
              "ticks": ""
             }
            },
            "type": "scatterternary"
           }
          ],
          "surface": [
           {
            "colorbar": {
             "outlinewidth": 0,
             "ticks": ""
            },
            "colorscale": [
             [
              0,
              "#0d0887"
             ],
             [
              0.1111111111111111,
              "#46039f"
             ],
             [
              0.2222222222222222,
              "#7201a8"
             ],
             [
              0.3333333333333333,
              "#9c179e"
             ],
             [
              0.4444444444444444,
              "#bd3786"
             ],
             [
              0.5555555555555556,
              "#d8576b"
             ],
             [
              0.6666666666666666,
              "#ed7953"
             ],
             [
              0.7777777777777778,
              "#fb9f3a"
             ],
             [
              0.8888888888888888,
              "#fdca26"
             ],
             [
              1,
              "#f0f921"
             ]
            ],
            "type": "surface"
           }
          ],
          "table": [
           {
            "cells": {
             "fill": {
              "color": "#EBF0F8"
             },
             "line": {
              "color": "white"
             }
            },
            "header": {
             "fill": {
              "color": "#C8D4E3"
             },
             "line": {
              "color": "white"
             }
            },
            "type": "table"
           }
          ]
         },
         "layout": {
          "annotationdefaults": {
           "arrowcolor": "#2a3f5f",
           "arrowhead": 0,
           "arrowwidth": 1
          },
          "autotypenumbers": "strict",
          "coloraxis": {
           "colorbar": {
            "outlinewidth": 0,
            "ticks": ""
           }
          },
          "colorscale": {
           "diverging": [
            [
             0,
             "#8e0152"
            ],
            [
             0.1,
             "#c51b7d"
            ],
            [
             0.2,
             "#de77ae"
            ],
            [
             0.3,
             "#f1b6da"
            ],
            [
             0.4,
             "#fde0ef"
            ],
            [
             0.5,
             "#f7f7f7"
            ],
            [
             0.6,
             "#e6f5d0"
            ],
            [
             0.7,
             "#b8e186"
            ],
            [
             0.8,
             "#7fbc41"
            ],
            [
             0.9,
             "#4d9221"
            ],
            [
             1,
             "#276419"
            ]
           ],
           "sequential": [
            [
             0,
             "#0d0887"
            ],
            [
             0.1111111111111111,
             "#46039f"
            ],
            [
             0.2222222222222222,
             "#7201a8"
            ],
            [
             0.3333333333333333,
             "#9c179e"
            ],
            [
             0.4444444444444444,
             "#bd3786"
            ],
            [
             0.5555555555555556,
             "#d8576b"
            ],
            [
             0.6666666666666666,
             "#ed7953"
            ],
            [
             0.7777777777777778,
             "#fb9f3a"
            ],
            [
             0.8888888888888888,
             "#fdca26"
            ],
            [
             1,
             "#f0f921"
            ]
           ],
           "sequentialminus": [
            [
             0,
             "#0d0887"
            ],
            [
             0.1111111111111111,
             "#46039f"
            ],
            [
             0.2222222222222222,
             "#7201a8"
            ],
            [
             0.3333333333333333,
             "#9c179e"
            ],
            [
             0.4444444444444444,
             "#bd3786"
            ],
            [
             0.5555555555555556,
             "#d8576b"
            ],
            [
             0.6666666666666666,
             "#ed7953"
            ],
            [
             0.7777777777777778,
             "#fb9f3a"
            ],
            [
             0.8888888888888888,
             "#fdca26"
            ],
            [
             1,
             "#f0f921"
            ]
           ]
          },
          "colorway": [
           "#636efa",
           "#EF553B",
           "#00cc96",
           "#ab63fa",
           "#FFA15A",
           "#19d3f3",
           "#FF6692",
           "#B6E880",
           "#FF97FF",
           "#FECB52"
          ],
          "font": {
           "color": "#2a3f5f"
          },
          "geo": {
           "bgcolor": "white",
           "lakecolor": "white",
           "landcolor": "#E5ECF6",
           "showlakes": true,
           "showland": true,
           "subunitcolor": "white"
          },
          "hoverlabel": {
           "align": "left"
          },
          "hovermode": "closest",
          "mapbox": {
           "style": "light"
          },
          "paper_bgcolor": "white",
          "plot_bgcolor": "#E5ECF6",
          "polar": {
           "angularaxis": {
            "gridcolor": "white",
            "linecolor": "white",
            "ticks": ""
           },
           "bgcolor": "#E5ECF6",
           "radialaxis": {
            "gridcolor": "white",
            "linecolor": "white",
            "ticks": ""
           }
          },
          "scene": {
           "xaxis": {
            "backgroundcolor": "#E5ECF6",
            "gridcolor": "white",
            "gridwidth": 2,
            "linecolor": "white",
            "showbackground": true,
            "ticks": "",
            "zerolinecolor": "white"
           },
           "yaxis": {
            "backgroundcolor": "#E5ECF6",
            "gridcolor": "white",
            "gridwidth": 2,
            "linecolor": "white",
            "showbackground": true,
            "ticks": "",
            "zerolinecolor": "white"
           },
           "zaxis": {
            "backgroundcolor": "#E5ECF6",
            "gridcolor": "white",
            "gridwidth": 2,
            "linecolor": "white",
            "showbackground": true,
            "ticks": "",
            "zerolinecolor": "white"
           }
          },
          "shapedefaults": {
           "line": {
            "color": "#2a3f5f"
           }
          },
          "ternary": {
           "aaxis": {
            "gridcolor": "white",
            "linecolor": "white",
            "ticks": ""
           },
           "baxis": {
            "gridcolor": "white",
            "linecolor": "white",
            "ticks": ""
           },
           "bgcolor": "#E5ECF6",
           "caxis": {
            "gridcolor": "white",
            "linecolor": "white",
            "ticks": ""
           }
          },
          "title": {
           "x": 0.05
          },
          "xaxis": {
           "automargin": true,
           "gridcolor": "white",
           "linecolor": "white",
           "ticks": "",
           "title": {
            "standoff": 15
           },
           "zerolinecolor": "white",
           "zerolinewidth": 2
          },
          "yaxis": {
           "automargin": true,
           "gridcolor": "white",
           "linecolor": "white",
           "ticks": "",
           "title": {
            "standoff": 15
           },
           "zerolinecolor": "white",
           "zerolinewidth": 2
          }
         }
        },
        "xaxis": {
         "anchor": "y",
         "domain": [
          0,
          1
         ],
         "title": {
          "text": "decade"
         }
        },
        "yaxis": {
         "anchor": "x",
         "domain": [
          0,
          1
         ],
         "title": {
          "text": "activity"
         }
        }
       }
      }
     },
     "metadata": {},
     "output_type": "display_data"
    }
   ],
   "source": [
    "fig = px.scatter(\n",
    "    summary,\n",
    "    x=\"decade\",\n",
    "    y=\"activity\",\n",
    "    size=\"count\",\n",
    ")\n",
    "fig.add_shape(\n",
    "    type=\"rect\",\n",
    "    x0=1960,\n",
    "    x1=1990,\n",
    "    y0=9,\n",
    "    y1=11,\n",
    "    fillcolor=\"green\",\n",
    "    opacity=0.3,\n",
    "    line_width=0,\n",
    "    layer=\"below\"\n",
    ")\n",
    "fig.add_vrect(x0= 1940, x1=1960, line_width=0, fillcolor=\"red\", opacity=0.2)\n",
    "fig.add_hrect(y0=4, y1=7, line_width=0, fillcolor=\"green\", opacity=0.2)\n",
    "fig.show()"
   ]
  },
  {
   "cell_type": "code",
   "execution_count": 28,
   "id": "59f395a4",
   "metadata": {},
   "outputs": [],
   "source": [
    "df_shark2 = pd.read_csv(r'..\\data\\shark_attack_enriquecido.csv')"
   ]
  },
  {
   "cell_type": "code",
   "execution_count": 29,
   "id": "27c07c3c",
   "metadata": {},
   "outputs": [
    {
     "data": {
      "text/plain": [
       "[2020, 2010, 2000, 1990, 1980, 1970, 1960, 1950, 1940, 1930, 1920]"
      ]
     },
     "execution_count": 29,
     "metadata": {},
     "output_type": "execute_result"
    }
   ],
   "source": [
    "decades = []\n",
    "for i in df_shark2['decade'].unique():\n",
    "    try:\n",
    "        decades.append(int(i))\n",
    "    except:\n",
    "        continue\n",
    "decades\n"
   ]
  },
  {
   "cell_type": "code",
   "execution_count": 30,
   "id": "b0ff7339",
   "metadata": {},
   "outputs": [
    {
     "data": {
      "text/html": [
       "<div>\n",
       "<style scoped>\n",
       "    .dataframe tbody tr th:only-of-type {\n",
       "        vertical-align: middle;\n",
       "    }\n",
       "\n",
       "    .dataframe tbody tr th {\n",
       "        vertical-align: top;\n",
       "    }\n",
       "\n",
       "    .dataframe thead th {\n",
       "        text-align: right;\n",
       "    }\n",
       "</style>\n",
       "<table border=\"1\" class=\"dataframe\">\n",
       "  <thead>\n",
       "    <tr style=\"text-align: right;\">\n",
       "      <th></th>\n",
       "      <th>Unnamed: 0</th>\n",
       "      <th>date</th>\n",
       "      <th>year</th>\n",
       "      <th>type</th>\n",
       "      <th>country</th>\n",
       "      <th>area</th>\n",
       "      <th>location</th>\n",
       "      <th>activity</th>\n",
       "      <th>name</th>\n",
       "      <th>sex</th>\n",
       "      <th>fatal_y_n</th>\n",
       "      <th>species</th>\n",
       "      <th>activity2</th>\n",
       "      <th>decade</th>\n",
       "      <th>geolocalizacion</th>\n",
       "      <th>ocio_o_no</th>\n",
       "      <th>lat</th>\n",
       "      <th>lon</th>\n",
       "    </tr>\n",
       "  </thead>\n",
       "  <tbody>\n",
       "    <tr>\n",
       "      <th>208</th>\n",
       "      <td>208</td>\n",
       "      <td>1928-06-24 00:00:00</td>\n",
       "      <td>1928</td>\n",
       "      <td>Unprovoked</td>\n",
       "      <td>USA</td>\n",
       "      <td>Florida</td>\n",
       "      <td>Daytona Beach, Volusia County</td>\n",
       "      <td>Swimming</td>\n",
       "      <td>Jim Stevens</td>\n",
       "      <td>M</td>\n",
       "      <td>N</td>\n",
       "      <td>Unknow</td>\n",
       "      <td>Swimming</td>\n",
       "      <td>1920</td>\n",
       "      <td>(27.7567667, -81.4639835)</td>\n",
       "      <td>Ocio</td>\n",
       "      <td>27.7567667</td>\n",
       "      <td>-81.4639835</td>\n",
       "    </tr>\n",
       "    <tr>\n",
       "      <th>209</th>\n",
       "      <td>209</td>\n",
       "      <td>1928-02-01 00:00:00</td>\n",
       "      <td>1928</td>\n",
       "      <td>Unprovoked</td>\n",
       "      <td>COSTA RICA</td>\n",
       "      <td>Near Puntarenas</td>\n",
       "      <td>Near Puntarenas</td>\n",
       "      <td>Swimming</td>\n",
       "      <td>Armando Chavez</td>\n",
       "      <td>M</td>\n",
       "      <td>N</td>\n",
       "      <td>Unknow</td>\n",
       "      <td>Swimming</td>\n",
       "      <td>1920</td>\n",
       "      <td>NaN</td>\n",
       "      <td>Ocio</td>\n",
       "      <td>NaN</td>\n",
       "      <td>NaN</td>\n",
       "    </tr>\n",
       "    <tr>\n",
       "      <th>210</th>\n",
       "      <td>210</td>\n",
       "      <td>1928-01-01 00:00:00</td>\n",
       "      <td>1928</td>\n",
       "      <td>Unprovoked</td>\n",
       "      <td>SOUTH AFRICA</td>\n",
       "      <td>KwaZulu-Natal</td>\n",
       "      <td>Tugela River Mouth</td>\n",
       "      <td>Standing</td>\n",
       "      <td>N'gena Zakali</td>\n",
       "      <td>M</td>\n",
       "      <td>N</td>\n",
       "      <td>Unknow</td>\n",
       "      <td>Standing</td>\n",
       "      <td>1920</td>\n",
       "      <td>(-28.503833, 30.8875009)</td>\n",
       "      <td>No ocio</td>\n",
       "      <td>-28.503833</td>\n",
       "      <td>30.8875009</td>\n",
       "    </tr>\n",
       "    <tr>\n",
       "      <th>211</th>\n",
       "      <td>211</td>\n",
       "      <td>1926-07-08 00:00:00</td>\n",
       "      <td>1926</td>\n",
       "      <td>Unprovoked</td>\n",
       "      <td>USA</td>\n",
       "      <td>California</td>\n",
       "      <td>San Francisco Bay (or San Leandro Bay), near c...</td>\n",
       "      <td>Swimming with dog near canning factory</td>\n",
       "      <td>Norman Piexotto</td>\n",
       "      <td>M</td>\n",
       "      <td>N</td>\n",
       "      <td>1.5 m [5'] white shark or sevengill shark</td>\n",
       "      <td>Swimming</td>\n",
       "      <td>1920</td>\n",
       "      <td>(36.7014631, -118.755997)</td>\n",
       "      <td>Ocio</td>\n",
       "      <td>36.7014631</td>\n",
       "      <td>-118.755997</td>\n",
       "    </tr>\n",
       "    <tr>\n",
       "      <th>212</th>\n",
       "      <td>212</td>\n",
       "      <td>1926-01-01 00:00:00</td>\n",
       "      <td>1926</td>\n",
       "      <td>Unprovoked</td>\n",
       "      <td>SOUTH AFRICA</td>\n",
       "      <td>Western Cape Province</td>\n",
       "      <td>Mossel Bay</td>\n",
       "      <td>Swimming to mail boat</td>\n",
       "      <td>Mr. Daniels</td>\n",
       "      <td>M</td>\n",
       "      <td>UNKNOWN</td>\n",
       "      <td>Unknow</td>\n",
       "      <td>Swimming</td>\n",
       "      <td>1920</td>\n",
       "      <td>(-33.546977, 20.72753)</td>\n",
       "      <td>Ocio</td>\n",
       "      <td>-33.546977</td>\n",
       "      <td>20.72753</td>\n",
       "    </tr>\n",
       "    <tr>\n",
       "      <th>...</th>\n",
       "      <td>...</td>\n",
       "      <td>...</td>\n",
       "      <td>...</td>\n",
       "      <td>...</td>\n",
       "      <td>...</td>\n",
       "      <td>...</td>\n",
       "      <td>...</td>\n",
       "      <td>...</td>\n",
       "      <td>...</td>\n",
       "      <td>...</td>\n",
       "      <td>...</td>\n",
       "      <td>...</td>\n",
       "      <td>...</td>\n",
       "      <td>...</td>\n",
       "      <td>...</td>\n",
       "      <td>...</td>\n",
       "      <td>...</td>\n",
       "      <td>...</td>\n",
       "    </tr>\n",
       "    <tr>\n",
       "      <th>5331</th>\n",
       "      <td>5331</td>\n",
       "      <td>1928-04-06 00:00:00</td>\n",
       "      <td>1928</td>\n",
       "      <td>Unprovoked</td>\n",
       "      <td>AUSTRALIA</td>\n",
       "      <td>Queensland</td>\n",
       "      <td>Graceville</td>\n",
       "      <td>Bathing</td>\n",
       "      <td>Noel Arthy</td>\n",
       "      <td>M</td>\n",
       "      <td>N</td>\n",
       "      <td>4' shark</td>\n",
       "      <td>Bathing</td>\n",
       "      <td>1920</td>\n",
       "      <td>(-22.1646782, 144.5844903)</td>\n",
       "      <td>No ocio</td>\n",
       "      <td>-22.1646782</td>\n",
       "      <td>144.5844903</td>\n",
       "    </tr>\n",
       "    <tr>\n",
       "      <th>5530</th>\n",
       "      <td>5530</td>\n",
       "      <td>1929-12-21 00:00:00</td>\n",
       "      <td>1929</td>\n",
       "      <td>Unprovoked</td>\n",
       "      <td>AUSTRALIA</td>\n",
       "      <td>Torres Strait</td>\n",
       "      <td>Thursday Island</td>\n",
       "      <td>Diving</td>\n",
       "      <td>male</td>\n",
       "      <td>M</td>\n",
       "      <td>N</td>\n",
       "      <td>Unknow</td>\n",
       "      <td>Diving</td>\n",
       "      <td>1920</td>\n",
       "      <td>(-10.416667, 142.166667)</td>\n",
       "      <td>Ocio</td>\n",
       "      <td>-10.416667</td>\n",
       "      <td>142.166667</td>\n",
       "    </tr>\n",
       "    <tr>\n",
       "      <th>5531</th>\n",
       "      <td>5531</td>\n",
       "      <td>1929-04-26 00:00:00</td>\n",
       "      <td>1929</td>\n",
       "      <td>Unprovoked</td>\n",
       "      <td>AUSTRALIA</td>\n",
       "      <td>Queensland</td>\n",
       "      <td>Great Barrier Reef</td>\n",
       "      <td>Diving for trepang</td>\n",
       "      <td>Ali Ah Mat</td>\n",
       "      <td>M</td>\n",
       "      <td>N</td>\n",
       "      <td>Unknow</td>\n",
       "      <td>Diving</td>\n",
       "      <td>1920</td>\n",
       "      <td>(-22.1646782, 144.5844903)</td>\n",
       "      <td>Ocio</td>\n",
       "      <td>-22.1646782</td>\n",
       "      <td>144.5844903</td>\n",
       "    </tr>\n",
       "    <tr>\n",
       "      <th>5735</th>\n",
       "      <td>5735</td>\n",
       "      <td>1929-12-16 00:00:00</td>\n",
       "      <td>1929</td>\n",
       "      <td>Unprovoked</td>\n",
       "      <td>AUSTRALIA</td>\n",
       "      <td>New South Wales</td>\n",
       "      <td>Collaroy</td>\n",
       "      <td>Bathing or body surfing</td>\n",
       "      <td>Nancy Thom</td>\n",
       "      <td>F</td>\n",
       "      <td>N</td>\n",
       "      <td>a small shark</td>\n",
       "      <td>Surfing</td>\n",
       "      <td>1920</td>\n",
       "      <td>(-31.8759835, 147.2869493)</td>\n",
       "      <td>Ocio</td>\n",
       "      <td>-31.8759835</td>\n",
       "      <td>147.2869493</td>\n",
       "    </tr>\n",
       "    <tr>\n",
       "      <th>5736</th>\n",
       "      <td>5736</td>\n",
       "      <td>1929-09-01 00:00:00</td>\n",
       "      <td>1929</td>\n",
       "      <td>Unprovoked</td>\n",
       "      <td>AUSTRALIA</td>\n",
       "      <td>Queensland</td>\n",
       "      <td>Ross River, Townsville</td>\n",
       "      <td>Fell from wharf into water &amp; attacked immediately</td>\n",
       "      <td>Edward William Hobbs</td>\n",
       "      <td>M</td>\n",
       "      <td>Y</td>\n",
       "      <td>Unknow</td>\n",
       "      <td>Fell</td>\n",
       "      <td>1920</td>\n",
       "      <td>(-22.1646782, 144.5844903)</td>\n",
       "      <td>No ocio</td>\n",
       "      <td>-22.1646782</td>\n",
       "      <td>144.5844903</td>\n",
       "    </tr>\n",
       "  </tbody>\n",
       "</table>\n",
       "<p>91 rows × 18 columns</p>\n",
       "</div>"
      ],
      "text/plain": [
       "      Unnamed: 0                 date  year        type       country  \\\n",
       "208          208  1928-06-24 00:00:00  1928  Unprovoked           USA   \n",
       "209          209  1928-02-01 00:00:00  1928  Unprovoked    COSTA RICA   \n",
       "210          210  1928-01-01 00:00:00  1928  Unprovoked  SOUTH AFRICA   \n",
       "211          211  1926-07-08 00:00:00  1926  Unprovoked           USA   \n",
       "212          212  1926-01-01 00:00:00  1926  Unprovoked  SOUTH AFRICA   \n",
       "...          ...                  ...   ...         ...           ...   \n",
       "5331        5331  1928-04-06 00:00:00  1928  Unprovoked     AUSTRALIA   \n",
       "5530        5530  1929-12-21 00:00:00  1929  Unprovoked     AUSTRALIA   \n",
       "5531        5531  1929-04-26 00:00:00  1929  Unprovoked     AUSTRALIA   \n",
       "5735        5735  1929-12-16 00:00:00  1929  Unprovoked     AUSTRALIA   \n",
       "5736        5736  1929-09-01 00:00:00  1929  Unprovoked     AUSTRALIA   \n",
       "\n",
       "                       area  \\\n",
       "208                 Florida   \n",
       "209         Near Puntarenas   \n",
       "210           KwaZulu-Natal   \n",
       "211              California   \n",
       "212   Western Cape Province   \n",
       "...                     ...   \n",
       "5331             Queensland   \n",
       "5530          Torres Strait   \n",
       "5531             Queensland   \n",
       "5735        New South Wales   \n",
       "5736             Queensland   \n",
       "\n",
       "                                               location  \\\n",
       "208                       Daytona Beach, Volusia County   \n",
       "209                                     Near Puntarenas   \n",
       "210                                  Tugela River Mouth   \n",
       "211   San Francisco Bay (or San Leandro Bay), near c...   \n",
       "212                                          Mossel Bay   \n",
       "...                                                 ...   \n",
       "5331                                         Graceville   \n",
       "5530                                    Thursday Island   \n",
       "5531                                 Great Barrier Reef   \n",
       "5735                                           Collaroy   \n",
       "5736                             Ross River, Townsville   \n",
       "\n",
       "                                               activity                  name  \\\n",
       "208                                            Swimming           Jim Stevens   \n",
       "209                                            Swimming        Armando Chavez   \n",
       "210                                            Standing         N'gena Zakali   \n",
       "211              Swimming with dog near canning factory       Norman Piexotto   \n",
       "212                               Swimming to mail boat           Mr. Daniels   \n",
       "...                                                 ...                   ...   \n",
       "5331                                            Bathing            Noel Arthy   \n",
       "5530                                             Diving                  male   \n",
       "5531                                 Diving for trepang            Ali Ah Mat   \n",
       "5735                            Bathing or body surfing            Nancy Thom   \n",
       "5736  Fell from wharf into water & attacked immediately  Edward William Hobbs   \n",
       "\n",
       "     sex fatal_y_n                                    species activity2  \\\n",
       "208    M         N                                     Unknow  Swimming   \n",
       "209    M         N                                     Unknow  Swimming   \n",
       "210    M         N                                     Unknow  Standing   \n",
       "211    M         N  1.5 m [5'] white shark or sevengill shark  Swimming   \n",
       "212    M   UNKNOWN                                     Unknow  Swimming   \n",
       "...   ..       ...                                        ...       ...   \n",
       "5331   M         N                                   4' shark   Bathing   \n",
       "5530   M         N                                     Unknow    Diving   \n",
       "5531   M         N                                     Unknow    Diving   \n",
       "5735   F         N                              a small shark   Surfing   \n",
       "5736   M         Y                                     Unknow      Fell   \n",
       "\n",
       "     decade             geolocalizacion ocio_o_no          lat          lon  \n",
       "208    1920   (27.7567667, -81.4639835)      Ocio   27.7567667  -81.4639835  \n",
       "209    1920                         NaN      Ocio          NaN          NaN  \n",
       "210    1920    (-28.503833, 30.8875009)   No ocio   -28.503833   30.8875009  \n",
       "211    1920   (36.7014631, -118.755997)      Ocio   36.7014631  -118.755997  \n",
       "212    1920      (-33.546977, 20.72753)      Ocio   -33.546977     20.72753  \n",
       "...     ...                         ...       ...          ...          ...  \n",
       "5331   1920  (-22.1646782, 144.5844903)   No ocio  -22.1646782  144.5844903  \n",
       "5530   1920    (-10.416667, 142.166667)      Ocio   -10.416667   142.166667  \n",
       "5531   1920  (-22.1646782, 144.5844903)      Ocio  -22.1646782  144.5844903  \n",
       "5735   1920  (-31.8759835, 147.2869493)      Ocio  -31.8759835  147.2869493  \n",
       "5736   1920  (-22.1646782, 144.5844903)   No ocio  -22.1646782  144.5844903  \n",
       "\n",
       "[91 rows x 18 columns]"
      ]
     },
     "execution_count": 30,
     "metadata": {},
     "output_type": "execute_result"
    }
   ],
   "source": [
    "df_shark2[df_shark2['decade'] == str(decades[-1])]"
   ]
  },
  {
   "cell_type": "code",
   "execution_count": 32,
   "id": "cef61bc6",
   "metadata": {},
   "outputs": [
    {
     "data": {
      "application/vnd.plotly.v1+json": {
       "config": {
        "plotlyServerURL": "https://plot.ly"
       },
       "data": [
        {
         "domain": {
          "x": [
           0,
           0.45
          ],
          "y": [
           0.575,
           1
          ]
         },
         "labels": [
          "Unprovoked",
          "UNKNOWN",
          "Provoked",
          "Invalid",
          "Watercraft",
          "Sea Disaster",
          "Unverified",
          "N",
          "Questionable",
          "Boat",
          "Y"
         ],
         "title": {
          "font": {
           "size": 18
          },
          "text": "Tipo de Ataque"
         },
         "type": "pie",
         "values": [
          3769,
          877,
          446,
          294,
          247,
          58,
          15,
          14,
          9,
          6,
          3
         ]
        },
        {
         "domain": {
          "x": [
           0.55,
           1
          ],
          "y": [
           0.575,
           1
          ]
         },
         "labels": [
          "M",
          "F",
          "UNKNOWN",
          "N",
          "Y",
          "lli"
         ],
         "title": {
          "font": {
           "size": 18
          },
          "text": "Sexo"
         },
         "type": "pie",
         "values": [
          3953,
          889,
          877,
          15,
          3,
          1
         ]
        },
        {
         "domain": {
          "x": [
           0,
           0.45
          ],
          "y": [
           0,
           0.425
          ]
         },
         "labels": [
          "N",
          "UNKNOWN",
          "Y"
         ],
         "title": {
          "font": {
           "size": 18
          },
          "text": "¿Fatal?"
         },
         "type": "pie",
         "values": [
          3819,
          1192,
          727
         ]
        },
        {
         "domain": {
          "x": [
           0.55,
           1
          ],
          "y": [
           0,
           0.425
          ]
         },
         "labels": [
          "Ocio",
          "No ocio",
          "UNKNOWN",
          "N",
          "Y"
         ],
         "title": {
          "font": {
           "size": 18
          },
          "text": "Actividad de Ocio o no"
         },
         "type": "pie",
         "values": [
          3157,
          1687,
          877,
          14,
          3
         ]
        }
       ],
       "layout": {
        "height": 1000,
        "showlegend": false,
        "template": {
         "data": {
          "bar": [
           {
            "error_x": {
             "color": "#2a3f5f"
            },
            "error_y": {
             "color": "#2a3f5f"
            },
            "marker": {
             "line": {
              "color": "#E5ECF6",
              "width": 0.5
             },
             "pattern": {
              "fillmode": "overlay",
              "size": 10,
              "solidity": 0.2
             }
            },
            "type": "bar"
           }
          ],
          "barpolar": [
           {
            "marker": {
             "line": {
              "color": "#E5ECF6",
              "width": 0.5
             },
             "pattern": {
              "fillmode": "overlay",
              "size": 10,
              "solidity": 0.2
             }
            },
            "type": "barpolar"
           }
          ],
          "carpet": [
           {
            "aaxis": {
             "endlinecolor": "#2a3f5f",
             "gridcolor": "white",
             "linecolor": "white",
             "minorgridcolor": "white",
             "startlinecolor": "#2a3f5f"
            },
            "baxis": {
             "endlinecolor": "#2a3f5f",
             "gridcolor": "white",
             "linecolor": "white",
             "minorgridcolor": "white",
             "startlinecolor": "#2a3f5f"
            },
            "type": "carpet"
           }
          ],
          "choropleth": [
           {
            "colorbar": {
             "outlinewidth": 0,
             "ticks": ""
            },
            "type": "choropleth"
           }
          ],
          "contour": [
           {
            "colorbar": {
             "outlinewidth": 0,
             "ticks": ""
            },
            "colorscale": [
             [
              0,
              "#0d0887"
             ],
             [
              0.1111111111111111,
              "#46039f"
             ],
             [
              0.2222222222222222,
              "#7201a8"
             ],
             [
              0.3333333333333333,
              "#9c179e"
             ],
             [
              0.4444444444444444,
              "#bd3786"
             ],
             [
              0.5555555555555556,
              "#d8576b"
             ],
             [
              0.6666666666666666,
              "#ed7953"
             ],
             [
              0.7777777777777778,
              "#fb9f3a"
             ],
             [
              0.8888888888888888,
              "#fdca26"
             ],
             [
              1,
              "#f0f921"
             ]
            ],
            "type": "contour"
           }
          ],
          "contourcarpet": [
           {
            "colorbar": {
             "outlinewidth": 0,
             "ticks": ""
            },
            "type": "contourcarpet"
           }
          ],
          "heatmap": [
           {
            "colorbar": {
             "outlinewidth": 0,
             "ticks": ""
            },
            "colorscale": [
             [
              0,
              "#0d0887"
             ],
             [
              0.1111111111111111,
              "#46039f"
             ],
             [
              0.2222222222222222,
              "#7201a8"
             ],
             [
              0.3333333333333333,
              "#9c179e"
             ],
             [
              0.4444444444444444,
              "#bd3786"
             ],
             [
              0.5555555555555556,
              "#d8576b"
             ],
             [
              0.6666666666666666,
              "#ed7953"
             ],
             [
              0.7777777777777778,
              "#fb9f3a"
             ],
             [
              0.8888888888888888,
              "#fdca26"
             ],
             [
              1,
              "#f0f921"
             ]
            ],
            "type": "heatmap"
           }
          ],
          "heatmapgl": [
           {
            "colorbar": {
             "outlinewidth": 0,
             "ticks": ""
            },
            "colorscale": [
             [
              0,
              "#0d0887"
             ],
             [
              0.1111111111111111,
              "#46039f"
             ],
             [
              0.2222222222222222,
              "#7201a8"
             ],
             [
              0.3333333333333333,
              "#9c179e"
             ],
             [
              0.4444444444444444,
              "#bd3786"
             ],
             [
              0.5555555555555556,
              "#d8576b"
             ],
             [
              0.6666666666666666,
              "#ed7953"
             ],
             [
              0.7777777777777778,
              "#fb9f3a"
             ],
             [
              0.8888888888888888,
              "#fdca26"
             ],
             [
              1,
              "#f0f921"
             ]
            ],
            "type": "heatmapgl"
           }
          ],
          "histogram": [
           {
            "marker": {
             "pattern": {
              "fillmode": "overlay",
              "size": 10,
              "solidity": 0.2
             }
            },
            "type": "histogram"
           }
          ],
          "histogram2d": [
           {
            "colorbar": {
             "outlinewidth": 0,
             "ticks": ""
            },
            "colorscale": [
             [
              0,
              "#0d0887"
             ],
             [
              0.1111111111111111,
              "#46039f"
             ],
             [
              0.2222222222222222,
              "#7201a8"
             ],
             [
              0.3333333333333333,
              "#9c179e"
             ],
             [
              0.4444444444444444,
              "#bd3786"
             ],
             [
              0.5555555555555556,
              "#d8576b"
             ],
             [
              0.6666666666666666,
              "#ed7953"
             ],
             [
              0.7777777777777778,
              "#fb9f3a"
             ],
             [
              0.8888888888888888,
              "#fdca26"
             ],
             [
              1,
              "#f0f921"
             ]
            ],
            "type": "histogram2d"
           }
          ],
          "histogram2dcontour": [
           {
            "colorbar": {
             "outlinewidth": 0,
             "ticks": ""
            },
            "colorscale": [
             [
              0,
              "#0d0887"
             ],
             [
              0.1111111111111111,
              "#46039f"
             ],
             [
              0.2222222222222222,
              "#7201a8"
             ],
             [
              0.3333333333333333,
              "#9c179e"
             ],
             [
              0.4444444444444444,
              "#bd3786"
             ],
             [
              0.5555555555555556,
              "#d8576b"
             ],
             [
              0.6666666666666666,
              "#ed7953"
             ],
             [
              0.7777777777777778,
              "#fb9f3a"
             ],
             [
              0.8888888888888888,
              "#fdca26"
             ],
             [
              1,
              "#f0f921"
             ]
            ],
            "type": "histogram2dcontour"
           }
          ],
          "mesh3d": [
           {
            "colorbar": {
             "outlinewidth": 0,
             "ticks": ""
            },
            "type": "mesh3d"
           }
          ],
          "parcoords": [
           {
            "line": {
             "colorbar": {
              "outlinewidth": 0,
              "ticks": ""
             }
            },
            "type": "parcoords"
           }
          ],
          "pie": [
           {
            "automargin": true,
            "type": "pie"
           }
          ],
          "scatter": [
           {
            "fillpattern": {
             "fillmode": "overlay",
             "size": 10,
             "solidity": 0.2
            },
            "type": "scatter"
           }
          ],
          "scatter3d": [
           {
            "line": {
             "colorbar": {
              "outlinewidth": 0,
              "ticks": ""
             }
            },
            "marker": {
             "colorbar": {
              "outlinewidth": 0,
              "ticks": ""
             }
            },
            "type": "scatter3d"
           }
          ],
          "scattercarpet": [
           {
            "marker": {
             "colorbar": {
              "outlinewidth": 0,
              "ticks": ""
             }
            },
            "type": "scattercarpet"
           }
          ],
          "scattergeo": [
           {
            "marker": {
             "colorbar": {
              "outlinewidth": 0,
              "ticks": ""
             }
            },
            "type": "scattergeo"
           }
          ],
          "scattergl": [
           {
            "marker": {
             "colorbar": {
              "outlinewidth": 0,
              "ticks": ""
             }
            },
            "type": "scattergl"
           }
          ],
          "scattermapbox": [
           {
            "marker": {
             "colorbar": {
              "outlinewidth": 0,
              "ticks": ""
             }
            },
            "type": "scattermapbox"
           }
          ],
          "scatterpolar": [
           {
            "marker": {
             "colorbar": {
              "outlinewidth": 0,
              "ticks": ""
             }
            },
            "type": "scatterpolar"
           }
          ],
          "scatterpolargl": [
           {
            "marker": {
             "colorbar": {
              "outlinewidth": 0,
              "ticks": ""
             }
            },
            "type": "scatterpolargl"
           }
          ],
          "scatterternary": [
           {
            "marker": {
             "colorbar": {
              "outlinewidth": 0,
              "ticks": ""
             }
            },
            "type": "scatterternary"
           }
          ],
          "surface": [
           {
            "colorbar": {
             "outlinewidth": 0,
             "ticks": ""
            },
            "colorscale": [
             [
              0,
              "#0d0887"
             ],
             [
              0.1111111111111111,
              "#46039f"
             ],
             [
              0.2222222222222222,
              "#7201a8"
             ],
             [
              0.3333333333333333,
              "#9c179e"
             ],
             [
              0.4444444444444444,
              "#bd3786"
             ],
             [
              0.5555555555555556,
              "#d8576b"
             ],
             [
              0.6666666666666666,
              "#ed7953"
             ],
             [
              0.7777777777777778,
              "#fb9f3a"
             ],
             [
              0.8888888888888888,
              "#fdca26"
             ],
             [
              1,
              "#f0f921"
             ]
            ],
            "type": "surface"
           }
          ],
          "table": [
           {
            "cells": {
             "fill": {
              "color": "#EBF0F8"
             },
             "line": {
              "color": "white"
             }
            },
            "header": {
             "fill": {
              "color": "#C8D4E3"
             },
             "line": {
              "color": "white"
             }
            },
            "type": "table"
           }
          ]
         },
         "layout": {
          "annotationdefaults": {
           "arrowcolor": "#2a3f5f",
           "arrowhead": 0,
           "arrowwidth": 1
          },
          "autotypenumbers": "strict",
          "coloraxis": {
           "colorbar": {
            "outlinewidth": 0,
            "ticks": ""
           }
          },
          "colorscale": {
           "diverging": [
            [
             0,
             "#8e0152"
            ],
            [
             0.1,
             "#c51b7d"
            ],
            [
             0.2,
             "#de77ae"
            ],
            [
             0.3,
             "#f1b6da"
            ],
            [
             0.4,
             "#fde0ef"
            ],
            [
             0.5,
             "#f7f7f7"
            ],
            [
             0.6,
             "#e6f5d0"
            ],
            [
             0.7,
             "#b8e186"
            ],
            [
             0.8,
             "#7fbc41"
            ],
            [
             0.9,
             "#4d9221"
            ],
            [
             1,
             "#276419"
            ]
           ],
           "sequential": [
            [
             0,
             "#0d0887"
            ],
            [
             0.1111111111111111,
             "#46039f"
            ],
            [
             0.2222222222222222,
             "#7201a8"
            ],
            [
             0.3333333333333333,
             "#9c179e"
            ],
            [
             0.4444444444444444,
             "#bd3786"
            ],
            [
             0.5555555555555556,
             "#d8576b"
            ],
            [
             0.6666666666666666,
             "#ed7953"
            ],
            [
             0.7777777777777778,
             "#fb9f3a"
            ],
            [
             0.8888888888888888,
             "#fdca26"
            ],
            [
             1,
             "#f0f921"
            ]
           ],
           "sequentialminus": [
            [
             0,
             "#0d0887"
            ],
            [
             0.1111111111111111,
             "#46039f"
            ],
            [
             0.2222222222222222,
             "#7201a8"
            ],
            [
             0.3333333333333333,
             "#9c179e"
            ],
            [
             0.4444444444444444,
             "#bd3786"
            ],
            [
             0.5555555555555556,
             "#d8576b"
            ],
            [
             0.6666666666666666,
             "#ed7953"
            ],
            [
             0.7777777777777778,
             "#fb9f3a"
            ],
            [
             0.8888888888888888,
             "#fdca26"
            ],
            [
             1,
             "#f0f921"
            ]
           ]
          },
          "colorway": [
           "#636efa",
           "#EF553B",
           "#00cc96",
           "#ab63fa",
           "#FFA15A",
           "#19d3f3",
           "#FF6692",
           "#B6E880",
           "#FF97FF",
           "#FECB52"
          ],
          "font": {
           "color": "#2a3f5f"
          },
          "geo": {
           "bgcolor": "white",
           "lakecolor": "white",
           "landcolor": "#E5ECF6",
           "showlakes": true,
           "showland": true,
           "subunitcolor": "white"
          },
          "hoverlabel": {
           "align": "left"
          },
          "hovermode": "closest",
          "mapbox": {
           "style": "light"
          },
          "paper_bgcolor": "white",
          "plot_bgcolor": "#E5ECF6",
          "polar": {
           "angularaxis": {
            "gridcolor": "white",
            "linecolor": "white",
            "ticks": ""
           },
           "bgcolor": "#E5ECF6",
           "radialaxis": {
            "gridcolor": "white",
            "linecolor": "white",
            "ticks": ""
           }
          },
          "scene": {
           "xaxis": {
            "backgroundcolor": "#E5ECF6",
            "gridcolor": "white",
            "gridwidth": 2,
            "linecolor": "white",
            "showbackground": true,
            "ticks": "",
            "zerolinecolor": "white"
           },
           "yaxis": {
            "backgroundcolor": "#E5ECF6",
            "gridcolor": "white",
            "gridwidth": 2,
            "linecolor": "white",
            "showbackground": true,
            "ticks": "",
            "zerolinecolor": "white"
           },
           "zaxis": {
            "backgroundcolor": "#E5ECF6",
            "gridcolor": "white",
            "gridwidth": 2,
            "linecolor": "white",
            "showbackground": true,
            "ticks": "",
            "zerolinecolor": "white"
           }
          },
          "shapedefaults": {
           "line": {
            "color": "#2a3f5f"
           }
          },
          "ternary": {
           "aaxis": {
            "gridcolor": "white",
            "linecolor": "white",
            "ticks": ""
           },
           "baxis": {
            "gridcolor": "white",
            "linecolor": "white",
            "ticks": ""
           },
           "bgcolor": "#E5ECF6",
           "caxis": {
            "gridcolor": "white",
            "linecolor": "white",
            "ticks": ""
           }
          },
          "title": {
           "x": 0.05
          },
          "xaxis": {
           "automargin": true,
           "gridcolor": "white",
           "linecolor": "white",
           "ticks": "",
           "title": {
            "standoff": 15
           },
           "zerolinecolor": "white",
           "zerolinewidth": 2
          },
          "yaxis": {
           "automargin": true,
           "gridcolor": "white",
           "linecolor": "white",
           "ticks": "",
           "title": {
            "standoff": 15
           },
           "zerolinecolor": "white",
           "zerolinewidth": 2
          }
         }
        },
        "title": {
         "font": {
          "size": 28
         },
         "text": "Resumen de Ataques de Tiburón",
         "x": 0.5,
         "xanchor": "center"
        }
       }
      }
     },
     "metadata": {},
     "output_type": "display_data"
    }
   ],
   "source": [
    "fig = make_subplots(rows=2, cols=2, specs=[[{'type':'domain'}, {'type':'domain'}],\n",
    "                                           [{'type':'domain'}, {'type':'domain'}]])\n",
    "\n",
    "type_counts = df_shark2['type'].value_counts()\n",
    "fig.add_trace(go.Pie(labels=type_counts.index, values=type_counts.values,\n",
    "                     title={'text': 'Tipo de Ataque', 'font': {'size': 18}}), row=1, col=1)\n",
    "\n",
    "sex_counts = df_shark2['sex'].value_counts()\n",
    "fig.add_trace(go.Pie(labels=sex_counts.index, values=sex_counts.values,\n",
    "                     title={'text': 'Sexo', 'font': {'size': 18}}), row=1, col=2)\n",
    "\n",
    "fatal_counts = df_shark2['fatal_y_n'].value_counts()\n",
    "fig.add_trace(go.Pie(labels=fatal_counts.index, values=fatal_counts.values,\n",
    "                     title={'text': '¿Fatal?', 'font': {'size': 18}}), row=2, col=1)\n",
    "\n",
    "ocio_counts = df_shark2['ocio_o_no'].value_counts()\n",
    "fig.add_trace(go.Pie(labels=ocio_counts.index, values=ocio_counts.values,\n",
    "                     title={'text': 'Actividad de Ocio o no', 'font': {'size': 18}}), row=2, col=2)\n",
    "\n",
    "fig.update_layout(\n",
    "    title={\n",
    "        'text': \"Resumen de Ataques de Tiburón\",\n",
    "        'font': {'size': 28},     \n",
    "        'x': 0.5,                 \n",
    "        'xanchor': 'center'       \n",
    "    },\n",
    "    showlegend= False,\n",
    "    height=1000\n",
    ")\n",
    "\n",
    "fig.show()\n"
   ]
  },
  {
   "cell_type": "code",
   "execution_count": 33,
   "id": "f27c773d",
   "metadata": {},
   "outputs": [
    {
     "data": {
      "application/vnd.plotly.v1+json": {
       "config": {
        "plotlyServerURL": "https://plot.ly"
       },
       "data": [
        {
         "hovertemplate": "year=%{x}<br>porcentaje=%{y}<extra></extra>",
         "legendgroup": "",
         "line": {
          "color": "#636efa",
          "dash": "solid"
         },
         "marker": {
          "symbol": "circle"
         },
         "mode": "lines",
         "name": "",
         "orientation": "v",
         "showlegend": false,
         "type": "scatter",
         "x": [
          1995,
          1996,
          1997,
          1998,
          1999,
          2000,
          2001,
          2002,
          2003,
          2004,
          2005,
          2006,
          2007,
          2008,
          2009,
          2010,
          2011,
          2012,
          2013,
          2014,
          2015,
          2016,
          2017,
          2018,
          2019,
          2020,
          2021,
          2022
         ],
         "xaxis": "x",
         "y": [
          0.000026144287462976727,
          0.00001896027523230816,
          0.000018827521280590407,
          0.000021085879364664228,
          0.00002040690730345509,
          0.000026840949152515285,
          0.000023483737350629693,
          0.000025265444967033796,
          0.00002657171714645625,
          0.00002419885630774416,
          0.000024894903153788165,
          0.000023269162853684897,
          0.000024450737573191225,
          0.000025066899328580688,
          0.000026851958639223244,
          0.000021579725702039783,
          0.000025824195612083957,
          0.000022212177998732185,
          0.000021010798551951863,
          0.000021373903157502592,
          0.00002382584378192398,
          0.000020430989153665734,
          0.0000201668594894915,
          0.000017837052699405463,
          0.000016554063310834122,
          0.00005467487846495097,
          0.000050273504578171405,
          0.00002454641201794197
         ],
         "yaxis": "y"
        }
       ],
       "layout": {
        "legend": {
         "tracegroupgap": 0
        },
        "margin": {
         "t": 60
        },
        "shapes": [
         {
          "line": {
           "color": "red",
           "dash": "dash",
           "width": 3
          },
          "type": "line",
          "x0": 0,
          "x1": 1,
          "xref": "x domain",
          "y0": 0.000021,
          "y1": 0.000021,
          "yref": "y"
         }
        ],
        "template": {
         "data": {
          "bar": [
           {
            "error_x": {
             "color": "#2a3f5f"
            },
            "error_y": {
             "color": "#2a3f5f"
            },
            "marker": {
             "line": {
              "color": "#E5ECF6",
              "width": 0.5
             },
             "pattern": {
              "fillmode": "overlay",
              "size": 10,
              "solidity": 0.2
             }
            },
            "type": "bar"
           }
          ],
          "barpolar": [
           {
            "marker": {
             "line": {
              "color": "#E5ECF6",
              "width": 0.5
             },
             "pattern": {
              "fillmode": "overlay",
              "size": 10,
              "solidity": 0.2
             }
            },
            "type": "barpolar"
           }
          ],
          "carpet": [
           {
            "aaxis": {
             "endlinecolor": "#2a3f5f",
             "gridcolor": "white",
             "linecolor": "white",
             "minorgridcolor": "white",
             "startlinecolor": "#2a3f5f"
            },
            "baxis": {
             "endlinecolor": "#2a3f5f",
             "gridcolor": "white",
             "linecolor": "white",
             "minorgridcolor": "white",
             "startlinecolor": "#2a3f5f"
            },
            "type": "carpet"
           }
          ],
          "choropleth": [
           {
            "colorbar": {
             "outlinewidth": 0,
             "ticks": ""
            },
            "type": "choropleth"
           }
          ],
          "contour": [
           {
            "colorbar": {
             "outlinewidth": 0,
             "ticks": ""
            },
            "colorscale": [
             [
              0,
              "#0d0887"
             ],
             [
              0.1111111111111111,
              "#46039f"
             ],
             [
              0.2222222222222222,
              "#7201a8"
             ],
             [
              0.3333333333333333,
              "#9c179e"
             ],
             [
              0.4444444444444444,
              "#bd3786"
             ],
             [
              0.5555555555555556,
              "#d8576b"
             ],
             [
              0.6666666666666666,
              "#ed7953"
             ],
             [
              0.7777777777777778,
              "#fb9f3a"
             ],
             [
              0.8888888888888888,
              "#fdca26"
             ],
             [
              1,
              "#f0f921"
             ]
            ],
            "type": "contour"
           }
          ],
          "contourcarpet": [
           {
            "colorbar": {
             "outlinewidth": 0,
             "ticks": ""
            },
            "type": "contourcarpet"
           }
          ],
          "heatmap": [
           {
            "colorbar": {
             "outlinewidth": 0,
             "ticks": ""
            },
            "colorscale": [
             [
              0,
              "#0d0887"
             ],
             [
              0.1111111111111111,
              "#46039f"
             ],
             [
              0.2222222222222222,
              "#7201a8"
             ],
             [
              0.3333333333333333,
              "#9c179e"
             ],
             [
              0.4444444444444444,
              "#bd3786"
             ],
             [
              0.5555555555555556,
              "#d8576b"
             ],
             [
              0.6666666666666666,
              "#ed7953"
             ],
             [
              0.7777777777777778,
              "#fb9f3a"
             ],
             [
              0.8888888888888888,
              "#fdca26"
             ],
             [
              1,
              "#f0f921"
             ]
            ],
            "type": "heatmap"
           }
          ],
          "heatmapgl": [
           {
            "colorbar": {
             "outlinewidth": 0,
             "ticks": ""
            },
            "colorscale": [
             [
              0,
              "#0d0887"
             ],
             [
              0.1111111111111111,
              "#46039f"
             ],
             [
              0.2222222222222222,
              "#7201a8"
             ],
             [
              0.3333333333333333,
              "#9c179e"
             ],
             [
              0.4444444444444444,
              "#bd3786"
             ],
             [
              0.5555555555555556,
              "#d8576b"
             ],
             [
              0.6666666666666666,
              "#ed7953"
             ],
             [
              0.7777777777777778,
              "#fb9f3a"
             ],
             [
              0.8888888888888888,
              "#fdca26"
             ],
             [
              1,
              "#f0f921"
             ]
            ],
            "type": "heatmapgl"
           }
          ],
          "histogram": [
           {
            "marker": {
             "pattern": {
              "fillmode": "overlay",
              "size": 10,
              "solidity": 0.2
             }
            },
            "type": "histogram"
           }
          ],
          "histogram2d": [
           {
            "colorbar": {
             "outlinewidth": 0,
             "ticks": ""
            },
            "colorscale": [
             [
              0,
              "#0d0887"
             ],
             [
              0.1111111111111111,
              "#46039f"
             ],
             [
              0.2222222222222222,
              "#7201a8"
             ],
             [
              0.3333333333333333,
              "#9c179e"
             ],
             [
              0.4444444444444444,
              "#bd3786"
             ],
             [
              0.5555555555555556,
              "#d8576b"
             ],
             [
              0.6666666666666666,
              "#ed7953"
             ],
             [
              0.7777777777777778,
              "#fb9f3a"
             ],
             [
              0.8888888888888888,
              "#fdca26"
             ],
             [
              1,
              "#f0f921"
             ]
            ],
            "type": "histogram2d"
           }
          ],
          "histogram2dcontour": [
           {
            "colorbar": {
             "outlinewidth": 0,
             "ticks": ""
            },
            "colorscale": [
             [
              0,
              "#0d0887"
             ],
             [
              0.1111111111111111,
              "#46039f"
             ],
             [
              0.2222222222222222,
              "#7201a8"
             ],
             [
              0.3333333333333333,
              "#9c179e"
             ],
             [
              0.4444444444444444,
              "#bd3786"
             ],
             [
              0.5555555555555556,
              "#d8576b"
             ],
             [
              0.6666666666666666,
              "#ed7953"
             ],
             [
              0.7777777777777778,
              "#fb9f3a"
             ],
             [
              0.8888888888888888,
              "#fdca26"
             ],
             [
              1,
              "#f0f921"
             ]
            ],
            "type": "histogram2dcontour"
           }
          ],
          "mesh3d": [
           {
            "colorbar": {
             "outlinewidth": 0,
             "ticks": ""
            },
            "type": "mesh3d"
           }
          ],
          "parcoords": [
           {
            "line": {
             "colorbar": {
              "outlinewidth": 0,
              "ticks": ""
             }
            },
            "type": "parcoords"
           }
          ],
          "pie": [
           {
            "automargin": true,
            "type": "pie"
           }
          ],
          "scatter": [
           {
            "fillpattern": {
             "fillmode": "overlay",
             "size": 10,
             "solidity": 0.2
            },
            "type": "scatter"
           }
          ],
          "scatter3d": [
           {
            "line": {
             "colorbar": {
              "outlinewidth": 0,
              "ticks": ""
             }
            },
            "marker": {
             "colorbar": {
              "outlinewidth": 0,
              "ticks": ""
             }
            },
            "type": "scatter3d"
           }
          ],
          "scattercarpet": [
           {
            "marker": {
             "colorbar": {
              "outlinewidth": 0,
              "ticks": ""
             }
            },
            "type": "scattercarpet"
           }
          ],
          "scattergeo": [
           {
            "marker": {
             "colorbar": {
              "outlinewidth": 0,
              "ticks": ""
             }
            },
            "type": "scattergeo"
           }
          ],
          "scattergl": [
           {
            "marker": {
             "colorbar": {
              "outlinewidth": 0,
              "ticks": ""
             }
            },
            "type": "scattergl"
           }
          ],
          "scattermapbox": [
           {
            "marker": {
             "colorbar": {
              "outlinewidth": 0,
              "ticks": ""
             }
            },
            "type": "scattermapbox"
           }
          ],
          "scatterpolar": [
           {
            "marker": {
             "colorbar": {
              "outlinewidth": 0,
              "ticks": ""
             }
            },
            "type": "scatterpolar"
           }
          ],
          "scatterpolargl": [
           {
            "marker": {
             "colorbar": {
              "outlinewidth": 0,
              "ticks": ""
             }
            },
            "type": "scatterpolargl"
           }
          ],
          "scatterternary": [
           {
            "marker": {
             "colorbar": {
              "outlinewidth": 0,
              "ticks": ""
             }
            },
            "type": "scatterternary"
           }
          ],
          "surface": [
           {
            "colorbar": {
             "outlinewidth": 0,
             "ticks": ""
            },
            "colorscale": [
             [
              0,
              "#0d0887"
             ],
             [
              0.1111111111111111,
              "#46039f"
             ],
             [
              0.2222222222222222,
              "#7201a8"
             ],
             [
              0.3333333333333333,
              "#9c179e"
             ],
             [
              0.4444444444444444,
              "#bd3786"
             ],
             [
              0.5555555555555556,
              "#d8576b"
             ],
             [
              0.6666666666666666,
              "#ed7953"
             ],
             [
              0.7777777777777778,
              "#fb9f3a"
             ],
             [
              0.8888888888888888,
              "#fdca26"
             ],
             [
              1,
              "#f0f921"
             ]
            ],
            "type": "surface"
           }
          ],
          "table": [
           {
            "cells": {
             "fill": {
              "color": "#EBF0F8"
             },
             "line": {
              "color": "white"
             }
            },
            "header": {
             "fill": {
              "color": "#C8D4E3"
             },
             "line": {
              "color": "white"
             }
            },
            "type": "table"
           }
          ]
         },
         "layout": {
          "annotationdefaults": {
           "arrowcolor": "#2a3f5f",
           "arrowhead": 0,
           "arrowwidth": 1
          },
          "autotypenumbers": "strict",
          "coloraxis": {
           "colorbar": {
            "outlinewidth": 0,
            "ticks": ""
           }
          },
          "colorscale": {
           "diverging": [
            [
             0,
             "#8e0152"
            ],
            [
             0.1,
             "#c51b7d"
            ],
            [
             0.2,
             "#de77ae"
            ],
            [
             0.3,
             "#f1b6da"
            ],
            [
             0.4,
             "#fde0ef"
            ],
            [
             0.5,
             "#f7f7f7"
            ],
            [
             0.6,
             "#e6f5d0"
            ],
            [
             0.7,
             "#b8e186"
            ],
            [
             0.8,
             "#7fbc41"
            ],
            [
             0.9,
             "#4d9221"
            ],
            [
             1,
             "#276419"
            ]
           ],
           "sequential": [
            [
             0,
             "#0d0887"
            ],
            [
             0.1111111111111111,
             "#46039f"
            ],
            [
             0.2222222222222222,
             "#7201a8"
            ],
            [
             0.3333333333333333,
             "#9c179e"
            ],
            [
             0.4444444444444444,
             "#bd3786"
            ],
            [
             0.5555555555555556,
             "#d8576b"
            ],
            [
             0.6666666666666666,
             "#ed7953"
            ],
            [
             0.7777777777777778,
             "#fb9f3a"
            ],
            [
             0.8888888888888888,
             "#fdca26"
            ],
            [
             1,
             "#f0f921"
            ]
           ],
           "sequentialminus": [
            [
             0,
             "#0d0887"
            ],
            [
             0.1111111111111111,
             "#46039f"
            ],
            [
             0.2222222222222222,
             "#7201a8"
            ],
            [
             0.3333333333333333,
             "#9c179e"
            ],
            [
             0.4444444444444444,
             "#bd3786"
            ],
            [
             0.5555555555555556,
             "#d8576b"
            ],
            [
             0.6666666666666666,
             "#ed7953"
            ],
            [
             0.7777777777777778,
             "#fb9f3a"
            ],
            [
             0.8888888888888888,
             "#fdca26"
            ],
            [
             1,
             "#f0f921"
            ]
           ]
          },
          "colorway": [
           "#636efa",
           "#EF553B",
           "#00cc96",
           "#ab63fa",
           "#FFA15A",
           "#19d3f3",
           "#FF6692",
           "#B6E880",
           "#FF97FF",
           "#FECB52"
          ],
          "font": {
           "color": "#2a3f5f"
          },
          "geo": {
           "bgcolor": "white",
           "lakecolor": "white",
           "landcolor": "#E5ECF6",
           "showlakes": true,
           "showland": true,
           "subunitcolor": "white"
          },
          "hoverlabel": {
           "align": "left"
          },
          "hovermode": "closest",
          "mapbox": {
           "style": "light"
          },
          "paper_bgcolor": "white",
          "plot_bgcolor": "#E5ECF6",
          "polar": {
           "angularaxis": {
            "gridcolor": "white",
            "linecolor": "white",
            "ticks": ""
           },
           "bgcolor": "#E5ECF6",
           "radialaxis": {
            "gridcolor": "white",
            "linecolor": "white",
            "ticks": ""
           }
          },
          "scene": {
           "xaxis": {
            "backgroundcolor": "#E5ECF6",
            "gridcolor": "white",
            "gridwidth": 2,
            "linecolor": "white",
            "showbackground": true,
            "ticks": "",
            "zerolinecolor": "white"
           },
           "yaxis": {
            "backgroundcolor": "#E5ECF6",
            "gridcolor": "white",
            "gridwidth": 2,
            "linecolor": "white",
            "showbackground": true,
            "ticks": "",
            "zerolinecolor": "white"
           },
           "zaxis": {
            "backgroundcolor": "#E5ECF6",
            "gridcolor": "white",
            "gridwidth": 2,
            "linecolor": "white",
            "showbackground": true,
            "ticks": "",
            "zerolinecolor": "white"
           }
          },
          "shapedefaults": {
           "line": {
            "color": "#2a3f5f"
           }
          },
          "ternary": {
           "aaxis": {
            "gridcolor": "white",
            "linecolor": "white",
            "ticks": ""
           },
           "baxis": {
            "gridcolor": "white",
            "linecolor": "white",
            "ticks": ""
           },
           "bgcolor": "#E5ECF6",
           "caxis": {
            "gridcolor": "white",
            "linecolor": "white",
            "ticks": ""
           }
          },
          "title": {
           "x": 0.05
          },
          "xaxis": {
           "automargin": true,
           "gridcolor": "white",
           "linecolor": "white",
           "ticks": "",
           "title": {
            "standoff": 15
           },
           "zerolinecolor": "white",
           "zerolinewidth": 2
          },
          "yaxis": {
           "automargin": true,
           "gridcolor": "white",
           "linecolor": "white",
           "ticks": "",
           "title": {
            "standoff": 15
           },
           "zerolinecolor": "white",
           "zerolinewidth": 2
          }
         }
        },
        "xaxis": {
         "anchor": "y",
         "domain": [
          0,
          1
         ],
         "title": {
          "text": "year"
         }
        },
        "yaxis": {
         "anchor": "x",
         "autorange": "reversed",
         "domain": [
          0,
          1
         ],
         "title": {
          "text": "porcentaje"
         }
        }
       }
      }
     },
     "metadata": {},
     "output_type": "display_data"
    }
   ],
   "source": [
    "\n",
    "fig = px.line(df_totales, x='year', y='porcentaje')\n",
    "fig.update_layout(yaxis_autorange=\"reversed\")\n",
    "fig.add_hline(0.000021, line_width=3, line_dash=\"dash\", line_color=\"red\" )\n",
    "fig.show()"
   ]
  },
  {
   "cell_type": "markdown",
   "id": "b05b55d0",
   "metadata": {},
   "source": []
  }
 ],
 "metadata": {
  "kernelspec": {
   "display_name": "Python 3",
   "language": "python",
   "name": "python3"
  },
  "language_info": {
   "codemirror_mode": {
    "name": "ipython",
    "version": 3
   },
   "file_extension": ".py",
   "mimetype": "text/x-python",
   "name": "python",
   "nbconvert_exporter": "python",
   "pygments_lexer": "ipython3",
   "version": "3.13.2"
  }
 },
 "nbformat": 4,
 "nbformat_minor": 5
}

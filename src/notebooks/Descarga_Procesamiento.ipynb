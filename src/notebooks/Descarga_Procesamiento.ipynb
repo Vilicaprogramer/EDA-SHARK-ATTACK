{
 "cells": [
  {
   "cell_type": "markdown",
   "id": "b44ec92e",
   "metadata": {},
   "source": [
    "# 100 Years of Global Shark Attack "
   ]
  },
  {
   "cell_type": "code",
   "execution_count": 472,
   "id": "edc3e56f",
   "metadata": {},
   "outputs": [],
   "source": [
    "# Librerías necesarias\n",
    "import pandas as pd\n",
    "import numpy as np\n",
    "import requests\n",
    "from geopy.geocoders import Nominatim\n",
    "from datetime import datetime\n",
    "from meteostat import Point, Daily"
   ]
  },
  {
   "cell_type": "markdown",
   "id": "6d41aed4",
   "metadata": {},
   "source": [
    "Utilizo la Api de public.opendatasoft Shark Attack, en la que hay un registro de todos los ataques mundiales hechos por tiburones.\n",
    "\n",
    "Investigando en la documentación he descubierto que puedo sacar de una soloa vez hasta 100 registros, y que con el parametro offset, puedo poner el indice desde donde quiero empezar esos 100 registros.\n",
    "\n",
    "Como veo tambien en la documentación hay 6890 registros, decido sacar todos los registros haciendo un bucle for con un range de 0 hasta 6891 y contando de 100 en 100, así obtengo todos los registros y los meto en el dataframe \"df_shark\""
   ]
  },
  {
   "cell_type": "code",
   "execution_count": 219,
   "id": "d2377ca1",
   "metadata": {},
   "outputs": [],
   "source": [
    "lista_sharks = []\n",
    "for i in range(0,6891,100):\n",
    "    respuesta = requests.get(f\"https://public.opendatasoft.com/api/explore/v2.1/catalog/datasets/global-shark-attack/records?limit=100&offset={i}\")\n",
    "    lista_sharks += respuesta.json()['results']"
   ]
  },
  {
   "cell_type": "code",
   "execution_count": 480,
   "id": "001bf347",
   "metadata": {},
   "outputs": [
    {
     "data": {
      "text/plain": [
       "(6890, 21)"
      ]
     },
     "execution_count": 480,
     "metadata": {},
     "output_type": "execute_result"
    }
   ],
   "source": [
    "df_sharks = pd.DataFrame(lista_sharks)\n",
    "df_sharks.shape"
   ]
  },
  {
   "cell_type": "code",
   "execution_count": 481,
   "id": "2fa09782",
   "metadata": {},
   "outputs": [
    {
     "name": "stdout",
     "output_type": "stream",
     "text": [
      "<class 'pandas.core.frame.DataFrame'>\n",
      "RangeIndex: 6890 entries, 0 to 6889\n",
      "Data columns (total 21 columns):\n",
      " #   Column                  Non-Null Count  Dtype \n",
      "---  ------                  --------------  ----- \n",
      " 0   date                    6587 non-null   object\n",
      " 1   year                    6758 non-null   object\n",
      " 2   type                    6871 non-null   object\n",
      " 3   country                 6839 non-null   object\n",
      " 4   area                    6409 non-null   object\n",
      " 5   location                6325 non-null   object\n",
      " 6   activity                6304 non-null   object\n",
      " 7   name                    6670 non-null   object\n",
      " 8   sex                     6318 non-null   object\n",
      " 9   age                     3908 non-null   object\n",
      " 10  injury                  6853 non-null   object\n",
      " 11  fatal_y_n               6890 non-null   object\n",
      " 12  time                    3372 non-null   object\n",
      " 13  species                 3772 non-null   object\n",
      " 14  investigator_or_source  6869 non-null   object\n",
      " 15  pdf                     6799 non-null   object\n",
      " 16  href_formula            6795 non-null   object\n",
      " 17  href                    6796 non-null   object\n",
      " 18  case_number             6798 non-null   object\n",
      " 19  case_number0            6797 non-null   object\n",
      " 20  original_order          6799 non-null   object\n",
      "dtypes: object(21)\n",
      "memory usage: 1.1+ MB\n"
     ]
    }
   ],
   "source": [
    "df_sharks.info()"
   ]
  },
  {
   "cell_type": "markdown",
   "id": "b4b23deb",
   "metadata": {},
   "source": [
    "Por ahora veo que las últimas 7 columnas no son necesarias para mi investigación a si que las eliminamos"
   ]
  },
  {
   "cell_type": "code",
   "execution_count": 482,
   "id": "2b7ea3f8",
   "metadata": {},
   "outputs": [],
   "source": [
    "df_sharks = df_sharks.iloc[:, :14]\n"
   ]
  },
  {
   "cell_type": "markdown",
   "id": "cd9cbf40",
   "metadata": {},
   "source": [
    "## Columna a columna\n",
    "\n",
    "Ya que quiro quedarme solo con los ataques hechos desde el 1925 hasta la actualidad o hasta el último ataque reportado, compruebo que la columna \"year\" no es una columna numerica, pero no puedo ya que tiene 132 registros None. \n",
    "\n",
    "Le echo un vistazo a esos registros y veo que no tienen nigún tipo de dato ni de fecha, \"year\" o \"date\", y como representa una porción tan pequeña en comparación con el dataframe al completo decido desacerme de ellas."
   ]
  },
  {
   "cell_type": "code",
   "execution_count": 483,
   "id": "444973d3",
   "metadata": {},
   "outputs": [
    {
     "data": {
      "text/html": [
       "<div>\n",
       "<style scoped>\n",
       "    .dataframe tbody tr th:only-of-type {\n",
       "        vertical-align: middle;\n",
       "    }\n",
       "\n",
       "    .dataframe tbody tr th {\n",
       "        vertical-align: top;\n",
       "    }\n",
       "\n",
       "    .dataframe thead th {\n",
       "        text-align: right;\n",
       "    }\n",
       "</style>\n",
       "<table border=\"1\" class=\"dataframe\">\n",
       "  <thead>\n",
       "    <tr style=\"text-align: right;\">\n",
       "      <th></th>\n",
       "      <th>date</th>\n",
       "      <th>year</th>\n",
       "      <th>type</th>\n",
       "      <th>country</th>\n",
       "      <th>area</th>\n",
       "      <th>location</th>\n",
       "      <th>activity</th>\n",
       "      <th>name</th>\n",
       "      <th>sex</th>\n",
       "      <th>age</th>\n",
       "      <th>injury</th>\n",
       "      <th>fatal_y_n</th>\n",
       "      <th>time</th>\n",
       "      <th>species</th>\n",
       "    </tr>\n",
       "  </thead>\n",
       "  <tbody>\n",
       "    <tr>\n",
       "      <th>248</th>\n",
       "      <td>None</td>\n",
       "      <td>None</td>\n",
       "      <td>Unprovoked</td>\n",
       "      <td>USA</td>\n",
       "      <td>Florida</td>\n",
       "      <td>Mosquito Inlet (Ponce Inlet), Volusia County</td>\n",
       "      <td>Canoeing</td>\n",
       "      <td>male</td>\n",
       "      <td>M</td>\n",
       "      <td>None</td>\n",
       "      <td>FATAL</td>\n",
       "      <td>Y</td>\n",
       "      <td>None</td>\n",
       "      <td>None</td>\n",
       "    </tr>\n",
       "    <tr>\n",
       "      <th>249</th>\n",
       "      <td>None</td>\n",
       "      <td>None</td>\n",
       "      <td>Sea Disaster</td>\n",
       "      <td>PAPUA NEW GUINEA</td>\n",
       "      <td>Madang Province</td>\n",
       "      <td>Off Lae</td>\n",
       "      <td>Aircraft ditched in the sea, swimming ashore</td>\n",
       "      <td>male</td>\n",
       "      <td>M</td>\n",
       "      <td>None</td>\n",
       "      <td>Shark bumped him</td>\n",
       "      <td>N</td>\n",
       "      <td>None</td>\n",
       "      <td>None</td>\n",
       "    </tr>\n",
       "    <tr>\n",
       "      <th>250</th>\n",
       "      <td>None</td>\n",
       "      <td>None</td>\n",
       "      <td>Unprovoked</td>\n",
       "      <td>SOUTH AFRICA</td>\n",
       "      <td>KwaZulu-Natal</td>\n",
       "      <td>Durban</td>\n",
       "      <td>Fishing</td>\n",
       "      <td>a native fisherman</td>\n",
       "      <td>M</td>\n",
       "      <td>None</td>\n",
       "      <td>FATAL, body not recovered but shark was caught...</td>\n",
       "      <td>Y</td>\n",
       "      <td>None</td>\n",
       "      <td>None</td>\n",
       "    </tr>\n",
       "    <tr>\n",
       "      <th>502</th>\n",
       "      <td>None</td>\n",
       "      <td>None</td>\n",
       "      <td>Unprovoked</td>\n",
       "      <td>AUSTRALIA</td>\n",
       "      <td>Torres Strait</td>\n",
       "      <td>None</td>\n",
       "      <td>Diving for trochus</td>\n",
       "      <td>male</td>\n",
       "      <td>M</td>\n",
       "      <td>None</td>\n",
       "      <td>Calf removed</td>\n",
       "      <td>N</td>\n",
       "      <td>None</td>\n",
       "      <td>0.9 m [3'] shark</td>\n",
       "    </tr>\n",
       "    <tr>\n",
       "      <th>503</th>\n",
       "      <td>None</td>\n",
       "      <td>None</td>\n",
       "      <td>Unprovoked</td>\n",
       "      <td>AUSTRALIA</td>\n",
       "      <td>None</td>\n",
       "      <td>None</td>\n",
       "      <td>Fishing</td>\n",
       "      <td>boy</td>\n",
       "      <td>M</td>\n",
       "      <td>None</td>\n",
       "      <td>FATAL, knocked overboard by tail of shark &amp; ca...</td>\n",
       "      <td>Y</td>\n",
       "      <td>None</td>\n",
       "      <td>Blue pointer</td>\n",
       "    </tr>\n",
       "    <tr>\n",
       "      <th>...</th>\n",
       "      <td>...</td>\n",
       "      <td>...</td>\n",
       "      <td>...</td>\n",
       "      <td>...</td>\n",
       "      <td>...</td>\n",
       "      <td>...</td>\n",
       "      <td>...</td>\n",
       "      <td>...</td>\n",
       "      <td>...</td>\n",
       "      <td>...</td>\n",
       "      <td>...</td>\n",
       "      <td>...</td>\n",
       "      <td>...</td>\n",
       "      <td>...</td>\n",
       "    </tr>\n",
       "    <tr>\n",
       "      <th>6885</th>\n",
       "      <td>None</td>\n",
       "      <td>None</td>\n",
       "      <td>Sea Disaster</td>\n",
       "      <td>GREECE</td>\n",
       "      <td>Off Thessaly</td>\n",
       "      <td>None</td>\n",
       "      <td>Shipwrecked Persian Fleet</td>\n",
       "      <td>males</td>\n",
       "      <td>M</td>\n",
       "      <td>None</td>\n",
       "      <td>Herodotus tells of sharks attacking men in the...</td>\n",
       "      <td>Y</td>\n",
       "      <td>None</td>\n",
       "      <td>None</td>\n",
       "    </tr>\n",
       "    <tr>\n",
       "      <th>6886</th>\n",
       "      <td>None</td>\n",
       "      <td>None</td>\n",
       "      <td>Unprovoked</td>\n",
       "      <td>INDONESIA</td>\n",
       "      <td>Riau Province</td>\n",
       "      <td>Natuna Islands, between Sumatra &amp; Kalimantan i...</td>\n",
       "      <td>Swimming near anchored ship</td>\n",
       "      <td>a ship's engineer</td>\n",
       "      <td>M</td>\n",
       "      <td>None</td>\n",
       "      <td>FATAL, leg severed</td>\n",
       "      <td>Y</td>\n",
       "      <td>None</td>\n",
       "      <td>None</td>\n",
       "    </tr>\n",
       "    <tr>\n",
       "      <th>6887</th>\n",
       "      <td>None</td>\n",
       "      <td>None</td>\n",
       "      <td>Unprovoked</td>\n",
       "      <td>IRAQ</td>\n",
       "      <td>Basrah</td>\n",
       "      <td>Shatt-el Arab River near a small boat stand</td>\n",
       "      <td>Swimming</td>\n",
       "      <td>male</td>\n",
       "      <td>M</td>\n",
       "      <td>13 or 14</td>\n",
       "      <td>FATAL, left leg bitten with severe blood loss</td>\n",
       "      <td>Y</td>\n",
       "      <td>Afternoon</td>\n",
       "      <td>Bull shark</td>\n",
       "    </tr>\n",
       "    <tr>\n",
       "      <th>6888</th>\n",
       "      <td>None</td>\n",
       "      <td>None</td>\n",
       "      <td>Unprovoked</td>\n",
       "      <td>SOUTH AFRICA</td>\n",
       "      <td>KwaZulu-Natal</td>\n",
       "      <td>Durban</td>\n",
       "      <td>Crew swimming alongside their anchored ship</td>\n",
       "      <td>male</td>\n",
       "      <td>M</td>\n",
       "      <td>None</td>\n",
       "      <td>FATAL</td>\n",
       "      <td>Y</td>\n",
       "      <td>None</td>\n",
       "      <td>None</td>\n",
       "    </tr>\n",
       "    <tr>\n",
       "      <th>6889</th>\n",
       "      <td>None</td>\n",
       "      <td>None</td>\n",
       "      <td>Unprovoked</td>\n",
       "      <td>AUSTRALIA</td>\n",
       "      <td>Western Australia</td>\n",
       "      <td>None</td>\n",
       "      <td>Pearl diving</td>\n",
       "      <td>Ahmun</td>\n",
       "      <td>M</td>\n",
       "      <td>None</td>\n",
       "      <td>FATAL</td>\n",
       "      <td>Y</td>\n",
       "      <td>None</td>\n",
       "      <td>None</td>\n",
       "    </tr>\n",
       "  </tbody>\n",
       "</table>\n",
       "<p>132 rows × 14 columns</p>\n",
       "</div>"
      ],
      "text/plain": [
       "      date  year          type           country               area  \\\n",
       "248   None  None    Unprovoked               USA            Florida   \n",
       "249   None  None  Sea Disaster  PAPUA NEW GUINEA    Madang Province   \n",
       "250   None  None    Unprovoked      SOUTH AFRICA      KwaZulu-Natal   \n",
       "502   None  None    Unprovoked         AUSTRALIA      Torres Strait   \n",
       "503   None  None    Unprovoked         AUSTRALIA               None   \n",
       "...    ...   ...           ...               ...                ...   \n",
       "6885  None  None  Sea Disaster            GREECE       Off Thessaly   \n",
       "6886  None  None    Unprovoked         INDONESIA      Riau Province   \n",
       "6887  None  None    Unprovoked              IRAQ             Basrah   \n",
       "6888  None  None    Unprovoked      SOUTH AFRICA      KwaZulu-Natal   \n",
       "6889  None  None    Unprovoked         AUSTRALIA  Western Australia   \n",
       "\n",
       "                                               location  \\\n",
       "248        Mosquito Inlet (Ponce Inlet), Volusia County   \n",
       "249                                             Off Lae   \n",
       "250                                              Durban   \n",
       "502                                                None   \n",
       "503                                                None   \n",
       "...                                                 ...   \n",
       "6885                                               None   \n",
       "6886  Natuna Islands, between Sumatra & Kalimantan i...   \n",
       "6887        Shatt-el Arab River near a small boat stand   \n",
       "6888                                             Durban   \n",
       "6889                                               None   \n",
       "\n",
       "                                          activity                name sex  \\\n",
       "248                                       Canoeing                male   M   \n",
       "249   Aircraft ditched in the sea, swimming ashore                male   M   \n",
       "250                                        Fishing  a native fisherman   M   \n",
       "502                             Diving for trochus                male   M   \n",
       "503                                        Fishing                 boy   M   \n",
       "...                                            ...                 ...  ..   \n",
       "6885                     Shipwrecked Persian Fleet               males   M   \n",
       "6886                   Swimming near anchored ship   a ship's engineer   M   \n",
       "6887                                      Swimming                male   M   \n",
       "6888   Crew swimming alongside their anchored ship                male   M   \n",
       "6889                                  Pearl diving               Ahmun   M   \n",
       "\n",
       "           age                                             injury fatal_y_n  \\\n",
       "248       None                                              FATAL         Y   \n",
       "249       None                                   Shark bumped him         N   \n",
       "250       None  FATAL, body not recovered but shark was caught...         Y   \n",
       "502       None                                       Calf removed         N   \n",
       "503       None  FATAL, knocked overboard by tail of shark & ca...         Y   \n",
       "...        ...                                                ...       ...   \n",
       "6885      None  Herodotus tells of sharks attacking men in the...         Y   \n",
       "6886      None                                 FATAL, leg severed         Y   \n",
       "6887  13 or 14      FATAL, left leg bitten with severe blood loss         Y   \n",
       "6888      None                                              FATAL         Y   \n",
       "6889      None                                              FATAL         Y   \n",
       "\n",
       "           time           species  \n",
       "248        None              None  \n",
       "249        None              None  \n",
       "250        None              None  \n",
       "502        None  0.9 m [3'] shark  \n",
       "503        None      Blue pointer  \n",
       "...         ...               ...  \n",
       "6885       None              None  \n",
       "6886       None              None  \n",
       "6887  Afternoon        Bull shark  \n",
       "6888       None              None  \n",
       "6889       None              None  \n",
       "\n",
       "[132 rows x 14 columns]"
      ]
     },
     "execution_count": 483,
     "metadata": {},
     "output_type": "execute_result"
    }
   ],
   "source": [
    "df_sharks[df_sharks['year'].isnull()]"
   ]
  },
  {
   "cell_type": "code",
   "execution_count": 484,
   "id": "2a9910b7",
   "metadata": {},
   "outputs": [],
   "source": [
    "df_sharks.dropna(subset='year', inplace=True)"
   ]
  },
  {
   "cell_type": "code",
   "execution_count": 485,
   "id": "ca832d60",
   "metadata": {},
   "outputs": [
    {
     "data": {
      "text/plain": [
       "(6758, 14)"
      ]
     },
     "execution_count": 485,
     "metadata": {},
     "output_type": "execute_result"
    }
   ],
   "source": [
    "df_sharks['year'] = df_sharks['year'].astype(int) \n",
    "df_sharks.shape"
   ]
  },
  {
   "cell_type": "markdown",
   "id": "365da11b",
   "metadata": {},
   "source": [
    "Ahora con la columna \"year\" cambiada a numerica -int- nos quedamos solo con los ataques que fueron después del año 1924"
   ]
  },
  {
   "cell_type": "code",
   "execution_count": 486,
   "id": "73ead80a",
   "metadata": {},
   "outputs": [
    {
     "data": {
      "text/plain": [
       "(5750, 14)"
      ]
     },
     "execution_count": 486,
     "metadata": {},
     "output_type": "execute_result"
    }
   ],
   "source": [
    "df_sharks = df_sharks[df_sharks['year'] > 1924]\n",
    "df_sharks.shape"
   ]
  },
  {
   "cell_type": "markdown",
   "id": "01f69375",
   "metadata": {},
   "source": [
    "Vamos a tratar la columna \"date\", para continuar teniendo el maximo de datos posibles vamos a rellenar los 109 datos faltantes con una fecha estandar compuesta por el año de la columna \"year\" y \"-01-01\".\n",
    "\n",
    "Despues la pasaré a **datetime** por si acaso necesitaramos más adelante este tipo de dato."
   ]
  },
  {
   "cell_type": "code",
   "execution_count": 487,
   "id": "8aff2279",
   "metadata": {},
   "outputs": [
    {
     "name": "stdout",
     "output_type": "stream",
     "text": [
      "<class 'pandas.core.frame.DataFrame'>\n",
      "Index: 5750 entries, 0 to 6850\n",
      "Data columns (total 14 columns):\n",
      " #   Column     Non-Null Count  Dtype \n",
      "---  ------     --------------  ----- \n",
      " 0   date       5644 non-null   object\n",
      " 1   year       5750 non-null   int64 \n",
      " 2   type       5735 non-null   object\n",
      " 3   country    5726 non-null   object\n",
      " 4   area       5432 non-null   object\n",
      " 5   location   5379 non-null   object\n",
      " 6   activity   5318 non-null   object\n",
      " 7   name       5593 non-null   object\n",
      " 8   sex        5259 non-null   object\n",
      " 9   age        3724 non-null   object\n",
      " 10  injury     5726 non-null   object\n",
      " 11  fatal_y_n  5750 non-null   object\n",
      " 12  time       3189 non-null   object\n",
      " 13  species    3463 non-null   object\n",
      "dtypes: int64(1), object(13)\n",
      "memory usage: 673.8+ KB\n"
     ]
    }
   ],
   "source": [
    "df_sharks.info()"
   ]
  },
  {
   "cell_type": "code",
   "execution_count": 488,
   "id": "cf0898f4",
   "metadata": {},
   "outputs": [],
   "source": [
    "mask = df_sharks['date'].isna()\n",
    "df_sharks.loc[mask, 'date'] = df_sharks.loc[mask, 'year'].astype(str) + '-01-01'"
   ]
  },
  {
   "cell_type": "code",
   "execution_count": 489,
   "id": "3249c5b7",
   "metadata": {},
   "outputs": [],
   "source": [
    "df_sharks.loc[3184,'date'] = f'{df_sharks.loc[3184, 'year']}-01-01'\n",
    "df_sharks.loc[3360,'date'] = f'{df_sharks.loc[3360, 'year']}-01-01'\n",
    "df_sharks.loc[4439,'date'] = f'{df_sharks.loc[4439, 'year']}-01-01'"
   ]
  },
  {
   "cell_type": "code",
   "execution_count": 490,
   "id": "86017b9e",
   "metadata": {},
   "outputs": [
    {
     "name": "stdout",
     "output_type": "stream",
     "text": [
      "<class 'pandas.core.frame.DataFrame'>\n",
      "Index: 5750 entries, 0 to 6850\n",
      "Data columns (total 14 columns):\n",
      " #   Column     Non-Null Count  Dtype         \n",
      "---  ------     --------------  -----         \n",
      " 0   date       5750 non-null   datetime64[ns]\n",
      " 1   year       5750 non-null   int64         \n",
      " 2   type       5735 non-null   object        \n",
      " 3   country    5726 non-null   object        \n",
      " 4   area       5432 non-null   object        \n",
      " 5   location   5379 non-null   object        \n",
      " 6   activity   5318 non-null   object        \n",
      " 7   name       5593 non-null   object        \n",
      " 8   sex        5259 non-null   object        \n",
      " 9   age        3724 non-null   object        \n",
      " 10  injury     5726 non-null   object        \n",
      " 11  fatal_y_n  5750 non-null   object        \n",
      " 12  time       3189 non-null   object        \n",
      " 13  species    3463 non-null   object        \n",
      "dtypes: datetime64[ns](1), int64(1), object(12)\n",
      "memory usage: 802.9+ KB\n"
     ]
    }
   ],
   "source": [
    "df_sharks['date'] = pd.to_datetime(df_sharks['date'], errors='coerce')\n",
    "df_sharks.info()"
   ]
  },
  {
   "cell_type": "markdown",
   "id": "71004362",
   "metadata": {},
   "source": [
    "En la columna 'type' me encuentro con 15 registros nulos, 1 **Unverified**, 1 \"?\", 1 **Unconfirmed** y 1 **Under investigation**.\n",
    "Creo que lo mejor va a ser imputarle a todos la etiqueta de **Unverified**."
   ]
  },
  {
   "cell_type": "code",
   "execution_count": 492,
   "metadata": {},
   "outputs": [],
   "source": [
    "df_sharks.fillna({'type':'Unverified'}, inplace=True)\n",
    "df_sharks.loc[df_sharks['type'].isin(['?', 'Unconfirmed', 'Under investigation']),'type'] = 'Unverified'"
   ]
  },
  {
   "cell_type": "code",
   "execution_count": 493,
   "id": "bd0be556",
   "metadata": {},
   "outputs": [
    {
     "data": {
      "text/plain": [
       "type\n",
       "Unprovoked      4228\n",
       "Provoked         566\n",
       "Invalid          432\n",
       "Watercraft       311\n",
       "Sea Disaster     170\n",
       "Unverified        19\n",
       "Questionable      17\n",
       "Boat               7\n",
       "Name: count, dtype: int64"
      ]
     },
     "execution_count": 493,
     "metadata": {},
     "output_type": "execute_result"
    }
   ],
   "source": [
    "df_sharks['type'].value_counts()"
   ]
  },
  {
   "cell_type": "code",
   "execution_count": 494,
   "id": "17c8adcf",
   "metadata": {},
   "outputs": [
    {
     "name": "stdout",
     "output_type": "stream",
     "text": [
      "<class 'pandas.core.frame.DataFrame'>\n",
      "Index: 5750 entries, 0 to 6850\n",
      "Data columns (total 14 columns):\n",
      " #   Column     Non-Null Count  Dtype         \n",
      "---  ------     --------------  -----         \n",
      " 0   date       5750 non-null   datetime64[ns]\n",
      " 1   year       5750 non-null   int64         \n",
      " 2   type       5750 non-null   object        \n",
      " 3   country    5726 non-null   object        \n",
      " 4   area       5432 non-null   object        \n",
      " 5   location   5379 non-null   object        \n",
      " 6   activity   5318 non-null   object        \n",
      " 7   name       5593 non-null   object        \n",
      " 8   sex        5259 non-null   object        \n",
      " 9   age        3724 non-null   object        \n",
      " 10  injury     5726 non-null   object        \n",
      " 11  fatal_y_n  5750 non-null   object        \n",
      " 12  time       3189 non-null   object        \n",
      " 13  species    3463 non-null   object        \n",
      "dtypes: datetime64[ns](1), int64(1), object(12)\n",
      "memory usage: 802.9+ KB\n"
     ]
    }
   ],
   "source": [
    "df_sharks.info()"
   ]
  },
  {
   "cell_type": "markdown",
   "id": "f7f69f78",
   "metadata": {},
   "source": [
    "Columna country, parece que tiene 24 nulos, investigaré un poco esos registros y vere si puedo imputarle algún Pais o tengo que eliminar esos registros.\n",
    "\n",
    "Al investigar un poco vemos que la gran mayoría de los registros faltantes son debido a que el ataque ha sido en aguas internacionales o en el mar entre dos paises.\n",
    "\n",
    "Imputaré uno de los dos paises a los que tengan dos, basandonos en los registros mayoritarios que si lo tengan.\n",
    "Imputaré un país cercano al agua internacional, basandonos en los registros mayoritarios que si lo tengan.\n",
    "Eliminaré los registros que no arrojen ninguna pista sobre el pais del ataque."
   ]
  },
  {
   "cell_type": "code",
   "execution_count": 495,
   "id": "97135ef2",
   "metadata": {},
   "outputs": [
    {
     "name": "stdout",
     "output_type": "stream",
     "text": [
      "2265 -> USA\n",
      "1182 -> AUSTRALIA\n",
      "545 -> SOUTH AFRICA\n",
      "131 -> PAPUA NEW GUINEA\n",
      "122 -> BAHAMAS\n",
      "118 -> BRAZIL\n",
      "100 -> NEW ZEALAND\n",
      "79 -> MEXICO\n",
      "60 -> NEW CALEDONIA\n",
      "56 -> REUNION\n",
      "54 -> ITALY\n",
      "53 -> FIJI\n",
      "44 -> PHILIPPINES\n",
      "40 -> MOZAMBIQUE\n",
      "37 -> EGYPT\n",
      "33 -> FRENCH POLYNESIA\n",
      "32 -> JAPAN\n",
      "28 -> SPAIN\n",
      "25 -> IRAN\n",
      "25 -> CUBA\n",
      "24 -> HONG KONG\n",
      "24 -> SOLOMON ISLANDS\n",
      "22 -> PANAMA\n",
      "17 -> CROATIA\n",
      "16 -> TONGA\n",
      "16 -> COSTA RICA\n",
      "16 -> JAMAICA\n",
      "15 -> PACIFIC OCEAN\n",
      "14 -> GREECE\n",
      "14 -> BERMUDA\n",
      "13 -> INDONESIA\n",
      "12 -> ENGLAND\n",
      "12 -> THAILAND\n",
      "11 -> UNITED KINGDOM\n",
      "11 -> VIETNAM\n",
      "11 -> VANUATU\n",
      "11 -> ATLANTIC OCEAN\n",
      "11 -> ECUADOR\n",
      "11 -> INDIA\n",
      "11 -> TURKEY\n",
      "11 -> SENEGAL\n",
      "11 -> MARSHALL ISLANDS\n",
      "10 -> COLUMBIA\n",
      "9 -> VENEZUELA\n",
      "9 -> TAIWAN\n",
      "9 -> NEW GUINEA\n",
      "8 -> TANZANIA\n",
      "8 -> SOUTH ATLANTIC OCEAN\n",
      "8 -> ISRAEL\n",
      "8 -> KENYA\n",
      "8 -> CHILE\n",
      "8 -> SOUTH KOREA\n",
      "8 -> SRI LANKA\n",
      "8 -> MAURITIUS\n",
      "7 -> CANADA\n",
      "7 -> SCOTLAND\n",
      "7 -> CARIBBEAN SEA\n",
      "7 -> DOMINICAN REPUBLIC\n",
      "7 -> SEYCHELLES\n",
      "7 -> IRAQ\n",
      "6 -> CHINA\n",
      "6 -> SAMOA\n",
      "6 -> SOMALIA\n",
      "6 -> NORTH PACIFIC OCEAN\n",
      "6 -> NEW BRITAIN\n",
      "6 -> OKINAWA\n",
      "5 -> TURKS & CAICOS\n",
      "5 -> PALAU\n",
      "5 -> MALAYSIA\n",
      "5 -> MADAGASCAR\n",
      "5 -> MID ATLANTIC OCEAN\n",
      "4 -> PORTUGAL\n",
      "4 -> EL SALVADOR\n",
      "4 -> FRANCE\n",
      "4 -> INDIAN OCEAN\n",
      "4 -> BELIZE\n",
      "4 -> GUAM\n",
      "4 -> SINGAPORE\n",
      "4 -> NORTH ATLANTIC OCEAN\n",
      "4 -> RUSSIA\n",
      "4 -> GRENADA\n",
      "4 -> NICARAGUA\n",
      "4 -> AZORES\n",
      "4 -> REUNION ISLAND\n",
      "3 -> LIBERIA\n",
      "3 -> AMERICAN SAMOA\n",
      "3 -> PERSIAN GULF\n",
      "3 -> CAPE VERDE\n",
      "3 -> MICRONESIA\n",
      "3 -> TRINIDAD & TOBAGO\n",
      "3 -> MALDIVES\n",
      "3 -> MALTA\n",
      "2 -> CENTRAL PACIFIC\n",
      "2 -> SUDAN\n",
      "2 -> TUNISIA\n",
      "2 -> SIERRA LEONE\n",
      "2 -> JOHNSTON ISLAND\n",
      "2 -> KIRIBATI\n",
      "2 -> CAYMAN ISLANDS\n",
      "2 -> SAUDI ARABIA\n",
      "2 -> COLOMBIA\n",
      "2 -> SOUTHWEST PACIFIC OCEAN\n",
      "2 -> Fiji\n",
      "2 -> MONTENEGRO\n",
      "2 -> YEMEN\n",
      "2 -> SOUTH PACIFIC OCEAN\n",
      "2 -> HONDURAS\n",
      "2 -> UNITED ARAB EMIRATES (UAE)\n",
      "2 -> ARGENTINA\n",
      "2 -> UNITED ARAB EMIRATES\n",
      "2 -> Australia\n",
      "2 -> ST HELENA, British overseas territory\n",
      "1 -> PALESTINIAN TERRITORIES\n",
      "1 -> GULF OF ADEN\n",
      "1 -> MARTINIQUE\n",
      "1 -> PUERTO RICO\n",
      "1 -> WESTERN SAMOA\n",
      "1 -> NETHERLANDS ANTILLES\n",
      "1 -> FEDERATED STATES OF MICRONESIA\n",
      "1 -> NORWAY\n",
      "1 -> ITALY / CROATIA\n",
      "1 -> Sierra Leone\n",
      "1 -> SOLOMON ISLANDS / VANUATU\n",
      "1 -> ST KITTS / NEVIS\n",
      "1 -> THE BALKANS\n",
      "1 -> BARBADOS\n",
      "1 -> NIGERIA\n",
      "1 -> TURKS and CaICOS\n",
      "1 -> BRITISH WEST INDIES\n",
      "1 -> South Africa\n",
      "1 -> MALDIVE ISLANDS\n",
      "1 -> MAYOTTE\n",
      "1 -> IRELAND\n",
      "1 -> MeXICO\n",
      "1 -> NORTHERN MARIANA ISLANDS\n",
      "1 -> BRITISH ISLES\n",
      "1 -> ANTIGUA\n",
      "1 -> GUATEMALA\n",
      "1 -> BANGLADESH\n",
      "1 -> SLOVENIA\n",
      "1 -> ANDAMAN / NICOBAR ISLANDAS\n",
      "1 -> RED SEA\n",
      "1 -> ADMIRALTY ISLANDS\n",
      "1 -> JORDAN\n",
      "1 -> SUDAN?\n",
      "1 -> ICELAND\n",
      "1 -> Seychelles\n",
      "1 -> ST MARTIN\n",
      "1 -> MONACO\n",
      "1 -> IRAN / IRAQ\n",
      "1 -> EGYPT / ISRAEL\n",
      "1 -> British Overseas Territory\n",
      "1 -> NORTH SEA\n",
      "1 -> ST. MAARTIN\n",
      "1 -> JAVA\n",
      "1 -> ANGOLA\n",
      "1 -> RED SEA / INDIAN OCEAN\n",
      "1 -> URUGUAY\n",
      "1 -> NAMIBIA\n",
      "1 -> GRAND CAYMAN\n",
      "1 -> New Zealand\n",
      "1 -> NEVIS\n",
      "1 -> CURACAO\n",
      "1 -> DIEGO GARCIA\n",
      "1 -> SOUTH CHINA SEA\n",
      "1 -> BAY OF BENGAL\n",
      "1 -> COMOROS\n",
      "1 -> ARUBA\n",
      "1 -> BRITISH VIRGIN ISLANDS\n",
      "1 -> NORTHERN ARABIAN SEA\n",
      "1 -> GABON\n",
      "1 -> Maldives\n",
      "1 -> ST. MARTIN\n",
      "1 -> MID-PACIFC OCEAN\n",
      "1 -> LIBYA\n"
     ]
    }
   ],
   "source": [
    "for i, j in df_sharks['country'].value_counts().items():\n",
    "    print(f'{j} -> {i}')"
   ]
  },
  {
   "cell_type": "code",
   "execution_count": 542,
   "id": "83d89521",
   "metadata": {},
   "outputs": [],
   "source": [
    "df_sharks.loc[5836, 'country'] = 'USA'"
   ]
  },
  {
   "cell_type": "code",
   "execution_count": 540,
   "id": "e6097928",
   "metadata": {},
   "outputs": [],
   "source": [
    "df_sharks.drop(5099, axis = 0, inplace=True)"
   ]
  },
  {
   "cell_type": "code",
   "execution_count": 543,
   "id": "b359cb0f",
   "metadata": {},
   "outputs": [
    {
     "data": {
      "text/html": [
       "<div>\n",
       "<style scoped>\n",
       "    .dataframe tbody tr th:only-of-type {\n",
       "        vertical-align: middle;\n",
       "    }\n",
       "\n",
       "    .dataframe tbody tr th {\n",
       "        vertical-align: top;\n",
       "    }\n",
       "\n",
       "    .dataframe thead th {\n",
       "        text-align: right;\n",
       "    }\n",
       "</style>\n",
       "<table border=\"1\" class=\"dataframe\">\n",
       "  <thead>\n",
       "    <tr style=\"text-align: right;\">\n",
       "      <th></th>\n",
       "      <th>date</th>\n",
       "      <th>year</th>\n",
       "      <th>type</th>\n",
       "      <th>country</th>\n",
       "      <th>area</th>\n",
       "      <th>location</th>\n",
       "      <th>activity</th>\n",
       "      <th>name</th>\n",
       "      <th>sex</th>\n",
       "      <th>age</th>\n",
       "      <th>injury</th>\n",
       "      <th>fatal_y_n</th>\n",
       "      <th>time</th>\n",
       "      <th>species</th>\n",
       "    </tr>\n",
       "  </thead>\n",
       "  <tbody>\n",
       "  </tbody>\n",
       "</table>\n",
       "</div>"
      ],
      "text/plain": [
       "Empty DataFrame\n",
       "Columns: [date, year, type, country, area, location, activity, name, sex, age, injury, fatal_y_n, time, species]\n",
       "Index: []"
      ]
     },
     "execution_count": 543,
     "metadata": {},
     "output_type": "execute_result"
    }
   ],
   "source": [
    "df_sharks[df_sharks['country'].isnull()]"
   ]
  },
  {
   "cell_type": "markdown",
   "id": "e71a41a2",
   "metadata": {},
   "source": [
    "Una vez resuelto el tema de los datos vacíos ahora voy a pasar todos los strings a mayusculas ya que la gran mayoría están en mayusculas excepto algunos campos, y eso hace que al agrupar por pais algunos paises se queden fuera de sus grupos."
   ]
  },
  {
   "cell_type": "code",
   "execution_count": 544,
   "id": "cd682a5c",
   "metadata": {},
   "outputs": [],
   "source": [
    "df_sharks['country'] = df_sharks['country'].apply(lambda x: x.upper())"
   ]
  },
  {
   "cell_type": "code",
   "execution_count": 545,
   "id": "4f1e1dc4",
   "metadata": {},
   "outputs": [
    {
     "data": {
      "text/html": [
       "<div>\n",
       "<style scoped>\n",
       "    .dataframe tbody tr th:only-of-type {\n",
       "        vertical-align: middle;\n",
       "    }\n",
       "\n",
       "    .dataframe tbody tr th {\n",
       "        vertical-align: top;\n",
       "    }\n",
       "\n",
       "    .dataframe thead th {\n",
       "        text-align: right;\n",
       "    }\n",
       "</style>\n",
       "<table border=\"1\" class=\"dataframe\">\n",
       "  <thead>\n",
       "    <tr style=\"text-align: right;\">\n",
       "      <th></th>\n",
       "      <th>date</th>\n",
       "      <th>year</th>\n",
       "      <th>type</th>\n",
       "      <th>country</th>\n",
       "      <th>area</th>\n",
       "      <th>location</th>\n",
       "      <th>activity</th>\n",
       "      <th>name</th>\n",
       "      <th>sex</th>\n",
       "      <th>age</th>\n",
       "      <th>injury</th>\n",
       "      <th>fatal_y_n</th>\n",
       "      <th>time</th>\n",
       "      <th>species</th>\n",
       "    </tr>\n",
       "  </thead>\n",
       "  <tbody>\n",
       "    <tr>\n",
       "      <th>360</th>\n",
       "      <td>1998-11-05</td>\n",
       "      <td>1998</td>\n",
       "      <td>Unprovoked</td>\n",
       "      <td>USA</td>\n",
       "      <td>Oregon</td>\n",
       "      <td>Winchester Bay</td>\n",
       "      <td>Surfing</td>\n",
       "      <td>Dale Inskeep</td>\n",
       "      <td>M</td>\n",
       "      <td>32.0</td>\n",
       "      <td>No injury</td>\n",
       "      <td>N</td>\n",
       "      <td>None</td>\n",
       "      <td>White shark, 5 m  to 6 m [16.5' to 20']</td>\n",
       "    </tr>\n",
       "    <tr>\n",
       "      <th>1027</th>\n",
       "      <td>2012-09-16</td>\n",
       "      <td>2012</td>\n",
       "      <td>Unprovoked</td>\n",
       "      <td>USA</td>\n",
       "      <td>Florida</td>\n",
       "      <td>Cocoa Beach, Brevard  County</td>\n",
       "      <td>Surfing</td>\n",
       "      <td>male</td>\n",
       "      <td>M</td>\n",
       "      <td>52</td>\n",
       "      <td>Foot bitten</td>\n",
       "      <td>N</td>\n",
       "      <td>15h00</td>\n",
       "      <td>None</td>\n",
       "    </tr>\n",
       "    <tr>\n",
       "      <th>2493</th>\n",
       "      <td>2014-12-03</td>\n",
       "      <td>2014</td>\n",
       "      <td>Provoked</td>\n",
       "      <td>SPAIN</td>\n",
       "      <td>Granada</td>\n",
       "      <td>Off Motril</td>\n",
       "      <td>Fishing for blue sharks</td>\n",
       "      <td>male</td>\n",
       "      <td>M</td>\n",
       "      <td>None</td>\n",
       "      <td>Glancing bite to wrist from netted shark PROVO...</td>\n",
       "      <td>N</td>\n",
       "      <td>07h00</td>\n",
       "      <td>None</td>\n",
       "    </tr>\n",
       "    <tr>\n",
       "      <th>6740</th>\n",
       "      <td>1996-10-03</td>\n",
       "      <td>1996</td>\n",
       "      <td>Unprovoked</td>\n",
       "      <td>USA</td>\n",
       "      <td>Florida</td>\n",
       "      <td>Cocoa Beach, Brevard County</td>\n",
       "      <td>Surfing</td>\n",
       "      <td>Aric Hollingsworth</td>\n",
       "      <td>M</td>\n",
       "      <td>21.0</td>\n",
       "      <td>4 laceration on left forearm</td>\n",
       "      <td>N</td>\n",
       "      <td>08h30</td>\n",
       "      <td>1.2 m [4'] shark</td>\n",
       "    </tr>\n",
       "    <tr>\n",
       "      <th>4793</th>\n",
       "      <td>1983-05-24</td>\n",
       "      <td>1983</td>\n",
       "      <td>Unprovoked</td>\n",
       "      <td>USA</td>\n",
       "      <td>Florida</td>\n",
       "      <td>Riviera Beach, Palm Beach County</td>\n",
       "      <td>Surfing</td>\n",
       "      <td>Dave Coulter</td>\n",
       "      <td>M</td>\n",
       "      <td>15</td>\n",
       "      <td>Knocked off board by shark, no injury</td>\n",
       "      <td>N</td>\n",
       "      <td>None</td>\n",
       "      <td>None</td>\n",
       "    </tr>\n",
       "    <tr>\n",
       "      <th>4489</th>\n",
       "      <td>2007-09-20</td>\n",
       "      <td>2007</td>\n",
       "      <td>Unprovoked</td>\n",
       "      <td>USA</td>\n",
       "      <td>Florida</td>\n",
       "      <td>New Smyrna Beach, Volusia County</td>\n",
       "      <td>Surfing</td>\n",
       "      <td>Tyler Robertson</td>\n",
       "      <td>M</td>\n",
       "      <td>23</td>\n",
       "      <td>Small lacerations to bottom of right big toe</td>\n",
       "      <td>N</td>\n",
       "      <td>18h20</td>\n",
       "      <td>3' shark</td>\n",
       "    </tr>\n",
       "  </tbody>\n",
       "</table>\n",
       "</div>"
      ],
      "text/plain": [
       "           date  year        type country     area  \\\n",
       "360  1998-11-05  1998  Unprovoked     USA   Oregon   \n",
       "1027 2012-09-16  2012  Unprovoked     USA  Florida   \n",
       "2493 2014-12-03  2014    Provoked   SPAIN  Granada   \n",
       "6740 1996-10-03  1996  Unprovoked     USA  Florida   \n",
       "4793 1983-05-24  1983  Unprovoked     USA  Florida   \n",
       "4489 2007-09-20  2007  Unprovoked     USA  Florida   \n",
       "\n",
       "                              location                 activity  \\\n",
       "360                     Winchester Bay                  Surfing   \n",
       "1027      Cocoa Beach, Brevard  County                  Surfing   \n",
       "2493                        Off Motril  Fishing for blue sharks   \n",
       "6740       Cocoa Beach, Brevard County                  Surfing   \n",
       "4793  Riviera Beach, Palm Beach County                  Surfing   \n",
       "4489  New Smyrna Beach, Volusia County                  Surfing   \n",
       "\n",
       "                    name sex   age  \\\n",
       "360         Dale Inskeep   M  32.0   \n",
       "1027                male   M    52   \n",
       "2493                male   M  None   \n",
       "6740  Aric Hollingsworth   M  21.0   \n",
       "4793        Dave Coulter   M    15   \n",
       "4489     Tyler Robertson   M    23   \n",
       "\n",
       "                                                 injury fatal_y_n   time  \\\n",
       "360                                           No injury         N   None   \n",
       "1027                                        Foot bitten         N  15h00   \n",
       "2493  Glancing bite to wrist from netted shark PROVO...         N  07h00   \n",
       "6740                       4 laceration on left forearm         N  08h30   \n",
       "4793              Knocked off board by shark, no injury         N   None   \n",
       "4489       Small lacerations to bottom of right big toe         N  18h20   \n",
       "\n",
       "                                      species  \n",
       "360   White shark, 5 m  to 6 m [16.5' to 20']  \n",
       "1027                                     None  \n",
       "2493                                     None  \n",
       "6740                         1.2 m [4'] shark  \n",
       "4793                                     None  \n",
       "4489                                 3' shark  "
      ]
     },
     "execution_count": 545,
     "metadata": {},
     "output_type": "execute_result"
    }
   ],
   "source": [
    "df_sharks.sample(6)"
   ]
  },
  {
   "cell_type": "markdown",
   "id": "fb0fc907",
   "metadata": {},
   "source": [
    "En la columna de 'area' hay 308 registros None, a los que imputaremos el valor de la columna 'location' si existe y si no el valor de la columna 'country'"
   ]
  },
  {
   "cell_type": "code",
   "execution_count": 546,
   "id": "176ad9fb",
   "metadata": {},
   "outputs": [],
   "source": [
    "df_sharks.loc[df_sharks['area'].isna(), 'area'] = df_sharks.loc[df_sharks['area'].isna(), 'location']"
   ]
  },
  {
   "cell_type": "code",
   "execution_count": 547,
   "id": "3b9165b7",
   "metadata": {},
   "outputs": [],
   "source": [
    "df_sharks.loc[df_sharks['area'].isna(), 'area'] = df_sharks.loc[df_sharks['area'].isna(), 'country']"
   ]
  },
  {
   "cell_type": "code",
   "execution_count": 548,
   "id": "e6205d62",
   "metadata": {},
   "outputs": [
    {
     "name": "stdout",
     "output_type": "stream",
     "text": [
      "<class 'pandas.core.frame.DataFrame'>\n",
      "Index: 5738 entries, 0 to 6850\n",
      "Data columns (total 14 columns):\n",
      " #   Column     Non-Null Count  Dtype         \n",
      "---  ------     --------------  -----         \n",
      " 0   date       5738 non-null   datetime64[ns]\n",
      " 1   year       5738 non-null   int64         \n",
      " 2   type       5738 non-null   object        \n",
      " 3   country    5738 non-null   object        \n",
      " 4   area       5738 non-null   object        \n",
      " 5   location   5379 non-null   object        \n",
      " 6   activity   5310 non-null   object        \n",
      " 7   name       5581 non-null   object        \n",
      " 8   sex        5247 non-null   object        \n",
      " 9   age        3719 non-null   object        \n",
      " 10  injury     5714 non-null   object        \n",
      " 11  fatal_y_n  5738 non-null   object        \n",
      " 12  time       3187 non-null   object        \n",
      " 13  species    3458 non-null   object        \n",
      "dtypes: datetime64[ns](1), int64(1), object(12)\n",
      "memory usage: 801.5+ KB\n"
     ]
    }
   ],
   "source": [
    "df_sharks.info()"
   ]
  },
  {
   "cell_type": "markdown",
   "id": "44719c00",
   "metadata": {},
   "source": [
    "Aunuque no creo que vaya a aprovechar mucho las columnas 'area', 'location' y 'activity' pero las vamos a tratar y rellenar sus datos faltantes.\n",
    "\n",
    "En el caso de 'location' voy a imputarle a los valores faltantes el valor de 'area'."
   ]
  },
  {
   "cell_type": "code",
   "execution_count": 549,
   "id": "a60cb661",
   "metadata": {},
   "outputs": [],
   "source": [
    "df_sharks.loc[df_sharks['location'].isna(), 'location'] = df_sharks.loc[df_sharks['location'].isna(), 'area']"
   ]
  },
  {
   "cell_type": "markdown",
   "id": "cda74c19",
   "metadata": {},
   "source": [
    "En la columna activity, habia 1238 tipos diferentes de actividades, para reducir esa clasificación las voy a juntar con una función creada por mi, pasando a tener 37, uniendo en 'No details' las que no contengan ninguna información y en 'Random Activity' las que no tienen menos de 5 representaciones en el dataset y no se pueden agrupar en ningún otro tipo. Todo esto guardado en una nueva columna llamada 'activity2'"
   ]
  },
  {
   "cell_type": "code",
   "execution_count": 550,
   "id": "a5d49853",
   "metadata": {},
   "outputs": [
    {
     "data": {
      "text/plain": [
       "1236"
      ]
     },
     "execution_count": 550,
     "metadata": {},
     "output_type": "execute_result"
    }
   ],
   "source": [
    "len(df_sharks['activity'].value_counts())"
   ]
  },
  {
   "cell_type": "code",
   "execution_count": 556,
   "id": "959417bc",
   "metadata": {},
   "outputs": [
    {
     "data": {
      "text/plain": [
       "37"
      ]
     },
     "execution_count": 556,
     "metadata": {},
     "output_type": "execute_result"
    }
   ],
   "source": [
    "len(df_sharks['activity2'].value_counts())"
   ]
  },
  {
   "cell_type": "code",
   "execution_count": 552,
   "id": "ffc5cdb9",
   "metadata": {},
   "outputs": [],
   "source": [
    "def categorizar_activity(x):\n",
    "    for j in ['Surfing', 'Swimming', 'Fishing', 'Spearfishing', 'Wading' 'Snorkeling', 'Diving', 'Standing', 'Scuba diving', 'Body boarding', \n",
    "    'Body surfing', 'Boogie boarding', 'Kayaking', 'Bathing', 'Treading water', 'Free diving', 'Surf skiing', 'Windsurfing', 'Pearl diving', \n",
    "    'Walking', 'Floating', 'Playing', 'Surf-skiing', 'Rowing', 'Canoeing', 'Paddle boarding', 'Snorkeling', 'Feeding', 'Paddling', 'Filming',\n",
    "    'Kite Boarding', 'Wading', 'Washing', 'Paddleboarding', 'Escaping from Alacatraz', 'Fell', 'Boat', 'Murder', 'Sculling', 'Sailing', 'Collecting', 'No details',\n",
    "    'Sea disaster', 'Sitting on surfboard', 'Jumping']:\n",
    "        \n",
    "        if x == None:\n",
    "            return 'No details'\n",
    "        elif j.lower() in x.lower():\n",
    "            return j\n",
    "        "
   ]
  },
  {
   "cell_type": "code",
   "execution_count": 553,
   "id": "db6832f9",
   "metadata": {},
   "outputs": [],
   "source": [
    "df_sharks['activity2'] = df_sharks['activity'].apply(categorizar_activity)"
   ]
  },
  {
   "cell_type": "code",
   "execution_count": 554,
   "id": "ae399abd",
   "metadata": {},
   "outputs": [
    {
     "data": {
      "text/plain": [
       "0        Surfing\n",
       "1       Swimming\n",
       "2        Fishing\n",
       "3        Surfing\n",
       "4       Swimming\n",
       "          ...   \n",
       "6846        Fell\n",
       "6847        None\n",
       "6848     Surfing\n",
       "6849        Fell\n",
       "6850        None\n",
       "Name: activity2, Length: 5738, dtype: object"
      ]
     },
     "execution_count": 554,
     "metadata": {},
     "output_type": "execute_result"
    }
   ],
   "source": [
    "df_sharks['activity2']"
   ]
  },
  {
   "cell_type": "code",
   "execution_count": 555,
   "id": "d32aeaa9",
   "metadata": {},
   "outputs": [
    {
     "name": "stdout",
     "output_type": "stream",
     "text": [
      "Surfing 1267\n",
      "Fishing 1132\n",
      "Swimming 945\n",
      "Diving 467\n",
      "No details 429\n",
      "Wading 163\n",
      "Snorkeling 132\n",
      "Standing 129\n",
      "Body boarding 70\n",
      "Boogie boarding 61\n",
      "Boat 49\n",
      "Bathing 45\n",
      "Kayaking 42\n",
      "Floating 38\n",
      "Treading water 37\n",
      "Playing 31\n",
      "Surf skiing 24\n",
      "Fell 23\n",
      "Walking 22\n",
      "Rowing 21\n",
      "Sea disaster 19\n",
      "Feeding 17\n",
      "Paddling 17\n",
      "Canoeing 13\n",
      "Surf-skiing 13\n",
      "Paddleboarding 12\n",
      "Paddle boarding 12\n",
      "Collecting 11\n",
      "Sitting on surfboard 9\n",
      "Washing 7\n",
      "Jumping 6\n",
      "Murder 6\n",
      "Filming 6\n",
      "Sailing 6\n",
      "Kite Boarding 4\n",
      "Escaping from Alacatraz 3\n",
      "Sculling 3\n"
     ]
    }
   ],
   "source": [
    "for i, j in df_sharks['activity2'].value_counts().items():\n",
    "    print(i, j)"
   ]
  },
  {
   "cell_type": "code",
   "execution_count": 557,
   "id": "a1935139",
   "metadata": {},
   "outputs": [],
   "source": [
    "df_sharks['activity2'] = df_sharks['activity2'].fillna('Random Activity')"
   ]
  },
  {
   "cell_type": "code",
   "execution_count": 558,
   "id": "27463512",
   "metadata": {},
   "outputs": [],
   "source": [
    "df_sharks.loc[df_sharks['activity2'] == 'Paddleboarding', 'activity2'] = 'Paddle boarding'"
   ]
  },
  {
   "cell_type": "code",
   "execution_count": 559,
   "id": "5992f71d",
   "metadata": {},
   "outputs": [
    {
     "name": "stdout",
     "output_type": "stream",
     "text": [
      "0\n"
     ]
    }
   ],
   "source": [
    "print(len(df_sharks[df_sharks['activity2'].isna()]))\n",
    "for i, j in df_sharks.loc[df_sharks['activity2'].isna(), ['year', 'activity']].value_counts().items():\n",
    "    print(i, j)"
   ]
  },
  {
   "cell_type": "markdown",
   "id": "e7e114cc",
   "metadata": {},
   "source": [
    "La columna 'name' tiene 157 nulos que rellenaremos con 'Unknow'"
   ]
  },
  {
   "cell_type": "code",
   "execution_count": 561,
   "id": "82d2882b",
   "metadata": {},
   "outputs": [],
   "source": [
    "df_sharks.fillna({'name':'Unknow'}, inplace=True)"
   ]
  },
  {
   "cell_type": "markdown",
   "id": "c6f0c0f8",
   "metadata": {},
   "source": [
    "La columna 'sex' tiene 491 registros vacios, voy a investigar un poco pero seguramente le imputare de manera aleatoria el porcentaje de hombres y mujeres que tiene el resto del dataset. "
   ]
  },
  {
   "cell_type": "code",
   "execution_count": 564,
   "id": "ccc63438",
   "metadata": {},
   "outputs": [
    {
     "name": "stderr",
     "output_type": "stream",
     "text": [
      "SettingWithCopyWarning: \n",
      "A value is trying to be set on a copy of a slice from a DataFrame.\n",
      "Try using .loc[row_indexer,col_indexer] = value instead\n",
      "\n",
      "See the caveats in the documentation: https://pandas.pydata.org/pandas-docs/stable/user_guide/indexing.html#returning-a-view-versus-a-copy\n"
     ]
    }
   ],
   "source": [
    "df_sharks.loc[(df_sharks['sex'].isna()) & df_sharks['name'].str.contains('boat')]['sex'] = 'Boat'"
   ]
  },
  {
   "cell_type": "code",
   "execution_count": 565,
   "id": "5f2eef91",
   "metadata": {},
   "outputs": [],
   "source": [
    "total_size = df_sharks[df_sharks['sex'].isna()].shape[0]\n",
    "porcen_man = df_sharks['sex'].value_counts(normalize=True)['M']\n",
    "porcen_woman =  df_sharks['sex'].value_counts(normalize=True)['F']\n",
    "man_size = round(total_size * porcen_man)\n",
    "woman_size = round(total_size * porcen_woman)"
   ]
  },
  {
   "cell_type": "code",
   "execution_count": 566,
   "id": "2583aa42",
   "metadata": {},
   "outputs": [
    {
     "name": "stderr",
     "output_type": "stream",
     "text": [
      "FutureWarning: ChainedAssignmentError: behaviour will change in pandas 3.0!\n",
      "You are setting values through chained assignment. Currently this works in certain cases, but when using Copy-on-Write (which will become the default behaviour in pandas 3.0) this will never work to update the original DataFrame or Series, because the intermediate object on which we are setting values will behave as a copy.\n",
      "A typical example is when you are setting values in a column of a DataFrame, like:\n",
      "\n",
      "df[\"col\"][row_indexer] = value\n",
      "\n",
      "Use `df.loc[row_indexer, \"col\"] = values` instead, to perform the assignment in a single step and ensure this keeps updating the original `df`.\n",
      "\n",
      "See the caveats in the documentation: https://pandas.pydata.org/pandas-docs/stable/user_guide/indexing.html#returning-a-view-versus-a-copy\n",
      "\n"
     ]
    }
   ],
   "source": [
    "df_sharks.loc[df_sharks['sex'].isna(), 'sex'].sample(total_size).iloc[:man_size + 1] = 'M'\n",
    "df_sharks.loc[df_sharks['sex'].isna(), 'sex'] = 'F'"
   ]
  },
  {
   "cell_type": "code",
   "execution_count": 567,
   "id": "68b4d137",
   "metadata": {},
   "outputs": [
    {
     "data": {
      "text/plain": [
       "date                   1984-12-03 00:00:00\n",
       "year                                  1984\n",
       "type                            Watercraft\n",
       "country                              ITALY\n",
       "area                        Tyrrhenian Sea\n",
       "location     Marciana Marina, Isola d'Elba\n",
       "activity                              Boat\n",
       "name                                Unknow\n",
       "sex                                      F\n",
       "age                                   None\n",
       "injury                           No injury\n",
       "fatal_y_n                                N\n",
       "time                                  None\n",
       "species                        White shark\n",
       "activity2                             Boat\n",
       "Name: 132, dtype: object"
      ]
     },
     "execution_count": 567,
     "metadata": {},
     "output_type": "execute_result"
    }
   ],
   "source": [
    "df_sharks.iloc[132]"
   ]
  },
  {
   "cell_type": "code",
   "execution_count": 568,
   "id": "ed3b5b3b",
   "metadata": {},
   "outputs": [
    {
     "data": {
      "text/plain": [
       "sex\n",
       "M        0.791565\n",
       "F        0.207912\n",
       "N        0.000174\n",
       "M x 2    0.000174\n",
       "lli      0.000174\n",
       "Name: proportion, dtype: float64"
      ]
     },
     "execution_count": 568,
     "metadata": {},
     "output_type": "execute_result"
    }
   ],
   "source": [
    "df_sharks['sex'].value_counts(normalize=True)\n"
   ]
  },
  {
   "cell_type": "markdown",
   "id": "b8fd56f8",
   "metadata": {},
   "source": [
    "Las columnas 'age' y 'species' tienen un porcentaje muy alto de missings pero las imputaré 'Unknow' para saber de las que si tenemos el dato, que caracteristicas y tipos tenemos."
   ]
  },
  {
   "cell_type": "code",
   "execution_count": 569,
   "id": "77b31664",
   "metadata": {},
   "outputs": [],
   "source": [
    "df_sharks.fillna({'age':'Unknow'}, inplace=True)\n",
    "df_sharks.fillna({'species':'Unknow'}, inplace=True)"
   ]
  },
  {
   "cell_type": "markdown",
   "id": "c5e55f84",
   "metadata": {},
   "source": [
    "La columna 'injury' es una columna que no nos va a dar mucha información ya que tiene una casoistica muy variada, asi que voy a proceder a borrarla."
   ]
  },
  {
   "cell_type": "code",
   "execution_count": 570,
   "id": "0cc6de57",
   "metadata": {},
   "outputs": [],
   "source": [
    "df_sharks.drop(columns='injury',inplace=True, axis=1)"
   ]
  },
  {
   "cell_type": "markdown",
   "id": "6f20d4ae",
   "metadata": {},
   "source": [
    "Y la columna 'time' no creo que nos haga falta a si que me desaré de ella."
   ]
  },
  {
   "cell_type": "code",
   "execution_count": 571,
   "id": "f24ce1a4",
   "metadata": {},
   "outputs": [],
   "source": [
    "df_sharks.drop(columns='time',inplace=True, axis=1)"
   ]
  },
  {
   "cell_type": "code",
   "execution_count": 572,
   "id": "01b8f106",
   "metadata": {},
   "outputs": [
    {
     "name": "stdout",
     "output_type": "stream",
     "text": [
      "<class 'pandas.core.frame.DataFrame'>\n",
      "Index: 5738 entries, 0 to 6850\n",
      "Data columns (total 13 columns):\n",
      " #   Column     Non-Null Count  Dtype         \n",
      "---  ------     --------------  -----         \n",
      " 0   date       5738 non-null   datetime64[ns]\n",
      " 1   year       5738 non-null   int64         \n",
      " 2   type       5738 non-null   object        \n",
      " 3   country    5738 non-null   object        \n",
      " 4   area       5738 non-null   object        \n",
      " 5   location   5738 non-null   object        \n",
      " 6   activity   5310 non-null   object        \n",
      " 7   name       5738 non-null   object        \n",
      " 8   sex        5738 non-null   object        \n",
      " 9   age        5738 non-null   object        \n",
      " 10  fatal_y_n  5738 non-null   object        \n",
      " 11  species    5738 non-null   object        \n",
      " 12  activity2  5738 non-null   object        \n",
      "dtypes: datetime64[ns](1), int64(1), object(11)\n",
      "memory usage: 756.6+ KB\n"
     ]
    }
   ],
   "source": [
    "df_sharks.info()"
   ]
  },
  {
   "cell_type": "code",
   "execution_count": 573,
   "id": "dd044b14",
   "metadata": {},
   "outputs": [],
   "source": [
    "df_sharks.to_csv('shark_attack_clean.csv')"
   ]
  },
  {
   "cell_type": "code",
   "execution_count": null,
   "id": "eba85aa9",
   "metadata": {},
   "outputs": [
    {
     "data": {
      "text/plain": [
       "(-33.6395258, 115.0259595)"
      ]
     },
     "execution_count": 40,
     "metadata": {},
     "output_type": "execute_result"
    }
   ],
   "source": [
    "from geopy.geocoders import Nominatim\n",
    "from datetime import datetime\n",
    "from meteostat import Point, Daily\n",
    "\n",
    "geolocator = Nominatim(user_agent=\"geoapi\")\n",
    "location = geolocator.geocode(\"Yallingup, Busselton, AUSTRALIA\")\n",
    "location.latitude, location.longitude"
   ]
  },
  {
   "cell_type": "code",
   "execution_count": null,
   "id": "61cb4c61",
   "metadata": {},
   "outputs": [],
   "source": [
    "\n",
    "\n",
    "geolocator = Nominatim(user_agent=\"geoapi\")\n",
    "location = geolocator.geocode(\"Elliston, Australia\")\n",
    "\n",
    "# Set time period\n",
    "start = datetime(2018, 4, 1)\n",
    "end = datetime(2018, 4, 1)"
   ]
  },
  {
   "cell_type": "code",
   "execution_count": null,
   "id": "023a9331",
   "metadata": {},
   "outputs": [],
   "source": [
    "def buscar_datos_meteo_cercanos(lat, lon, start, end, pasos=10, offset=0.05):\n",
    "    \"\"\"\n",
    "    Busca datos meteorológicos moviendo ligeramente las coordenadas hasta encontrar datos válidos.\n",
    "    \n",
    "    :param lat: Latitud inicial\n",
    "    :param lon: Longitud inicial\n",
    "    :param start: Fecha de inicio (datetime)\n",
    "    :param end: Fecha de fin (datetime)\n",
    "    :param pasos: Número de pasos en cada dirección\n",
    "    :param offset: Tamaño de cada desplazamiento (en grados)\n",
    "    :return: (dataframe de meteostat, coordenadas usadas) o (None, None) si falla\n",
    "    \"\"\"\n",
    "    for i in range(-pasos, pasos + 1):\n",
    "        for j in range(-pasos, pasos + 1):\n",
    "            lat_nueva = lat + i * offset\n",
    "            lon_nueva = lon + j * offset\n",
    "            punto = Point(lat_nueva, lon_nueva)\n",
    "\n",
    "            try:\n",
    "                data = Daily(punto, start, end).fetch()\n",
    "                if not data.empty:\n",
    "                    print(f\"Datos encontrados en ({lat_nueva:.4f}, {lon_nueva:.4f})\")\n",
    "                    return data, (lat_nueva, lon_nueva)\n",
    "            except Exception as e:\n",
    "                continue  # Ignorar errores silenciosamente\n",
    "\n",
    "    print(\"No se encontraron datos meteorológicos cercanos.\")\n",
    "    return None, None"
   ]
  },
  {
   "cell_type": "code",
   "execution_count": null,
   "id": "9a303bd8",
   "metadata": {},
   "outputs": [
    {
     "name": "stderr",
     "output_type": "stream",
     "text": [
      "Warning: Cannot load daily/2018/YCMM0.csv.gz from https://data.meteostat.net/\n"
     ]
    },
    {
     "name": "stdout",
     "output_type": "stream",
     "text": [
      "Datos encontrados en (-33.9402, 134.8849)\n"
     ]
    }
   ],
   "source": [
    "x = buscar_datos_meteo_cercanos(location.latitude, location.longitude, start, end)"
   ]
  },
  {
   "cell_type": "code",
   "execution_count": null,
   "id": "c5db26a8",
   "metadata": {},
   "outputs": [
    {
     "data": {
      "text/plain": [
       "np.float64(25.6)"
      ]
     },
     "execution_count": 44,
     "metadata": {},
     "output_type": "execute_result"
    }
   ],
   "source": [
    "x[0].loc[:,'tmax'].iloc[0]"
   ]
  },
  {
   "cell_type": "code",
   "execution_count": null,
   "id": "1174f769",
   "metadata": {},
   "outputs": [],
   "source": []
  }
 ],
 "metadata": {
  "kernelspec": {
   "display_name": "Python 3",
   "language": "python",
   "name": "python3"
  },
  "language_info": {
   "codemirror_mode": {
    "name": "ipython",
    "version": 3
   },
   "file_extension": ".py",
   "mimetype": "text/x-python",
   "name": "python",
   "nbconvert_exporter": "python",
   "pygments_lexer": "ipython3",
   "version": "3.13.2"
  }
 },
 "nbformat": 4,
 "nbformat_minor": 5
}

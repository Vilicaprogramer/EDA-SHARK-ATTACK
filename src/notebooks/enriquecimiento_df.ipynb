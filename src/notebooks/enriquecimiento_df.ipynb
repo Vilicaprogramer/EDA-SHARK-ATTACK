{
 "cells": [
  {
   "cell_type": "code",
   "execution_count": 1,
   "id": "68319d0f",
   "metadata": {},
   "outputs": [],
   "source": [
    "import sys\n",
    "import os\n",
    "\n",
    "# Agrega la carpeta raíz del proyecto (src) al path\n",
    "sys.path.append(os.path.abspath(os.path.join(os.getcwd(), '..')))\n"
   ]
  },
  {
   "cell_type": "code",
   "execution_count": 37,
   "id": "e88da011",
   "metadata": {},
   "outputs": [],
   "source": [
    "import pandas as pd\n",
    "import numpy as np\n",
    "import requests\n",
    "from geopy.geocoders import Nominatim\n",
    "from geopy.extra.rate_limiter import RateLimiter\n",
    "from datetime import datetime, timedelta\n",
    "from meteostat import Point, Daily\n",
    "from utils.utils import *\n",
    "import requests"
   ]
  },
  {
   "cell_type": "code",
   "execution_count": 3,
   "id": "fd72c488",
   "metadata": {},
   "outputs": [],
   "source": [
    "df_shark = pd.read_csv(r'..\\data\\shark_attack_clean.csv')\n",
    "df_shark.drop(['Unnamed: 0', 'age'], axis=1, inplace=True)\n"
   ]
  },
  {
   "cell_type": "code",
   "execution_count": 79,
   "id": "9d61aa8d",
   "metadata": {},
   "outputs": [
    {
     "name": "stderr",
     "output_type": "stream",
     "text": [
      "SyntaxWarning: invalid escape sequence '\\s'\n",
      "SyntaxWarning: invalid escape sequence '\\s'\n",
      "SyntaxWarning: invalid escape sequence '\\s'\n"
     ]
    }
   ],
   "source": [
    "import pandas as pd\n",
    "\n",
    "# Cargar archivo\n",
    "df = pd.read_csv(r\"..\\data\\temperatura_mar.csv\", sep='\\s+', header=0)\n",
    "\n",
    "# Opcional: limitar a años razonables\n",
    "df = df[df[\"year\"].between(1900, 2022)]\n"
   ]
  },
  {
   "cell_type": "code",
   "execution_count": 80,
   "id": "7b7b6eb8",
   "metadata": {},
   "outputs": [
    {
     "data": {
      "text/html": [
       "<div>\n",
       "<style scoped>\n",
       "    .dataframe tbody tr th:only-of-type {\n",
       "        vertical-align: middle;\n",
       "    }\n",
       "\n",
       "    .dataframe tbody tr th {\n",
       "        vertical-align: top;\n",
       "    }\n",
       "\n",
       "    .dataframe thead th {\n",
       "        text-align: right;\n",
       "    }\n",
       "</style>\n",
       "<table border=\"1\" class=\"dataframe\">\n",
       "  <thead>\n",
       "    <tr style=\"text-align: right;\">\n",
       "      <th></th>\n",
       "      <th>year</th>\n",
       "      <th>lat</th>\n",
       "      <th>lon</th>\n",
       "      <th>count</th>\n",
       "      <th>value</th>\n",
       "    </tr>\n",
       "  </thead>\n",
       "  <tbody>\n",
       "    <tr>\n",
       "      <th>8754</th>\n",
       "      <td>1900</td>\n",
       "      <td>12.5</td>\n",
       "      <td>107.5</td>\n",
       "      <td>5</td>\n",
       "      <td>-0.09</td>\n",
       "    </tr>\n",
       "    <tr>\n",
       "      <th>8755</th>\n",
       "      <td>1900</td>\n",
       "      <td>12.5</td>\n",
       "      <td>122.5</td>\n",
       "      <td>1</td>\n",
       "      <td>-1.39</td>\n",
       "    </tr>\n",
       "    <tr>\n",
       "      <th>8756</th>\n",
       "      <td>1900</td>\n",
       "      <td>-12.5</td>\n",
       "      <td>132.5</td>\n",
       "      <td>2</td>\n",
       "      <td>0.02</td>\n",
       "    </tr>\n",
       "    <tr>\n",
       "      <th>8757</th>\n",
       "      <td>1900</td>\n",
       "      <td>-12.5</td>\n",
       "      <td>-172.5</td>\n",
       "      <td>2</td>\n",
       "      <td>0.34</td>\n",
       "    </tr>\n",
       "    <tr>\n",
       "      <th>8758</th>\n",
       "      <td>1900</td>\n",
       "      <td>12.5</td>\n",
       "      <td>-17.5</td>\n",
       "      <td>2</td>\n",
       "      <td>-1.24</td>\n",
       "    </tr>\n",
       "  </tbody>\n",
       "</table>\n",
       "</div>"
      ],
      "text/plain": [
       "      year   lat    lon  count  value\n",
       "8754  1900  12.5  107.5      5  -0.09\n",
       "8755  1900  12.5  122.5      1  -1.39\n",
       "8756  1900 -12.5  132.5      2   0.02\n",
       "8757  1900 -12.5 -172.5      2   0.34\n",
       "8758  1900  12.5  -17.5      2  -1.24"
      ]
     },
     "execution_count": 80,
     "metadata": {},
     "output_type": "execute_result"
    }
   ],
   "source": [
    "df.head()"
   ]
  },
  {
   "cell_type": "code",
   "execution_count": null,
   "id": "eda06b0b",
   "metadata": {},
   "outputs": [],
   "source": [
    "# Nueva columna con las decadas, para utilizar esta columna en los gráficos\n",
    "df_shark['decade'] = (df_shark['year'] // 10 * 10).astype(int)"
   ]
  },
  {
   "cell_type": "code",
   "execution_count": 49,
   "id": "852a68c6",
   "metadata": {},
   "outputs": [],
   "source": [
    "# Paso la columna date  a datetime y la columna year a int \n",
    "df_shark['date'] = pd.to_datetime(df_shark['date'], errors='coerce')\n",
    "df_shark['year'] = df_shark['year'].astype(int) "
   ]
  },
  {
   "cell_type": "code",
   "execution_count": 58,
   "id": "15f422eb",
   "metadata": {},
   "outputs": [],
   "source": [
    "df_shark.loc[df_shark['activity2'] == 'Boogie boarding', 'activity2'] = 'Body boarding'"
   ]
  },
  {
   "cell_type": "code",
   "execution_count": 73,
   "id": "610c11c7",
   "metadata": {},
   "outputs": [],
   "source": [
    "# Nueva columna diferenciancdo entre actividad de ocio y actividad no de ocio\n",
    "df_shark['ocio_o_no'] = 'No ocio'\n",
    "df_shark.loc[df_shark['activity2'].isin(['Surfing', 'Swimming', 'Snorkeling', 'Body boarding', 'Paddling', 'Diving', \n",
    "                                         'Kite Boarding', 'Playing', 'Rowing', 'Surf skiing', 'Paddle boarding',\n",
    "                                         'Kayaking', 'Walking', 'Sitting on surfboard', 'Collecting', 'Canoeing']),\n",
    "                                         'ocio_o_no'] = 'Ocio'\n",
    "df_shark.loc[df_shark['activity2'].isin(['Random Activity', 'No details'])] = 'Desconocido'"
   ]
  },
  {
   "cell_type": "code",
   "execution_count": null,
   "id": "782c3bd1",
   "metadata": {},
   "outputs": [],
   "source": [
    "# Combierto zonas atacadas en puntos geolocalizables de latitud y longitud para poder hacer un mapa visual de los datos\n",
    "df_shark['geolocalizacion'] = df_shark.apply(lambda row: geo_point(row, 'area', 'country'), axis=1)"
   ]
  },
  {
   "cell_type": "code",
   "execution_count": 65,
   "id": "fb3af3d8",
   "metadata": {},
   "outputs": [
    {
     "data": {
      "text/plain": [
       "((5738, 14), (5257, 14))"
      ]
     },
     "execution_count": 65,
     "metadata": {},
     "output_type": "execute_result"
    }
   ],
   "source": [
    "df_shark_2 = df_shark[~df_shark['geolocalizacion'].isna()]\n",
    "df_shark.shape, df_shark_2.shape"
   ]
  },
  {
   "cell_type": "code",
   "execution_count": 75,
   "id": "d209f147",
   "metadata": {},
   "outputs": [
    {
     "data": {
      "text/plain": [
       "type\n",
       "Unprovoked      3935\n",
       "Provoked         515\n",
       "Invalid          398\n",
       "Watercraft       287\n",
       "Sea Disaster      85\n",
       "Unverified        17\n",
       "Questionable      15\n",
       "Boat               5\n",
       "Name: count, dtype: int64"
      ]
     },
     "execution_count": 75,
     "metadata": {},
     "output_type": "execute_result"
    }
   ],
   "source": [
    "df_shark_2['type'].value_counts()"
   ]
  },
  {
   "cell_type": "code",
   "execution_count": 91,
   "id": "c5940c72",
   "metadata": {},
   "outputs": [
    {
     "data": {
      "text/plain": [
       "date               Desconocido\n",
       "year               Desconocido\n",
       "type               Desconocido\n",
       "country            Desconocido\n",
       "area               Desconocido\n",
       "location           Desconocido\n",
       "activity           Desconocido\n",
       "name               Desconocido\n",
       "sex                Desconocido\n",
       "fatal_y_n          Desconocido\n",
       "species            Desconocido\n",
       "activity2          Desconocido\n",
       "decade             Desconocido\n",
       "geolocalizacion    Desconocido\n",
       "ocio_o_no          Desconocido\n",
       "Name: 5737, dtype: object"
      ]
     },
     "execution_count": 91,
     "metadata": {},
     "output_type": "execute_result"
    }
   ],
   "source": [
    "df_shark.iloc[-1]"
   ]
  },
  {
   "cell_type": "code",
   "execution_count": 93,
   "id": "cf3b9553",
   "metadata": {},
   "outputs": [],
   "source": [
    "df_shark['lat'] = df_shark['geolocalizacion'].apply(lambda x: x[0] if x is not None else None)\n",
    "df_shark['lon'] = df_shark['geolocalizacion'].apply(lambda x: x[1] if x is not None else None)"
   ]
  },
  {
   "cell_type": "code",
   "execution_count": null,
   "id": "f4a1cdc8",
   "metadata": {},
   "outputs": [
    {
     "data": {
      "text/plain": [
       "lat    object\n",
       "lon    object\n",
       "dtype: object"
      ]
     },
     "execution_count": 96,
     "metadata": {},
     "output_type": "execute_result"
    }
   ],
   "source": [
    "df_shark['[\"lat\", \"lon\"]'].dtypes"
   ]
  },
  {
   "cell_type": "code",
   "execution_count": 98,
   "id": "941d8579",
   "metadata": {},
   "outputs": [],
   "source": [
    "df_shark[df_shark['fatal_y_n'] == 'Desconocido'] = 'UNKNOWN'\n",
    "df_shark[df_shark['fatal_y_n'] == 'Surf skiing'] = 'N'\n",
    "df_shark[df_shark['fatal_y_n'] == 'F'] = 'Y'\n",
    "df_shark[df_shark['fatal_y_n'] == 'n'] = 'N'\n",
    "df_shark[df_shark['fatal_y_n'] == 'Nq'] = 'UNKNOWN'"
   ]
  },
  {
   "cell_type": "code",
   "execution_count": 99,
   "id": "09ea215b",
   "metadata": {},
   "outputs": [
    {
     "data": {
      "text/plain": [
       "array(['Y', 'N', 'UNKNOWN'], dtype=object)"
      ]
     },
     "execution_count": 99,
     "metadata": {},
     "output_type": "execute_result"
    }
   ],
   "source": [
    "df_shark['fatal_y_n'].unique()"
   ]
  },
  {
   "cell_type": "code",
   "execution_count": 100,
   "id": "c574607d",
   "metadata": {},
   "outputs": [],
   "source": [
    "df_shark.to_csv(r'C:\\Users\\Vicen\\Visual Code\\The_Bridge\\Personal_2506_dsft_thebridge\\2-Analytics\\EDA\\EDA-SHARK-ATTACK\\src\\data\\shark_attack_enriquecido.csv')"
   ]
  },
  {
   "cell_type": "code",
   "execution_count": 101,
   "id": "fe08b474",
   "metadata": {},
   "outputs": [
    {
     "data": {
      "text/html": [
       "<div>\n",
       "<style scoped>\n",
       "    .dataframe tbody tr th:only-of-type {\n",
       "        vertical-align: middle;\n",
       "    }\n",
       "\n",
       "    .dataframe tbody tr th {\n",
       "        vertical-align: top;\n",
       "    }\n",
       "\n",
       "    .dataframe thead th {\n",
       "        text-align: right;\n",
       "    }\n",
       "</style>\n",
       "<table border=\"1\" class=\"dataframe\">\n",
       "  <thead>\n",
       "    <tr style=\"text-align: right;\">\n",
       "      <th></th>\n",
       "      <th>date</th>\n",
       "      <th>year</th>\n",
       "      <th>type</th>\n",
       "      <th>country</th>\n",
       "      <th>area</th>\n",
       "      <th>location</th>\n",
       "      <th>activity</th>\n",
       "      <th>name</th>\n",
       "      <th>sex</th>\n",
       "      <th>fatal_y_n</th>\n",
       "      <th>species</th>\n",
       "      <th>activity2</th>\n",
       "      <th>decade</th>\n",
       "      <th>geolocalizacion</th>\n",
       "      <th>ocio_o_no</th>\n",
       "      <th>lat</th>\n",
       "      <th>lon</th>\n",
       "    </tr>\n",
       "  </thead>\n",
       "  <tbody>\n",
       "    <tr>\n",
       "      <th>0</th>\n",
       "      <td>2023-05-13 00:00:00</td>\n",
       "      <td>2023</td>\n",
       "      <td>Unprovoked</td>\n",
       "      <td>AUSTRALIA</td>\n",
       "      <td>South Australia</td>\n",
       "      <td>Elliston</td>\n",
       "      <td>Surfing</td>\n",
       "      <td>Simon Baccanello</td>\n",
       "      <td>M</td>\n",
       "      <td>Y</td>\n",
       "      <td>White shark</td>\n",
       "      <td>Surfing</td>\n",
       "      <td>2020</td>\n",
       "      <td>(-30.5343665, 135.6301212)</td>\n",
       "      <td>Ocio</td>\n",
       "      <td>-30.534367</td>\n",
       "      <td>135.630121</td>\n",
       "    </tr>\n",
       "    <tr>\n",
       "      <th>1</th>\n",
       "      <td>2023-04-29 00:00:00</td>\n",
       "      <td>2023</td>\n",
       "      <td>Unprovoked</td>\n",
       "      <td>AUSTRALIA</td>\n",
       "      <td>Western Australia</td>\n",
       "      <td>Yallingup, Busselton</td>\n",
       "      <td>Swimming</td>\n",
       "      <td>male</td>\n",
       "      <td>M</td>\n",
       "      <td>N</td>\n",
       "      <td>1m shark</td>\n",
       "      <td>Swimming</td>\n",
       "      <td>2020</td>\n",
       "      <td>(-25.2303005, 121.0187246)</td>\n",
       "      <td>Ocio</td>\n",
       "      <td>-25.2303</td>\n",
       "      <td>121.018725</td>\n",
       "    </tr>\n",
       "    <tr>\n",
       "      <th>2</th>\n",
       "      <td>2022-10-07 00:00:00</td>\n",
       "      <td>2022</td>\n",
       "      <td>Unprovoked</td>\n",
       "      <td>AUSTRALIA</td>\n",
       "      <td>Western  Australia</td>\n",
       "      <td>Port Hedland</td>\n",
       "      <td>Spearfishing</td>\n",
       "      <td>Robbie Peck</td>\n",
       "      <td>M</td>\n",
       "      <td>N</td>\n",
       "      <td>Bull shark</td>\n",
       "      <td>Fishing</td>\n",
       "      <td>2020</td>\n",
       "      <td>(-25.2303005, 121.0187246)</td>\n",
       "      <td>No ocio</td>\n",
       "      <td>-25.2303</td>\n",
       "      <td>121.018725</td>\n",
       "    </tr>\n",
       "    <tr>\n",
       "      <th>3</th>\n",
       "      <td>2021-10-04 00:00:00</td>\n",
       "      <td>2021</td>\n",
       "      <td>Unprovoked</td>\n",
       "      <td>USA</td>\n",
       "      <td>Florida</td>\n",
       "      <td>Fort Pierce State Park, St. Lucie County</td>\n",
       "      <td>Surfing</td>\n",
       "      <td>Truman Van Patrick</td>\n",
       "      <td>M</td>\n",
       "      <td>N</td>\n",
       "      <td>Unknow</td>\n",
       "      <td>Surfing</td>\n",
       "      <td>2020</td>\n",
       "      <td>(27.7567667, -81.4639835)</td>\n",
       "      <td>Ocio</td>\n",
       "      <td>27.756767</td>\n",
       "      <td>-81.463983</td>\n",
       "    </tr>\n",
       "    <tr>\n",
       "      <th>4</th>\n",
       "      <td>2021-10-03 00:00:00</td>\n",
       "      <td>2021</td>\n",
       "      <td>Unprovoked</td>\n",
       "      <td>USA</td>\n",
       "      <td>Florida</td>\n",
       "      <td>Jensen Beach, Martin County</td>\n",
       "      <td>Swimming</td>\n",
       "      <td>male</td>\n",
       "      <td>M</td>\n",
       "      <td>N</td>\n",
       "      <td>Unknow</td>\n",
       "      <td>Swimming</td>\n",
       "      <td>2020</td>\n",
       "      <td>(27.7567667, -81.4639835)</td>\n",
       "      <td>Ocio</td>\n",
       "      <td>27.756767</td>\n",
       "      <td>-81.463983</td>\n",
       "    </tr>\n",
       "  </tbody>\n",
       "</table>\n",
       "</div>"
      ],
      "text/plain": [
       "                  date  year        type    country                area  \\\n",
       "0  2023-05-13 00:00:00  2023  Unprovoked  AUSTRALIA     South Australia   \n",
       "1  2023-04-29 00:00:00  2023  Unprovoked  AUSTRALIA   Western Australia   \n",
       "2  2022-10-07 00:00:00  2022  Unprovoked  AUSTRALIA  Western  Australia   \n",
       "3  2021-10-04 00:00:00  2021  Unprovoked        USA             Florida   \n",
       "4  2021-10-03 00:00:00  2021  Unprovoked        USA             Florida   \n",
       "\n",
       "                                   location      activity                name  \\\n",
       "0                                  Elliston       Surfing    Simon Baccanello   \n",
       "1                      Yallingup, Busselton      Swimming                male   \n",
       "2                              Port Hedland  Spearfishing         Robbie Peck   \n",
       "3  Fort Pierce State Park, St. Lucie County       Surfing  Truman Van Patrick   \n",
       "4               Jensen Beach, Martin County      Swimming                male   \n",
       "\n",
       "  sex fatal_y_n      species activity2 decade             geolocalizacion  \\\n",
       "0   M         Y  White shark   Surfing   2020  (-30.5343665, 135.6301212)   \n",
       "1   M         N     1m shark  Swimming   2020  (-25.2303005, 121.0187246)   \n",
       "2   M         N   Bull shark   Fishing   2020  (-25.2303005, 121.0187246)   \n",
       "3   M         N       Unknow   Surfing   2020   (27.7567667, -81.4639835)   \n",
       "4   M         N       Unknow  Swimming   2020   (27.7567667, -81.4639835)   \n",
       "\n",
       "  ocio_o_no        lat         lon  \n",
       "0      Ocio -30.534367  135.630121  \n",
       "1      Ocio   -25.2303  121.018725  \n",
       "2   No ocio   -25.2303  121.018725  \n",
       "3      Ocio  27.756767  -81.463983  \n",
       "4      Ocio  27.756767  -81.463983  "
      ]
     },
     "execution_count": 101,
     "metadata": {},
     "output_type": "execute_result"
    }
   ],
   "source": [
    "df_shark.head()"
   ]
  }
 ],
 "metadata": {
  "kernelspec": {
   "display_name": "Python 3",
   "language": "python",
   "name": "python3"
  },
  "language_info": {
   "codemirror_mode": {
    "name": "ipython",
    "version": 3
   },
   "file_extension": ".py",
   "mimetype": "text/x-python",
   "name": "python",
   "nbconvert_exporter": "python",
   "pygments_lexer": "ipython3",
   "version": "3.13.2"
  }
 },
 "nbformat": 4,
 "nbformat_minor": 5
}

{
 "cells": [
  {
   "cell_type": "markdown",
   "metadata": {},
   "source": [
    "![imagen](./img/ejercicios.png)"
   ]
  },
  {
   "cell_type": "markdown",
   "metadata": {},
   "source": [
    "# INFORMACIÓN DEL PROYECTO"
   ]
  },
  {
   "cell_type": "markdown",
   "metadata": {},
   "source": [
    "### TÍTULO"
   ]
  },
  {
   "cell_type": "code",
   "execution_count": null,
   "metadata": {},
   "outputs": [],
   "source": [
    "#Escribe el título del proyecto en Markdown\n",
    "titulo = \"100 Years of Sharck Attacks\" "
   ]
  },
  {
   "cell_type": "markdown",
   "metadata": {},
   "source": [
    "### TEMA"
   ]
  },
  {
   "cell_type": "code",
   "execution_count": null,
   "metadata": {},
   "outputs": [],
   "source": [
    "# Describe brevemente el tema del proyecto en Markdown\n",
    "tema = \"Ver cuanto de irracional es el miedo al ataque de un tiburón cuando se está en el mar\""
   ]
  },
  {
   "cell_type": "markdown",
   "metadata": {},
   "source": [
    "### HIPÓTESIS"
   ]
  },
  {
   "cell_type": "markdown",
   "metadata": {},
   "source": [
    "Define aquí lo que será la hipótesis de tu proyecto.\n",
    "Deberás tener más de una, pero tu proyecto lo harás teniendo una principal hipótesis."
   ]
  },
  {
   "cell_type": "code",
   "execution_count": null,
   "metadata": {},
   "outputs": [],
   "source": [
    "# Escribe tu hipótesis principal en Markdown\n",
    "hipotesis_1 = \"La probabilidad de que te ataque un tiburón es muy baja\""
   ]
  },
  {
   "cell_type": "code",
   "execution_count": null,
   "metadata": {},
   "outputs": [],
   "source": [
    "# Escribe más hipótesis si las hubiera en Markdown\n",
    "# hipotesis_2 = \"\"\n",
    "# hipotesis_3 = \"\"\n",
    "# hipotesis_4 = \"\"\n",
    "# hipotesis_5 = \"\"\n",
    "# ...\n"
   ]
  },
  {
   "cell_type": "markdown",
   "metadata": {},
   "source": [
    "## OBTENCIÓN DE LOS DATOS"
   ]
  },
  {
   "cell_type": "markdown",
   "metadata": {},
   "source": [
    "### DATASETS Y FUENTES ALTERNATIVAS DE DATOS"
   ]
  },
  {
   "cell_type": "markdown",
   "metadata": {},
   "source": [
    "Incluye aquí una vista del dataset o datasets de los que partirás para poder evaluar tu hipótesis. <br>\n",
    "También incluye el origen de estos datos y su fuente."
   ]
  },
  {
   "cell_type": "code",
   "execution_count": 1,
   "metadata": {},
   "outputs": [],
   "source": [
    "import pandas as pd\n",
    "# guarda en variables los datasets y su fuente\n",
    "df_1 = pd.read_csv(r'C:\\Users\\Vicen\\Visual Code\\The_Bridge\\Personal_2506_dsft_thebridge\\2-Analytics\\EDA\\EDA-SHARK-ATTACK\\shark_attack_clean.csv')\n",
    "fuente_1 = \"Utilizo la Api de public.opendatasoft Shark Attack, \" \\\n",
    "\"en la que hay un registro de todos los ataques mundiales hechos por tiburones\"\n",
    "# df_2 = pd.DataFrame()\n",
    "# fuente_2 = \"\"\n",
    "# df_3 = pd.DataFrame()\n",
    "# fuente_3 = \"\"\n",
    "# df_4 = pd.DataFrame()\n",
    "# fuente_4 = \"\"\n",
    "# df_5 = pd.DataFrame()\n",
    "# fuente_5 = \"\"\n",
    "# ..."
   ]
  },
  {
   "cell_type": "markdown",
   "metadata": {},
   "source": [
    "Muestra mediante un head() los principales datasets con los que vas a trabajar"
   ]
  },
  {
   "cell_type": "code",
   "execution_count": 2,
   "metadata": {},
   "outputs": [
    {
     "data": {
      "text/html": [
       "<div>\n",
       "<style scoped>\n",
       "    .dataframe tbody tr th:only-of-type {\n",
       "        vertical-align: middle;\n",
       "    }\n",
       "\n",
       "    .dataframe tbody tr th {\n",
       "        vertical-align: top;\n",
       "    }\n",
       "\n",
       "    .dataframe thead th {\n",
       "        text-align: right;\n",
       "    }\n",
       "</style>\n",
       "<table border=\"1\" class=\"dataframe\">\n",
       "  <thead>\n",
       "    <tr style=\"text-align: right;\">\n",
       "      <th></th>\n",
       "      <th>Unnamed: 0</th>\n",
       "      <th>date</th>\n",
       "      <th>year</th>\n",
       "      <th>type</th>\n",
       "      <th>country</th>\n",
       "      <th>area</th>\n",
       "      <th>location</th>\n",
       "      <th>activity</th>\n",
       "      <th>name</th>\n",
       "      <th>sex</th>\n",
       "      <th>age</th>\n",
       "      <th>fatal_y_n</th>\n",
       "      <th>species</th>\n",
       "      <th>activity2</th>\n",
       "    </tr>\n",
       "  </thead>\n",
       "  <tbody>\n",
       "    <tr>\n",
       "      <th>0</th>\n",
       "      <td>0</td>\n",
       "      <td>2023-05-13</td>\n",
       "      <td>2023</td>\n",
       "      <td>Unprovoked</td>\n",
       "      <td>AUSTRALIA</td>\n",
       "      <td>South Australia</td>\n",
       "      <td>Elliston</td>\n",
       "      <td>Surfing</td>\n",
       "      <td>Simon Baccanello</td>\n",
       "      <td>M</td>\n",
       "      <td>46</td>\n",
       "      <td>Y</td>\n",
       "      <td>White shark</td>\n",
       "      <td>Surfing</td>\n",
       "    </tr>\n",
       "    <tr>\n",
       "      <th>1</th>\n",
       "      <td>1</td>\n",
       "      <td>2023-04-29</td>\n",
       "      <td>2023</td>\n",
       "      <td>Unprovoked</td>\n",
       "      <td>AUSTRALIA</td>\n",
       "      <td>Western Australia</td>\n",
       "      <td>Yallingup, Busselton</td>\n",
       "      <td>Swimming</td>\n",
       "      <td>male</td>\n",
       "      <td>M</td>\n",
       "      <td>Unknow</td>\n",
       "      <td>N</td>\n",
       "      <td>1m shark</td>\n",
       "      <td>Swimming</td>\n",
       "    </tr>\n",
       "    <tr>\n",
       "      <th>2</th>\n",
       "      <td>2</td>\n",
       "      <td>2022-10-07</td>\n",
       "      <td>2022</td>\n",
       "      <td>Unprovoked</td>\n",
       "      <td>AUSTRALIA</td>\n",
       "      <td>Western  Australia</td>\n",
       "      <td>Port Hedland</td>\n",
       "      <td>Spearfishing</td>\n",
       "      <td>Robbie Peck</td>\n",
       "      <td>M</td>\n",
       "      <td>38</td>\n",
       "      <td>N</td>\n",
       "      <td>Bull shark</td>\n",
       "      <td>Fishing</td>\n",
       "    </tr>\n",
       "    <tr>\n",
       "      <th>3</th>\n",
       "      <td>3</td>\n",
       "      <td>2021-10-04</td>\n",
       "      <td>2021</td>\n",
       "      <td>Unprovoked</td>\n",
       "      <td>USA</td>\n",
       "      <td>Florida</td>\n",
       "      <td>Fort Pierce State Park, St. Lucie County</td>\n",
       "      <td>Surfing</td>\n",
       "      <td>Truman Van Patrick</td>\n",
       "      <td>M</td>\n",
       "      <td>25.0</td>\n",
       "      <td>N</td>\n",
       "      <td>Unknow</td>\n",
       "      <td>Surfing</td>\n",
       "    </tr>\n",
       "    <tr>\n",
       "      <th>4</th>\n",
       "      <td>4</td>\n",
       "      <td>2021-10-03</td>\n",
       "      <td>2021</td>\n",
       "      <td>Unprovoked</td>\n",
       "      <td>USA</td>\n",
       "      <td>Florida</td>\n",
       "      <td>Jensen Beach, Martin County</td>\n",
       "      <td>Swimming</td>\n",
       "      <td>male</td>\n",
       "      <td>M</td>\n",
       "      <td>Unknow</td>\n",
       "      <td>N</td>\n",
       "      <td>Unknow</td>\n",
       "      <td>Swimming</td>\n",
       "    </tr>\n",
       "  </tbody>\n",
       "</table>\n",
       "</div>"
      ],
      "text/plain": [
       "   Unnamed: 0        date  year        type    country                area  \\\n",
       "0           0  2023-05-13  2023  Unprovoked  AUSTRALIA     South Australia   \n",
       "1           1  2023-04-29  2023  Unprovoked  AUSTRALIA   Western Australia   \n",
       "2           2  2022-10-07  2022  Unprovoked  AUSTRALIA  Western  Australia   \n",
       "3           3  2021-10-04  2021  Unprovoked        USA             Florida   \n",
       "4           4  2021-10-03  2021  Unprovoked        USA             Florida   \n",
       "\n",
       "                                   location      activity                name  \\\n",
       "0                                  Elliston       Surfing    Simon Baccanello   \n",
       "1                      Yallingup, Busselton      Swimming                male   \n",
       "2                              Port Hedland  Spearfishing         Robbie Peck   \n",
       "3  Fort Pierce State Park, St. Lucie County       Surfing  Truman Van Patrick   \n",
       "4               Jensen Beach, Martin County      Swimming                male   \n",
       "\n",
       "  sex     age fatal_y_n      species activity2  \n",
       "0   M      46         Y  White shark   Surfing  \n",
       "1   M  Unknow         N     1m shark  Swimming  \n",
       "2   M      38         N   Bull shark   Fishing  \n",
       "3   M    25.0         N       Unknow   Surfing  \n",
       "4   M  Unknow         N       Unknow  Swimming  "
      ]
     },
     "execution_count": 2,
     "metadata": {},
     "output_type": "execute_result"
    }
   ],
   "source": [
    "# Primer dataset\n",
    "df_1.head()"
   ]
  },
  {
   "cell_type": "code",
   "execution_count": null,
   "metadata": {},
   "outputs": [],
   "source": [
    "# Siguiente dataset...\n",
    "# df_2.head()"
   ]
  }
 ],
 "metadata": {
  "kernelspec": {
   "display_name": "Python 3",
   "language": "python",
   "name": "python3"
  },
  "language_info": {
   "codemirror_mode": {
    "name": "ipython",
    "version": 3
   },
   "file_extension": ".py",
   "mimetype": "text/x-python",
   "name": "python",
   "nbconvert_exporter": "python",
   "pygments_lexer": "ipython3",
   "version": "3.13.2"
  },
  "orig_nbformat": 4
 },
 "nbformat": 4,
 "nbformat_minor": 2
}
